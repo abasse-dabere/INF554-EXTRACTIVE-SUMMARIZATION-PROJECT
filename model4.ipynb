{
 "cells": [
  {
   "cell_type": "code",
   "execution_count": 1,
   "metadata": {},
   "outputs": [
    {
     "name": "stderr",
     "output_type": "stream",
     "text": [
      "/Users/dabereabasse/Library/Python/3.9/lib/python/site-packages/urllib3/__init__.py:34: NotOpenSSLWarning: urllib3 v2 only supports OpenSSL 1.1.1+, currently the 'ssl' module is compiled with 'LibreSSL 2.8.3'. See: https://github.com/urllib3/urllib3/issues/3020\n",
      "  warnings.warn(\n",
      "/Users/dabereabasse/Library/Python/3.9/lib/python/site-packages/tqdm/auto.py:21: TqdmWarning: IProgress not found. Please update jupyter and ipywidgets. See https://ipywidgets.readthedocs.io/en/stable/user_install.html\n",
      "  from .autonotebook import tqdm as notebook_tqdm\n"
     ]
    }
   ],
   "source": [
    "from sklearn.feature_extraction.text import TfidfVectorizer\n",
    "from sklearn.ensemble import RandomForestClassifier\n",
    "from sklearn.model_selection import train_test_split\n",
    "from sklearn.metrics import classification_report, accuracy_score, confusion_matrix, f1_score\n",
    "import numpy as np\n",
    "import pandas as pd\n",
    "import matplotlib.pyplot as plt\n",
    "\n",
    "import re\n",
    "from sentence_transformers import SentenceTransformer\n",
    "from nltk.tokenize import word_tokenize\n",
    "from nltk.corpus import stopwords\n",
    "from nltk.stem import SnowballStemmer\n",
    "import nltk\n",
    "\n",
    "from keras.models import Sequential\n",
    "from keras.layers import Input, Dense, Dropout\n",
    "import tensorflow as tf\n",
    "\n",
    "import json\n",
    "from pathlib import Path"
   ]
  },
  {
   "cell_type": "code",
   "execution_count": 2,
   "metadata": {},
   "outputs": [],
   "source": [
    "path_to_training = Path(\"training\")\n",
    "path_to_test = Path(\"test\")"
   ]
  },
  {
   "cell_type": "code",
   "execution_count": 3,
   "metadata": {},
   "outputs": [],
   "source": [
    "def preprocess_text(text):\n",
    "    text = text.lower()\n",
    "    text = re.sub(r'<[^>]*>|(?:um|uh)', '', text)\n",
    "\n",
    "    # Tokenization des mots\n",
    "    words = word_tokenize(text)\n",
    "\n",
    "    # Supprimer les mots vides (stop words)\n",
    "    stop_words = set(stopwords.words('english'))\n",
    "    words = [word for word in words if word not in stop_words]\n",
    "\n",
    "    # Stemming (réduction à la racine des mots)\n",
    "    stemmer = SnowballStemmer('english')\n",
    "    words = [stemmer.stem(word) for word in words]\n",
    "\n",
    "    # Rejoindre les mots traités en une seule chaîne de texte\n",
    "    processed_text = ' '.join(words)\n",
    "\n",
    "    return processed_text\n",
    "\n",
    "\n",
    "def get_xi(transcription_id, path_to_data = path_to_training):\n",
    "       discourse_graph = [] # list, i attribute j\n",
    "       with open(path_to_data / f\"{transcription_id}.txt\", 'r') as f:\n",
    "              for line in f: discourse_graph.append(line.strip())\n",
    "       \n",
    "       with open(path_to_data / f\"{transcription_id}.json\", 'r') as f:\n",
    "              transcription = json.load(f)\n",
    "\n",
    "       x_i = [] # list, speaker: attribute: text\n",
    "       prefix_i = [\"\" for i in range(len(transcription))] # list des prelations pour lesquelles i est prefixes\n",
    "       suffix_j = [\"\" for i in range(len(transcription))] # list des prelations pour lesquelles j est suffixes\n",
    "\n",
    "       for line in discourse_graph:\n",
    "              tmp = line.split()\n",
    "              i = int(tmp[0])\n",
    "              j = int(tmp[-1])\n",
    "\n",
    "              if prefix_i[i]!= \"\": prefix_i[i]+=','\n",
    "              prefix_i[i] += (\"p\"+tmp[1])\n",
    "\n",
    "              if suffix_j[j]!= \"\": suffix_j[j]+=','\n",
    "              suffix_j[j] += (\"s\"+tmp[1])\n",
    "\n",
    "       for i in range(len(transcription)):\n",
    "              replique = transcription[i]\n",
    "              text = preprocess_text(replique['text'])\n",
    "              x_i.append(text)\n",
    "\n",
    "       return x_i, prefix_i, suffix_j\n"
   ]
  },
  {
   "cell_type": "code",
   "execution_count": 4,
   "metadata": {},
   "outputs": [],
   "source": [
    "# Recup des ids\n",
    "transcription_ids = []\n",
    "\n",
    "transcripts = path_to_training.glob('*.json')\n",
    "for transcript in transcripts:\n",
    "    transcription_ids.append(transcript.name[:-5])"
   ]
  },
  {
   "cell_type": "code",
   "execution_count": 5,
   "metadata": {},
   "outputs": [],
   "source": [
    "# creation de X contenant les repliques x_i\n",
    "X = [] #list des repliques\n",
    "A = [] #list des prefixes\n",
    "B = [] #list des suffixes\n",
    "\n",
    "for transcription_id in  transcription_ids:\n",
    "    x_i, prefix_i, suffix_j = get_xi(transcription_id)\n",
    "    X.extend(x_i)\n",
    "    A.extend(prefix_i)\n",
    "    B.extend(suffix_j)"
   ]
  },
  {
   "cell_type": "code",
   "execution_count": 6,
   "metadata": {},
   "outputs": [
    {
     "data": {
      "text/plain": [
       "(72623, 3)"
      ]
     },
     "execution_count": 6,
     "metadata": {},
     "output_type": "execute_result"
    }
   ],
   "source": [
    "Z = np.concatenate([np.array(X).reshape(-1,1), np.array(A).reshape(-1,1), np.array(B).reshape(-1,1)], axis=1)\n",
    "Z.shape"
   ]
  },
  {
   "cell_type": "code",
   "execution_count": 7,
   "metadata": {},
   "outputs": [
    {
     "name": "stdout",
     "output_type": "stream",
     "text": [
      "(72623, 1)\n"
     ]
    }
   ],
   "source": [
    "# creation de y contenant les labels pour chaque x_i\n",
    "y = [] # concatenation des labels\n",
    "with open(\"training_labels.json\", 'r') as f:\n",
    "    labels = json.load(f)\n",
    "\n",
    "for transcription_id in transcription_ids:\n",
    "    y.extend(labels[transcription_id])\n",
    "\n",
    "y = np.array(y).reshape(-1,1)\n",
    "\n",
    "print(y.shape)"
   ]
  },
  {
   "cell_type": "markdown",
   "metadata": {},
   "source": [
    "### Séparation en train_test_spli"
   ]
  },
  {
   "cell_type": "code",
   "execution_count": 8,
   "metadata": {},
   "outputs": [],
   "source": [
    "Z_train, Z_valid, y_train, y_valid = train_test_split(Z, y, test_size=0.3, random_state=42)"
   ]
  },
  {
   "cell_type": "markdown",
   "metadata": {},
   "source": [
    "### Recup de A_train, B_train et transformation en variables dummies"
   ]
  },
  {
   "cell_type": "code",
   "execution_count": 9,
   "metadata": {},
   "outputs": [],
   "source": [
    "X_train = Z_train[:,0]\n",
    "A_train = Z_train[:,1]\n",
    "B_train = Z_train[:,2]\n",
    "\n",
    "A_train = pd.DataFrame(A_train, columns=['variable'])\n",
    "A_train = A_train['variable'].str.get_dummies(sep=',')\n",
    "\n",
    "B_train = pd.DataFrame(B_train, columns=['variable'])\n",
    "B_train = B_train['variable'].str.get_dummies(sep=',')\n",
    "\n",
    "A_train_cols = A_train.columns\n",
    "B_train_cols = B_train.columns\n",
    "\n",
    "A_train = A_train.values\n",
    "B_train = B_train.values"
   ]
  },
  {
   "cell_type": "markdown",
   "metadata": {},
   "source": [
    "## Vectorisation de X_train et Reconstruction de Z_train = X_train + A_train + B_train"
   ]
  },
  {
   "cell_type": "code",
   "execution_count": 10,
   "metadata": {},
   "outputs": [
    {
     "name": "stderr",
     "output_type": "stream",
     "text": [
      "No sentence-transformers model found with name /Users/dabereabasse/.cache/torch/sentence_transformers/distilbert-base-uncased. Creating a new one with MEAN pooling.\n",
      "Batches: 100%|██████████| 1589/1589 [01:44<00:00, 15.13it/s]\n"
     ]
    }
   ],
   "source": [
    "bert = SentenceTransformer('distilbert-base-uncased')\n",
    "X_train_bert = bert.encode(X_train, show_progress_bar=True)\n",
    "\n",
    "Z_train = np.concatenate([X_train_bert, A_train, B_train], axis=1)"
   ]
  },
  {
   "cell_type": "markdown",
   "metadata": {},
   "source": [
    "### Recup de A_valid, B_valid et transformation en variables dummies avec les memes colonnes que A_train, B_train"
   ]
  },
  {
   "cell_type": "code",
   "execution_count": 11,
   "metadata": {},
   "outputs": [],
   "source": [
    "X_valid = Z_valid[:,0]\n",
    "A_valid = Z_valid[:,1]\n",
    "B_valid = Z_valid[:,2]\n",
    "\n",
    "# variables dummies\n",
    "A_valid = pd.DataFrame(A_valid, columns=['variable'])\n",
    "A_valid = A_valid['variable'].str.get_dummies(sep=',')\n",
    "\n",
    "B_valid = pd.DataFrame(B_valid, columns=['variable'])\n",
    "B_valid = B_valid['variable'].str.get_dummies(sep=',')\n",
    "\n",
    "# rearangement des colonnes de A_valid et B_valid pour que ça soit pareil avec celles des train\n",
    "\n",
    "A_valid = A_valid.reindex(columns=A_train_cols).fillna(0)\n",
    "B_valid = B_valid.reindex(columns=B_train_cols).fillna(0)\n",
    "\n",
    "A_valid = A_valid.values\n",
    "B_valid = B_valid.values"
   ]
  },
  {
   "cell_type": "code",
   "execution_count": 12,
   "metadata": {},
   "outputs": [
    {
     "name": "stderr",
     "output_type": "stream",
     "text": [
      "Batches: 100%|██████████| 681/681 [00:44<00:00, 15.15it/s]\n"
     ]
    }
   ],
   "source": [
    "X_valid_bert = bert.encode(X_valid, show_progress_bar=True)\n",
    "Z_valid = np.concatenate([X_valid_bert, A_valid, B_valid], axis=1)"
   ]
  },
  {
   "cell_type": "markdown",
   "metadata": {},
   "source": [
    "## DNN"
   ]
  },
  {
   "cell_type": "code",
   "execution_count": 15,
   "metadata": {},
   "outputs": [],
   "source": [
    "count_class_0 = len(y_train) - np.sum(y_train)\n",
    "count_class_1 = np.sum(y_train)\n",
    "\n",
    "total = len(y_train)\n",
    "\n",
    "frequency_class_0 = count_class_0 / total\n",
    "frequency_class_1 = count_class_1 / total\n",
    "\n",
    "inverse_weight_class_0 = 1 / frequency_class_0\n",
    "inverse_weight_class_1 = 1 / frequency_class_1\n",
    "\n",
    "class_weights = {0: inverse_weight_class_0, 1: inverse_weight_class_1}"
   ]
  },
  {
   "cell_type": "code",
   "execution_count": 17,
   "metadata": {},
   "outputs": [],
   "source": [
    "architectures = [\n",
    "    [700, 600, 500, 400, 300, 200, 100, 50],\n",
    "    [650, 500, 350, 200, 50],\n",
    "    [700, 600, 500, 400, 300, 200, 100],\n",
    "    [600, 400, 200],\n",
    "    [500, 300, 100],\n",
    "    [400, 200, 100, 50],\n",
    "    [700, 600, 500, 400, 300],\n",
    "    [600, 500, 400, 300, 200, 100, 50],\n",
    "    [700, 600, 500, 400],\n",
    "    [600, 400, 200, 100]\n",
    "]"
   ]
  },
  {
   "cell_type": "code",
   "execution_count": 18,
   "metadata": {},
   "outputs": [
    {
     "name": "stdout",
     "output_type": "stream",
     "text": [
      "Epoch 1/20\n",
      "1589/1589 [==============================] - 202s 127ms/step - loss: 1.1033 - accuracy: 0.6634 - val_loss: 0.6068 - val_accuracy: 0.6387\n",
      "Epoch 2/20\n",
      "1589/1589 [==============================] - 15s 9ms/step - loss: 1.0034 - accuracy: 0.6863 - val_loss: 0.4830 - val_accuracy: 0.6984\n",
      "Epoch 3/20\n",
      "1589/1589 [==============================] - 51s 32ms/step - loss: 1.0185 - accuracy: 0.6905 - val_loss: 0.4646 - val_accuracy: 0.6721\n",
      "Epoch 4/20\n",
      "1589/1589 [==============================] - 124s 78ms/step - loss: 0.9899 - accuracy: 0.7160 - val_loss: 0.4321 - val_accuracy: 0.7689\n",
      "Epoch 5/20\n",
      "1589/1589 [==============================] - 8s 5ms/step - loss: 1.0103 - accuracy: 0.7510 - val_loss: 0.4268 - val_accuracy: 0.7570\n",
      "Epoch 6/20\n",
      "1589/1589 [==============================] - 8s 5ms/step - loss: 1.0419 - accuracy: 0.7333 - val_loss: 0.4549 - val_accuracy: 0.7150\n",
      "Epoch 7/20\n",
      "1589/1589 [==============================] - 8s 5ms/step - loss: 1.0331 - accuracy: 0.7281 - val_loss: 0.4806 - val_accuracy: 0.7324\n",
      "Epoch 8/20\n",
      "1589/1589 [==============================] - 8s 5ms/step - loss: 1.0503 - accuracy: 0.7076 - val_loss: 0.4749 - val_accuracy: 0.7644\n",
      "Epoch 9/20\n",
      "1589/1589 [==============================] - 8s 5ms/step - loss: 1.0355 - accuracy: 0.7145 - val_loss: 0.4425 - val_accuracy: 0.7759\n",
      "Epoch 10/20\n",
      "1589/1589 [==============================] - 8s 5ms/step - loss: 1.0164 - accuracy: 0.7122 - val_loss: 0.3977 - val_accuracy: 0.7603\n",
      "Epoch 11/20\n",
      "1589/1589 [==============================] - 8s 5ms/step - loss: 1.0105 - accuracy: 0.7028 - val_loss: 0.3948 - val_accuracy: 0.7596\n",
      "Epoch 12/20\n",
      "1589/1589 [==============================] - 8s 5ms/step - loss: 1.0167 - accuracy: 0.7242 - val_loss: 0.4066 - val_accuracy: 0.7596\n",
      "Epoch 13/20\n",
      "1589/1589 [==============================] - 8s 5ms/step - loss: 1.0048 - accuracy: 0.7257 - val_loss: 0.3749 - val_accuracy: 0.8079\n",
      "Epoch 14/20\n",
      "1589/1589 [==============================] - 8s 5ms/step - loss: 1.0043 - accuracy: 0.7119 - val_loss: 0.3824 - val_accuracy: 0.8051\n",
      "Epoch 15/20\n",
      "1589/1589 [==============================] - 8s 5ms/step - loss: 1.0077 - accuracy: 0.7269 - val_loss: 0.3695 - val_accuracy: 0.8168\n",
      "Epoch 16/20\n",
      "1589/1589 [==============================] - 8s 5ms/step - loss: 1.0299 - accuracy: 0.7131 - val_loss: 0.4633 - val_accuracy: 0.8005\n",
      "Epoch 17/20\n",
      "1589/1589 [==============================] - 8s 5ms/step - loss: 1.0249 - accuracy: 0.7135 - val_loss: 0.3819 - val_accuracy: 0.7873\n",
      "Epoch 18/20\n",
      "1589/1589 [==============================] - 8s 5ms/step - loss: 1.0124 - accuracy: 0.7112 - val_loss: 0.4198 - val_accuracy: 0.7691\n",
      "Epoch 19/20\n",
      "1589/1589 [==============================] - 8s 5ms/step - loss: 1.0180 - accuracy: 0.7209 - val_loss: 0.4479 - val_accuracy: 0.7488\n",
      "Epoch 20/20\n",
      "1589/1589 [==============================] - 8s 5ms/step - loss: 1.0182 - accuracy: 0.7258 - val_loss: 0.4312 - val_accuracy: 0.7611\n",
      "681/681 [==============================] - 1s 1ms/step\n",
      "Epoch 1/20\n",
      "1589/1589 [==============================] - 5s 3ms/step - loss: 1.0189 - accuracy: 0.6959 - val_loss: 0.4238 - val_accuracy: 0.7198\n",
      "Epoch 2/20\n",
      "1589/1589 [==============================] - 5s 3ms/step - loss: 0.9599 - accuracy: 0.7150 - val_loss: 0.4640 - val_accuracy: 0.7610\n",
      "Epoch 3/20\n",
      "1589/1589 [==============================] - 17s 11ms/step - loss: 0.9622 - accuracy: 0.7218 - val_loss: 0.4397 - val_accuracy: 0.6986\n",
      "Epoch 4/20\n",
      "1589/1589 [==============================] - 5s 3ms/step - loss: 0.9370 - accuracy: 0.7226 - val_loss: 0.4373 - val_accuracy: 0.7294\n",
      "Epoch 5/20\n",
      "1589/1589 [==============================] - 5s 3ms/step - loss: 0.9441 - accuracy: 0.7146 - val_loss: 0.5044 - val_accuracy: 0.7530\n",
      "Epoch 6/20\n",
      "1589/1589 [==============================] - 5s 3ms/step - loss: 0.9428 - accuracy: 0.7227 - val_loss: 0.4240 - val_accuracy: 0.7437\n",
      "Epoch 7/20\n",
      "1589/1589 [==============================] - 5s 3ms/step - loss: 0.9537 - accuracy: 0.7138 - val_loss: 0.4531 - val_accuracy: 0.7168\n",
      "Epoch 8/20\n",
      "1589/1589 [==============================] - 5s 3ms/step - loss: 0.9544 - accuracy: 0.7206 - val_loss: 0.4813 - val_accuracy: 0.6928\n",
      "Epoch 9/20\n",
      "1589/1589 [==============================] - 5s 3ms/step - loss: 0.9430 - accuracy: 0.7238 - val_loss: 0.4565 - val_accuracy: 0.7029\n",
      "Epoch 10/20\n",
      "1589/1589 [==============================] - 5s 3ms/step - loss: 0.9713 - accuracy: 0.7246 - val_loss: 0.4461 - val_accuracy: 0.7157\n",
      "Epoch 11/20\n",
      "1589/1589 [==============================] - 5s 3ms/step - loss: 0.9492 - accuracy: 0.7225 - val_loss: 0.4371 - val_accuracy: 0.7188\n",
      "Epoch 12/20\n",
      "1589/1589 [==============================] - 5s 3ms/step - loss: 0.9549 - accuracy: 0.7264 - val_loss: 0.5975 - val_accuracy: 0.6438\n",
      "Epoch 13/20\n",
      "1589/1589 [==============================] - 5s 3ms/step - loss: 0.9715 - accuracy: 0.7229 - val_loss: 0.4574 - val_accuracy: 0.6843\n",
      "Epoch 14/20\n",
      "1589/1589 [==============================] - 5s 3ms/step - loss: 0.9465 - accuracy: 0.7291 - val_loss: 0.4252 - val_accuracy: 0.6974\n",
      "Epoch 15/20\n",
      "1589/1589 [==============================] - 5s 3ms/step - loss: 0.9537 - accuracy: 0.7290 - val_loss: 0.4334 - val_accuracy: 0.7144\n",
      "Epoch 16/20\n",
      "1589/1589 [==============================] - 5s 3ms/step - loss: 0.9490 - accuracy: 0.7324 - val_loss: 0.3886 - val_accuracy: 0.7448\n",
      "Epoch 17/20\n",
      "1589/1589 [==============================] - 5s 3ms/step - loss: 0.9420 - accuracy: 0.7407 - val_loss: 0.3997 - val_accuracy: 0.7443\n",
      "Epoch 18/20\n",
      "1589/1589 [==============================] - 5s 3ms/step - loss: 0.9409 - accuracy: 0.7498 - val_loss: 0.4168 - val_accuracy: 0.7269\n",
      "Epoch 19/20\n",
      "1589/1589 [==============================] - 5s 3ms/step - loss: 0.9348 - accuracy: 0.7425 - val_loss: 0.4191 - val_accuracy: 0.7188\n",
      "Epoch 20/20\n",
      "1589/1589 [==============================] - 5s 3ms/step - loss: 0.9479 - accuracy: 0.7344 - val_loss: 0.4247 - val_accuracy: 0.7051\n",
      "681/681 [==============================] - 1s 796us/step\n",
      "Epoch 1/20\n",
      "1589/1589 [==============================] - 8s 5ms/step - loss: 1.0743 - accuracy: 0.6717 - val_loss: 0.3969 - val_accuracy: 0.7575\n",
      "Epoch 2/20\n",
      "1589/1589 [==============================] - 8s 5ms/step - loss: 1.0151 - accuracy: 0.6785 - val_loss: 0.4294 - val_accuracy: 0.7238\n",
      "Epoch 3/20\n",
      "1589/1589 [==============================] - 8s 5ms/step - loss: 1.0432 - accuracy: 0.6843 - val_loss: 0.4483 - val_accuracy: 0.7007\n",
      "Epoch 4/20\n",
      "1589/1589 [==============================] - 8s 5ms/step - loss: 1.0128 - accuracy: 0.7035 - val_loss: 0.4417 - val_accuracy: 0.7014\n",
      "Epoch 5/20\n",
      "1589/1589 [==============================] - 8s 5ms/step - loss: 1.0226 - accuracy: 0.7036 - val_loss: 0.4075 - val_accuracy: 0.6908\n",
      "Epoch 6/20\n",
      "1589/1589 [==============================] - 8s 5ms/step - loss: 1.0377 - accuracy: 0.6896 - val_loss: 0.4325 - val_accuracy: 0.7252\n",
      "Epoch 7/20\n",
      "1589/1589 [==============================] - 8s 5ms/step - loss: 1.0364 - accuracy: 0.6986 - val_loss: 0.4596 - val_accuracy: 0.8016\n",
      "Epoch 8/20\n",
      "1589/1589 [==============================] - 1075s 677ms/step - loss: 1.0459 - accuracy: 0.6920 - val_loss: 0.4171 - val_accuracy: 0.8321\n",
      "Epoch 9/20\n",
      "1589/1589 [==============================] - 341s 215ms/step - loss: 1.0952 - accuracy: 0.6927 - val_loss: 0.4276 - val_accuracy: 0.8363\n",
      "Epoch 10/20\n",
      "1589/1589 [==============================] - 8s 5ms/step - loss: 1.0753 - accuracy: 0.7117 - val_loss: 0.4366 - val_accuracy: 0.8389\n",
      "Epoch 11/20\n",
      "1589/1589 [==============================] - 8s 5ms/step - loss: 1.0615 - accuracy: 0.7201 - val_loss: 0.4469 - val_accuracy: 0.8283\n",
      "Epoch 12/20\n",
      "1589/1589 [==============================] - 8s 5ms/step - loss: 1.0757 - accuracy: 0.7202 - val_loss: 0.4433 - val_accuracy: 0.8168\n",
      "Epoch 13/20\n",
      "1589/1589 [==============================] - 8s 5ms/step - loss: 1.0764 - accuracy: 0.7140 - val_loss: 0.4343 - val_accuracy: 0.8376\n",
      "Epoch 14/20\n",
      "1589/1589 [==============================] - 8s 5ms/step - loss: 1.1110 - accuracy: 0.7126 - val_loss: 0.4307 - val_accuracy: 0.8381\n",
      "Epoch 15/20\n",
      "1589/1589 [==============================] - 8s 5ms/step - loss: 1.0876 - accuracy: 0.7225 - val_loss: 0.4248 - val_accuracy: 0.8392\n",
      "Epoch 16/20\n",
      "1589/1589 [==============================] - 8s 5ms/step - loss: 1.0674 - accuracy: 0.7304 - val_loss: 0.4668 - val_accuracy: 0.8323\n",
      "Epoch 17/20\n",
      "1589/1589 [==============================] - 8s 5ms/step - loss: 1.0856 - accuracy: 0.7210 - val_loss: 0.4253 - val_accuracy: 0.8386\n",
      "Epoch 18/20\n",
      "1589/1589 [==============================] - 8s 5ms/step - loss: 1.0831 - accuracy: 0.7349 - val_loss: 0.4643 - val_accuracy: 0.8394\n",
      "Epoch 19/20\n",
      "1589/1589 [==============================] - 8s 5ms/step - loss: 1.1190 - accuracy: 0.7376 - val_loss: 0.4585 - val_accuracy: 0.8298\n",
      "Epoch 20/20\n",
      "1589/1589 [==============================] - 8s 5ms/step - loss: 1.0563 - accuracy: 0.7341 - val_loss: 0.4340 - val_accuracy: 0.8231\n",
      "681/681 [==============================] - 1s 1ms/step\n",
      "Epoch 1/20\n",
      "1589/1589 [==============================] - 4s 2ms/step - loss: 0.9535 - accuracy: 0.7185 - val_loss: 0.4289 - val_accuracy: 0.7400\n",
      "Epoch 2/20\n",
      "1589/1589 [==============================] - 4s 2ms/step - loss: 0.9239 - accuracy: 0.7255 - val_loss: 0.4213 - val_accuracy: 0.7599\n",
      "Epoch 3/20\n",
      "1589/1589 [==============================] - 4s 2ms/step - loss: 0.9113 - accuracy: 0.7257 - val_loss: 0.5108 - val_accuracy: 0.7118\n",
      "Epoch 4/20\n",
      "1589/1589 [==============================] - 4s 2ms/step - loss: 0.9024 - accuracy: 0.7273 - val_loss: 0.4233 - val_accuracy: 0.7377\n",
      "Epoch 5/20\n",
      "1589/1589 [==============================] - 4s 2ms/step - loss: 0.9047 - accuracy: 0.7297 - val_loss: 0.4466 - val_accuracy: 0.6930\n",
      "Epoch 6/20\n",
      "1589/1589 [==============================] - 4s 2ms/step - loss: 0.9026 - accuracy: 0.7289 - val_loss: 0.4394 - val_accuracy: 0.7175\n",
      "Epoch 7/20\n",
      "1589/1589 [==============================] - 4s 2ms/step - loss: 0.8968 - accuracy: 0.7329 - val_loss: 0.4311 - val_accuracy: 0.7177\n",
      "Epoch 8/20\n",
      "1589/1589 [==============================] - 4s 3ms/step - loss: 0.8912 - accuracy: 0.7370 - val_loss: 0.4319 - val_accuracy: 0.7459\n",
      "Epoch 9/20\n",
      "1589/1589 [==============================] - 4s 3ms/step - loss: 0.8964 - accuracy: 0.7371 - val_loss: 0.4328 - val_accuracy: 0.7172\n",
      "Epoch 10/20\n",
      "1589/1589 [==============================] - 4s 2ms/step - loss: 0.8924 - accuracy: 0.7359 - val_loss: 0.4400 - val_accuracy: 0.7500\n",
      "Epoch 11/20\n",
      "1589/1589 [==============================] - 4s 2ms/step - loss: 0.8863 - accuracy: 0.7388 - val_loss: 0.4943 - val_accuracy: 0.7109\n",
      "Epoch 12/20\n",
      "1589/1589 [==============================] - 4s 2ms/step - loss: 0.8826 - accuracy: 0.7439 - val_loss: 0.4339 - val_accuracy: 0.7465\n",
      "Epoch 13/20\n",
      "1589/1589 [==============================] - 4s 2ms/step - loss: 0.8795 - accuracy: 0.7485 - val_loss: 0.4385 - val_accuracy: 0.7310\n",
      "Epoch 14/20\n",
      "1589/1589 [==============================] - 4s 2ms/step - loss: 0.8837 - accuracy: 0.7451 - val_loss: 0.4387 - val_accuracy: 0.7317\n",
      "Epoch 15/20\n",
      "1589/1589 [==============================] - 4s 2ms/step - loss: 0.8809 - accuracy: 0.7513 - val_loss: 0.4566 - val_accuracy: 0.7500\n",
      "Epoch 16/20\n",
      "1589/1589 [==============================] - 4s 2ms/step - loss: 0.8750 - accuracy: 0.7548 - val_loss: 0.4655 - val_accuracy: 0.7271\n",
      "Epoch 17/20\n",
      "1589/1589 [==============================] - 4s 2ms/step - loss: 0.8788 - accuracy: 0.7482 - val_loss: 0.4390 - val_accuracy: 0.7546\n",
      "Epoch 18/20\n",
      "1589/1589 [==============================] - 4s 2ms/step - loss: 0.8707 - accuracy: 0.7536 - val_loss: 0.4371 - val_accuracy: 0.7423\n",
      "Epoch 19/20\n",
      "1589/1589 [==============================] - 3s 2ms/step - loss: 0.8738 - accuracy: 0.7523 - val_loss: 0.4319 - val_accuracy: 0.7530\n",
      "Epoch 20/20\n",
      "1589/1589 [==============================] - 4s 2ms/step - loss: 0.8715 - accuracy: 0.7491 - val_loss: 0.4370 - val_accuracy: 0.7232\n",
      "681/681 [==============================] - 0s 618us/step\n",
      "Epoch 1/20\n",
      "1589/1589 [==============================] - 3s 2ms/step - loss: 0.9624 - accuracy: 0.7207 - val_loss: 0.4623 - val_accuracy: 0.7112\n",
      "Epoch 2/20\n",
      "1589/1589 [==============================] - 3s 2ms/step - loss: 0.9249 - accuracy: 0.7219 - val_loss: 0.5348 - val_accuracy: 0.6642\n",
      "Epoch 3/20\n",
      "1589/1589 [==============================] - 3s 2ms/step - loss: 0.9092 - accuracy: 0.7265 - val_loss: 0.4753 - val_accuracy: 0.7191\n",
      "Epoch 4/20\n",
      "1589/1589 [==============================] - 3s 2ms/step - loss: 0.9021 - accuracy: 0.7300 - val_loss: 0.4607 - val_accuracy: 0.7177\n",
      "Epoch 5/20\n",
      "1589/1589 [==============================] - 3s 2ms/step - loss: 0.9025 - accuracy: 0.7263 - val_loss: 0.4932 - val_accuracy: 0.7111\n",
      "Epoch 6/20\n",
      "1589/1589 [==============================] - 3s 2ms/step - loss: 0.8985 - accuracy: 0.7288 - val_loss: 0.4459 - val_accuracy: 0.7191\n",
      "Epoch 7/20\n",
      "1589/1589 [==============================] - 3s 2ms/step - loss: 0.8963 - accuracy: 0.7308 - val_loss: 0.4492 - val_accuracy: 0.7466\n",
      "Epoch 8/20\n",
      "1589/1589 [==============================] - 3s 2ms/step - loss: 0.8948 - accuracy: 0.7344 - val_loss: 0.4249 - val_accuracy: 0.7445\n",
      "Epoch 9/20\n",
      "1589/1589 [==============================] - 3s 2ms/step - loss: 0.8926 - accuracy: 0.7374 - val_loss: 0.4730 - val_accuracy: 0.7092\n",
      "Epoch 10/20\n",
      "1589/1589 [==============================] - 3s 2ms/step - loss: 0.8856 - accuracy: 0.7398 - val_loss: 0.4454 - val_accuracy: 0.7342\n",
      "Epoch 11/20\n",
      "1589/1589 [==============================] - 3s 2ms/step - loss: 0.8793 - accuracy: 0.7421 - val_loss: 0.4488 - val_accuracy: 0.7387\n",
      "Epoch 12/20\n",
      "1589/1589 [==============================] - 3s 2ms/step - loss: 0.8836 - accuracy: 0.7428 - val_loss: 0.4499 - val_accuracy: 0.7346\n",
      "Epoch 13/20\n",
      "1589/1589 [==============================] - 3s 2ms/step - loss: 0.8833 - accuracy: 0.7414 - val_loss: 0.4497 - val_accuracy: 0.7262\n",
      "Epoch 14/20\n",
      "1589/1589 [==============================] - 3s 2ms/step - loss: 0.8795 - accuracy: 0.7470 - val_loss: 0.4442 - val_accuracy: 0.7285\n",
      "Epoch 15/20\n",
      "1589/1589 [==============================] - 3s 2ms/step - loss: 0.8755 - accuracy: 0.7489 - val_loss: 0.4695 - val_accuracy: 0.7370\n",
      "Epoch 16/20\n",
      "1589/1589 [==============================] - 3s 2ms/step - loss: 0.8784 - accuracy: 0.7471 - val_loss: 0.4824 - val_accuracy: 0.7207\n",
      "Epoch 17/20\n",
      "1589/1589 [==============================] - 3s 2ms/step - loss: 0.8698 - accuracy: 0.7519 - val_loss: 0.4296 - val_accuracy: 0.7312\n",
      "Epoch 18/20\n",
      "1589/1589 [==============================] - 3s 2ms/step - loss: 0.8733 - accuracy: 0.7476 - val_loss: 0.4631 - val_accuracy: 0.7254\n",
      "Epoch 19/20\n",
      "1589/1589 [==============================] - 3s 2ms/step - loss: 0.8733 - accuracy: 0.7486 - val_loss: 0.4506 - val_accuracy: 0.7465\n",
      "Epoch 20/20\n",
      "1589/1589 [==============================] - 3s 2ms/step - loss: 0.8682 - accuracy: 0.7518 - val_loss: 0.4328 - val_accuracy: 0.7439\n",
      "681/681 [==============================] - 0s 569us/step\n",
      "Epoch 1/20\n",
      "1589/1589 [==============================] - 3s 2ms/step - loss: 0.9996 - accuracy: 0.7062 - val_loss: 0.4332 - val_accuracy: 0.7232\n",
      "Epoch 2/20\n",
      "1589/1589 [==============================] - 2s 2ms/step - loss: 0.9456 - accuracy: 0.7129 - val_loss: 0.4384 - val_accuracy: 0.7274\n",
      "Epoch 3/20\n",
      "1589/1589 [==============================] - 2s 2ms/step - loss: 0.9307 - accuracy: 0.7234 - val_loss: 0.3957 - val_accuracy: 0.7922\n",
      "Epoch 4/20\n",
      "1589/1589 [==============================] - 3s 2ms/step - loss: 0.9213 - accuracy: 0.7254 - val_loss: 0.4815 - val_accuracy: 0.6733\n",
      "Epoch 5/20\n",
      "1589/1589 [==============================] - 2s 1ms/step - loss: 0.9243 - accuracy: 0.7190 - val_loss: 0.4518 - val_accuracy: 0.7120\n",
      "Epoch 6/20\n",
      "1589/1589 [==============================] - 2s 2ms/step - loss: 0.9104 - accuracy: 0.7331 - val_loss: 0.4528 - val_accuracy: 0.7221\n",
      "Epoch 7/20\n",
      "1589/1589 [==============================] - 2s 1ms/step - loss: 0.9161 - accuracy: 0.7286 - val_loss: 0.4247 - val_accuracy: 0.7339\n",
      "Epoch 8/20\n",
      "1589/1589 [==============================] - 2s 2ms/step - loss: 0.9127 - accuracy: 0.7325 - val_loss: 0.4369 - val_accuracy: 0.7373\n",
      "Epoch 9/20\n",
      "1589/1589 [==============================] - 2s 1ms/step - loss: 0.9061 - accuracy: 0.7361 - val_loss: 0.4609 - val_accuracy: 0.6981\n",
      "Epoch 10/20\n",
      "1589/1589 [==============================] - 2s 2ms/step - loss: 0.9026 - accuracy: 0.7310 - val_loss: 0.4412 - val_accuracy: 0.7602\n",
      "Epoch 11/20\n",
      "1589/1589 [==============================] - 2s 2ms/step - loss: 0.8994 - accuracy: 0.7396 - val_loss: 0.4351 - val_accuracy: 0.7616\n",
      "Epoch 12/20\n",
      "1589/1589 [==============================] - 2s 2ms/step - loss: 0.8935 - accuracy: 0.7441 - val_loss: 0.4670 - val_accuracy: 0.7286\n",
      "Epoch 13/20\n",
      "1589/1589 [==============================] - 2s 2ms/step - loss: 0.9000 - accuracy: 0.7415 - val_loss: 0.4308 - val_accuracy: 0.7586\n",
      "Epoch 14/20\n",
      "1589/1589 [==============================] - 2s 1ms/step - loss: 0.9001 - accuracy: 0.7455 - val_loss: 0.4013 - val_accuracy: 0.7754\n",
      "Epoch 15/20\n",
      "1589/1589 [==============================] - 2s 2ms/step - loss: 0.8902 - accuracy: 0.7560 - val_loss: 0.4456 - val_accuracy: 0.7691\n",
      "Epoch 16/20\n",
      "1589/1589 [==============================] - 2s 2ms/step - loss: 0.8915 - accuracy: 0.7497 - val_loss: 0.4399 - val_accuracy: 0.7690\n",
      "Epoch 17/20\n",
      "1589/1589 [==============================] - 2s 1ms/step - loss: 0.8993 - accuracy: 0.7477 - val_loss: 0.4624 - val_accuracy: 0.7287\n",
      "Epoch 18/20\n",
      "1589/1589 [==============================] - 2s 1ms/step - loss: 0.8900 - accuracy: 0.7553 - val_loss: 0.4671 - val_accuracy: 0.7275\n",
      "Epoch 19/20\n",
      "1589/1589 [==============================] - 2s 2ms/step - loss: 0.8884 - accuracy: 0.7530 - val_loss: 0.4242 - val_accuracy: 0.7502\n",
      "Epoch 20/20\n",
      "1589/1589 [==============================] - 2s 2ms/step - loss: 0.8893 - accuracy: 0.7559 - val_loss: 0.4179 - val_accuracy: 0.7641\n",
      "681/681 [==============================] - 0s 478us/step\n",
      "Epoch 1/20\n",
      "1589/1589 [==============================] - 7s 4ms/step - loss: 1.0154 - accuracy: 0.6993 - val_loss: 0.4619 - val_accuracy: 0.6672\n",
      "Epoch 2/20\n",
      "1589/1589 [==============================] - 7s 4ms/step - loss: 0.9787 - accuracy: 0.7026 - val_loss: 0.4799 - val_accuracy: 0.6846\n",
      "Epoch 3/20\n",
      "1589/1589 [==============================] - 7s 4ms/step - loss: 0.9595 - accuracy: 0.7164 - val_loss: 0.4320 - val_accuracy: 0.6900\n",
      "Epoch 4/20\n",
      "1589/1589 [==============================] - 7s 4ms/step - loss: 0.9684 - accuracy: 0.7116 - val_loss: 0.4487 - val_accuracy: 0.6870\n",
      "Epoch 5/20\n",
      "1589/1589 [==============================] - 7s 4ms/step - loss: 0.9799 - accuracy: 0.6985 - val_loss: 0.4267 - val_accuracy: 0.7442\n",
      "Epoch 6/20\n",
      "1589/1589 [==============================] - 7s 4ms/step - loss: 1.0257 - accuracy: 0.7125 - val_loss: 0.4522 - val_accuracy: 0.7494\n",
      "Epoch 7/20\n",
      "1589/1589 [==============================] - 7s 4ms/step - loss: 1.0164 - accuracy: 0.7148 - val_loss: 0.4113 - val_accuracy: 0.8214\n",
      "Epoch 8/20\n",
      "1589/1589 [==============================] - 7s 5ms/step - loss: 1.0075 - accuracy: 0.7224 - val_loss: 0.3984 - val_accuracy: 0.8217\n",
      "Epoch 9/20\n",
      "1589/1589 [==============================] - 7s 4ms/step - loss: 0.9906 - accuracy: 0.7233 - val_loss: 0.4390 - val_accuracy: 0.8357\n",
      "Epoch 10/20\n",
      "1589/1589 [==============================] - 7s 4ms/step - loss: 1.0086 - accuracy: 0.7270 - val_loss: 0.4313 - val_accuracy: 0.8398\n",
      "Epoch 11/20\n",
      "1589/1589 [==============================] - 7s 4ms/step - loss: 1.0408 - accuracy: 0.7229 - val_loss: 0.4330 - val_accuracy: 0.8293\n",
      "Epoch 12/20\n",
      "1589/1589 [==============================] - 7s 4ms/step - loss: 1.0194 - accuracy: 0.7328 - val_loss: 0.4586 - val_accuracy: 0.8358\n",
      "Epoch 13/20\n",
      "1589/1589 [==============================] - 7s 4ms/step - loss: 1.0308 - accuracy: 0.7296 - val_loss: 0.5227 - val_accuracy: 0.8351\n",
      "Epoch 14/20\n",
      "1589/1589 [==============================] - 7s 5ms/step - loss: 1.0706 - accuracy: 0.7225 - val_loss: 0.4891 - val_accuracy: 0.8345\n",
      "Epoch 15/20\n",
      "1589/1589 [==============================] - 7s 4ms/step - loss: 1.0275 - accuracy: 0.7380 - val_loss: 0.4959 - val_accuracy: 0.8368\n",
      "Epoch 16/20\n",
      "1589/1589 [==============================] - 7s 4ms/step - loss: 1.0203 - accuracy: 0.7346 - val_loss: 0.4335 - val_accuracy: 0.8400\n",
      "Epoch 17/20\n",
      "1589/1589 [==============================] - 7s 4ms/step - loss: 1.0375 - accuracy: 0.7292 - val_loss: 0.4788 - val_accuracy: 0.8296\n",
      "Epoch 18/20\n",
      "1589/1589 [==============================] - 7s 4ms/step - loss: 1.0381 - accuracy: 0.7378 - val_loss: 0.4691 - val_accuracy: 0.8394\n",
      "Epoch 19/20\n",
      "1589/1589 [==============================] - 7s 4ms/step - loss: 1.0379 - accuracy: 0.7327 - val_loss: 0.4314 - val_accuracy: 0.8263\n",
      "Epoch 20/20\n",
      "1589/1589 [==============================] - 7s 4ms/step - loss: 1.0473 - accuracy: 0.7350 - val_loss: 0.4927 - val_accuracy: 0.8355\n",
      "681/681 [==============================] - 1s 1ms/step\n",
      "Epoch 1/20\n",
      "1589/1589 [==============================] - 6s 4ms/step - loss: 1.0674 - accuracy: 0.6729 - val_loss: 0.4701 - val_accuracy: 0.6503\n",
      "Epoch 2/20\n",
      "1589/1589 [==============================] - 6s 4ms/step - loss: 0.9902 - accuracy: 0.7000 - val_loss: 0.4617 - val_accuracy: 0.6691\n",
      "Epoch 3/20\n",
      "1589/1589 [==============================] - 7s 4ms/step - loss: 0.9950 - accuracy: 0.7053 - val_loss: 0.4781 - val_accuracy: 0.6849\n",
      "Epoch 4/20\n",
      "1589/1589 [==============================] - 6s 4ms/step - loss: 0.9802 - accuracy: 0.7207 - val_loss: 0.4533 - val_accuracy: 0.7582\n",
      "Epoch 5/20\n",
      "1589/1589 [==============================] - 6s 4ms/step - loss: 0.9755 - accuracy: 0.7417 - val_loss: 0.4621 - val_accuracy: 0.7555\n",
      "Epoch 6/20\n",
      "1589/1589 [==============================] - 6s 4ms/step - loss: 0.9960 - accuracy: 0.7394 - val_loss: 0.4473 - val_accuracy: 0.6813\n",
      "Epoch 7/20\n",
      "1589/1589 [==============================] - 6s 4ms/step - loss: 1.0151 - accuracy: 0.7291 - val_loss: 0.4530 - val_accuracy: 0.7114\n",
      "Epoch 8/20\n",
      "1589/1589 [==============================] - 6s 4ms/step - loss: 0.9882 - accuracy: 0.7346 - val_loss: 0.4574 - val_accuracy: 0.6630\n",
      "Epoch 9/20\n",
      "1589/1589 [==============================] - 6s 4ms/step - loss: 0.9829 - accuracy: 0.7363 - val_loss: 0.4459 - val_accuracy: 0.7162\n",
      "Epoch 10/20\n",
      "1589/1589 [==============================] - 6s 4ms/step - loss: 0.9856 - accuracy: 0.7171 - val_loss: 0.4342 - val_accuracy: 0.6699\n",
      "Epoch 11/20\n",
      "1589/1589 [==============================] - 6s 4ms/step - loss: 1.0088 - accuracy: 0.7145 - val_loss: 0.4008 - val_accuracy: 0.7534\n",
      "Epoch 12/20\n",
      "1589/1589 [==============================] - 6s 4ms/step - loss: 1.0301 - accuracy: 0.7147 - val_loss: 0.4509 - val_accuracy: 0.6754\n",
      "Epoch 13/20\n",
      "1589/1589 [==============================] - 6s 4ms/step - loss: 1.0466 - accuracy: 0.6980 - val_loss: 0.4621 - val_accuracy: 0.7139\n",
      "Epoch 14/20\n",
      "1589/1589 [==============================] - 6s 4ms/step - loss: 0.9950 - accuracy: 0.7177 - val_loss: 0.4756 - val_accuracy: 0.7018\n",
      "Epoch 15/20\n",
      "1589/1589 [==============================] - 6s 4ms/step - loss: 0.9923 - accuracy: 0.7265 - val_loss: 0.4170 - val_accuracy: 0.7426\n",
      "Epoch 16/20\n",
      "1589/1589 [==============================] - 6s 4ms/step - loss: 0.9893 - accuracy: 0.7183 - val_loss: 0.4637 - val_accuracy: 0.6633\n",
      "Epoch 17/20\n",
      "1589/1589 [==============================] - 6s 4ms/step - loss: 1.0065 - accuracy: 0.7089 - val_loss: 0.4280 - val_accuracy: 0.7040\n",
      "Epoch 18/20\n",
      "1589/1589 [==============================] - 6s 4ms/step - loss: 0.9799 - accuracy: 0.7173 - val_loss: 0.4690 - val_accuracy: 0.6826\n",
      "Epoch 19/20\n",
      "1589/1589 [==============================] - 6s 4ms/step - loss: 0.9951 - accuracy: 0.7148 - val_loss: 0.4232 - val_accuracy: 0.7024\n",
      "Epoch 20/20\n",
      "1589/1589 [==============================] - 6s 4ms/step - loss: 0.9794 - accuracy: 0.7261 - val_loss: 0.4265 - val_accuracy: 0.7179\n",
      "681/681 [==============================] - 1s 914us/step\n",
      "Epoch 1/20\n",
      "1589/1589 [==============================] - 6s 4ms/step - loss: 0.9852 - accuracy: 0.7028 - val_loss: 0.4674 - val_accuracy: 0.7047\n",
      "Epoch 2/20\n",
      "1589/1589 [==============================] - 6s 4ms/step - loss: 0.9407 - accuracy: 0.7143 - val_loss: 0.4675 - val_accuracy: 0.7315\n",
      "Epoch 3/20\n",
      "1589/1589 [==============================] - 6s 4ms/step - loss: 0.9476 - accuracy: 0.7097 - val_loss: 0.4649 - val_accuracy: 0.6703\n",
      "Epoch 4/20\n",
      "1589/1589 [==============================] - 6s 4ms/step - loss: 0.9504 - accuracy: 0.7054 - val_loss: 0.4277 - val_accuracy: 0.7032\n",
      "Epoch 5/20\n",
      "1589/1589 [==============================] - 6s 4ms/step - loss: 0.9539 - accuracy: 0.7207 - val_loss: 0.3960 - val_accuracy: 0.7608\n",
      "Epoch 6/20\n",
      "1589/1589 [==============================] - 6s 4ms/step - loss: 0.9526 - accuracy: 0.7183 - val_loss: 0.4184 - val_accuracy: 0.7118\n",
      "Epoch 7/20\n",
      "1589/1589 [==============================] - 7s 4ms/step - loss: 0.9619 - accuracy: 0.7118 - val_loss: 0.4263 - val_accuracy: 0.7698\n",
      "Epoch 8/20\n",
      "1589/1589 [==============================] - 6s 4ms/step - loss: 0.9718 - accuracy: 0.7141 - val_loss: 0.4662 - val_accuracy: 0.7249\n",
      "Epoch 9/20\n",
      "1589/1589 [==============================] - 6s 4ms/step - loss: 0.9648 - accuracy: 0.7227 - val_loss: 0.4287 - val_accuracy: 0.7519\n",
      "Epoch 10/20\n",
      "1589/1589 [==============================] - 6s 4ms/step - loss: 0.9527 - accuracy: 0.7281 - val_loss: 0.4159 - val_accuracy: 0.7649\n",
      "Epoch 11/20\n",
      "1589/1589 [==============================] - 6s 4ms/step - loss: 0.9494 - accuracy: 0.7243 - val_loss: 0.4573 - val_accuracy: 0.7893\n",
      "Epoch 12/20\n",
      "1589/1589 [==============================] - 6s 4ms/step - loss: 0.9626 - accuracy: 0.7249 - val_loss: 0.4073 - val_accuracy: 0.8156\n",
      "Epoch 13/20\n",
      "1589/1589 [==============================] - 6s 4ms/step - loss: 0.9380 - accuracy: 0.7322 - val_loss: 0.4528 - val_accuracy: 0.7687\n",
      "Epoch 14/20\n",
      "1589/1589 [==============================] - 6s 4ms/step - loss: 0.9795 - accuracy: 0.7194 - val_loss: 0.4684 - val_accuracy: 0.8013\n",
      "Epoch 15/20\n",
      "1589/1589 [==============================] - 6s 4ms/step - loss: 1.0081 - accuracy: 0.7132 - val_loss: 0.4229 - val_accuracy: 0.8142\n",
      "Epoch 16/20\n",
      "1589/1589 [==============================] - 6s 4ms/step - loss: 0.9961 - accuracy: 0.7232 - val_loss: 0.4486 - val_accuracy: 0.8392\n",
      "Epoch 17/20\n",
      "1589/1589 [==============================] - 6s 4ms/step - loss: 0.9520 - accuracy: 0.7392 - val_loss: 0.4114 - val_accuracy: 0.8204\n",
      "Epoch 18/20\n",
      "1589/1589 [==============================] - 6s 4ms/step - loss: 0.9729 - accuracy: 0.7346 - val_loss: 0.4373 - val_accuracy: 0.8266\n",
      "Epoch 19/20\n",
      "1589/1589 [==============================] - 6s 4ms/step - loss: 0.9939 - accuracy: 0.7255 - val_loss: 0.4760 - val_accuracy: 0.8412\n",
      "Epoch 20/20\n",
      "1589/1589 [==============================] - 6s 4ms/step - loss: 1.0206 - accuracy: 0.7289 - val_loss: 0.4475 - val_accuracy: 0.8354\n",
      "681/681 [==============================] - 1s 934us/step\n",
      "Epoch 1/20\n",
      "1589/1589 [==============================] - 4s 2ms/step - loss: 0.9755 - accuracy: 0.7173 - val_loss: 0.4146 - val_accuracy: 0.7215\n",
      "Epoch 2/20\n",
      "1589/1589 [==============================] - 4s 2ms/step - loss: 0.9376 - accuracy: 0.7166 - val_loss: 0.4343 - val_accuracy: 0.7238\n",
      "Epoch 3/20\n",
      "1589/1589 [==============================] - 4s 2ms/step - loss: 0.9228 - accuracy: 0.7201 - val_loss: 0.5210 - val_accuracy: 0.6721\n",
      "Epoch 4/20\n",
      "1589/1589 [==============================] - 4s 2ms/step - loss: 0.9167 - accuracy: 0.7212 - val_loss: 0.4288 - val_accuracy: 0.7403\n",
      "Epoch 5/20\n",
      "1589/1589 [==============================] - 4s 2ms/step - loss: 0.9252 - accuracy: 0.7213 - val_loss: 0.4230 - val_accuracy: 0.7398\n",
      "Epoch 6/20\n",
      "1589/1589 [==============================] - 4s 2ms/step - loss: 0.9181 - accuracy: 0.7249 - val_loss: 0.4371 - val_accuracy: 0.7351\n",
      "Epoch 7/20\n",
      "1589/1589 [==============================] - 4s 2ms/step - loss: 0.9110 - accuracy: 0.7311 - val_loss: 0.4756 - val_accuracy: 0.7021\n",
      "Epoch 8/20\n",
      "1589/1589 [==============================] - 4s 2ms/step - loss: 0.9134 - accuracy: 0.7278 - val_loss: 0.4573 - val_accuracy: 0.7217\n",
      "Epoch 9/20\n",
      "1589/1589 [==============================] - 4s 2ms/step - loss: 0.9022 - accuracy: 0.7379 - val_loss: 0.4777 - val_accuracy: 0.7307\n",
      "Epoch 10/20\n",
      "1589/1589 [==============================] - 4s 2ms/step - loss: 0.9137 - accuracy: 0.7372 - val_loss: 0.4335 - val_accuracy: 0.7556\n",
      "Epoch 11/20\n",
      "1589/1589 [==============================] - 4s 2ms/step - loss: 0.9049 - accuracy: 0.7386 - val_loss: 0.4393 - val_accuracy: 0.7240\n",
      "Epoch 12/20\n",
      "1589/1589 [==============================] - 4s 2ms/step - loss: 0.9024 - accuracy: 0.7446 - val_loss: 0.4573 - val_accuracy: 0.7331\n",
      "Epoch 13/20\n",
      "1589/1589 [==============================] - 4s 3ms/step - loss: 0.9042 - accuracy: 0.7487 - val_loss: 0.4486 - val_accuracy: 0.7194\n",
      "Epoch 14/20\n",
      "1589/1589 [==============================] - 4s 3ms/step - loss: 0.9116 - accuracy: 0.7362 - val_loss: 0.4165 - val_accuracy: 0.7521\n",
      "Epoch 15/20\n",
      "1589/1589 [==============================] - 4s 3ms/step - loss: 0.9031 - accuracy: 0.7499 - val_loss: 0.4264 - val_accuracy: 0.7533\n",
      "Epoch 16/20\n",
      "1589/1589 [==============================] - 4s 2ms/step - loss: 0.8997 - accuracy: 0.7510 - val_loss: 0.4407 - val_accuracy: 0.7512\n",
      "Epoch 17/20\n",
      "1589/1589 [==============================] - 4s 2ms/step - loss: 0.9049 - accuracy: 0.7473 - val_loss: 0.4379 - val_accuracy: 0.7398\n",
      "Epoch 18/20\n",
      "1589/1589 [==============================] - 4s 2ms/step - loss: 0.8913 - accuracy: 0.7478 - val_loss: 0.4332 - val_accuracy: 0.7427\n",
      "Epoch 19/20\n",
      "1589/1589 [==============================] - 4s 2ms/step - loss: 0.9005 - accuracy: 0.7469 - val_loss: 0.4504 - val_accuracy: 0.7416\n",
      "Epoch 20/20\n",
      "1589/1589 [==============================] - 4s 2ms/step - loss: 0.8984 - accuracy: 0.7514 - val_loss: 0.4086 - val_accuracy: 0.7668\n",
      "681/681 [==============================] - 0s 651us/step\n"
     ]
    }
   ],
   "source": [
    "# architectures = [[600, 500, 300, 100, 50], [600, 500, 300, 100], [500, 300, 100], [300, 100, 50], [400, 250, 150, 100, 50], [400, 250, 150, 100]]\n",
    "scores = []\n",
    "for i in range(len(architectures)):\n",
    "    model = Sequential()\n",
    "    model.add(Dense(architectures[i][0], input_dim=800, activation='relu'))\n",
    "    model.add(Dropout(0.5))\n",
    "    for j in range(1, len(architectures[i])):\n",
    "        model.add(Dense(architectures[i][j], activation='relu'))\n",
    "        model.add(Dropout(0.5))\n",
    "    model.add(Dense(1, activation='sigmoid'))\n",
    "    model.compile(optimizer='adam', loss='binary_crossentropy', metrics=['accuracy'])\n",
    "    model_history = model.fit(Z_train, y_train, epochs=20, batch_size=32, validation_data=(Z_valid, y_valid), class_weight=class_weights)\n",
    "    y_pred_dnn = model.predict(Z_valid)\n",
    "    y_pred = np.where(y_pred_dnn>=0.5, 1, 0)\n",
    "    scores.append(f1_score(y_valid, y_pred))"
   ]
  },
  {
   "cell_type": "code",
   "execution_count": 19,
   "metadata": {},
   "outputs": [
    {
     "name": "stdout",
     "output_type": "stream",
     "text": [
      "architectures selected: 2\n",
      "1 / 2\n"
     ]
    },
    {
     "name": "stdout",
     "output_type": "stream",
     "text": [
      "Epoch 1/20\n",
      "1589/1589 [==============================] - 3s 2ms/step - loss: 1.1287 - accuracy: 0.6471 - val_loss: 0.5132 - val_accuracy: 0.6544\n",
      "Epoch 2/20\n",
      "1589/1589 [==============================] - 2s 1ms/step - loss: 1.0080 - accuracy: 0.6808 - val_loss: 0.4925 - val_accuracy: 0.6850\n",
      "Epoch 3/20\n",
      "1589/1589 [==============================] - 2s 2ms/step - loss: 0.9846 - accuracy: 0.6998 - val_loss: 0.5479 - val_accuracy: 0.6648\n",
      "Epoch 4/20\n",
      "1589/1589 [==============================] - 2s 2ms/step - loss: 0.9774 - accuracy: 0.7054 - val_loss: 0.4844 - val_accuracy: 0.6924\n",
      "Epoch 5/20\n",
      "1589/1589 [==============================] - 3s 2ms/step - loss: 0.9648 - accuracy: 0.7048 - val_loss: 0.5087 - val_accuracy: 0.6693\n",
      "Epoch 6/20\n",
      "1589/1589 [==============================] - 2s 2ms/step - loss: 0.9785 - accuracy: 0.7016 - val_loss: 0.4615 - val_accuracy: 0.7193\n",
      "Epoch 7/20\n",
      "1589/1589 [==============================] - 3s 2ms/step - loss: 0.9654 - accuracy: 0.7082 - val_loss: 0.4444 - val_accuracy: 0.7141\n",
      "Epoch 8/20\n",
      "1589/1589 [==============================] - 3s 2ms/step - loss: 0.9724 - accuracy: 0.7010 - val_loss: 0.4742 - val_accuracy: 0.6945\n",
      "Epoch 9/20\n",
      "1589/1589 [==============================] - 2s 1ms/step - loss: 0.9652 - accuracy: 0.7100 - val_loss: 0.4693 - val_accuracy: 0.7044\n",
      "Epoch 10/20\n",
      "1589/1589 [==============================] - 2s 1ms/step - loss: 0.9670 - accuracy: 0.7079 - val_loss: 0.4949 - val_accuracy: 0.6674\n",
      "Epoch 11/20\n",
      "1589/1589 [==============================] - 2s 1ms/step - loss: 0.9719 - accuracy: 0.7103 - val_loss: 0.5001 - val_accuracy: 0.6679\n",
      "Epoch 12/20\n",
      "1589/1589 [==============================] - 2s 1ms/step - loss: 0.9723 - accuracy: 0.7019 - val_loss: 0.5148 - val_accuracy: 0.6676\n",
      "Epoch 13/20\n",
      "1589/1589 [==============================] - 2s 1ms/step - loss: 0.9615 - accuracy: 0.7097 - val_loss: 0.4614 - val_accuracy: 0.7150\n",
      "Epoch 14/20\n",
      "1589/1589 [==============================] - 2s 1ms/step - loss: 0.9606 - accuracy: 0.7032 - val_loss: 0.4875 - val_accuracy: 0.7112\n",
      "Epoch 15/20\n",
      "1589/1589 [==============================] - 2s 1ms/step - loss: 0.9676 - accuracy: 0.7035 - val_loss: 0.4802 - val_accuracy: 0.6803\n",
      "Epoch 16/20\n",
      "1589/1589 [==============================] - 2s 1ms/step - loss: 0.9578 - accuracy: 0.7051 - val_loss: 0.4513 - val_accuracy: 0.7108\n",
      "Epoch 17/20\n",
      "1589/1589 [==============================] - 2s 1ms/step - loss: 0.9638 - accuracy: 0.6983 - val_loss: 0.4906 - val_accuracy: 0.6978\n",
      "Epoch 18/20\n",
      "1589/1589 [==============================] - 2s 2ms/step - loss: 0.9624 - accuracy: 0.7023 - val_loss: 0.4707 - val_accuracy: 0.7221\n",
      "Epoch 19/20\n",
      "1589/1589 [==============================] - 2s 1ms/step - loss: 0.9604 - accuracy: 0.7073 - val_loss: 0.4803 - val_accuracy: 0.6978\n",
      "Epoch 20/20\n",
      "1589/1589 [==============================] - 2s 1ms/step - loss: 0.9679 - accuracy: 0.7051 - val_loss: 0.5137 - val_accuracy: 0.6696\n",
      "681/681 [==============================] - 0s 482us/step\n",
      "Epoch 1/20\n",
      "1589/1589 [==============================] - 3s 2ms/step - loss: 1.0668 - accuracy: 0.6752 - val_loss: 0.4496 - val_accuracy: 0.7363\n",
      "Epoch 2/20\n",
      "1589/1589 [==============================] - 2s 1ms/step - loss: 0.9726 - accuracy: 0.7068 - val_loss: 0.4705 - val_accuracy: 0.7134\n",
      "Epoch 3/20\n",
      "1589/1589 [==============================] - 2s 1ms/step - loss: 0.9443 - accuracy: 0.7199 - val_loss: 0.4818 - val_accuracy: 0.7156\n",
      "Epoch 4/20\n",
      "1589/1589 [==============================] - 2s 1ms/step - loss: 0.9402 - accuracy: 0.7218 - val_loss: 0.5089 - val_accuracy: 0.6912\n",
      "Epoch 5/20\n",
      "1589/1589 [==============================] - 2s 2ms/step - loss: 0.9356 - accuracy: 0.7291 - val_loss: 0.4984 - val_accuracy: 0.6972\n",
      "Epoch 6/20\n",
      "1589/1589 [==============================] - 2s 2ms/step - loss: 0.9333 - accuracy: 0.7227 - val_loss: 0.4538 - val_accuracy: 0.7176\n",
      "Epoch 7/20\n",
      "1589/1589 [==============================] - 2s 2ms/step - loss: 0.9341 - accuracy: 0.7219 - val_loss: 0.4388 - val_accuracy: 0.7370\n",
      "Epoch 8/20\n",
      "1589/1589 [==============================] - 2s 2ms/step - loss: 0.9374 - accuracy: 0.7264 - val_loss: 0.4731 - val_accuracy: 0.7136\n",
      "Epoch 9/20\n",
      "1589/1589 [==============================] - 2s 1ms/step - loss: 0.9350 - accuracy: 0.7338 - val_loss: 0.4199 - val_accuracy: 0.7764\n",
      "Epoch 10/20\n",
      "1589/1589 [==============================] - 2s 2ms/step - loss: 0.9207 - accuracy: 0.7356 - val_loss: 0.4571 - val_accuracy: 0.7206\n",
      "Epoch 11/20\n",
      "1589/1589 [==============================] - 2s 1ms/step - loss: 0.9238 - accuracy: 0.7303 - val_loss: 0.4491 - val_accuracy: 0.7521\n",
      "Epoch 12/20\n",
      "1589/1589 [==============================] - 3s 2ms/step - loss: 0.9339 - accuracy: 0.7325 - val_loss: 0.5094 - val_accuracy: 0.6967\n",
      "Epoch 13/20\n",
      "1589/1589 [==============================] - 3s 2ms/step - loss: 0.9204 - accuracy: 0.7351 - val_loss: 0.4195 - val_accuracy: 0.7741\n",
      "Epoch 14/20\n",
      "1589/1589 [==============================] - 2s 2ms/step - loss: 0.9333 - accuracy: 0.7340 - val_loss: 0.5138 - val_accuracy: 0.7224\n",
      "Epoch 15/20\n",
      "1589/1589 [==============================] - 2s 2ms/step - loss: 0.9257 - accuracy: 0.7409 - val_loss: 0.4508 - val_accuracy: 0.7343\n",
      "Epoch 16/20\n",
      "1589/1589 [==============================] - 2s 1ms/step - loss: 0.9229 - accuracy: 0.7361 - val_loss: 0.4331 - val_accuracy: 0.7800\n",
      "Epoch 17/20\n",
      "1589/1589 [==============================] - 2s 2ms/step - loss: 0.9234 - accuracy: 0.7307 - val_loss: 0.4160 - val_accuracy: 0.7717\n",
      "Epoch 18/20\n",
      "1589/1589 [==============================] - 3s 2ms/step - loss: 0.9238 - accuracy: 0.7260 - val_loss: 0.4950 - val_accuracy: 0.7198\n",
      "Epoch 19/20\n",
      "1589/1589 [==============================] - 3s 2ms/step - loss: 0.9231 - accuracy: 0.7222 - val_loss: 0.4639 - val_accuracy: 0.7445\n",
      "Epoch 20/20\n",
      "1589/1589 [==============================] - 3s 2ms/step - loss: 0.9156 - accuracy: 0.7250 - val_loss: 0.4475 - val_accuracy: 0.7351\n",
      "681/681 [==============================] - 0s 505us/step\n",
      "Epoch 1/20\n",
      "1589/1589 [==============================] - 3s 2ms/step - loss: 1.6582 - accuracy: 0.2741 - val_loss: 0.6947 - val_accuracy: 0.1853\n",
      "Epoch 2/20\n",
      "1589/1589 [==============================] - 3s 2ms/step - loss: 1.3995 - accuracy: 0.4621 - val_loss: 0.6973 - val_accuracy: 0.1853\n",
      "Epoch 3/20\n",
      "1589/1589 [==============================] - 2s 2ms/step - loss: 1.4241 - accuracy: 0.2689 - val_loss: 0.6894 - val_accuracy: 0.8147\n",
      "Epoch 4/20\n",
      "1589/1589 [==============================] - 3s 2ms/step - loss: 1.3969 - accuracy: 0.6608 - val_loss: 0.6948 - val_accuracy: 0.1853\n",
      "Epoch 5/20\n",
      "1589/1589 [==============================] - 3s 2ms/step - loss: 1.3874 - accuracy: 0.6432 - val_loss: 0.7002 - val_accuracy: 0.1853\n",
      "Epoch 6/20\n",
      "1589/1589 [==============================] - 2s 2ms/step - loss: 1.3968 - accuracy: 0.3881 - val_loss: 0.6949 - val_accuracy: 0.1853\n",
      "Epoch 7/20\n",
      "1589/1589 [==============================] - 2s 2ms/step - loss: 1.4155 - accuracy: 0.4998 - val_loss: 0.6926 - val_accuracy: 0.8147\n",
      "Epoch 8/20\n",
      "1589/1589 [==============================] - 2s 2ms/step - loss: 1.3923 - accuracy: 0.5531 - val_loss: 0.6992 - val_accuracy: 0.1853\n",
      "Epoch 9/20\n",
      "1589/1589 [==============================] - 2s 2ms/step - loss: 1.3878 - accuracy: 0.4326 - val_loss: 0.6961 - val_accuracy: 0.1853\n",
      "Epoch 10/20\n",
      "1589/1589 [==============================] - 2s 2ms/step - loss: 1.3873 - accuracy: 0.4769 - val_loss: 0.6953 - val_accuracy: 0.1853\n",
      "Epoch 11/20\n",
      "1589/1589 [==============================] - 2s 2ms/step - loss: 1.3934 - accuracy: 0.4296 - val_loss: 0.6943 - val_accuracy: 0.1853\n",
      "Epoch 12/20\n",
      "1589/1589 [==============================] - 2s 2ms/step - loss: 1.3876 - accuracy: 0.6225 - val_loss: 0.6981 - val_accuracy: 0.1853\n",
      "Epoch 13/20\n",
      "1589/1589 [==============================] - 2s 2ms/step - loss: 1.3875 - accuracy: 0.3473 - val_loss: 0.6858 - val_accuracy: 0.8147\n",
      "Epoch 14/20\n",
      "1589/1589 [==============================] - 2s 2ms/step - loss: 1.3871 - accuracy: 0.6565 - val_loss: 0.6918 - val_accuracy: 0.8147\n",
      "Epoch 15/20\n",
      "1589/1589 [==============================] - 2s 1ms/step - loss: 1.3968 - accuracy: 0.5768 - val_loss: 0.6947 - val_accuracy: 0.1853\n",
      "Epoch 16/20\n",
      "1589/1589 [==============================] - 2s 2ms/step - loss: 1.4033 - accuracy: 0.4709 - val_loss: 0.6934 - val_accuracy: 0.2393\n",
      "Epoch 17/20\n",
      "1589/1589 [==============================] - 2s 2ms/step - loss: 1.3895 - accuracy: 0.4968 - val_loss: 0.6982 - val_accuracy: 0.1853\n",
      "Epoch 18/20\n",
      "1589/1589 [==============================] - 2s 2ms/step - loss: 1.3944 - accuracy: 0.4175 - val_loss: 0.6955 - val_accuracy: 0.1853\n",
      "Epoch 19/20\n",
      "1589/1589 [==============================] - 2s 2ms/step - loss: 1.3878 - accuracy: 0.4529 - val_loss: 0.6930 - val_accuracy: 0.8147\n",
      "Epoch 20/20\n",
      "1589/1589 [==============================] - 2s 2ms/step - loss: 1.3867 - accuracy: 0.4155 - val_loss: 0.6904 - val_accuracy: 0.8147\n",
      "681/681 [==============================] - 0s 486us/step\n",
      "Epoch 1/20\n",
      "1589/1589 [==============================] - 3s 2ms/step - loss: 1.0896 - accuracy: 0.6569 - val_loss: 0.4957 - val_accuracy: 0.6833\n",
      "Epoch 2/20\n",
      "1589/1589 [==============================] - 2s 2ms/step - loss: 0.9784 - accuracy: 0.6923 - val_loss: 0.5038 - val_accuracy: 0.6501\n",
      "Epoch 3/20\n",
      "1589/1589 [==============================] - 2s 2ms/step - loss: 0.9536 - accuracy: 0.7051 - val_loss: 0.5348 - val_accuracy: 0.6723\n",
      "Epoch 4/20\n",
      "1589/1589 [==============================] - 2s 2ms/step - loss: 0.9371 - accuracy: 0.7129 - val_loss: 0.4726 - val_accuracy: 0.6863\n",
      "Epoch 5/20\n",
      "1589/1589 [==============================] - 2s 2ms/step - loss: 0.9371 - accuracy: 0.7203 - val_loss: 0.4840 - val_accuracy: 0.6671\n",
      "Epoch 6/20\n",
      "1589/1589 [==============================] - 2s 2ms/step - loss: 0.9262 - accuracy: 0.7184 - val_loss: 0.4739 - val_accuracy: 0.7034\n",
      "Epoch 7/20\n",
      "1589/1589 [==============================] - 2s 2ms/step - loss: 0.9273 - accuracy: 0.7191 - val_loss: 0.4841 - val_accuracy: 0.6747\n",
      "Epoch 8/20\n",
      "1589/1589 [==============================] - 2s 2ms/step - loss: 0.9247 - accuracy: 0.7245 - val_loss: 0.4987 - val_accuracy: 0.6925\n",
      "Epoch 9/20\n",
      "1589/1589 [==============================] - 2s 2ms/step - loss: 0.9175 - accuracy: 0.7201 - val_loss: 0.4625 - val_accuracy: 0.7208\n",
      "Epoch 10/20\n",
      "1589/1589 [==============================] - 2s 2ms/step - loss: 0.9178 - accuracy: 0.7225 - val_loss: 0.4709 - val_accuracy: 0.6996\n",
      "Epoch 11/20\n",
      "1589/1589 [==============================] - 2s 2ms/step - loss: 0.9196 - accuracy: 0.7285 - val_loss: 0.5211 - val_accuracy: 0.6397\n",
      "Epoch 12/20\n",
      "1589/1589 [==============================] - 2s 2ms/step - loss: 0.9195 - accuracy: 0.7315 - val_loss: 0.5434 - val_accuracy: 0.6533\n",
      "Epoch 13/20\n",
      "1589/1589 [==============================] - 2s 2ms/step - loss: 0.9136 - accuracy: 0.7293 - val_loss: 0.4530 - val_accuracy: 0.7226\n",
      "Epoch 14/20\n",
      "1589/1589 [==============================] - 2s 2ms/step - loss: 0.9171 - accuracy: 0.7376 - val_loss: 0.4969 - val_accuracy: 0.6893\n",
      "Epoch 15/20\n",
      "1589/1589 [==============================] - 2s 2ms/step - loss: 0.9161 - accuracy: 0.7344 - val_loss: 0.4765 - val_accuracy: 0.7185\n",
      "Epoch 16/20\n",
      "1589/1589 [==============================] - 2s 2ms/step - loss: 0.9220 - accuracy: 0.7447 - val_loss: 0.4726 - val_accuracy: 0.7475\n",
      "Epoch 17/20\n",
      "1589/1589 [==============================] - 2s 2ms/step - loss: 0.9131 - accuracy: 0.7477 - val_loss: 0.4746 - val_accuracy: 0.7553\n",
      "Epoch 18/20\n",
      "1589/1589 [==============================] - 2s 2ms/step - loss: 0.9192 - accuracy: 0.7489 - val_loss: 0.5349 - val_accuracy: 0.7009\n",
      "Epoch 19/20\n",
      "1589/1589 [==============================] - 2s 2ms/step - loss: 0.9147 - accuracy: 0.7469 - val_loss: 0.5053 - val_accuracy: 0.7345\n",
      "Epoch 20/20\n",
      "1589/1589 [==============================] - 2s 2ms/step - loss: 0.9199 - accuracy: 0.7500 - val_loss: 0.5106 - val_accuracy: 0.7527\n",
      "681/681 [==============================] - 0s 482us/step\n",
      "Epoch 1/20\n",
      "1589/1589 [==============================] - 3s 2ms/step - loss: 1.7427 - accuracy: 0.2929 - val_loss: 0.6931 - val_accuracy: 0.8147\n",
      "Epoch 2/20\n",
      "1589/1589 [==============================] - 2s 2ms/step - loss: 1.4013 - accuracy: 0.4424 - val_loss: 0.6936 - val_accuracy: 0.1853\n",
      "Epoch 3/20\n",
      "1589/1589 [==============================] - 2s 2ms/step - loss: 1.3912 - accuracy: 0.3992 - val_loss: 0.6901 - val_accuracy: 0.8147\n",
      "Epoch 4/20\n",
      "1589/1589 [==============================] - 2s 2ms/step - loss: 1.3953 - accuracy: 0.6892 - val_loss: 0.6994 - val_accuracy: 0.1853\n",
      "Epoch 5/20\n",
      "1589/1589 [==============================] - 3s 2ms/step - loss: 1.3941 - accuracy: 0.4302 - val_loss: 0.6976 - val_accuracy: 0.1853\n",
      "Epoch 6/20\n",
      "1589/1589 [==============================] - 2s 2ms/step - loss: 1.3897 - accuracy: 0.4537 - val_loss: 0.6930 - val_accuracy: 0.8147\n",
      "Epoch 7/20\n",
      "1589/1589 [==============================] - 2s 2ms/step - loss: 1.3889 - accuracy: 0.4603 - val_loss: 0.6894 - val_accuracy: 0.8147\n",
      "Epoch 8/20\n",
      "1589/1589 [==============================] - 2s 2ms/step - loss: 1.3873 - accuracy: 0.4851 - val_loss: 0.6875 - val_accuracy: 0.8147\n",
      "Epoch 9/20\n",
      "1589/1589 [==============================] - 2s 2ms/step - loss: 1.4027 - accuracy: 0.4778 - val_loss: 0.6895 - val_accuracy: 0.8147\n",
      "Epoch 10/20\n",
      "1589/1589 [==============================] - 2s 2ms/step - loss: 1.4019 - accuracy: 0.5417 - val_loss: 0.6932 - val_accuracy: 0.1853\n",
      "Epoch 11/20\n",
      "1589/1589 [==============================] - 2s 2ms/step - loss: 1.3918 - accuracy: 0.5418 - val_loss: 0.6939 - val_accuracy: 0.1853\n",
      "Epoch 12/20\n",
      "1589/1589 [==============================] - 2s 2ms/step - loss: 1.3891 - accuracy: 0.4864 - val_loss: 0.6990 - val_accuracy: 0.1853\n",
      "Epoch 13/20\n",
      "1589/1589 [==============================] - 3s 2ms/step - loss: 1.3933 - accuracy: 0.2956 - val_loss: 0.6967 - val_accuracy: 0.1853\n",
      "Epoch 14/20\n",
      "1589/1589 [==============================] - 3s 2ms/step - loss: 1.3966 - accuracy: 0.4141 - val_loss: 0.6944 - val_accuracy: 0.1853\n",
      "Epoch 15/20\n",
      "1589/1589 [==============================] - 3s 2ms/step - loss: 1.3943 - accuracy: 0.3366 - val_loss: 0.6938 - val_accuracy: 0.1853\n",
      "Epoch 16/20\n",
      "1589/1589 [==============================] - 3s 2ms/step - loss: 1.3958 - accuracy: 0.3542 - val_loss: 0.6898 - val_accuracy: 0.8147\n",
      "Epoch 17/20\n",
      "1589/1589 [==============================] - 3s 2ms/step - loss: 1.4104 - accuracy: 0.4738 - val_loss: 0.6964 - val_accuracy: 0.2392\n",
      "Epoch 18/20\n",
      "1589/1589 [==============================] - 3s 2ms/step - loss: 1.4054 - accuracy: 0.2086 - val_loss: 0.6752 - val_accuracy: 0.2405\n",
      "Epoch 19/20\n",
      "1589/1589 [==============================] - 2s 2ms/step - loss: 1.4142 - accuracy: 0.2778 - val_loss: 0.5266 - val_accuracy: 0.5171\n",
      "Epoch 20/20\n",
      "1589/1589 [==============================] - 2s 2ms/step - loss: 1.3668 - accuracy: 0.3579 - val_loss: 0.5681 - val_accuracy: 0.4443\n",
      "681/681 [==============================] - 0s 491us/step\n",
      "2 / 2\n",
      "Epoch 1/20\n",
      "1589/1589 [==============================] - 5s 3ms/step - loss: 1.0099 - accuracy: 0.6948 - val_loss: 0.3823 - val_accuracy: 0.7694\n",
      "Epoch 2/20\n",
      "1589/1589 [==============================] - 4s 2ms/step - loss: 0.9366 - accuracy: 0.7177 - val_loss: 0.3774 - val_accuracy: 0.7967\n",
      "Epoch 3/20\n",
      "1589/1589 [==============================] - 4s 2ms/step - loss: 0.9261 - accuracy: 0.7212 - val_loss: 0.4684 - val_accuracy: 0.6873\n",
      "Epoch 4/20\n",
      "1589/1589 [==============================] - 4s 2ms/step - loss: 0.9133 - accuracy: 0.7338 - val_loss: 0.4142 - val_accuracy: 0.7326\n",
      "Epoch 5/20\n",
      "1589/1589 [==============================] - 4s 2ms/step - loss: 0.9098 - accuracy: 0.7299 - val_loss: 0.4199 - val_accuracy: 0.7480\n",
      "Epoch 6/20\n",
      "1589/1589 [==============================] - 4s 2ms/step - loss: 0.8890 - accuracy: 0.7367 - val_loss: 0.3930 - val_accuracy: 0.7873\n",
      "Epoch 7/20\n",
      "1589/1589 [==============================] - 4s 2ms/step - loss: 0.8875 - accuracy: 0.7406 - val_loss: 0.4218 - val_accuracy: 0.7625\n",
      "Epoch 8/20\n",
      "1589/1589 [==============================] - 4s 2ms/step - loss: 0.8906 - accuracy: 0.7406 - val_loss: 0.4316 - val_accuracy: 0.7448\n",
      "Epoch 9/20\n",
      "1589/1589 [==============================] - 4s 2ms/step - loss: 0.8806 - accuracy: 0.7534 - val_loss: 0.4059 - val_accuracy: 0.7767\n",
      "Epoch 10/20\n",
      "1589/1589 [==============================] - 4s 2ms/step - loss: 0.8882 - accuracy: 0.7478 - val_loss: 0.4081 - val_accuracy: 0.7697\n",
      "Epoch 11/20\n",
      "1589/1589 [==============================] - 4s 2ms/step - loss: 0.8705 - accuracy: 0.7567 - val_loss: 0.4466 - val_accuracy: 0.7610\n",
      "Epoch 12/20\n",
      "1589/1589 [==============================] - 4s 2ms/step - loss: 0.8850 - accuracy: 0.7482 - val_loss: 0.4325 - val_accuracy: 0.7420\n",
      "Epoch 13/20\n",
      "1589/1589 [==============================] - 4s 2ms/step - loss: 0.8717 - accuracy: 0.7534 - val_loss: 0.4147 - val_accuracy: 0.7751\n",
      "Epoch 14/20\n",
      "1589/1589 [==============================] - 4s 2ms/step - loss: 0.8458 - accuracy: 0.7645 - val_loss: 0.4018 - val_accuracy: 0.7710\n",
      "Epoch 15/20\n",
      "1589/1589 [==============================] - 4s 2ms/step - loss: 0.8562 - accuracy: 0.7561 - val_loss: 0.4362 - val_accuracy: 0.7443\n",
      "Epoch 16/20\n",
      "1589/1589 [==============================] - 4s 2ms/step - loss: 0.8458 - accuracy: 0.7658 - val_loss: 0.4484 - val_accuracy: 0.7487\n",
      "Epoch 17/20\n",
      "1589/1589 [==============================] - 4s 2ms/step - loss: 0.8312 - accuracy: 0.7678 - val_loss: 0.4692 - val_accuracy: 0.7161\n",
      "Epoch 18/20\n",
      "1589/1589 [==============================] - 4s 2ms/step - loss: 0.8334 - accuracy: 0.7632 - val_loss: 0.4056 - val_accuracy: 0.7583\n",
      "Epoch 19/20\n",
      "1589/1589 [==============================] - 4s 2ms/step - loss: 0.8293 - accuracy: 0.7673 - val_loss: 0.4652 - val_accuracy: 0.7266\n",
      "Epoch 20/20\n",
      "1589/1589 [==============================] - 4s 2ms/step - loss: 0.8195 - accuracy: 0.7644 - val_loss: 0.4253 - val_accuracy: 0.7689\n",
      "681/681 [==============================] - 0s 648us/step\n",
      "Epoch 1/20\n",
      "1589/1589 [==============================] - 4s 2ms/step - loss: 0.9454 - accuracy: 0.7199 - val_loss: 0.4852 - val_accuracy: 0.7353\n",
      "Epoch 2/20\n",
      "1589/1589 [==============================] - 4s 2ms/step - loss: 0.9103 - accuracy: 0.7339 - val_loss: 0.4975 - val_accuracy: 0.6897\n",
      "Epoch 3/20\n",
      "1589/1589 [==============================] - 4s 2ms/step - loss: 0.8925 - accuracy: 0.7368 - val_loss: 0.5421 - val_accuracy: 0.6875\n",
      "Epoch 4/20\n",
      "1589/1589 [==============================] - 4s 2ms/step - loss: 0.8845 - accuracy: 0.7413 - val_loss: 0.4542 - val_accuracy: 0.7443\n",
      "Epoch 5/20\n",
      "1589/1589 [==============================] - 4s 2ms/step - loss: 0.8829 - accuracy: 0.7449 - val_loss: 0.4906 - val_accuracy: 0.7493\n",
      "Epoch 6/20\n",
      "1589/1589 [==============================] - 4s 2ms/step - loss: 0.8736 - accuracy: 0.7487 - val_loss: 0.4330 - val_accuracy: 0.7593\n",
      "Epoch 7/20\n",
      "1589/1589 [==============================] - 4s 2ms/step - loss: 0.8727 - accuracy: 0.7450 - val_loss: 0.4691 - val_accuracy: 0.7341\n",
      "Epoch 8/20\n",
      "1589/1589 [==============================] - 4s 2ms/step - loss: 0.8588 - accuracy: 0.7499 - val_loss: 0.5098 - val_accuracy: 0.6853\n",
      "Epoch 9/20\n",
      "1589/1589 [==============================] - 4s 2ms/step - loss: 0.8612 - accuracy: 0.7501 - val_loss: 0.4229 - val_accuracy: 0.7693\n",
      "Epoch 10/20\n",
      "1589/1589 [==============================] - 4s 2ms/step - loss: 0.8493 - accuracy: 0.7643 - val_loss: 0.4248 - val_accuracy: 0.7678\n",
      "Epoch 11/20\n",
      "1589/1589 [==============================] - 4s 2ms/step - loss: 0.8467 - accuracy: 0.7644 - val_loss: 0.4653 - val_accuracy: 0.7322\n",
      "Epoch 12/20\n",
      "1589/1589 [==============================] - 4s 2ms/step - loss: 0.8386 - accuracy: 0.7671 - val_loss: 0.4678 - val_accuracy: 0.7500\n",
      "Epoch 13/20\n",
      "1589/1589 [==============================] - 4s 2ms/step - loss: 0.8292 - accuracy: 0.7722 - val_loss: 0.4510 - val_accuracy: 0.7590\n",
      "Epoch 14/20\n",
      "1589/1589 [==============================] - 4s 2ms/step - loss: 0.8278 - accuracy: 0.7681 - val_loss: 0.4493 - val_accuracy: 0.7490\n",
      "Epoch 15/20\n",
      "1589/1589 [==============================] - 4s 2ms/step - loss: 0.8124 - accuracy: 0.7783 - val_loss: 0.5381 - val_accuracy: 0.6993\n",
      "Epoch 16/20\n",
      "1589/1589 [==============================] - 4s 3ms/step - loss: 0.8068 - accuracy: 0.7802 - val_loss: 0.4822 - val_accuracy: 0.7455\n",
      "Epoch 17/20\n",
      "1589/1589 [==============================] - 4s 2ms/step - loss: 0.7996 - accuracy: 0.7831 - val_loss: 0.4149 - val_accuracy: 0.7763\n",
      "Epoch 18/20\n",
      "1589/1589 [==============================] - 4s 2ms/step - loss: 0.7983 - accuracy: 0.7816 - val_loss: 0.4661 - val_accuracy: 0.7444\n",
      "Epoch 19/20\n",
      "1589/1589 [==============================] - 4s 2ms/step - loss: 0.7883 - accuracy: 0.7849 - val_loss: 0.4384 - val_accuracy: 0.7848\n",
      "Epoch 20/20\n",
      "1589/1589 [==============================] - 4s 2ms/step - loss: 0.7821 - accuracy: 0.7894 - val_loss: 0.4578 - val_accuracy: 0.7519\n",
      "681/681 [==============================] - 0s 662us/step\n",
      "Epoch 1/20\n",
      "1589/1589 [==============================] - 4s 2ms/step - loss: 1.3850 - accuracy: 0.4558 - val_loss: 0.6515 - val_accuracy: 0.5818\n",
      "Epoch 2/20\n",
      "1589/1589 [==============================] - 4s 2ms/step - loss: 1.2149 - accuracy: 0.5301 - val_loss: 0.6763 - val_accuracy: 0.5714\n",
      "Epoch 3/20\n",
      "1589/1589 [==============================] - 4s 2ms/step - loss: 1.1632 - accuracy: 0.5780 - val_loss: 0.5586 - val_accuracy: 0.6581\n",
      "Epoch 4/20\n",
      "1589/1589 [==============================] - 4s 2ms/step - loss: 1.1648 - accuracy: 0.5846 - val_loss: 0.5857 - val_accuracy: 0.6330\n",
      "Epoch 5/20\n",
      "1589/1589 [==============================] - 4s 2ms/step - loss: 1.1671 - accuracy: 0.5892 - val_loss: 0.6433 - val_accuracy: 0.5865\n",
      "Epoch 6/20\n",
      "1589/1589 [==============================] - 4s 2ms/step - loss: 1.1453 - accuracy: 0.6034 - val_loss: 0.5024 - val_accuracy: 0.6844\n",
      "Epoch 7/20\n",
      "1589/1589 [==============================] - 4s 2ms/step - loss: 1.1448 - accuracy: 0.6101 - val_loss: 0.5696 - val_accuracy: 0.6331\n",
      "Epoch 8/20\n",
      "1589/1589 [==============================] - 4s 2ms/step - loss: 1.1235 - accuracy: 0.6238 - val_loss: 0.5472 - val_accuracy: 0.6555\n",
      "Epoch 9/20\n",
      "1589/1589 [==============================] - 4s 2ms/step - loss: 1.1281 - accuracy: 0.6250 - val_loss: 0.5663 - val_accuracy: 0.6488\n",
      "Epoch 10/20\n",
      "1589/1589 [==============================] - 4s 2ms/step - loss: 1.1394 - accuracy: 0.6153 - val_loss: 0.5334 - val_accuracy: 0.6861\n",
      "Epoch 11/20\n",
      "1589/1589 [==============================] - 4s 2ms/step - loss: 1.1244 - accuracy: 0.6340 - val_loss: 0.4663 - val_accuracy: 0.7259\n",
      "Epoch 12/20\n",
      "1589/1589 [==============================] - 4s 2ms/step - loss: 1.1300 - accuracy: 0.6280 - val_loss: 0.5467 - val_accuracy: 0.6691\n",
      "Epoch 13/20\n",
      "1589/1589 [==============================] - 4s 2ms/step - loss: 1.1103 - accuracy: 0.6285 - val_loss: 0.4745 - val_accuracy: 0.7341\n",
      "Epoch 14/20\n",
      "1589/1589 [==============================] - 4s 2ms/step - loss: 1.1218 - accuracy: 0.6371 - val_loss: 0.5111 - val_accuracy: 0.8153\n",
      "Epoch 15/20\n",
      "1589/1589 [==============================] - 4s 2ms/step - loss: 1.1017 - accuracy: 0.6537 - val_loss: 0.4399 - val_accuracy: 0.7850\n",
      "Epoch 16/20\n",
      "1589/1589 [==============================] - 4s 2ms/step - loss: 1.1103 - accuracy: 0.6492 - val_loss: 0.5117 - val_accuracy: 0.7298\n",
      "Epoch 17/20\n",
      "1589/1589 [==============================] - 3s 2ms/step - loss: 1.0970 - accuracy: 0.6462 - val_loss: 0.4757 - val_accuracy: 0.7493\n",
      "Epoch 18/20\n",
      "1589/1589 [==============================] - 4s 2ms/step - loss: 1.1201 - accuracy: 0.6499 - val_loss: 0.4156 - val_accuracy: 0.7776\n",
      "Epoch 19/20\n",
      "1589/1589 [==============================] - 4s 2ms/step - loss: 1.1044 - accuracy: 0.6528 - val_loss: 0.4734 - val_accuracy: 0.7304\n",
      "Epoch 20/20\n",
      "1589/1589 [==============================] - 4s 2ms/step - loss: 1.1022 - accuracy: 0.6492 - val_loss: 0.4785 - val_accuracy: 0.7482\n",
      "681/681 [==============================] - 0s 656us/step\n",
      "Epoch 1/20\n",
      "1589/1589 [==============================] - 4s 2ms/step - loss: 0.9401 - accuracy: 0.7211 - val_loss: 0.4339 - val_accuracy: 0.7463\n",
      "Epoch 2/20\n",
      "1589/1589 [==============================] - 4s 2ms/step - loss: 0.9032 - accuracy: 0.7345 - val_loss: 0.4695 - val_accuracy: 0.7477\n",
      "Epoch 3/20\n",
      "1589/1589 [==============================] - 4s 2ms/step - loss: 0.8903 - accuracy: 0.7327 - val_loss: 0.3994 - val_accuracy: 0.7622\n",
      "Epoch 4/20\n",
      "1589/1589 [==============================] - 4s 2ms/step - loss: 0.8794 - accuracy: 0.7427 - val_loss: 0.4887 - val_accuracy: 0.7495\n",
      "Epoch 5/20\n",
      "1589/1589 [==============================] - 4s 2ms/step - loss: 0.8808 - accuracy: 0.7416 - val_loss: 0.4371 - val_accuracy: 0.7514\n",
      "Epoch 6/20\n",
      "1589/1589 [==============================] - 4s 2ms/step - loss: 0.8697 - accuracy: 0.7458 - val_loss: 0.4633 - val_accuracy: 0.7351\n",
      "Epoch 7/20\n",
      "1589/1589 [==============================] - 4s 2ms/step - loss: 0.8656 - accuracy: 0.7508 - val_loss: 0.4562 - val_accuracy: 0.7381\n",
      "Epoch 8/20\n",
      "1589/1589 [==============================] - 4s 2ms/step - loss: 0.8577 - accuracy: 0.7493 - val_loss: 0.4533 - val_accuracy: 0.7209\n",
      "Epoch 9/20\n",
      "1589/1589 [==============================] - 4s 2ms/step - loss: 0.8525 - accuracy: 0.7566 - val_loss: 0.4221 - val_accuracy: 0.7432\n",
      "Epoch 10/20\n",
      "1589/1589 [==============================] - 4s 2ms/step - loss: 0.8482 - accuracy: 0.7580 - val_loss: 0.4300 - val_accuracy: 0.7419\n",
      "Epoch 11/20\n",
      "1589/1589 [==============================] - 4s 2ms/step - loss: 0.8448 - accuracy: 0.7603 - val_loss: 0.4724 - val_accuracy: 0.7359\n",
      "Epoch 12/20\n",
      "1589/1589 [==============================] - 4s 2ms/step - loss: 0.8377 - accuracy: 0.7610 - val_loss: 0.4391 - val_accuracy: 0.7588\n",
      "Epoch 13/20\n",
      "1589/1589 [==============================] - 4s 2ms/step - loss: 0.8308 - accuracy: 0.7629 - val_loss: 0.4504 - val_accuracy: 0.7472\n",
      "Epoch 14/20\n",
      "1589/1589 [==============================] - 4s 2ms/step - loss: 0.8230 - accuracy: 0.7674 - val_loss: 0.4543 - val_accuracy: 0.7678\n",
      "Epoch 15/20\n",
      "1589/1589 [==============================] - 4s 2ms/step - loss: 0.8181 - accuracy: 0.7697 - val_loss: 0.4197 - val_accuracy: 0.7656\n",
      "Epoch 16/20\n",
      "1589/1589 [==============================] - 4s 2ms/step - loss: 0.8106 - accuracy: 0.7761 - val_loss: 0.4693 - val_accuracy: 0.7117\n",
      "Epoch 17/20\n",
      "1589/1589 [==============================] - 4s 2ms/step - loss: 0.8048 - accuracy: 0.7725 - val_loss: 0.4356 - val_accuracy: 0.7542\n",
      "Epoch 18/20\n",
      "1589/1589 [==============================] - 4s 2ms/step - loss: 0.8003 - accuracy: 0.7749 - val_loss: 0.4238 - val_accuracy: 0.7512\n",
      "Epoch 19/20\n",
      "1589/1589 [==============================] - 4s 2ms/step - loss: 0.7947 - accuracy: 0.7759 - val_loss: 0.4304 - val_accuracy: 0.7723\n",
      "Epoch 20/20\n",
      "1589/1589 [==============================] - 4s 2ms/step - loss: 0.7836 - accuracy: 0.7816 - val_loss: 0.4585 - val_accuracy: 0.7698\n",
      "681/681 [==============================] - 0s 631us/step\n",
      "Epoch 1/20\n",
      "1589/1589 [==============================] - 4s 2ms/step - loss: 1.0671 - accuracy: 0.6801 - val_loss: 0.4509 - val_accuracy: 0.6959\n",
      "Epoch 2/20\n",
      "1589/1589 [==============================] - 4s 2ms/step - loss: 0.9786 - accuracy: 0.6962 - val_loss: 0.4357 - val_accuracy: 0.7060\n",
      "Epoch 3/20\n",
      "1589/1589 [==============================] - 4s 2ms/step - loss: 0.9564 - accuracy: 0.7038 - val_loss: 0.4100 - val_accuracy: 0.7420\n",
      "Epoch 4/20\n",
      "1589/1589 [==============================] - 4s 2ms/step - loss: 0.9565 - accuracy: 0.7006 - val_loss: 0.4461 - val_accuracy: 0.7040\n",
      "Epoch 5/20\n",
      "1589/1589 [==============================] - 4s 2ms/step - loss: 0.9599 - accuracy: 0.6953 - val_loss: 0.4084 - val_accuracy: 0.7174\n",
      "Epoch 6/20\n",
      "1589/1589 [==============================] - 4s 2ms/step - loss: 0.9464 - accuracy: 0.6981 - val_loss: 0.4373 - val_accuracy: 0.7008\n",
      "Epoch 7/20\n",
      "1589/1589 [==============================] - 4s 2ms/step - loss: 0.9439 - accuracy: 0.7000 - val_loss: 0.4483 - val_accuracy: 0.6882\n",
      "Epoch 8/20\n",
      "1589/1589 [==============================] - 4s 2ms/step - loss: 0.9472 - accuracy: 0.7051 - val_loss: 0.4118 - val_accuracy: 0.7466\n",
      "Epoch 9/20\n",
      "1589/1589 [==============================] - 4s 2ms/step - loss: 0.9568 - accuracy: 0.7256 - val_loss: 0.4177 - val_accuracy: 0.7260\n",
      "Epoch 10/20\n",
      "1589/1589 [==============================] - 4s 2ms/step - loss: 0.9505 - accuracy: 0.7324 - val_loss: 0.4257 - val_accuracy: 0.7389\n",
      "Epoch 11/20\n",
      "1589/1589 [==============================] - 4s 2ms/step - loss: 0.9531 - accuracy: 0.7355 - val_loss: 0.4260 - val_accuracy: 0.7452\n",
      "Epoch 12/20\n",
      "1589/1589 [==============================] - 4s 3ms/step - loss: 0.9509 - accuracy: 0.7378 - val_loss: 0.4194 - val_accuracy: 0.7317\n",
      "Epoch 13/20\n",
      "1589/1589 [==============================] - 4s 2ms/step - loss: 0.9615 - accuracy: 0.7442 - val_loss: 0.5623 - val_accuracy: 0.7346\n",
      "Epoch 14/20\n",
      "1589/1589 [==============================] - 4s 2ms/step - loss: 0.9519 - accuracy: 0.7447 - val_loss: 0.4279 - val_accuracy: 0.7247\n",
      "Epoch 15/20\n",
      "1589/1589 [==============================] - 4s 2ms/step - loss: 0.9592 - accuracy: 0.7323 - val_loss: 0.4281 - val_accuracy: 0.7254\n",
      "Epoch 16/20\n",
      "1589/1589 [==============================] - 4s 2ms/step - loss: 0.9523 - accuracy: 0.7447 - val_loss: 0.4190 - val_accuracy: 0.7497\n",
      "Epoch 17/20\n",
      "1589/1589 [==============================] - 4s 2ms/step - loss: 0.9551 - accuracy: 0.7458 - val_loss: 0.4721 - val_accuracy: 0.7119\n",
      "Epoch 18/20\n",
      "1589/1589 [==============================] - 4s 2ms/step - loss: 0.9502 - accuracy: 0.7408 - val_loss: 0.4149 - val_accuracy: 0.7493\n",
      "Epoch 19/20\n",
      "1589/1589 [==============================] - 4s 2ms/step - loss: 0.9483 - accuracy: 0.7526 - val_loss: 0.4278 - val_accuracy: 0.7567\n",
      "Epoch 20/20\n",
      "1589/1589 [==============================] - 4s 2ms/step - loss: 0.9526 - accuracy: 0.7405 - val_loss: 0.4411 - val_accuracy: 0.6958\n",
      "681/681 [==============================] - 0s 649us/step\n"
     ]
    }
   ],
   "source": [
    "trasholds = np.linspace(0.4, 0.7, 100)\n",
    "arch_selected = [architectures[i] for i in range(len(architectures)) if scores[i]>=0.57]\n",
    "\n",
    "print(\"architectures selected:\", len(arch_selected))\n",
    "\n",
    "scores = [0 for i in range(len(arch_selected))]\n",
    "best_trasholds = [0 for i in range(len(arch_selected))]\n",
    "best_p = [[] for i in range(len(arch_selected))]\n",
    "\n",
    "for i in range(len(arch_selected)):\n",
    "    print(i + 1, \"/\", len(arch_selected))\n",
    "    arch = arch_selected[i]\n",
    "    for k in range(5):\n",
    "        p = np.random.random(len(arch))\n",
    "\n",
    "        model = Sequential()\n",
    "        model.add(Dense(arch[0], input_dim=800, activation='relu'))\n",
    "        model.add(Dropout(p[0]))\n",
    "        for j in range(1, len(arch)):\n",
    "            model.add(Dense(arch[j], activation='relu'))\n",
    "            model.add(Dropout(p[j]))\n",
    "        model.add(Dense(1, activation='sigmoid'))\n",
    "\n",
    "        model.compile(optimizer='adam', loss='binary_crossentropy', metrics=['accuracy'])\n",
    "        model.fit(Z_train, y_train, epochs=20, batch_size=32, validation_data=(Z_valid, y_valid), class_weight=class_weights)\n",
    "\n",
    "        y_pred_dnn = model.predict(Z_valid)\n",
    "        for trashold in trasholds:\n",
    "            y_pred = np.where(y_pred_dnn>=trashold, 1, 0)\n",
    "            fscore = f1_score(y_valid, y_pred)\n",
    "            if fscore > scores[i]:\n",
    "                scores[i] = fscore\n",
    "                best_trasholds[i] = trashold\n",
    "                best_p[i] = p"
   ]
  },
  {
   "cell_type": "code",
   "execution_count": 21,
   "metadata": {},
   "outputs": [
    {
     "name": "stdout",
     "output_type": "stream",
     "text": [
      "architecture: [800, 400, 200, 100, 50, 1]\n",
      "p: [0.47809168 0.5949902  0.88866298 0.28404015]\n",
      "trashold: 0.6515151515151515\n",
      "f1_score: 0.5885714285714285\n",
      "\n",
      "architecture: [800, 600, 400, 200, 100, 1]\n",
      "p: [0.77116783 0.75136918 0.74954189 0.10230484]\n",
      "trashold: 0.5818181818181818\n",
      "f1_score: 0.5839583333333332\n",
      "\n"
     ]
    }
   ],
   "source": [
    "for i in range(len(arch_selected)):\n",
    "    print(\"architecture:\", [800] + arch_selected[i] + [1])\n",
    "    print(\"p:\", best_p[i])\n",
    "    print(\"trashold:\", best_trasholds[i])\n",
    "    print(\"f1_score:\", scores[i])\n",
    "    print()"
   ]
  },
  {
   "cell_type": "markdown",
   "metadata": {},
   "source": [
    "### Architecture 1"
   ]
  },
  {
   "cell_type": "code",
   "execution_count": 20,
   "metadata": {},
   "outputs": [
    {
     "data": {
      "text/plain": [
       "(50836, 800)"
      ]
     },
     "execution_count": 20,
     "metadata": {},
     "output_type": "execute_result"
    }
   ],
   "source": [
    "Z_train.shape"
   ]
  },
  {
   "cell_type": "code",
   "execution_count": 21,
   "metadata": {},
   "outputs": [
    {
     "data": {
      "text/plain": [
       "(21787, 800)"
      ]
     },
     "execution_count": 21,
     "metadata": {},
     "output_type": "execute_result"
    }
   ],
   "source": [
    "Z_valid.shape"
   ]
  },
  {
   "cell_type": "code",
   "execution_count": 22,
   "metadata": {},
   "outputs": [
    {
     "data": {
      "text/plain": [
       "(72623, 800)"
      ]
     },
     "execution_count": 22,
     "metadata": {},
     "output_type": "execute_result"
    }
   ],
   "source": [
    "Z = np.concatenate([Z_train, Z_valid], axis=0)\n",
    "Z.shape"
   ]
  },
  {
   "cell_type": "code",
   "execution_count": 23,
   "metadata": {},
   "outputs": [
    {
     "data": {
      "text/plain": [
       "(50836, 1)"
      ]
     },
     "execution_count": 23,
     "metadata": {},
     "output_type": "execute_result"
    }
   ],
   "source": [
    "y_train.shape"
   ]
  },
  {
   "cell_type": "code",
   "execution_count": 24,
   "metadata": {},
   "outputs": [
    {
     "data": {
      "text/plain": [
       "(21787, 1)"
      ]
     },
     "execution_count": 24,
     "metadata": {},
     "output_type": "execute_result"
    }
   ],
   "source": [
    "y_valid.shape"
   ]
  },
  {
   "cell_type": "code",
   "execution_count": 25,
   "metadata": {},
   "outputs": [
    {
     "data": {
      "text/plain": [
       "(72623, 1)"
      ]
     },
     "execution_count": 25,
     "metadata": {},
     "output_type": "execute_result"
    }
   ],
   "source": [
    "y = np.concatenate([y_train, y_valid], axis=0)\n",
    "y.shape"
   ]
  },
  {
   "cell_type": "code",
   "execution_count": 40,
   "metadata": {},
   "outputs": [],
   "source": [
    "arch = [400, 200, 100]\n",
    "p = [0.16496388, 0.49430627, 0.37350436]\n",
    "trashold = 0.6696969696969697\n",
    "# f1_score = 0.5905423347972628"
   ]
  },
  {
   "cell_type": "code",
   "execution_count": 41,
   "metadata": {},
   "outputs": [
    {
     "name": "stdout",
     "output_type": "stream",
     "text": [
      "Epoch 1/30\n",
      "1589/1589 [==============================] - 2s 1ms/step - loss: 0.9288 - accuracy: 0.7262\n",
      "Epoch 2/30\n",
      "1589/1589 [==============================] - 2s 1ms/step - loss: 0.9036 - accuracy: 0.7301\n",
      "Epoch 3/30\n",
      "1589/1589 [==============================] - 2s 1ms/step - loss: 0.8884 - accuracy: 0.7372\n",
      "Epoch 4/30\n",
      "1589/1589 [==============================] - 2s 1ms/step - loss: 0.8810 - accuracy: 0.7386\n",
      "Epoch 5/30\n",
      "1589/1589 [==============================] - 2s 1ms/step - loss: 0.8754 - accuracy: 0.7415\n",
      "Epoch 6/30\n",
      "1589/1589 [==============================] - 2s 1ms/step - loss: 0.8718 - accuracy: 0.7458\n",
      "Epoch 7/30\n",
      "1589/1589 [==============================] - 2s 1ms/step - loss: 0.8645 - accuracy: 0.7486\n",
      "Epoch 8/30\n",
      "1589/1589 [==============================] - 2s 1ms/step - loss: 0.8622 - accuracy: 0.7509\n",
      "Epoch 9/30\n",
      "1589/1589 [==============================] - 2s 1ms/step - loss: 0.8525 - accuracy: 0.7538\n",
      "Epoch 10/30\n",
      "1589/1589 [==============================] - 2s 1ms/step - loss: 0.8490 - accuracy: 0.7540\n",
      "Epoch 11/30\n",
      "1589/1589 [==============================] - 2s 1ms/step - loss: 0.8440 - accuracy: 0.7553\n",
      "Epoch 12/30\n",
      "1589/1589 [==============================] - 2s 1ms/step - loss: 0.8363 - accuracy: 0.7644\n",
      "Epoch 13/30\n",
      "1589/1589 [==============================] - 2s 1ms/step - loss: 0.8391 - accuracy: 0.7625\n",
      "Epoch 14/30\n",
      "1589/1589 [==============================] - 2s 1ms/step - loss: 0.8267 - accuracy: 0.7647\n",
      "Epoch 15/30\n",
      "1589/1589 [==============================] - 2s 1ms/step - loss: 0.8219 - accuracy: 0.7640\n",
      "Epoch 16/30\n",
      "1589/1589 [==============================] - 2s 1ms/step - loss: 0.8202 - accuracy: 0.7674\n",
      "Epoch 17/30\n",
      "1589/1589 [==============================] - 2s 1ms/step - loss: 0.8061 - accuracy: 0.7707\n",
      "Epoch 18/30\n",
      "1589/1589 [==============================] - 2s 1ms/step - loss: 0.8047 - accuracy: 0.7721\n",
      "Epoch 19/30\n",
      "1589/1589 [==============================] - 2s 1ms/step - loss: 0.8051 - accuracy: 0.7743\n",
      "Epoch 20/30\n",
      "1589/1589 [==============================] - 2s 1ms/step - loss: 0.7991 - accuracy: 0.7758\n",
      "Epoch 21/30\n",
      "1589/1589 [==============================] - 2s 1ms/step - loss: 0.7925 - accuracy: 0.7786\n",
      "Epoch 22/30\n",
      "1589/1589 [==============================] - 2s 1ms/step - loss: 0.7834 - accuracy: 0.7806\n",
      "Epoch 23/30\n",
      "1589/1589 [==============================] - 2s 1ms/step - loss: 0.7821 - accuracy: 0.7802\n",
      "Epoch 24/30\n",
      "1589/1589 [==============================] - 2s 1ms/step - loss: 0.7717 - accuracy: 0.7825\n",
      "Epoch 25/30\n",
      "1589/1589 [==============================] - 2s 1ms/step - loss: 0.7714 - accuracy: 0.7840\n",
      "Epoch 26/30\n",
      "1589/1589 [==============================] - 2s 1ms/step - loss: 0.7609 - accuracy: 0.7890\n",
      "Epoch 27/30\n",
      "1589/1589 [==============================] - 2s 1ms/step - loss: 0.7582 - accuracy: 0.7902\n",
      "Epoch 28/30\n",
      "1589/1589 [==============================] - 2s 1ms/step - loss: 0.7509 - accuracy: 0.7899\n",
      "Epoch 29/30\n",
      "1589/1589 [==============================] - 2s 1ms/step - loss: 0.7475 - accuracy: 0.7923\n",
      "Epoch 30/30\n",
      "1589/1589 [==============================] - 2s 1ms/step - loss: 0.7458 - accuracy: 0.7918\n"
     ]
    },
    {
     "data": {
      "text/plain": [
       "<keras.src.callbacks.History at 0x2a4e78dc0>"
      ]
     },
     "execution_count": 41,
     "metadata": {},
     "output_type": "execute_result"
    }
   ],
   "source": [
    "model = Sequential([\n",
    "    Dense(arch[0], input_dim=800, activation='relu'),\n",
    "    Dropout(p[0]),\n",
    "    Dense(arch[1], activation='relu'),\n",
    "    Dropout(p[1]),\n",
    "    Dense(arch[2], activation='relu'),\n",
    "    Dropout(p[2]),\n",
    "    Dense(1, activation='sigmoid')\n",
    "])\n",
    "\n",
    "model.compile(optimizer='adam', loss='binary_crossentropy', metrics=['accuracy'])\n",
    "model.fit(Z_train, y_train, epochs=30, batch_size=32, class_weight=class_weights)\n",
    "\n",
    "#y_pred_dnn = model.predict(Z_valid)\n",
    "#y_pred = np.where(y_pred_dnn>=trashold, 1, 0)"
   ]
  },
  {
   "cell_type": "code",
   "execution_count": 42,
   "metadata": {},
   "outputs": [
    {
     "name": "stdout",
     "output_type": "stream",
     "text": [
      "681/681 [==============================] - 0s 484us/step\n"
     ]
    },
    {
     "data": {
      "text/plain": [
       "0.566790450928382"
      ]
     },
     "execution_count": 42,
     "metadata": {},
     "output_type": "execute_result"
    }
   ],
   "source": [
    "y_pred_dnn = model.predict(Z_valid)\n",
    "y_pred = np.where(y_pred_dnn>=trashold, 1, 0)\n",
    "\n",
    "f1_score(y_valid, y_pred)"
   ]
  },
  {
   "cell_type": "markdown",
   "metadata": {},
   "source": [
    "## Architecture 2"
   ]
  },
  {
   "cell_type": "code",
   "execution_count": 152,
   "metadata": {},
   "outputs": [],
   "source": [
    "arch = [600, 500, 300, 100, 50]\n",
    "p = [0.0361852, 0.81013518, 0.35691142, 0.34738723, 0.55398298]\n",
    "trashold = 0.6303030303030303\n",
    "# f1_score = 0.5922241396812506"
   ]
  },
  {
   "cell_type": "code",
   "execution_count": 156,
   "metadata": {},
   "outputs": [
    {
     "name": "stdout",
     "output_type": "stream",
     "text": [
      "Epoch 1/10\n",
      "1589/1589 [==============================] - 5s 3ms/step - loss: 1.0032 - accuracy: 0.6966 - val_loss: 0.4998 - val_accuracy: 0.6665\n",
      "Epoch 2/10\n",
      "1589/1589 [==============================] - 4s 3ms/step - loss: 0.9423 - accuracy: 0.7140 - val_loss: 0.4775 - val_accuracy: 0.7113\n",
      "Epoch 3/10\n",
      "1589/1589 [==============================] - 4s 3ms/step - loss: 0.9298 - accuracy: 0.7228 - val_loss: 0.4180 - val_accuracy: 0.7594\n",
      "Epoch 4/10\n",
      "1589/1589 [==============================] - 4s 3ms/step - loss: 0.9165 - accuracy: 0.7316 - val_loss: 0.4094 - val_accuracy: 0.7491\n",
      "Epoch 5/10\n",
      "1589/1589 [==============================] - 4s 3ms/step - loss: 0.9104 - accuracy: 0.7401 - val_loss: 0.4095 - val_accuracy: 0.7689\n",
      "Epoch 6/10\n",
      "1589/1589 [==============================] - 4s 3ms/step - loss: 0.9041 - accuracy: 0.7430 - val_loss: 0.4422 - val_accuracy: 0.7179\n",
      "Epoch 7/10\n",
      "1589/1589 [==============================] - 4s 3ms/step - loss: 0.9081 - accuracy: 0.7360 - val_loss: 0.4278 - val_accuracy: 0.7265\n",
      "Epoch 8/10\n",
      "1589/1589 [==============================] - 4s 3ms/step - loss: 0.9056 - accuracy: 0.7361 - val_loss: 0.3775 - val_accuracy: 0.7887\n",
      "Epoch 9/10\n",
      "1589/1589 [==============================] - 4s 3ms/step - loss: 0.8911 - accuracy: 0.7424 - val_loss: 0.4042 - val_accuracy: 0.7653\n",
      "Epoch 10/10\n",
      "1589/1589 [==============================] - 4s 3ms/step - loss: 0.8974 - accuracy: 0.7451 - val_loss: 0.4519 - val_accuracy: 0.7257\n",
      "681/681 [==============================] - 1s 734us/step\n"
     ]
    }
   ],
   "source": [
    "model = Sequential([\n",
    "    Dense(arch[0], input_dim=800, activation='relu'),\n",
    "    Dropout(p[0]),\n",
    "    Dense(arch[1], activation='relu'),\n",
    "    Dropout(p[1]),\n",
    "    Dense(arch[2], activation='relu'),\n",
    "    Dropout(p[2]),\n",
    "    Dense(arch[3], activation='relu'),\n",
    "    Dropout(p[3]),\n",
    "    Dense(arch[4], activation='relu'),\n",
    "    Dropout(p[4]),\n",
    "    Dense(1, activation='sigmoid')\n",
    "])\n",
    "\n",
    "model.compile(optimizer='adam', loss='binary_crossentropy', metrics=['accuracy'])\n",
    "model.fit(Z_train, y_train, epochs=10, batch_size=32, validation_data=(Z_valid, y_valid), class_weight=class_weights)\n",
    "\n",
    "y_pred_dnn = model.predict(Z_valid)\n",
    "y_pred = np.where(y_pred_dnn>=trashold, 1, 0)"
   ]
  },
  {
   "cell_type": "code",
   "execution_count": 157,
   "metadata": {},
   "outputs": [
    {
     "data": {
      "text/plain": [
       "0.5825428763054519"
      ]
     },
     "execution_count": 157,
     "metadata": {},
     "output_type": "execute_result"
    }
   ],
   "source": [
    "f1_score(y_valid, y_pred)"
   ]
  },
  {
   "cell_type": "markdown",
   "metadata": {},
   "source": [
    "### Architecture 3"
   ]
  },
  {
   "cell_type": "code",
   "execution_count": 170,
   "metadata": {},
   "outputs": [],
   "source": [
    "arch = [550, 350, 150]\n",
    "p = [0.09629556, 0.41359307, 0.688347]\n",
    "trashold = 0.6363636363636364\n",
    "# f1_score = 0.5933808454554329"
   ]
  },
  {
   "cell_type": "code",
   "execution_count": 171,
   "metadata": {},
   "outputs": [
    {
     "name": "stdout",
     "output_type": "stream",
     "text": [
      "Epoch 1/10\n",
      "1589/1589 [==============================] - 4s 2ms/step - loss: 0.9458 - accuracy: 0.7246 - val_loss: 0.4064 - val_accuracy: 0.7520\n",
      "Epoch 2/10\n",
      "1589/1589 [==============================] - 4s 2ms/step - loss: 0.9111 - accuracy: 0.7288 - val_loss: 0.4627 - val_accuracy: 0.7583\n",
      "Epoch 3/10\n",
      "1589/1589 [==============================] - 4s 2ms/step - loss: 0.8971 - accuracy: 0.7379 - val_loss: 0.4568 - val_accuracy: 0.7199\n",
      "Epoch 4/10\n",
      "1589/1589 [==============================] - 3s 2ms/step - loss: 0.8956 - accuracy: 0.7378 - val_loss: 0.4679 - val_accuracy: 0.7533\n",
      "Epoch 5/10\n",
      "1589/1589 [==============================] - 4s 2ms/step - loss: 0.8822 - accuracy: 0.7439 - val_loss: 0.4747 - val_accuracy: 0.7145\n",
      "Epoch 6/10\n",
      "1589/1589 [==============================] - 3s 2ms/step - loss: 0.8797 - accuracy: 0.7426 - val_loss: 0.4555 - val_accuracy: 0.7277\n",
      "Epoch 7/10\n",
      "1589/1589 [==============================] - 3s 2ms/step - loss: 0.8756 - accuracy: 0.7456 - val_loss: 0.4432 - val_accuracy: 0.7290\n",
      "Epoch 8/10\n",
      "1589/1589 [==============================] - 3s 2ms/step - loss: 0.8627 - accuracy: 0.7475 - val_loss: 0.4080 - val_accuracy: 0.7718\n",
      "Epoch 9/10\n",
      "1589/1589 [==============================] - 3s 2ms/step - loss: 0.8558 - accuracy: 0.7508 - val_loss: 0.4452 - val_accuracy: 0.7452\n",
      "Epoch 10/10\n",
      "1589/1589 [==============================] - 3s 2ms/step - loss: 0.8584 - accuracy: 0.7460 - val_loss: 0.4673 - val_accuracy: 0.7363\n",
      "681/681 [==============================] - 0s 572us/step\n"
     ]
    }
   ],
   "source": [
    "model = Sequential([\n",
    "    Dense(arch[0], input_dim=800, activation='relu'),\n",
    "    Dropout(p[0]),\n",
    "    Dense(arch[1], activation='relu'),\n",
    "    Dropout(p[1]),\n",
    "    Dense(arch[2], activation='relu'),\n",
    "    Dropout(p[2]),\n",
    "    Dense(1, activation='sigmoid')\n",
    "])\n",
    "\n",
    "model.compile(optimizer='adam', loss='binary_crossentropy', metrics=['accuracy'])\n",
    "model.fit(Z_train, y_train, epochs=10, batch_size=32, validation_data=(Z_valid, y_valid), class_weight=class_weights)\n",
    "\n",
    "y_pred_dnn = model.predict(Z_valid)\n",
    "y_pred = np.where(y_pred_dnn>=trashold, 1, 0)"
   ]
  },
  {
   "cell_type": "code",
   "execution_count": 172,
   "metadata": {},
   "outputs": [
    {
     "data": {
      "text/plain": [
       "0.5861873226111636"
      ]
     },
     "execution_count": 172,
     "metadata": {},
     "output_type": "execute_result"
    }
   ],
   "source": [
    "f1_score(y_valid, y_pred)"
   ]
  },
  {
   "cell_type": "markdown",
   "metadata": {},
   "source": [
    "### Architecture 4"
   ]
  },
  {
   "cell_type": "code",
   "execution_count": 192,
   "metadata": {},
   "outputs": [],
   "source": [
    "arch = [500, 300, 100, 50]\n",
    "p = [0.46509202, 0.04129562, 0.41971291, 0.7496419 ]\n",
    "trashold = 0.6818181818181818\n",
    "# f1_score = 0.5915606703008278"
   ]
  },
  {
   "cell_type": "code",
   "execution_count": 193,
   "metadata": {},
   "outputs": [
    {
     "name": "stdout",
     "output_type": "stream",
     "text": [
      "Epoch 1/10\n",
      "1589/1589 [==============================] - 4s 2ms/step - loss: 1.0158 - accuracy: 0.6985 - val_loss: 0.4814 - val_accuracy: 0.7025\n",
      "Epoch 2/10\n",
      "1589/1589 [==============================] - 3s 2ms/step - loss: 0.9613 - accuracy: 0.7016 - val_loss: 0.4770 - val_accuracy: 0.6906\n",
      "Epoch 3/10\n",
      "1589/1589 [==============================] - 3s 2ms/step - loss: 0.9530 - accuracy: 0.7097 - val_loss: 0.4767 - val_accuracy: 0.7039\n",
      "Epoch 4/10\n",
      "1589/1589 [==============================] - 3s 2ms/step - loss: 0.9466 - accuracy: 0.7171 - val_loss: 0.5007 - val_accuracy: 0.6998\n",
      "Epoch 5/10\n",
      "1589/1589 [==============================] - 3s 2ms/step - loss: 0.9400 - accuracy: 0.7210 - val_loss: 0.4251 - val_accuracy: 0.7508\n",
      "Epoch 6/10\n",
      "1589/1589 [==============================] - 3s 2ms/step - loss: 0.9285 - accuracy: 0.7245 - val_loss: 0.4723 - val_accuracy: 0.7123\n",
      "Epoch 7/10\n",
      "1589/1589 [==============================] - 3s 2ms/step - loss: 0.9222 - accuracy: 0.7230 - val_loss: 0.4970 - val_accuracy: 0.7029\n",
      "Epoch 8/10\n",
      "1589/1589 [==============================] - 3s 2ms/step - loss: 0.9307 - accuracy: 0.7220 - val_loss: 0.4951 - val_accuracy: 0.7122\n",
      "Epoch 9/10\n",
      "1589/1589 [==============================] - 3s 2ms/step - loss: 0.9224 - accuracy: 0.7264 - val_loss: 0.4749 - val_accuracy: 0.7292\n",
      "Epoch 10/10\n",
      "1589/1589 [==============================] - 3s 2ms/step - loss: 0.9292 - accuracy: 0.7235 - val_loss: 0.4666 - val_accuracy: 0.6945\n",
      "681/681 [==============================] - 0s 541us/step\n"
     ]
    }
   ],
   "source": [
    "model = Sequential([\n",
    "    Dense(arch[0], input_dim=800, activation='relu'),\n",
    "    Dropout(p[0]),\n",
    "    Dense(arch[1], activation='relu'),\n",
    "    Dropout(p[1]),\n",
    "    Dense(arch[2], activation='relu'),\n",
    "    Dropout(p[2]),\n",
    "    Dense(arch[3], activation='relu'),\n",
    "    Dropout(p[3]),\n",
    "    Dense(1, activation='sigmoid')\n",
    "])\n",
    "\n",
    "model.compile(optimizer='adam', loss='binary_crossentropy', metrics=['accuracy'])\n",
    "model.fit(Z_train, y_train, epochs=10, batch_size=32, validation_data=(Z_valid, y_valid), class_weight=class_weights)\n",
    "\n",
    "y_pred_dnn = model.predict(Z_valid)\n",
    "y_pred = np.where(y_pred_dnn>=trashold, 1, 0)"
   ]
  },
  {
   "cell_type": "code",
   "execution_count": 194,
   "metadata": {},
   "outputs": [
    {
     "data": {
      "text/plain": [
       "0.5879974462651628"
      ]
     },
     "execution_count": 194,
     "metadata": {},
     "output_type": "execute_result"
    }
   ],
   "source": [
    "f1_score(y_valid, y_pred)"
   ]
  },
  {
   "cell_type": "markdown",
   "metadata": {},
   "source": [
    "## Prediction sur le test"
   ]
  },
  {
   "cell_type": "code",
   "execution_count": 36,
   "metadata": {},
   "outputs": [],
   "source": [
    "# Recup des ids\n",
    "transcription_ids = []\n",
    "\n",
    "transcripts = path_to_test.glob('*.json')\n",
    "for transcript in transcripts:\n",
    "    transcription_ids.append(transcript.name[:-5])"
   ]
  },
  {
   "cell_type": "code",
   "execution_count": 37,
   "metadata": {},
   "outputs": [
    {
     "name": "stderr",
     "output_type": "stream",
     "text": [
      "Batches: 100%|██████████| 20/20 [00:01<00:00, 16.29it/s]\n"
     ]
    },
    {
     "name": "stdout",
     "output_type": "stream",
     "text": [
      "20/20 [==============================] - 0s 569us/step\n"
     ]
    },
    {
     "name": "stderr",
     "output_type": "stream",
     "text": [
      "Batches: 100%|██████████| 17/17 [00:01<00:00, 12.94it/s]"
     ]
    },
    {
     "name": "stdout",
     "output_type": "stream",
     "text": [
      "17/17 [==============================] - 0s 645us/step\n"
     ]
    },
    {
     "name": "stderr",
     "output_type": "stream",
     "text": [
      "\n",
      "Batches: 100%|██████████| 20/20 [00:01<00:00, 12.07it/s]"
     ]
    },
    {
     "name": "stdout",
     "output_type": "stream",
     "text": [
      "20/20 [==============================] - 0s 546us/step\n"
     ]
    },
    {
     "name": "stderr",
     "output_type": "stream",
     "text": [
      "\n",
      "Batches: 100%|██████████| 25/25 [00:01<00:00, 13.06it/s]"
     ]
    },
    {
     "name": "stdout",
     "output_type": "stream",
     "text": [
      "25/25 [==============================] - 0s 546us/step\n"
     ]
    },
    {
     "name": "stderr",
     "output_type": "stream",
     "text": [
      "\n",
      "Batches: 100%|██████████| 24/24 [00:01<00:00, 15.22it/s]"
     ]
    },
    {
     "name": "stdout",
     "output_type": "stream",
     "text": [
      "24/24 [==============================] - 0s 555us/step\n"
     ]
    },
    {
     "name": "stderr",
     "output_type": "stream",
     "text": [
      "\n",
      "Batches: 100%|██████████| 20/20 [00:01<00:00, 15.79it/s]"
     ]
    },
    {
     "name": "stdout",
     "output_type": "stream",
     "text": [
      "20/20 [==============================] - 0s 579us/step\n"
     ]
    },
    {
     "name": "stderr",
     "output_type": "stream",
     "text": [
      "\n",
      "Batches: 100%|██████████| 24/24 [00:01<00:00, 13.68it/s]"
     ]
    },
    {
     "name": "stdout",
     "output_type": "stream",
     "text": [
      "24/24 [==============================] - 0s 521us/step\n"
     ]
    },
    {
     "name": "stderr",
     "output_type": "stream",
     "text": [
      "\n",
      "Batches: 100%|██████████| 15/15 [00:01<00:00, 12.61it/s]"
     ]
    },
    {
     "name": "stdout",
     "output_type": "stream",
     "text": [
      "15/15 [==============================] - 0s 581us/step\n"
     ]
    },
    {
     "name": "stderr",
     "output_type": "stream",
     "text": [
      "\n",
      "Batches: 100%|██████████| 10/10 [00:00<00:00, 13.14it/s]"
     ]
    },
    {
     "name": "stdout",
     "output_type": "stream",
     "text": [
      "10/10 [==============================] - 0s 682us/step\n"
     ]
    },
    {
     "name": "stderr",
     "output_type": "stream",
     "text": [
      "\n",
      "Batches: 100%|██████████| 19/19 [00:01<00:00, 14.58it/s]"
     ]
    },
    {
     "name": "stdout",
     "output_type": "stream",
     "text": [
      "19/19 [==============================] - 0s 555us/step\n"
     ]
    },
    {
     "name": "stderr",
     "output_type": "stream",
     "text": [
      "\n",
      "Batches: 100%|██████████| 22/22 [00:01<00:00, 14.97it/s]"
     ]
    },
    {
     "name": "stdout",
     "output_type": "stream",
     "text": [
      "22/22 [==============================] - 0s 543us/step\n"
     ]
    },
    {
     "name": "stderr",
     "output_type": "stream",
     "text": [
      "\n",
      "Batches: 100%|██████████| 20/20 [00:01<00:00, 13.96it/s]\n"
     ]
    },
    {
     "name": "stdout",
     "output_type": "stream",
     "text": [
      "20/20 [==============================] - 0s 549us/step\n"
     ]
    },
    {
     "name": "stderr",
     "output_type": "stream",
     "text": [
      "Batches: 100%|██████████| 14/14 [00:00<00:00, 15.37it/s]"
     ]
    },
    {
     "name": "stdout",
     "output_type": "stream",
     "text": [
      "14/14 [==============================] - 0s 560us/step\n"
     ]
    },
    {
     "name": "stderr",
     "output_type": "stream",
     "text": [
      "\n",
      "Batches: 100%|██████████| 21/21 [00:01<00:00, 16.56it/s]"
     ]
    },
    {
     "name": "stdout",
     "output_type": "stream",
     "text": [
      "21/21 [==============================] - 0s 519us/step\n"
     ]
    },
    {
     "name": "stderr",
     "output_type": "stream",
     "text": [
      "\n",
      "Batches: 100%|██████████| 15/15 [00:00<00:00, 16.22it/s]"
     ]
    },
    {
     "name": "stdout",
     "output_type": "stream",
     "text": [
      "15/15 [==============================] - 0s 582us/step\n"
     ]
    },
    {
     "name": "stderr",
     "output_type": "stream",
     "text": [
      "\n",
      "Batches: 100%|██████████| 22/22 [00:01<00:00, 14.13it/s]"
     ]
    },
    {
     "name": "stdout",
     "output_type": "stream",
     "text": [
      "22/22 [==============================] - 0s 651us/step\n"
     ]
    },
    {
     "name": "stderr",
     "output_type": "stream",
     "text": [
      "\n",
      "Batches: 100%|██████████| 35/35 [00:02<00:00, 13.84it/s]"
     ]
    },
    {
     "name": "stdout",
     "output_type": "stream",
     "text": [
      " 1/35 [..............................] - ETA: 0s"
     ]
    },
    {
     "name": "stderr",
     "output_type": "stream",
     "text": [
      "\n"
     ]
    },
    {
     "name": "stdout",
     "output_type": "stream",
     "text": [
      "35/35 [==============================] - 0s 553us/step\n"
     ]
    },
    {
     "name": "stderr",
     "output_type": "stream",
     "text": [
      "Batches: 100%|██████████| 14/14 [00:01<00:00, 11.53it/s]"
     ]
    },
    {
     "name": "stdout",
     "output_type": "stream",
     "text": [
      "14/14 [==============================] - 0s 706us/step\n"
     ]
    },
    {
     "name": "stderr",
     "output_type": "stream",
     "text": [
      "\n",
      "Batches: 100%|██████████| 27/27 [00:02<00:00, 12.89it/s]"
     ]
    },
    {
     "name": "stdout",
     "output_type": "stream",
     "text": [
      "27/27 [==============================] - 0s 610us/step\n"
     ]
    },
    {
     "name": "stderr",
     "output_type": "stream",
     "text": [
      "\n",
      "Batches: 100%|██████████| 30/30 [00:02<00:00, 14.32it/s]"
     ]
    },
    {
     "name": "stdout",
     "output_type": "stream",
     "text": [
      "30/30 [==============================] - 0s 561us/step\n"
     ]
    },
    {
     "name": "stderr",
     "output_type": "stream",
     "text": [
      "\n",
      "Batches: 100%|██████████| 29/29 [00:02<00:00, 14.03it/s]"
     ]
    },
    {
     "name": "stdout",
     "output_type": "stream",
     "text": [
      "29/29 [==============================] - 0s 550us/step\n"
     ]
    },
    {
     "name": "stderr",
     "output_type": "stream",
     "text": [
      "\n",
      "Batches: 100%|██████████| 22/22 [00:01<00:00, 15.09it/s]"
     ]
    },
    {
     "name": "stdout",
     "output_type": "stream",
     "text": [
      "22/22 [==============================] - 0s 545us/step\n"
     ]
    },
    {
     "name": "stderr",
     "output_type": "stream",
     "text": [
      "\n",
      "Batches: 100%|██████████| 22/22 [00:01<00:00, 16.09it/s]"
     ]
    },
    {
     "name": "stdout",
     "output_type": "stream",
     "text": [
      "22/22 [==============================] - 0s 534us/step\n"
     ]
    },
    {
     "name": "stderr",
     "output_type": "stream",
     "text": [
      "\n",
      "Batches: 100%|██████████| 52/52 [00:02<00:00, 17.48it/s]"
     ]
    },
    {
     "name": "stdout",
     "output_type": "stream",
     "text": [
      "52/52 [==============================] - 0s 531us/step\n"
     ]
    },
    {
     "name": "stderr",
     "output_type": "stream",
     "text": [
      "\n",
      "Batches: 100%|██████████| 30/30 [00:02<00:00, 14.97it/s]"
     ]
    },
    {
     "name": "stdout",
     "output_type": "stream",
     "text": [
      "30/30 [==============================] - 0s 540us/step\n"
     ]
    },
    {
     "name": "stderr",
     "output_type": "stream",
     "text": [
      "\n",
      "Batches: 100%|██████████| 8/8 [00:00<00:00, 11.92it/s]"
     ]
    },
    {
     "name": "stdout",
     "output_type": "stream",
     "text": [
      "1/8 [==>...........................] - ETA: 0s"
     ]
    },
    {
     "name": "stderr",
     "output_type": "stream",
     "text": [
      "\n"
     ]
    },
    {
     "name": "stdout",
     "output_type": "stream",
     "text": [
      "8/8 [==============================] - 0s 689us/step\n"
     ]
    },
    {
     "name": "stderr",
     "output_type": "stream",
     "text": [
      "Batches: 100%|██████████| 12/12 [00:00<00:00, 13.20it/s]"
     ]
    },
    {
     "name": "stdout",
     "output_type": "stream",
     "text": [
      "12/12 [==============================] - 0s 650us/step\n"
     ]
    },
    {
     "name": "stderr",
     "output_type": "stream",
     "text": [
      "\n",
      "Batches: 100%|██████████| 25/25 [00:02<00:00, 12.16it/s]\n"
     ]
    },
    {
     "name": "stdout",
     "output_type": "stream",
     "text": [
      "25/25 [==============================] - 0s 581us/step\n"
     ]
    },
    {
     "name": "stderr",
     "output_type": "stream",
     "text": [
      "Batches: 100%|██████████| 37/37 [00:02<00:00, 16.16it/s]\n"
     ]
    },
    {
     "name": "stdout",
     "output_type": "stream",
     "text": [
      "37/37 [==============================] - 0s 544us/step\n"
     ]
    },
    {
     "name": "stderr",
     "output_type": "stream",
     "text": [
      "Batches: 100%|██████████| 40/40 [00:02<00:00, 17.49it/s]"
     ]
    },
    {
     "name": "stdout",
     "output_type": "stream",
     "text": [
      "40/40 [==============================] - 0s 523us/step\n"
     ]
    },
    {
     "name": "stderr",
     "output_type": "stream",
     "text": [
      "\n",
      "Batches: 100%|██████████| 24/24 [00:01<00:00, 13.02it/s]"
     ]
    },
    {
     "name": "stdout",
     "output_type": "stream",
     "text": [
      "24/24 [==============================] - 0s 531us/step\n"
     ]
    },
    {
     "name": "stderr",
     "output_type": "stream",
     "text": [
      "\n",
      "Batches: 100%|██████████| 32/32 [00:02<00:00, 15.50it/s]"
     ]
    },
    {
     "name": "stdout",
     "output_type": "stream",
     "text": [
      "32/32 [==============================] - 0s 832us/step\n"
     ]
    },
    {
     "name": "stderr",
     "output_type": "stream",
     "text": [
      "\n",
      "Batches: 100%|██████████| 43/43 [00:02<00:00, 17.28it/s]"
     ]
    },
    {
     "name": "stdout",
     "output_type": "stream",
     "text": [
      "43/43 [==============================] - 0s 532us/step\n"
     ]
    },
    {
     "name": "stderr",
     "output_type": "stream",
     "text": [
      "\n",
      "Batches: 100%|██████████| 9/9 [00:00<00:00, 13.63it/s]\n"
     ]
    },
    {
     "name": "stdout",
     "output_type": "stream",
     "text": [
      "9/9 [==============================] - 0s 603us/step\n"
     ]
    },
    {
     "name": "stderr",
     "output_type": "stream",
     "text": [
      "Batches: 100%|██████████| 10/10 [00:00<00:00, 12.81it/s]\n"
     ]
    },
    {
     "name": "stdout",
     "output_type": "stream",
     "text": [
      "10/10 [==============================] - 0s 622us/step\n"
     ]
    },
    {
     "name": "stderr",
     "output_type": "stream",
     "text": [
      "Batches: 100%|██████████| 34/34 [00:02<00:00, 14.98it/s]\n"
     ]
    },
    {
     "name": "stdout",
     "output_type": "stream",
     "text": [
      "34/34 [==============================] - 0s 546us/step\n"
     ]
    },
    {
     "name": "stderr",
     "output_type": "stream",
     "text": [
      "Batches: 100%|██████████| 38/38 [00:02<00:00, 16.24it/s]"
     ]
    },
    {
     "name": "stdout",
     "output_type": "stream",
     "text": [
      "38/38 [==============================] - 0s 581us/step\n"
     ]
    },
    {
     "name": "stderr",
     "output_type": "stream",
     "text": [
      "\n",
      "Batches: 100%|██████████| 37/37 [00:02<00:00, 17.04it/s]"
     ]
    },
    {
     "name": "stdout",
     "output_type": "stream",
     "text": [
      "37/37 [==============================] - 0s 603us/step\n"
     ]
    },
    {
     "name": "stderr",
     "output_type": "stream",
     "text": [
      "\n",
      "Batches: 100%|██████████| 24/24 [00:01<00:00, 13.17it/s]"
     ]
    },
    {
     "name": "stdout",
     "output_type": "stream",
     "text": [
      "24/24 [==============================] - 0s 534us/step\n"
     ]
    },
    {
     "name": "stderr",
     "output_type": "stream",
     "text": [
      "\n",
      "Batches: 100%|██████████| 46/46 [00:02<00:00, 16.40it/s]"
     ]
    },
    {
     "name": "stdout",
     "output_type": "stream",
     "text": [
      "46/46 [==============================] - 0s 522us/step\n"
     ]
    },
    {
     "name": "stderr",
     "output_type": "stream",
     "text": [
      "\n"
     ]
    }
   ],
   "source": [
    "test_labels_model4 = {}\n",
    "\n",
    "for transcription_id in transcription_ids:\n",
    "    X, A, B = get_xi(transcription_id, path_to_test)\n",
    "    Z_test = np.concatenate([np.array(X).reshape(-1,1), np.array(A).reshape(-1,1), np.array(B).reshape(-1,1)], axis=1)\n",
    "\n",
    "    X_test = Z_test[:,0]\n",
    "    A_test = Z_test[:,1]\n",
    "    B_test = Z_test[:,2]\n",
    "\n",
    "    # variables dummies\n",
    "    A_test = pd.DataFrame(A_test, columns=['variable'])\n",
    "    A_test = A_test['variable'].str.get_dummies(sep=',')\n",
    "\n",
    "    B_test = pd.DataFrame(B_test, columns=['variable'])\n",
    "    B_test = B_test['variable'].str.get_dummies(sep=',')\n",
    "\n",
    "    # rearangement des colonnes de A_valid et B_valid pour que ça soit pareil avec celles des train\n",
    "\n",
    "    A_test = A_test.reindex(columns=A_train_cols).fillna(0)\n",
    "    B_test = B_test.reindex(columns=B_train_cols).fillna(0)\n",
    "\n",
    "    A_test = A_test.values\n",
    "    B_test = B_test.values\n",
    "\n",
    "    X_test_bert = bert.encode(X_test, show_progress_bar=True)\n",
    "    Z_test = np.concatenate([X_test_bert, A_test, B_test], axis=1)\n",
    "\n",
    "    test_pred = model.predict(Z_test)\n",
    "    test_pred = np.where(test_pred>=trashold, 1, 0)\n",
    "\n",
    "    test_labels_model4[transcription_id] = test_pred.reshape(-1,).tolist()"
   ]
  },
  {
   "cell_type": "markdown",
   "metadata": {},
   "source": [
    "## make_submission"
   ]
  },
  {
   "cell_type": "code",
   "execution_count": 38,
   "metadata": {},
   "outputs": [],
   "source": [
    "def make_submission(test_labels, filename= \"submission\"):\n",
    "    file = open(filename+\".csv\", \"w\")\n",
    "    file.write(\"id,target_feature\\n\")\n",
    "    for key, value in test_labels.items():\n",
    "        u_id = [key + \"_\" + str(i) for i in range(len(value))]\n",
    "        target = map(str, value) \n",
    "        for row in zip(u_id, target):\n",
    "            file.write(\",\".join(row))\n",
    "            file.write(\"\\n\")\n",
    "    file.close()"
   ]
  },
  {
   "cell_type": "code",
   "execution_count": 39,
   "metadata": {},
   "outputs": [],
   "source": [
    "make_submission(test_labels_model4, \"submission_model4_arch_final\")"
   ]
  },
  {
   "cell_type": "code",
   "execution_count": null,
   "metadata": {},
   "outputs": [],
   "source": []
  }
 ],
 "metadata": {
  "kernelspec": {
   "display_name": "Python 3",
   "language": "python",
   "name": "python3"
  },
  "language_info": {
   "codemirror_mode": {
    "name": "ipython",
    "version": 3
   },
   "file_extension": ".py",
   "mimetype": "text/x-python",
   "name": "python",
   "nbconvert_exporter": "python",
   "pygments_lexer": "ipython3",
   "version": "3.9.6"
  }
 },
 "nbformat": 4,
 "nbformat_minor": 2
}
