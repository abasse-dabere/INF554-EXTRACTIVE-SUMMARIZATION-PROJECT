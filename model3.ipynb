{
 "cells": [
  {
   "cell_type": "code",
   "execution_count": 1,
   "metadata": {},
   "outputs": [],
   "source": [
    "#pip install matplotlib"
   ]
  },
  {
   "cell_type": "code",
   "execution_count": 2,
   "metadata": {},
   "outputs": [],
   "source": [
    "#pip install sklearn"
   ]
  },
  {
   "cell_type": "code",
   "execution_count": 3,
   "metadata": {},
   "outputs": [],
   "source": [
    "#pip install pandas"
   ]
  },
  {
   "cell_type": "code",
   "execution_count": 4,
   "metadata": {},
   "outputs": [],
   "source": [
    "#pip install nltk"
   ]
  },
  {
   "cell_type": "code",
   "execution_count": 5,
   "metadata": {},
   "outputs": [],
   "source": [
    "#pip install keras"
   ]
  },
  {
   "cell_type": "code",
   "execution_count": 6,
   "metadata": {},
   "outputs": [],
   "source": [
    "#pip install tensorflow"
   ]
  },
  {
   "cell_type": "code",
   "execution_count": 7,
   "metadata": {},
   "outputs": [],
   "source": [
    "#pip install sentence_transformers"
   ]
  },
  {
   "cell_type": "code",
   "execution_count": 8,
   "metadata": {},
   "outputs": [
    {
     "name": "stderr",
     "output_type": "stream",
     "text": [
      "/Users/dabereabasse/Library/Python/3.9/lib/python/site-packages/urllib3/__init__.py:34: NotOpenSSLWarning: urllib3 v2 only supports OpenSSL 1.1.1+, currently the 'ssl' module is compiled with 'LibreSSL 2.8.3'. See: https://github.com/urllib3/urllib3/issues/3020\n",
      "  warnings.warn(\n",
      "/Users/dabereabasse/Library/Python/3.9/lib/python/site-packages/tqdm/auto.py:21: TqdmWarning: IProgress not found. Please update jupyter and ipywidgets. See https://ipywidgets.readthedocs.io/en/stable/user_install.html\n",
      "  from .autonotebook import tqdm as notebook_tqdm\n",
      "[nltk_data] Downloading package stopwords to\n",
      "[nltk_data]     /Users/dabereabasse/nltk_data...\n",
      "[nltk_data]   Package stopwords is already up-to-date!\n",
      "[nltk_data] Downloading package punkt to\n",
      "[nltk_data]     /Users/dabereabasse/nltk_data...\n",
      "[nltk_data]   Package punkt is already up-to-date!\n"
     ]
    }
   ],
   "source": [
    "from sklearn.feature_extraction.text import TfidfVectorizer\n",
    "from sklearn.ensemble import RandomForestClassifier\n",
    "from sklearn.model_selection import train_test_split\n",
    "from sklearn.metrics import f1_score\n",
    "from sklearn.metrics import accuracy_score\n",
    "import numpy as np\n",
    "import pandas as pd\n",
    "import matplotlib.pyplot as plt\n",
    "\n",
    "import re\n",
    "from sentence_transformers import SentenceTransformer\n",
    "from nltk.tokenize import word_tokenize\n",
    "from nltk.corpus import stopwords\n",
    "from nltk.stem import SnowballStemmer\n",
    "import nltk\n",
    "nltk.download('stopwords')\n",
    "nltk.download('punkt')\n",
    "\n",
    "from keras.models import Sequential\n",
    "from keras.layers import Input, Dense, Dropout\n",
    "import tensorflow as tf\n",
    "\n",
    "import json\n",
    "from pathlib import Path"
   ]
  },
  {
   "cell_type": "code",
   "execution_count": 9,
   "metadata": {},
   "outputs": [],
   "source": [
    "path_to_training = Path(\"training\")\n",
    "path_to_test = Path(\"test\")"
   ]
  },
  {
   "cell_type": "markdown",
   "metadata": {},
   "source": [
    "## Combinaison Transcription+graphe pour chaque dialogue"
   ]
  },
  {
   "cell_type": "code",
   "execution_count": 10,
   "metadata": {},
   "outputs": [],
   "source": [
    "def preprocess_text(text):\n",
    "    text = text.lower()\n",
    "    text = re.sub(r'<[^>]*>|(?:um|uh)', '', text)\n",
    "\n",
    "    # Tokenization des mots\n",
    "    words = word_tokenize(text)\n",
    "\n",
    "    # Supprimer les mots vides (stop words)\n",
    "    stop_words = set(stopwords.words('english'))\n",
    "    words = [word for word in words if word not in stop_words]\n",
    "\n",
    "    # Stemming (réduction à la racine des mots)\n",
    "    stemmer = SnowballStemmer('english')\n",
    "    words = [stemmer.stem(word) for word in words]\n",
    "\n",
    "    # Rejoindre les mots traités en une seule chaîne de texte\n",
    "    processed_text = ' '.join(words)\n",
    "\n",
    "    return processed_text\n",
    "\n",
    "\n",
    "def get_xi(transcription_id):\n",
    "       discourse_graph = [] # list, i attribute j\n",
    "       with open(path_to_training / f\"{transcription_id}.txt\", 'r') as f:\n",
    "              for line in f: discourse_graph.append(line.strip())\n",
    "       \n",
    "       with open(path_to_training / f\"{transcription_id}.json\", 'r') as f:\n",
    "              transcription = json.load(f)\n",
    "\n",
    "       x_i = [] # list, speaker: attribute: text\n",
    "       prefix_i = [\"\" for i in range(len(transcription))] # list des prelations pour lesquelles i est prefixes\n",
    "       suffix_j = [\"\" for i in range(len(transcription))] # list des prelations pour lesquelles j est suffixes\n",
    "\n",
    "       for line in discourse_graph:\n",
    "              tmp = line.split()\n",
    "              i = int(tmp[0])\n",
    "              j = int(tmp[-1])\n",
    "\n",
    "              if prefix_i[i]!= \"\": prefix_i[i]+=','\n",
    "              prefix_i[i] += (\"p\"+tmp[1])\n",
    "\n",
    "              if suffix_j[j]!= \"\": suffix_j[j]+=','\n",
    "              suffix_j[j] += (\"s\"+tmp[1])\n",
    "\n",
    "       for i in range(len(transcription)):\n",
    "              replique = transcription[i]\n",
    "              text = preprocess_text(replique['text'])\n",
    "              x_i.append(text)\n",
    "\n",
    "       return x_i, prefix_i, suffix_j\n"
   ]
  },
  {
   "cell_type": "markdown",
   "metadata": {},
   "source": [
    "## Concatenater des: x_i -> X, prefix_i -> A, suffix_i -> B"
   ]
  },
  {
   "cell_type": "code",
   "execution_count": 11,
   "metadata": {},
   "outputs": [],
   "source": [
    "# Recup des ids\n",
    "transcription_ids = []\n",
    "\n",
    "transcripts = path_to_training.glob('*.json')\n",
    "for transcript in transcripts:\n",
    "    transcription_ids.append(transcript.name[:-5])"
   ]
  },
  {
   "cell_type": "code",
   "execution_count": 12,
   "metadata": {},
   "outputs": [],
   "source": [
    "# creation de X contenant les repliques x_i\n",
    "X = [] #list des repliques\n",
    "A = [] #list des prefixes\n",
    "B = [] #list des suffixes\n",
    "\n",
    "for transcription_id in  transcription_ids:\n",
    "    x_i, prefix_i, suffix_j = get_xi(transcription_id)\n",
    "    X.extend(x_i)\n",
    "    A.extend(prefix_i)\n",
    "    B.extend(suffix_j)"
   ]
  },
  {
   "cell_type": "code",
   "execution_count": 13,
   "metadata": {},
   "outputs": [
    {
     "name": "stdout",
     "output_type": "stream",
     "text": [
      "len(X): 72623\n",
      "len(A): 72623\n",
      "len(B): 72623\n"
     ]
    }
   ],
   "source": [
    "print(\"len(X):\", len(X))\n",
    "print(\"len(A):\", len(A))\n",
    "print(\"len(B):\", len(B))"
   ]
  },
  {
   "cell_type": "markdown",
   "metadata": {},
   "source": [
    "## Concatenation X+A+B -> Z, recuperation de y"
   ]
  },
  {
   "cell_type": "code",
   "execution_count": 14,
   "metadata": {},
   "outputs": [
    {
     "data": {
      "text/plain": [
       "(72623, 3)"
      ]
     },
     "execution_count": 14,
     "metadata": {},
     "output_type": "execute_result"
    }
   ],
   "source": [
    "Z = np.concatenate([np.array(X).reshape(-1,1), np.array(A).reshape(-1,1), np.array(B).reshape(-1,1)], axis=1)\n",
    "Z.shape"
   ]
  },
  {
   "cell_type": "code",
   "execution_count": 15,
   "metadata": {},
   "outputs": [
    {
     "name": "stdout",
     "output_type": "stream",
     "text": [
      "(72623, 1)\n"
     ]
    }
   ],
   "source": [
    "# creation de y contenant les labels pour chaque x_i\n",
    "y = [] # concatenation des labels\n",
    "with open(\"training_labels.json\", 'r') as f:\n",
    "    labels = json.load(f)\n",
    "\n",
    "for transcription_id in transcription_ids:\n",
    "    y.extend(labels[transcription_id])\n",
    "\n",
    "y = np.array(y).reshape(-1,1)\n",
    "\n",
    "print(y.shape)"
   ]
  },
  {
   "cell_type": "markdown",
   "metadata": {},
   "source": [
    "## Séperation en Train et Valid"
   ]
  },
  {
   "cell_type": "code",
   "execution_count": 16,
   "metadata": {},
   "outputs": [],
   "source": [
    "Z_train, Z_valid, y_train, y_valid = train_test_split(Z, y, test_size=0.3, random_state=42)"
   ]
  },
  {
   "cell_type": "markdown",
   "metadata": {},
   "source": [
    "## Recup de A_train, B_train et transformation en variables dummies"
   ]
  },
  {
   "cell_type": "code",
   "execution_count": 17,
   "metadata": {},
   "outputs": [],
   "source": [
    "X_train = Z_train[:,0]\n",
    "A_train = Z_train[:,1]\n",
    "B_train = Z_train[:,2]"
   ]
  },
  {
   "cell_type": "code",
   "execution_count": 18,
   "metadata": {},
   "outputs": [],
   "source": [
    "A_train = pd.DataFrame(A_train, columns=['variable'])\n",
    "A_train = A_train['variable'].str.get_dummies(sep=',')\n",
    "\n",
    "B_train = pd.DataFrame(B_train, columns=['variable'])\n",
    "B_train = B_train['variable'].str.get_dummies(sep=',')"
   ]
  },
  {
   "cell_type": "code",
   "execution_count": 19,
   "metadata": {},
   "outputs": [],
   "source": [
    "A_train_cols = A_train.columns\n",
    "B_train_cols = B_train.columns\n",
    "\n",
    "A_train = A_train.values\n",
    "B_train = B_train.values"
   ]
  },
  {
   "cell_type": "code",
   "execution_count": 20,
   "metadata": {},
   "outputs": [
    {
     "data": {
      "text/plain": [
       "array([[0, 0, 0, 0, 0, 0, 1, 0, 0, 1, 0, 0, 0, 0, 0, 0],\n",
       "       [0, 0, 0, 0, 0, 0, 0, 0, 0, 0, 0, 0, 0, 0, 0, 0],\n",
       "       [0, 0, 0, 0, 1, 0, 0, 0, 0, 0, 0, 0, 0, 0, 0, 0],\n",
       "       [0, 0, 0, 0, 0, 0, 0, 0, 0, 0, 0, 0, 0, 0, 0, 0],\n",
       "       [0, 0, 0, 0, 0, 0, 0, 0, 0, 1, 0, 0, 0, 0, 0, 0]])"
      ]
     },
     "execution_count": 20,
     "metadata": {},
     "output_type": "execute_result"
    }
   ],
   "source": [
    "A_train[:5]"
   ]
  },
  {
   "cell_type": "code",
   "execution_count": 21,
   "metadata": {},
   "outputs": [
    {
     "data": {
      "text/plain": [
       "Index(['pAcknowledgement', 'pAlternation', 'pBackground',\n",
       "       'pClarification_question', 'pComment', 'pConditional', 'pContinuation',\n",
       "       'pContrast', 'pCorrection', 'pElaboration', 'pExplanation',\n",
       "       'pNarration', 'pParallel', 'pQ-Elab', 'pQuestion-answer_pair',\n",
       "       'pResult'],\n",
       "      dtype='object')"
      ]
     },
     "execution_count": 21,
     "metadata": {},
     "output_type": "execute_result"
    }
   ],
   "source": [
    "A_train_cols"
   ]
  },
  {
   "cell_type": "markdown",
   "metadata": {},
   "source": [
    "## Vectorisation de X_train et Reconstruction de Z_train = X_train + A_train + B_train"
   ]
  },
  {
   "cell_type": "code",
   "execution_count": 23,
   "metadata": {},
   "outputs": [
    {
     "name": "stderr",
     "output_type": "stream",
     "text": [
      "No sentence-transformers model found with name /Users/dabereabasse/.cache/torch/sentence_transformers/distilbert-base-uncased. Creating a new one with MEAN pooling.\n",
      "Batches: 100%|██████████| 1589/1589 [01:41<00:00, 15.64it/s]\n"
     ]
    }
   ],
   "source": [
    "bert = SentenceTransformer('distilbert-base-uncased')\n",
    "X_train_bert = bert.encode(X_train, show_progress_bar=True)"
   ]
  },
  {
   "cell_type": "code",
   "execution_count": 24,
   "metadata": {},
   "outputs": [],
   "source": [
    "Z_train = np.concatenate([X_train_bert, A_train, B_train], axis=1)"
   ]
  },
  {
   "cell_type": "markdown",
   "metadata": {},
   "source": [
    "## Recup de A_valid, B_valid et transformation en variables dummies avec les memes colonnes que A_train, B_train"
   ]
  },
  {
   "cell_type": "code",
   "execution_count": 25,
   "metadata": {},
   "outputs": [],
   "source": [
    "X_valid = Z_valid[:,0]\n",
    "A_valid = Z_valid[:,1]\n",
    "B_valid = Z_valid[:,2]"
   ]
  },
  {
   "cell_type": "code",
   "execution_count": 26,
   "metadata": {},
   "outputs": [],
   "source": [
    "# variables dummies\n",
    "A_valid = pd.DataFrame(A_valid, columns=['variable'])\n",
    "A_valid = A_valid['variable'].str.get_dummies(sep=',')\n",
    "\n",
    "B_valid = pd.DataFrame(B_valid, columns=['variable'])\n",
    "B_valid = B_valid['variable'].str.get_dummies(sep=',')"
   ]
  },
  {
   "cell_type": "code",
   "execution_count": null,
   "metadata": {},
   "outputs": [
    {
     "data": {
      "text/html": [
       "<div>\n",
       "<style scoped>\n",
       "    .dataframe tbody tr th:only-of-type {\n",
       "        vertical-align: middle;\n",
       "    }\n",
       "\n",
       "    .dataframe tbody tr th {\n",
       "        vertical-align: top;\n",
       "    }\n",
       "\n",
       "    .dataframe thead th {\n",
       "        text-align: right;\n",
       "    }\n",
       "</style>\n",
       "<table border=\"1\" class=\"dataframe\">\n",
       "  <thead>\n",
       "    <tr style=\"text-align: right;\">\n",
       "      <th></th>\n",
       "      <th>pAcknowledgement</th>\n",
       "      <th>pAlternation</th>\n",
       "      <th>pBackground</th>\n",
       "      <th>pClarification_question</th>\n",
       "      <th>pComment</th>\n",
       "      <th>pConditional</th>\n",
       "      <th>pContinuation</th>\n",
       "      <th>pContrast</th>\n",
       "      <th>pCorrection</th>\n",
       "      <th>pElaboration</th>\n",
       "      <th>pExplanation</th>\n",
       "      <th>pNarration</th>\n",
       "      <th>pParallel</th>\n",
       "      <th>pQ-Elab</th>\n",
       "      <th>pQuestion-answer_pair</th>\n",
       "      <th>pResult</th>\n",
       "    </tr>\n",
       "  </thead>\n",
       "  <tbody>\n",
       "    <tr>\n",
       "      <th>0</th>\n",
       "      <td>0</td>\n",
       "      <td>0</td>\n",
       "      <td>0</td>\n",
       "      <td>0</td>\n",
       "      <td>0</td>\n",
       "      <td>0</td>\n",
       "      <td>0</td>\n",
       "      <td>0</td>\n",
       "      <td>0</td>\n",
       "      <td>0</td>\n",
       "      <td>0</td>\n",
       "      <td>0</td>\n",
       "      <td>0</td>\n",
       "      <td>0</td>\n",
       "      <td>0</td>\n",
       "      <td>0</td>\n",
       "    </tr>\n",
       "    <tr>\n",
       "      <th>1</th>\n",
       "      <td>0</td>\n",
       "      <td>0</td>\n",
       "      <td>0</td>\n",
       "      <td>0</td>\n",
       "      <td>0</td>\n",
       "      <td>0</td>\n",
       "      <td>1</td>\n",
       "      <td>0</td>\n",
       "      <td>0</td>\n",
       "      <td>0</td>\n",
       "      <td>0</td>\n",
       "      <td>0</td>\n",
       "      <td>0</td>\n",
       "      <td>0</td>\n",
       "      <td>0</td>\n",
       "      <td>0</td>\n",
       "    </tr>\n",
       "    <tr>\n",
       "      <th>2</th>\n",
       "      <td>0</td>\n",
       "      <td>0</td>\n",
       "      <td>0</td>\n",
       "      <td>0</td>\n",
       "      <td>0</td>\n",
       "      <td>0</td>\n",
       "      <td>0</td>\n",
       "      <td>0</td>\n",
       "      <td>0</td>\n",
       "      <td>0</td>\n",
       "      <td>0</td>\n",
       "      <td>0</td>\n",
       "      <td>0</td>\n",
       "      <td>0</td>\n",
       "      <td>0</td>\n",
       "      <td>0</td>\n",
       "    </tr>\n",
       "    <tr>\n",
       "      <th>3</th>\n",
       "      <td>0</td>\n",
       "      <td>0</td>\n",
       "      <td>0</td>\n",
       "      <td>0</td>\n",
       "      <td>0</td>\n",
       "      <td>0</td>\n",
       "      <td>0</td>\n",
       "      <td>0</td>\n",
       "      <td>0</td>\n",
       "      <td>0</td>\n",
       "      <td>0</td>\n",
       "      <td>0</td>\n",
       "      <td>0</td>\n",
       "      <td>0</td>\n",
       "      <td>0</td>\n",
       "      <td>0</td>\n",
       "    </tr>\n",
       "    <tr>\n",
       "      <th>4</th>\n",
       "      <td>0</td>\n",
       "      <td>1</td>\n",
       "      <td>0</td>\n",
       "      <td>0</td>\n",
       "      <td>0</td>\n",
       "      <td>0</td>\n",
       "      <td>0</td>\n",
       "      <td>0</td>\n",
       "      <td>0</td>\n",
       "      <td>0</td>\n",
       "      <td>0</td>\n",
       "      <td>0</td>\n",
       "      <td>0</td>\n",
       "      <td>0</td>\n",
       "      <td>0</td>\n",
       "      <td>0</td>\n",
       "    </tr>\n",
       "  </tbody>\n",
       "</table>\n",
       "</div>"
      ],
      "text/plain": [
       "   pAcknowledgement  pAlternation  pBackground  pClarification_question  \\\n",
       "0                 0             0            0                        0   \n",
       "1                 0             0            0                        0   \n",
       "2                 0             0            0                        0   \n",
       "3                 0             0            0                        0   \n",
       "4                 0             1            0                        0   \n",
       "\n",
       "   pComment  pConditional  pContinuation  pContrast  pCorrection  \\\n",
       "0         0             0              0          0            0   \n",
       "1         0             0              1          0            0   \n",
       "2         0             0              0          0            0   \n",
       "3         0             0              0          0            0   \n",
       "4         0             0              0          0            0   \n",
       "\n",
       "   pElaboration  pExplanation  pNarration  pParallel  pQ-Elab  \\\n",
       "0             0             0           0          0        0   \n",
       "1             0             0           0          0        0   \n",
       "2             0             0           0          0        0   \n",
       "3             0             0           0          0        0   \n",
       "4             0             0           0          0        0   \n",
       "\n",
       "   pQuestion-answer_pair  pResult  \n",
       "0                      0        0  \n",
       "1                      0        0  \n",
       "2                      0        0  \n",
       "3                      0        0  \n",
       "4                      0        0  "
      ]
     },
     "execution_count": 25,
     "metadata": {},
     "output_type": "execute_result"
    }
   ],
   "source": [
    "A_valid.head()"
   ]
  },
  {
   "cell_type": "code",
   "execution_count": null,
   "metadata": {},
   "outputs": [],
   "source": [
    "# rearangement des colonnes de A_valid et B_valid pour que ça soit pareil avec celles des train\n",
    "\n",
    "A_valid = A_valid.reindex(columns=A_train_cols).fillna(0)\n",
    "B_valid = B_valid.reindex(columns=B_train_cols).fillna(0)\n",
    "\n",
    "A_valid = A_valid.values\n",
    "B_valid = B_valid.values"
   ]
  },
  {
   "cell_type": "markdown",
   "metadata": {},
   "source": [
    "## Vectorisation de X_valid et Reconstruction de Z_valid = X_valid + A_valid + B_valid"
   ]
  },
  {
   "cell_type": "code",
   "execution_count": null,
   "metadata": {},
   "outputs": [
    {
     "name": "stderr",
     "output_type": "stream",
     "text": [
      "Batches: 100%|██████████| 681/681 [00:45<00:00, 15.04it/s]\n"
     ]
    }
   ],
   "source": [
    "X_valid_bert = bert.encode(X_valid, show_progress_bar=True)"
   ]
  },
  {
   "cell_type": "code",
   "execution_count": null,
   "metadata": {},
   "outputs": [],
   "source": [
    "Z_valid = np.concatenate([X_valid_bert, A_valid, B_valid], axis=1)"
   ]
  },
  {
   "cell_type": "markdown",
   "metadata": {},
   "source": [
    "# Modele avec DNN"
   ]
  },
  {
   "cell_type": "code",
   "execution_count": null,
   "metadata": {},
   "outputs": [
    {
     "name": "stdout",
     "output_type": "stream",
     "text": [
      "Z_train.shape: (50836, 800)\n",
      "Z_valid.shape: (21787, 800)\n"
     ]
    }
   ],
   "source": [
    "print('Z_train.shape:', Z_train.shape)\n",
    "print('Z_valid.shape:', Z_valid.shape)"
   ]
  },
  {
   "cell_type": "code",
   "execution_count": null,
   "metadata": {},
   "outputs": [],
   "source": [
    "model = tf.keras.Sequential([\n",
    "    Dense(400, input_dim=800, activation='relu'),\n",
    "    Dropout(0.5),\n",
    "    Dense(200, activation='relu'),\n",
    "    Dropout(0.5),\n",
    "    Dense(100, activation='relu'),\n",
    "    Dropout(0.5),\n",
    "    Dense(50, activation='relu'),\n",
    "    Dropout(0.5),\n",
    "    Dense(1, activation='sigmoid'),\n",
    "])"
   ]
  },
  {
   "cell_type": "code",
   "execution_count": null,
   "metadata": {},
   "outputs": [
    {
     "name": "stdout",
     "output_type": "stream",
     "text": [
      "Epoch 1/10\n",
      "1589/1589 [==============================] - 3s 2ms/step - loss: 0.3627 - accuracy: 0.8228 - val_loss: 0.3550 - val_accuracy: 0.8359\n",
      "Epoch 2/10\n",
      "1589/1589 [==============================] - 2s 1ms/step - loss: 0.3464 - accuracy: 0.8306 - val_loss: 0.3296 - val_accuracy: 0.8346\n",
      "Epoch 3/10\n",
      "1589/1589 [==============================] - 2s 1ms/step - loss: 0.3411 - accuracy: 0.8299 - val_loss: 0.3382 - val_accuracy: 0.8251\n",
      "Epoch 4/10\n",
      "1589/1589 [==============================] - 2s 2ms/step - loss: 0.3404 - accuracy: 0.8311 - val_loss: 0.3320 - val_accuracy: 0.8222\n",
      "Epoch 5/10\n",
      "1589/1589 [==============================] - 2s 1ms/step - loss: 0.3376 - accuracy: 0.8319 - val_loss: 0.3349 - val_accuracy: 0.8269\n",
      "Epoch 6/10\n",
      "1589/1589 [==============================] - 2s 1ms/step - loss: 0.3364 - accuracy: 0.8315 - val_loss: 0.3277 - val_accuracy: 0.8340\n",
      "Epoch 7/10\n",
      "1589/1589 [==============================] - 2s 1ms/step - loss: 0.3360 - accuracy: 0.8332 - val_loss: 0.3374 - val_accuracy: 0.8319\n",
      "Epoch 8/10\n",
      "1589/1589 [==============================] - 2s 1ms/step - loss: 0.3347 - accuracy: 0.8356 - val_loss: 0.3305 - val_accuracy: 0.8392\n",
      "Epoch 9/10\n",
      "1589/1589 [==============================] - 2s 1ms/step - loss: 0.3336 - accuracy: 0.8352 - val_loss: 0.3275 - val_accuracy: 0.8320\n",
      "Epoch 10/10\n",
      "1589/1589 [==============================] - 2s 2ms/step - loss: 0.3327 - accuracy: 0.8359 - val_loss: 0.3303 - val_accuracy: 0.8307\n"
     ]
    }
   ],
   "source": [
    "model.compile(optimizer='adam', loss='binary_crossentropy', metrics=['accuracy'])\n",
    "model_history = model.fit(Z_train, y_train, epochs=10, batch_size=32, validation_data=(Z_valid, y_valid))"
   ]
  },
  {
   "cell_type": "code",
   "execution_count": null,
   "metadata": {},
   "outputs": [
    {
     "name": "stdout",
     "output_type": "stream",
     "text": [
      "681/681 [==============================] - 0s 479us/step\n",
      "0.2641660015961692\n"
     ]
    }
   ],
   "source": [
    "y_pred = model.predict(Z_valid)\n",
    "y_pred = np.where(y_pred>=0.5, 1, 0)\n",
    "\n",
    "print(f1_score(y_valid, y_pred))"
   ]
  },
  {
   "cell_type": "markdown",
   "metadata": {},
   "source": [
    "## Modele avec DNN avec class_weight"
   ]
  },
  {
   "cell_type": "code",
   "execution_count": null,
   "metadata": {},
   "outputs": [],
   "source": [
    "model = tf.keras.Sequential([\n",
    "    Dense(400, input_dim=800, activation='relu'),\n",
    "    Dropout(0.5),\n",
    "    Dense(200, activation='relu'),\n",
    "    Dropout(0.5),\n",
    "    Dense(100, activation='relu'),\n",
    "    Dropout(0.5),\n",
    "    Dense(50, activation='relu'),\n",
    "    Dropout(0.5),\n",
    "    Dense(1, activation='sigmoid'),\n",
    "])\n",
    "\n",
    "count_class_0 = len(y_train) - np.sum(y_train)\n",
    "count_class_1 = np.sum(y_train)\n",
    "total = len(y_train)\n",
    "frequency_class_0 = count_class_0 / total\n",
    "frequency_class_1 = count_class_1 / total\n",
    "inverse_weight_class_0 = 1 / frequency_class_0\n",
    "inverse_weight_class_1 = 1 / frequency_class_1\n",
    "class_weights = {0: inverse_weight_class_0, 1: inverse_weight_class_1}"
   ]
  },
  {
   "cell_type": "code",
   "execution_count": null,
   "metadata": {},
   "outputs": [
    {
     "name": "stdout",
     "output_type": "stream",
     "text": [
      "Epoch 1/10\n",
      "1589/1589 [==============================] - 3s 2ms/step - loss: 0.9890 - accuracy: 0.7066 - val_loss: 0.4658 - val_accuracy: 0.6769\n",
      "Epoch 2/10\n",
      "1589/1589 [==============================] - 2s 2ms/step - loss: 0.9382 - accuracy: 0.7218 - val_loss: 0.4880 - val_accuracy: 0.6854\n",
      "Epoch 3/10\n",
      "1589/1589 [==============================] - 2s 1ms/step - loss: 0.9327 - accuracy: 0.7250 - val_loss: 0.4802 - val_accuracy: 0.7138\n",
      "Epoch 4/10\n",
      "1589/1589 [==============================] - 2s 1ms/step - loss: 0.9227 - accuracy: 0.7255 - val_loss: 0.4419 - val_accuracy: 0.7308\n",
      "Epoch 5/10\n",
      "1589/1589 [==============================] - 2s 1ms/step - loss: 0.9163 - accuracy: 0.7332 - val_loss: 0.4105 - val_accuracy: 0.7605\n",
      "Epoch 6/10\n",
      "1589/1589 [==============================] - 2s 2ms/step - loss: 0.9124 - accuracy: 0.7272 - val_loss: 0.4547 - val_accuracy: 0.7331\n",
      "Epoch 7/10\n",
      "1589/1589 [==============================] - 2s 1ms/step - loss: 0.9034 - accuracy: 0.7372 - val_loss: 0.4583 - val_accuracy: 0.7477\n",
      "Epoch 8/10\n",
      "1589/1589 [==============================] - 2s 1ms/step - loss: 0.9069 - accuracy: 0.7387 - val_loss: 0.3985 - val_accuracy: 0.7669\n",
      "Epoch 9/10\n",
      "1589/1589 [==============================] - 3s 2ms/step - loss: 0.9076 - accuracy: 0.7349 - val_loss: 0.4757 - val_accuracy: 0.7227\n",
      "Epoch 10/10\n",
      "1589/1589 [==============================] - 2s 1ms/step - loss: 0.8999 - accuracy: 0.7364 - val_loss: 0.4505 - val_accuracy: 0.7365\n"
     ]
    }
   ],
   "source": [
    "model.compile(optimizer='adam', loss='binary_crossentropy', metrics=['accuracy'])\n",
    "model_history = model.fit(Z_train, y_train, epochs=10, batch_size=32, validation_data=(Z_valid, y_valid), class_weight= class_weights)"
   ]
  },
  {
   "cell_type": "code",
   "execution_count": null,
   "metadata": {},
   "outputs": [
    {
     "name": "stdout",
     "output_type": "stream",
     "text": [
      "681/681 [==============================] - 0s 481us/step\n",
      "0.5558220502901354\n"
     ]
    }
   ],
   "source": [
    "y_pred = model.predict(Z_valid)\n",
    "y_pred = np.where(y_pred>=0.5, 1, 0)\n",
    "\n",
    "print(f1_score(y_valid, y_pred))"
   ]
  },
  {
   "cell_type": "markdown",
   "metadata": {},
   "source": [
    "## Modele avec un CNN"
   ]
  },
  {
   "cell_type": "code",
   "execution_count": null,
   "metadata": {},
   "outputs": [],
   "source": [
    "import tensorflow as tf\n",
    "from tensorflow.keras.models import Sequential\n",
    "from tensorflow.keras.layers import Conv1D, GlobalMaxPooling1D, Dense, Dropout"
   ]
  },
  {
   "cell_type": "code",
   "execution_count": null,
   "metadata": {},
   "outputs": [],
   "source": [
    "model = Sequential([\n",
    "    Conv1D(filters=128, kernel_size=3, activation='relu', input_shape=(800, 1)),\n",
    "    GlobalMaxPooling1D(),\n",
    "    Dense(64, activation='relu'),\n",
    "    Dropout(0.2),  # Pour éviter le surapprentissage (overfitting)\n",
    "    Dense(1, activation='sigmoid')  # Couche de sortie binaire\n",
    "])"
   ]
  },
  {
   "cell_type": "code",
   "execution_count": null,
   "metadata": {},
   "outputs": [
    {
     "name": "stdout",
     "output_type": "stream",
     "text": [
      "Epoch 1/6\n",
      "1589/1589 [==============================] - 9s 6ms/step - loss: 0.9951 - accuracy: 0.7150 - val_loss: 0.5162 - val_accuracy: 0.7133\n",
      "Epoch 2/6\n",
      "1589/1589 [==============================] - 9s 5ms/step - loss: 0.9919 - accuracy: 0.7150 - val_loss: 0.4951 - val_accuracy: 0.7144\n",
      "Epoch 3/6\n",
      "1589/1589 [==============================] - 9s 5ms/step - loss: 0.9898 - accuracy: 0.7135 - val_loss: 0.4618 - val_accuracy: 0.7429\n",
      "Epoch 4/6\n",
      "1589/1589 [==============================] - 9s 5ms/step - loss: 0.9870 - accuracy: 0.7144 - val_loss: 0.5225 - val_accuracy: 0.7118\n",
      "Epoch 5/6\n",
      "1589/1589 [==============================] - 9s 5ms/step - loss: 0.9822 - accuracy: 0.7138 - val_loss: 0.5014 - val_accuracy: 0.7260\n",
      "Epoch 6/6\n",
      "1589/1589 [==============================] - 9s 5ms/step - loss: 0.9844 - accuracy: 0.7165 - val_loss: 0.4711 - val_accuracy: 0.7269\n"
     ]
    }
   ],
   "source": [
    "model.compile(optimizer='adam', loss='binary_crossentropy', metrics=['accuracy'])\n",
    "model_history = model.fit(Z_train, y_train, epochs=6, batch_size=32, validation_data=(Z_valid, y_valid), class_weight= class_weights)"
   ]
  },
  {
   "cell_type": "code",
   "execution_count": null,
   "metadata": {},
   "outputs": [
    {
     "name": "stdout",
     "output_type": "stream",
     "text": [
      "681/681 [==============================] - 1s 1ms/step\n",
      "0.5323379174852653\n"
     ]
    }
   ],
   "source": [
    "y_pred = model.predict(Z_valid)\n",
    "y_pred = np.where(y_pred>=0.5, 1, 0)\n",
    "\n",
    "print(f1_score(y_valid, y_pred))"
   ]
  },
  {
   "cell_type": "code",
   "execution_count": null,
   "metadata": {},
   "outputs": [
    {
     "data": {
      "text/plain": [
       "dict_keys(['loss', 'accuracy', 'val_loss', 'val_accuracy'])"
      ]
     },
     "execution_count": 58,
     "metadata": {},
     "output_type": "execute_result"
    }
   ],
   "source": [
    "model_history.history.keys()"
   ]
  },
  {
   "cell_type": "code",
   "execution_count": null,
   "metadata": {},
   "outputs": [
    {
     "data": {
      "text/plain": [
       "[<matplotlib.lines.Line2D at 0x2a7cc82b0>]"
      ]
     },
     "execution_count": 59,
     "metadata": {},
     "output_type": "execute_result"
    },
    {
     "data": {
      "image/png": "[encoded data removed]",
      "text/plain": [
       "<Figure size 640x480 with 1 Axes>"
      ]
     },
     "metadata": {},
     "output_type": "display_data"
    }
   ],
   "source": [
    "plt.plot(range(len(model_history.history['val_loss'])), model_history.history['val_loss'])"
   ]
  },
  {
   "cell_type": "markdown",
   "metadata": {},
   "source": [
    "## XGBoost"
   ]
  },
  {
   "cell_type": "code",
   "execution_count": null,
   "metadata": {},
   "outputs": [
    {
     "name": "stderr",
     "output_type": "stream",
     "text": [
      "huggingface/tokenizers: The current process just got forked, after parallelism has already been used. Disabling parallelism to avoid deadlocks...\n",
      "To disable this warning, you can either:\n",
      "\t- Avoid using `tokenizers` before the fork if possible\n",
      "\t- Explicitly set the environment variable TOKENIZERS_PARALLELISM=(true | false)\n"
     ]
    },
    {
     "name": "stdout",
     "output_type": "stream",
     "text": [
      "Defaulting to user installation because normal site-packages is not writeable\n",
      "Collecting xgboost\n",
      "  Downloading xgboost-2.0.2-py3-none-macosx_12_0_arm64.whl (1.9 MB)\n",
      "\u001b[K     |████████████████████████████████| 1.9 MB 5.3 MB/s eta 0:00:01\n",
      "\u001b[?25hRequirement already satisfied: numpy in /Users/dabereabasse/Library/Python/3.9/lib/python/site-packages (from xgboost) (1.26.2)\n",
      "Requirement already satisfied: scipy in /Users/dabereabasse/Library/Python/3.9/lib/python/site-packages (from xgboost) (1.11.4)\n",
      "Installing collected packages: xgboost\n",
      "Successfully installed xgboost-2.0.2\n",
      "\u001b[33mWARNING: You are using pip version 21.2.4; however, version 23.3.1 is available.\n",
      "You should consider upgrading via the '/Library/Developer/CommandLineTools/usr/bin/python3 -m pip install --upgrade pip' command.\u001b[0m\n",
      "Note: you may need to restart the kernel to use updated packages.\n"
     ]
    }
   ],
   "source": [
    "pip install xgboost"
   ]
  },
  {
   "cell_type": "code",
   "execution_count": null,
   "metadata": {},
   "outputs": [],
   "source": [
    "import xgboost as xgb"
   ]
  },
  {
   "cell_type": "code",
   "execution_count": null,
   "metadata": {},
   "outputs": [],
   "source": [
    "dtrain = xgb.DMatrix(Z_train, label=y_train)\n",
    "dtest = xgb.DMatrix(Z_valid, label=y_valid)"
   ]
  },
  {
   "cell_type": "code",
   "execution_count": null,
   "metadata": {},
   "outputs": [],
   "source": [
    "# Paramètres du modèle XGBoost\n",
    "param = {\n",
    "    'max_depth': 6,  # Profondeur maximale de l'arbre\n",
    "    'eta': 0.3,  # Taux d'apprentissage\n",
    "    'objective': 'binary:logistic',  # Objectif : classification binaire\n",
    "    'eval_metric': 'logloss'  # Métrique d'évaluation : log loss\n",
    "}"
   ]
  },
  {
   "cell_type": "code",
   "execution_count": null,
   "metadata": {},
   "outputs": [],
   "source": [
    "# Entraînement du modèle\n",
    "num_round = 100  # Nombre d'itérations (boosting rounds)\n",
    "bst = xgb.train(param, dtrain, num_round)"
   ]
  },
  {
   "cell_type": "code",
   "execution_count": null,
   "metadata": {},
   "outputs": [],
   "source": [
    "# Prédiction sur l'ensemble de test\n",
    "predictions = bst.predict(dtest)\n"
   ]
  },
  {
   "cell_type": "code",
   "execution_count": null,
   "metadata": {},
   "outputs": [
    {
     "name": "stdout",
     "output_type": "stream",
     "text": [
      "0.4566289527125036\n"
     ]
    }
   ],
   "source": [
    "predictions = np.where(predictions>=0.5, 1, 0)\n",
    "\n",
    "print(f1_score(y_valid, predictions))"
   ]
  }
 ],
 "metadata": {
  "kernelspec": {
   "display_name": "Python 3",
   "language": "python",
   "name": "python3"
  },
  "language_info": {
   "codemirror_mode": {
    "name": "ipython",
    "version": 3
   },
   "file_extension": ".py",
   "mimetype": "text/x-python",
   "name": "python",
   "nbconvert_exporter": "python",
   "pygments_lexer": "ipython3",
   "version": "3.9.6"
  }
 },
 "nbformat": 4,
 "nbformat_minor": 2
}
