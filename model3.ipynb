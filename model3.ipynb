{
 "cells": [
  {
   "cell_type": "code",
   "execution_count": 1,
   "metadata": {},
   "outputs": [
    {
     "name": "stderr",
     "output_type": "stream",
     "text": [
      "[nltk_data] Downloading package stopwords to\n",
      "[nltk_data]     /users/eleves-a/2021/abasse.dabere/nltk_data...\n",
      "[nltk_data]   Package stopwords is already up-to-date!\n",
      "[nltk_data] Downloading package punkt to\n",
      "[nltk_data]     /users/eleves-a/2021/abasse.dabere/nltk_data...\n",
      "[nltk_data]   Package punkt is already up-to-date!\n",
      "2023-11-25 18:44:56.729095: E external/local_xla/xla/stream_executor/cuda/cuda_dnn.cc:9261] Unable to register cuDNN factory: Attempting to register factory for plugin cuDNN when one has already been registered\n",
      "2023-11-25 18:44:56.729139: E external/local_xla/xla/stream_executor/cuda/cuda_fft.cc:607] Unable to register cuFFT factory: Attempting to register factory for plugin cuFFT when one has already been registered\n",
      "2023-11-25 18:44:56.730301: E external/local_xla/xla/stream_executor/cuda/cuda_blas.cc:1515] Unable to register cuBLAS factory: Attempting to register factory for plugin cuBLAS when one has already been registered\n",
      "2023-11-25 18:44:56.738447: I tensorflow/core/platform/cpu_feature_guard.cc:182] This TensorFlow binary is optimized to use available CPU instructions in performance-critical operations.\n",
      "To enable the following instructions: AVX2 FMA, in other operations, rebuild TensorFlow with the appropriate compiler flags.\n",
      "2023-11-25 18:44:58.096242: W tensorflow/compiler/tf2tensorrt/utils/py_utils.cc:38] TF-TRT Warning: Could not find TensorRT\n"
     ]
    }
   ],
   "source": [
    "from sklearn.feature_extraction.text import TfidfVectorizer\n",
    "from sklearn.ensemble import RandomForestClassifier\n",
    "from sklearn.model_selection import train_test_split\n",
    "from sklearn.metrics import f1_score\n",
    "from sklearn.metrics import accuracy_score\n",
    "import numpy as np\n",
    "import pandas as pd\n",
    "\n",
    "import re\n",
    "from nltk.tokenize import word_tokenize\n",
    "from nltk.corpus import stopwords\n",
    "from nltk.stem import SnowballStemmer\n",
    "import nltk\n",
    "nltk.download('stopwords')\n",
    "nltk.download('punkt')\n",
    "\n",
    "from keras.models import Sequential\n",
    "from keras.layers import Input, Dense, Dropout\n",
    "import tensorflow as tf\n",
    "\n",
    "import json\n",
    "from pathlib import Path"
   ]
  },
  {
   "cell_type": "code",
   "execution_count": 2,
   "metadata": {},
   "outputs": [],
   "source": [
    "path_to_training = Path(\"training\")\n",
    "path_to_test = Path(\"test\")"
   ]
  },
  {
   "cell_type": "markdown",
   "metadata": {},
   "source": [
    "## Combinaison Transcription+graphe pour chaque dialogue"
   ]
  },
  {
   "cell_type": "code",
   "execution_count": 36,
   "metadata": {},
   "outputs": [],
   "source": [
    "def preprocess_text(text):\n",
    "    text = text.lower()\n",
    "    text = re.sub(r'<[^>]*>|(?:um|uh)', '', text)\n",
    "\n",
    "    # Tokenization des mots\n",
    "    words = word_tokenize(text)\n",
    "\n",
    "    # Supprimer les mots vides (stop words)\n",
    "    stop_words = set(stopwords.words('english'))\n",
    "    words = [word for word in words if word not in stop_words]\n",
    "\n",
    "    # Stemming (réduction à la racine des mots)\n",
    "    stemmer = SnowballStemmer('english')\n",
    "    words = [stemmer.stem(word) for word in words]\n",
    "\n",
    "    # Rejoindre les mots traités en une seule chaîne de texte\n",
    "    processed_text = ' '.join(words)\n",
    "\n",
    "    return processed_text\n",
    "\n",
    "\n",
    "def get_xi(transcription_id):\n",
    "       discourse_graph = [] # list, i attribute j\n",
    "       with open(path_to_training / f\"{transcription_id}.txt\", 'r') as f:\n",
    "              for line in f: discourse_graph.append(line.strip())\n",
    "       \n",
    "       with open(path_to_training / f\"{transcription_id}.json\", 'r') as f:\n",
    "              transcription = json.load(f)\n",
    "\n",
    "       x_i = [] # list, speaker: attribute: text\n",
    "       prefix_i = [\"\" for i in range(len(transcription))] # list des prelations pour lesquelles i est prefixes\n",
    "       suffix_j = [\"\" for i in range(len(transcription))] # list des prelations pour lesquelles j est suffixes\n",
    "\n",
    "       for line in discourse_graph:\n",
    "              tmp = line.split()\n",
    "              i = int(tmp[0])\n",
    "              j = int(tmp[-1])\n",
    "\n",
    "              if prefix_i[i]!= \"\": prefix_i[i]+=','\n",
    "              prefix_i[i] += (\"p\"+tmp[1])\n",
    "\n",
    "              if suffix_j[j]!= \"\": suffix_j[j]+=','\n",
    "              suffix_j[j] += (\"s\"+tmp[1])\n",
    "\n",
    "       for i in range(len(transcription)):\n",
    "              replique = transcription[i]\n",
    "              text = preprocess_text(replique['text'])\n",
    "              x_i.append(text)\n",
    "\n",
    "       return x_i, prefix_i, suffix_j\n"
   ]
  },
  {
   "cell_type": "markdown",
   "metadata": {},
   "source": [
    "## Concatenater des: x_i -> X, prefix_i -> A, suffix_i -> B"
   ]
  },
  {
   "cell_type": "code",
   "execution_count": 37,
   "metadata": {},
   "outputs": [],
   "source": [
    "# Recup des ids\n",
    "transcription_ids = []\n",
    "\n",
    "transcripts = path_to_training.glob('*.json')\n",
    "for transcript in transcripts:\n",
    "    transcription_ids.append(transcript.name[:-5])"
   ]
  },
  {
   "cell_type": "code",
   "execution_count": 38,
   "metadata": {},
   "outputs": [],
   "source": [
    "# creation de X contenant les repliques x_i\n",
    "X = [] #list des repliques\n",
    "A = [] #list des prefixes\n",
    "B = [] #list des suffixes\n",
    "\n",
    "for transcription_id in  transcription_ids:\n",
    "    x_i, prefix_i, suffix_j = get_xi(transcription_id)\n",
    "    X.extend(x_i)\n",
    "    A.extend(prefix_i)\n",
    "    B.extend(suffix_j)"
   ]
  },
  {
   "cell_type": "code",
   "execution_count": 39,
   "metadata": {},
   "outputs": [
    {
     "name": "stdout",
     "output_type": "stream",
     "text": [
      "len(X): 72623\n",
      "len(A): 72623\n",
      "len(B): 72623\n"
     ]
    }
   ],
   "source": [
    "print(\"len(X):\", len(X))\n",
    "print(\"len(A):\", len(A))\n",
    "print(\"len(B):\", len(B))"
   ]
  },
  {
   "cell_type": "markdown",
   "metadata": {},
   "source": [
    "## Concatenation X+A+B -> Z, recuperation de y"
   ]
  },
  {
   "cell_type": "code",
   "execution_count": 42,
   "metadata": {},
   "outputs": [
    {
     "data": {
      "text/plain": [
       "(72623, 3)"
      ]
     },
     "execution_count": 42,
     "metadata": {},
     "output_type": "execute_result"
    }
   ],
   "source": [
    "Z = np.concatenate([np.array(X).reshape(-1,1), np.array(A).reshape(-1,1), np.array(B).reshape(-1,1)], axis=1)\n",
    "Z.shape"
   ]
  },
  {
   "cell_type": "code",
   "execution_count": 48,
   "metadata": {},
   "outputs": [
    {
     "name": "stdout",
     "output_type": "stream",
     "text": [
      "(72623, 1)\n"
     ]
    }
   ],
   "source": [
    "# creation de y contenant les labels pour chaque x_i\n",
    "y = [] # concatenation des labels\n",
    "with open(\"training_labels.json\", 'r') as f:\n",
    "    labels = json.load(f)\n",
    "\n",
    "for transcription_id in transcription_ids:\n",
    "    y.extend(labels[transcription_id])\n",
    "\n",
    "y = np.array(y).reshape(-1,1)\n",
    "\n",
    "print(y.shape)"
   ]
  },
  {
   "cell_type": "markdown",
   "metadata": {},
   "source": [
    "## Séperation en Train et Valid"
   ]
  },
  {
   "cell_type": "code",
   "execution_count": 49,
   "metadata": {},
   "outputs": [],
   "source": [
    "Z_train, Z_valid, y_train, y_valid = train_test_split(Z, y, test_size=0.3, random_state=42)"
   ]
  },
  {
   "cell_type": "markdown",
   "metadata": {},
   "source": [
    "## Recup de A_train, B_train et transformation en variables dummies"
   ]
  },
  {
   "cell_type": "code",
   "execution_count": 50,
   "metadata": {},
   "outputs": [],
   "source": [
    "X_train = Z_train[:,0]\n",
    "A_train = Z_train[:,1]\n",
    "B_train = Z_train[:,2]"
   ]
  },
  {
   "cell_type": "code",
   "execution_count": 52,
   "metadata": {},
   "outputs": [],
   "source": [
    "A_train = pd.DataFrame(A_train, columns=['variable'])\n",
    "A_train = A_train['variable'].str.get_dummies(sep=',')\n",
    "\n",
    "B_train = pd.DataFrame(B_train, columns=['variable'])\n",
    "B_train = B_train['variable'].str.get_dummies(sep=',')"
   ]
  },
  {
   "cell_type": "code",
   "execution_count": 59,
   "metadata": {},
   "outputs": [],
   "source": [
    "A_train_cols = A_train.columns\n",
    "B_train_cols = B_train.columns\n",
    "\n",
    "A_train = A_train.values\n",
    "B_train = B_train.values"
   ]
  },
  {
   "cell_type": "code",
   "execution_count": 64,
   "metadata": {},
   "outputs": [
    {
     "data": {
      "text/plain": [
       "array([[0, 0, 0, 0, 0, 0, 0, 0, 0, 0, 0, 0, 0, 0, 1, 0],\n",
       "       [0, 0, 0, 0, 0, 0, 0, 0, 0, 0, 0, 0, 0, 0, 0, 0],\n",
       "       [1, 0, 0, 0, 1, 0, 0, 1, 0, 0, 0, 0, 0, 0, 0, 0],\n",
       "       [0, 0, 0, 0, 0, 0, 0, 0, 0, 1, 0, 0, 0, 0, 0, 0],\n",
       "       [0, 0, 0, 0, 0, 0, 0, 0, 0, 1, 0, 0, 0, 0, 0, 0]])"
      ]
     },
     "execution_count": 64,
     "metadata": {},
     "output_type": "execute_result"
    }
   ],
   "source": [
    "A_train[:5]"
   ]
  },
  {
   "cell_type": "code",
   "execution_count": 63,
   "metadata": {},
   "outputs": [
    {
     "data": {
      "text/plain": [
       "Index(['pAcknowledgement', 'pAlternation', 'pBackground',\n",
       "       'pClarification_question', 'pComment', 'pConditional', 'pContinuation',\n",
       "       'pContrast', 'pCorrection', 'pElaboration', 'pExplanation',\n",
       "       'pNarration', 'pParallel', 'pQ-Elab', 'pQuestion-answer_pair',\n",
       "       'pResult'],\n",
       "      dtype='object')"
      ]
     },
     "execution_count": 63,
     "metadata": {},
     "output_type": "execute_result"
    }
   ],
   "source": [
    "A_train_cols"
   ]
  },
  {
   "cell_type": "markdown",
   "metadata": {},
   "source": [
    "## Vectorisation de X_train et Reconstruction de Z_train = X_train + A_train + B_train"
   ]
  },
  {
   "cell_type": "code",
   "execution_count": 65,
   "metadata": {},
   "outputs": [
    {
     "name": "stderr",
     "output_type": "stream",
     "text": [
      "/users/eleves-a/2021/abasse.dabere/.local/lib/python3.9/site-packages/tqdm/auto.py:21: TqdmWarning: IProgress not found. Please update jupyter and ipywidgets. See https://ipywidgets.readthedocs.io/en/stable/user_install.html\n",
      "  from .autonotebook import tqdm as notebook_tqdm\n",
      "Batches: 100%|██████████| 1589/1589 [00:20<00:00, 76.39it/s]\n"
     ]
    }
   ],
   "source": [
    "from sentence_transformers import SentenceTransformer\n",
    "bert = SentenceTransformer('all-MiniLM-L6-v2')\n",
    "\n",
    "X_train_bert = bert.encode(X_train, show_progress_bar=True)"
   ]
  },
  {
   "cell_type": "code",
   "execution_count": 66,
   "metadata": {},
   "outputs": [],
   "source": [
    "Z_train = np.concatenate([X_train_bert, A_train, B_train], axis=1)"
   ]
  },
  {
   "cell_type": "markdown",
   "metadata": {},
   "source": [
    "## Recup de A_valid, B_valid et transformation en variables dummies avec les memes colonnes que A_train, B_train"
   ]
  },
  {
   "cell_type": "code",
   "execution_count": 67,
   "metadata": {},
   "outputs": [],
   "source": [
    "X_valid = Z_valid[:,0]\n",
    "A_valid = Z_valid[:,1]\n",
    "B_valid = Z_valid[:,2]"
   ]
  },
  {
   "cell_type": "code",
   "execution_count": 68,
   "metadata": {},
   "outputs": [],
   "source": [
    "# variables dummies\n",
    "A_valid = pd.DataFrame(A_valid, columns=['variable'])\n",
    "A_valid = A_valid['variable'].str.get_dummies(sep=',')\n",
    "\n",
    "B_valid = pd.DataFrame(B_valid, columns=['variable'])\n",
    "B_valid = B_valid['variable'].str.get_dummies(sep=',')"
   ]
  },
  {
   "cell_type": "code",
   "execution_count": 69,
   "metadata": {},
   "outputs": [
    {
     "data": {
      "text/html": [
       "<div>\n",
       "<style scoped>\n",
       "    .dataframe tbody tr th:only-of-type {\n",
       "        vertical-align: middle;\n",
       "    }\n",
       "\n",
       "    .dataframe tbody tr th {\n",
       "        vertical-align: top;\n",
       "    }\n",
       "\n",
       "    .dataframe thead th {\n",
       "        text-align: right;\n",
       "    }\n",
       "</style>\n",
       "<table border=\"1\" class=\"dataframe\">\n",
       "  <thead>\n",
       "    <tr style=\"text-align: right;\">\n",
       "      <th></th>\n",
       "      <th>pAcknowledgement</th>\n",
       "      <th>pAlternation</th>\n",
       "      <th>pBackground</th>\n",
       "      <th>pClarification_question</th>\n",
       "      <th>pComment</th>\n",
       "      <th>pConditional</th>\n",
       "      <th>pContinuation</th>\n",
       "      <th>pContrast</th>\n",
       "      <th>pCorrection</th>\n",
       "      <th>pElaboration</th>\n",
       "      <th>pExplanation</th>\n",
       "      <th>pNarration</th>\n",
       "      <th>pParallel</th>\n",
       "      <th>pQ-Elab</th>\n",
       "      <th>pQuestion-answer_pair</th>\n",
       "      <th>pResult</th>\n",
       "    </tr>\n",
       "  </thead>\n",
       "  <tbody>\n",
       "    <tr>\n",
       "      <th>0</th>\n",
       "      <td>1</td>\n",
       "      <td>0</td>\n",
       "      <td>0</td>\n",
       "      <td>0</td>\n",
       "      <td>0</td>\n",
       "      <td>0</td>\n",
       "      <td>0</td>\n",
       "      <td>0</td>\n",
       "      <td>0</td>\n",
       "      <td>0</td>\n",
       "      <td>0</td>\n",
       "      <td>0</td>\n",
       "      <td>0</td>\n",
       "      <td>0</td>\n",
       "      <td>0</td>\n",
       "      <td>0</td>\n",
       "    </tr>\n",
       "    <tr>\n",
       "      <th>1</th>\n",
       "      <td>1</td>\n",
       "      <td>0</td>\n",
       "      <td>0</td>\n",
       "      <td>0</td>\n",
       "      <td>1</td>\n",
       "      <td>0</td>\n",
       "      <td>0</td>\n",
       "      <td>0</td>\n",
       "      <td>0</td>\n",
       "      <td>0</td>\n",
       "      <td>0</td>\n",
       "      <td>0</td>\n",
       "      <td>0</td>\n",
       "      <td>0</td>\n",
       "      <td>0</td>\n",
       "      <td>0</td>\n",
       "    </tr>\n",
       "    <tr>\n",
       "      <th>2</th>\n",
       "      <td>0</td>\n",
       "      <td>0</td>\n",
       "      <td>0</td>\n",
       "      <td>0</td>\n",
       "      <td>0</td>\n",
       "      <td>0</td>\n",
       "      <td>1</td>\n",
       "      <td>0</td>\n",
       "      <td>0</td>\n",
       "      <td>0</td>\n",
       "      <td>0</td>\n",
       "      <td>0</td>\n",
       "      <td>0</td>\n",
       "      <td>0</td>\n",
       "      <td>0</td>\n",
       "      <td>0</td>\n",
       "    </tr>\n",
       "    <tr>\n",
       "      <th>3</th>\n",
       "      <td>0</td>\n",
       "      <td>0</td>\n",
       "      <td>0</td>\n",
       "      <td>0</td>\n",
       "      <td>0</td>\n",
       "      <td>0</td>\n",
       "      <td>0</td>\n",
       "      <td>0</td>\n",
       "      <td>0</td>\n",
       "      <td>0</td>\n",
       "      <td>0</td>\n",
       "      <td>0</td>\n",
       "      <td>0</td>\n",
       "      <td>0</td>\n",
       "      <td>0</td>\n",
       "      <td>0</td>\n",
       "    </tr>\n",
       "    <tr>\n",
       "      <th>4</th>\n",
       "      <td>0</td>\n",
       "      <td>0</td>\n",
       "      <td>0</td>\n",
       "      <td>0</td>\n",
       "      <td>1</td>\n",
       "      <td>0</td>\n",
       "      <td>0</td>\n",
       "      <td>0</td>\n",
       "      <td>0</td>\n",
       "      <td>0</td>\n",
       "      <td>0</td>\n",
       "      <td>0</td>\n",
       "      <td>0</td>\n",
       "      <td>0</td>\n",
       "      <td>0</td>\n",
       "      <td>0</td>\n",
       "    </tr>\n",
       "  </tbody>\n",
       "</table>\n",
       "</div>"
      ],
      "text/plain": [
       "   pAcknowledgement  pAlternation  pBackground  pClarification_question  \\\n",
       "0                 1             0            0                        0   \n",
       "1                 1             0            0                        0   \n",
       "2                 0             0            0                        0   \n",
       "3                 0             0            0                        0   \n",
       "4                 0             0            0                        0   \n",
       "\n",
       "   pComment  pConditional  pContinuation  pContrast  pCorrection  \\\n",
       "0         0             0              0          0            0   \n",
       "1         1             0              0          0            0   \n",
       "2         0             0              1          0            0   \n",
       "3         0             0              0          0            0   \n",
       "4         1             0              0          0            0   \n",
       "\n",
       "   pElaboration  pExplanation  pNarration  pParallel  pQ-Elab  \\\n",
       "0             0             0           0          0        0   \n",
       "1             0             0           0          0        0   \n",
       "2             0             0           0          0        0   \n",
       "3             0             0           0          0        0   \n",
       "4             0             0           0          0        0   \n",
       "\n",
       "   pQuestion-answer_pair  pResult  \n",
       "0                      0        0  \n",
       "1                      0        0  \n",
       "2                      0        0  \n",
       "3                      0        0  \n",
       "4                      0        0  "
      ]
     },
     "execution_count": 69,
     "metadata": {},
     "output_type": "execute_result"
    }
   ],
   "source": [
    "A_valid.head()"
   ]
  },
  {
   "cell_type": "code",
   "execution_count": 78,
   "metadata": {},
   "outputs": [],
   "source": [
    "# rearangement des colonnes de A_valid et B_valid pour que ça soit pareil avec celles des train\n",
    "\n",
    "A_valid = A_valid.reindex(columns=A_train_cols).fillna(0)\n",
    "B_valid = B_valid.reindex(columns=B_train_cols).fillna(0)\n",
    "\n",
    "A_valid = A_valid.values\n",
    "B_valid = B_valid.values"
   ]
  },
  {
   "cell_type": "markdown",
   "metadata": {},
   "source": [
    "## Vectorisation de X_valid et Reconstruction de Z_valid = X_valid + A_valid + B_valid"
   ]
  },
  {
   "cell_type": "code",
   "execution_count": 79,
   "metadata": {},
   "outputs": [
    {
     "name": "stderr",
     "output_type": "stream",
     "text": [
      "Batches: 100%|██████████| 681/681 [00:08<00:00, 80.67it/s]\n"
     ]
    }
   ],
   "source": [
    "X_valid_bert = bert.encode(X_valid, show_progress_bar=True)"
   ]
  },
  {
   "cell_type": "code",
   "execution_count": 80,
   "metadata": {},
   "outputs": [],
   "source": [
    "Z_valid = np.concatenate([X_valid_bert, A_valid, B_valid], axis=1)"
   ]
  },
  {
   "cell_type": "markdown",
   "metadata": {},
   "source": [
    "# Modele avec DNN"
   ]
  },
  {
   "cell_type": "code",
   "execution_count": 88,
   "metadata": {},
   "outputs": [
    {
     "name": "stdout",
     "output_type": "stream",
     "text": [
      "Z_train.shape: (50836, 416)\n",
      "Z_valid.shape: (21787, 416)\n"
     ]
    }
   ],
   "source": [
    "print('Z_train.shape:', Z_train.shape)\n",
    "print('Z_valid.shape:', Z_valid.shape)"
   ]
  },
  {
   "cell_type": "code",
   "execution_count": 93,
   "metadata": {},
   "outputs": [],
   "source": [
    "model = tf.keras.Sequential([\n",
    "    Dense(200, input_dim=416, activation='relu'),\n",
    "    Dropout(0.5),\n",
    "    Dense(100, activation='relu'),\n",
    "    Dropout(0.5),\n",
    "    Dense(50, activation='relu'),\n",
    "    Dropout(0.5),\n",
    "    Dense(1, activation='sigmoid'),\n",
    "])"
   ]
  },
  {
   "cell_type": "code",
   "execution_count": 100,
   "metadata": {},
   "outputs": [
    {
     "name": "stderr",
     "output_type": "stream",
     "text": [
      "2023-11-25 20:19:58.569432: W external/local_tsl/tsl/framework/bfc_allocator.cc:485] Allocator (GPU_0_bfc) ran out of memory trying to allocate 80.67MiB (rounded to 84591104)requested by op _EagerConst\n",
      "If the cause is memory fragmentation maybe the environment variable 'TF_GPU_ALLOCATOR=cuda_malloc_async' will improve the situation. \n",
      "Current allocation summary follows.\n",
      "Current allocation summary follows.\n",
      "2023-11-25 20:19:58.569471: I external/local_tsl/tsl/framework/bfc_allocator.cc:1039] BFCAllocator dump for GPU_0_bfc\n",
      "2023-11-25 20:19:58.569484: I external/local_tsl/tsl/framework/bfc_allocator.cc:1046] Bin (256): \tTotal Chunks: 77, Chunks in use: 77. 19.2KiB allocated for chunks. 19.2KiB in use in bin. 2.7KiB client-requested in use in bin.\n",
      "2023-11-25 20:19:58.569489: I external/local_tsl/tsl/framework/bfc_allocator.cc:1046] Bin (512): \tTotal Chunks: 5, Chunks in use: 5. 2.5KiB allocated for chunks. 2.5KiB in use in bin. 2.4KiB client-requested in use in bin.\n",
      "2023-11-25 20:19:58.569493: I external/local_tsl/tsl/framework/bfc_allocator.cc:1046] Bin (1024): \tTotal Chunks: 6, Chunks in use: 6. 6.2KiB allocated for chunks. 6.2KiB in use in bin. 5.8KiB client-requested in use in bin.\n",
      "2023-11-25 20:19:58.569498: I external/local_tsl/tsl/framework/bfc_allocator.cc:1046] Bin (2048): \tTotal Chunks: 0, Chunks in use: 0. 0B allocated for chunks. 0B in use in bin. 0B client-requested in use in bin.\n",
      "2023-11-25 20:19:58.569501: I external/local_tsl/tsl/framework/bfc_allocator.cc:1046] Bin (4096): \tTotal Chunks: 0, Chunks in use: 0. 0B allocated for chunks. 0B in use in bin. 0B client-requested in use in bin.\n",
      "2023-11-25 20:19:58.569505: I external/local_tsl/tsl/framework/bfc_allocator.cc:1046] Bin (8192): \tTotal Chunks: 0, Chunks in use: 0. 0B allocated for chunks. 0B in use in bin. 0B client-requested in use in bin.\n",
      "2023-11-25 20:19:58.569509: I external/local_tsl/tsl/framework/bfc_allocator.cc:1046] Bin (16384): \tTotal Chunks: 3, Chunks in use: 1. 56.5KiB allocated for chunks. 19.8KiB in use in bin. 19.5KiB client-requested in use in bin.\n",
      "2023-11-25 20:19:58.569514: I external/local_tsl/tsl/framework/bfc_allocator.cc:1046] Bin (32768): \tTotal Chunks: 5, Chunks in use: 4. 194.5KiB allocated for chunks. 159.8KiB in use in bin. 128.0KiB client-requested in use in bin.\n",
      "2023-11-25 20:19:58.569519: I external/local_tsl/tsl/framework/bfc_allocator.cc:1046] Bin (65536): \tTotal Chunks: 2, Chunks in use: 1. 159.2KiB allocated for chunks. 78.2KiB in use in bin. 78.1KiB client-requested in use in bin.\n",
      "2023-11-25 20:19:58.569523: I external/local_tsl/tsl/framework/bfc_allocator.cc:1046] Bin (131072): \tTotal Chunks: 5, Chunks in use: 5. 778.2KiB allocated for chunks. 778.2KiB in use in bin. 682.2KiB client-requested in use in bin.\n",
      "2023-11-25 20:19:58.569527: I external/local_tsl/tsl/framework/bfc_allocator.cc:1046] Bin (262144): \tTotal Chunks: 6, Chunks in use: 5. 2.42MiB allocated for chunks. 1.94MiB in use in bin. 1.94MiB client-requested in use in bin.\n",
      "2023-11-25 20:19:58.569532: I external/local_tsl/tsl/framework/bfc_allocator.cc:1046] Bin (524288): \tTotal Chunks: 1, Chunks in use: 1. 576.0KiB allocated for chunks. 576.0KiB in use in bin. 397.2KiB client-requested in use in bin.\n",
      "2023-11-25 20:19:58.569535: I external/local_tsl/tsl/framework/bfc_allocator.cc:1046] Bin (1048576): \tTotal Chunks: 0, Chunks in use: 0. 0B allocated for chunks. 0B in use in bin. 0B client-requested in use in bin.\n",
      "2023-11-25 20:19:58.569539: I external/local_tsl/tsl/framework/bfc_allocator.cc:1046] Bin (2097152): \tTotal Chunks: 0, Chunks in use: 0. 0B allocated for chunks. 0B in use in bin. 0B client-requested in use in bin.\n",
      "2023-11-25 20:19:58.569542: I external/local_tsl/tsl/framework/bfc_allocator.cc:1046] Bin (4194304): \tTotal Chunks: 0, Chunks in use: 0. 0B allocated for chunks. 0B in use in bin. 0B client-requested in use in bin.\n",
      "2023-11-25 20:19:58.569545: I external/local_tsl/tsl/framework/bfc_allocator.cc:1046] Bin (8388608): \tTotal Chunks: 0, Chunks in use: 0. 0B allocated for chunks. 0B in use in bin. 0B client-requested in use in bin.\n",
      "2023-11-25 20:19:58.569549: I external/local_tsl/tsl/framework/bfc_allocator.cc:1046] Bin (16777216): \tTotal Chunks: 0, Chunks in use: 0. 0B allocated for chunks. 0B in use in bin. 0B client-requested in use in bin.\n",
      "2023-11-25 20:19:58.569554: I external/local_tsl/tsl/framework/bfc_allocator.cc:1046] Bin (33554432): \tTotal Chunks: 3, Chunks in use: 1. 116.96MiB allocated for chunks. 34.57MiB in use in bin. 34.57MiB client-requested in use in bin.\n",
      "2023-11-25 20:19:58.569560: I external/local_tsl/tsl/framework/bfc_allocator.cc:1046] Bin (67108864): \tTotal Chunks: 1, Chunks in use: 1. 81.03MiB allocated for chunks. 81.03MiB in use in bin. 80.67MiB client-requested in use in bin.\n",
      "2023-11-25 20:19:58.569580: I external/local_tsl/tsl/framework/bfc_allocator.cc:1046] Bin (134217728): \tTotal Chunks: 0, Chunks in use: 0. 0B allocated for chunks. 0B in use in bin. 0B client-requested in use in bin.\n",
      "2023-11-25 20:19:58.569584: I external/local_tsl/tsl/framework/bfc_allocator.cc:1046] Bin (268435456): \tTotal Chunks: 0, Chunks in use: 0. 0B allocated for chunks. 0B in use in bin. 0B client-requested in use in bin.\n",
      "2023-11-25 20:19:58.569588: I external/local_tsl/tsl/framework/bfc_allocator.cc:1062] Bin for 80.67MiB was 64.00MiB, Chunk State: \n",
      "2023-11-25 20:19:58.569593: I external/local_tsl/tsl/framework/bfc_allocator.cc:1075] Next region of size 211982848\n",
      "2023-11-25 20:19:58.569597: I external/local_tsl/tsl/framework/bfc_allocator.cc:1095] InUse at 7f0bb2000000 of size 256 next 1\n",
      "2023-11-25 20:19:58.569601: I external/local_tsl/tsl/framework/bfc_allocator.cc:1095] InUse at 7f0bb2000100 of size 1280 next 2\n",
      "2023-11-25 20:19:58.569604: I external/local_tsl/tsl/framework/bfc_allocator.cc:1095] InUse at 7f0bb2000600 of size 256 next 3\n",
      "2023-11-25 20:19:58.569607: I external/local_tsl/tsl/framework/bfc_allocator.cc:1095] InUse at 7f0bb2000700 of size 256 next 4\n",
      "2023-11-25 20:19:58.569610: I external/local_tsl/tsl/framework/bfc_allocator.cc:1095] InUse at 7f0bb2000800 of size 256 next 6\n",
      "2023-11-25 20:19:58.569613: I external/local_tsl/tsl/framework/bfc_allocator.cc:1095] InUse at 7f0bb2000900 of size 1024 next 7\n",
      "2023-11-25 20:19:58.569616: I external/local_tsl/tsl/framework/bfc_allocator.cc:1095] InUse at 7f0bb2000d00 of size 256 next 5\n",
      "2023-11-25 20:19:58.569619: I external/local_tsl/tsl/framework/bfc_allocator.cc:1095] InUse at 7f0bb2000e00 of size 256 next 8\n",
      "2023-11-25 20:19:58.569622: I external/local_tsl/tsl/framework/bfc_allocator.cc:1095] InUse at 7f0bb2000f00 of size 512 next 12\n",
      "2023-11-25 20:19:58.569625: I external/local_tsl/tsl/framework/bfc_allocator.cc:1095] InUse at 7f0bb2001100 of size 256 next 13\n",
      "2023-11-25 20:19:58.569628: I external/local_tsl/tsl/framework/bfc_allocator.cc:1095] InUse at 7f0bb2001200 of size 256 next 11\n",
      "2023-11-25 20:19:58.569631: I external/local_tsl/tsl/framework/bfc_allocator.cc:1095] InUse at 7f0bb2001300 of size 256 next 17\n",
      "2023-11-25 20:19:58.569634: I external/local_tsl/tsl/framework/bfc_allocator.cc:1095] InUse at 7f0bb2001400 of size 256 next 18\n",
      "2023-11-25 20:19:58.569637: I external/local_tsl/tsl/framework/bfc_allocator.cc:1095] InUse at 7f0bb2001500 of size 256 next 14\n",
      "2023-11-25 20:19:58.569640: I external/local_tsl/tsl/framework/bfc_allocator.cc:1095] InUse at 7f0bb2001600 of size 256 next 22\n",
      "2023-11-25 20:19:58.569642: I external/local_tsl/tsl/framework/bfc_allocator.cc:1095] InUse at 7f0bb2001700 of size 256 next 19\n",
      "2023-11-25 20:19:58.569645: I external/local_tsl/tsl/framework/bfc_allocator.cc:1095] InUse at 7f0bb2001800 of size 256 next 15\n",
      "2023-11-25 20:19:58.569648: I external/local_tsl/tsl/framework/bfc_allocator.cc:1095] InUse at 7f0bb2001900 of size 256 next 23\n",
      "2023-11-25 20:19:58.569651: I external/local_tsl/tsl/framework/bfc_allocator.cc:1095] InUse at 7f0bb2001a00 of size 256 next 25\n",
      "2023-11-25 20:19:58.569654: I external/local_tsl/tsl/framework/bfc_allocator.cc:1095] InUse at 7f0bb2001b00 of size 256 next 26\n",
      "2023-11-25 20:19:58.569657: I external/local_tsl/tsl/framework/bfc_allocator.cc:1095] InUse at 7f0bb2001c00 of size 256 next 28\n",
      "2023-11-25 20:19:58.569660: I external/local_tsl/tsl/framework/bfc_allocator.cc:1095] InUse at 7f0bb2001d00 of size 256 next 29\n",
      "2023-11-25 20:19:58.569663: I external/local_tsl/tsl/framework/bfc_allocator.cc:1095] InUse at 7f0bb2001e00 of size 256 next 30\n",
      "2023-11-25 20:19:58.569665: I external/local_tsl/tsl/framework/bfc_allocator.cc:1095] InUse at 7f0bb2001f00 of size 256 next 31\n",
      "2023-11-25 20:19:58.569669: I external/local_tsl/tsl/framework/bfc_allocator.cc:1095] InUse at 7f0bb2002000 of size 1024 next 34\n",
      "2023-11-25 20:19:58.569672: I external/local_tsl/tsl/framework/bfc_allocator.cc:1095] InUse at 7f0bb2002400 of size 512 next 32\n",
      "2023-11-25 20:19:58.569675: I external/local_tsl/tsl/framework/bfc_allocator.cc:1095] InUse at 7f0bb2002600 of size 32768 next 9\n",
      "2023-11-25 20:19:58.569678: I external/local_tsl/tsl/framework/bfc_allocator.cc:1095] InUse at 7f0bb200a600 of size 32768 next 16\n",
      "2023-11-25 20:19:58.569681: I external/local_tsl/tsl/framework/bfc_allocator.cc:1095] InUse at 7f0bb2012600 of size 196608 next 24\n",
      "2023-11-25 20:19:58.569684: I external/local_tsl/tsl/framework/bfc_allocator.cc:1095] InUse at 7f0bb2042600 of size 163840 next 10\n",
      "2023-11-25 20:19:58.569687: I external/local_tsl/tsl/framework/bfc_allocator.cc:1095] InUse at 7f0bb206a600 of size 425984 next 46\n",
      "2023-11-25 20:19:58.569691: I external/local_tsl/tsl/framework/bfc_allocator.cc:1095] InUse at 7f0bb20d2600 of size 84967168 next 27\n",
      "2023-11-25 20:19:58.569695: I external/local_tsl/tsl/framework/bfc_allocator.cc:1095] InUse at 7f0bb71da500 of size 256 next 39\n",
      "2023-11-25 20:19:58.569697: I external/local_tsl/tsl/framework/bfc_allocator.cc:1095] InUse at 7f0bb71da600 of size 256 next 40\n",
      "2023-11-25 20:19:58.569700: I external/local_tsl/tsl/framework/bfc_allocator.cc:1095] InUse at 7f0bb71da700 of size 256 next 33\n",
      "2023-11-25 20:19:58.569703: I external/local_tsl/tsl/framework/bfc_allocator.cc:1095] InUse at 7f0bb71da800 of size 256 next 43\n",
      "2023-11-25 20:19:58.569706: I external/local_tsl/tsl/framework/bfc_allocator.cc:1095] InUse at 7f0bb71da900 of size 256 next 44\n",
      "2023-11-25 20:19:58.569709: I external/local_tsl/tsl/framework/bfc_allocator.cc:1095] InUse at 7f0bb71daa00 of size 256 next 45\n",
      "2023-11-25 20:19:58.569712: I external/local_tsl/tsl/framework/bfc_allocator.cc:1095] InUse at 7f0bb71dab00 of size 256 next 20\n",
      "2023-11-25 20:19:58.569715: I external/local_tsl/tsl/framework/bfc_allocator.cc:1095] InUse at 7f0bb71dac00 of size 256 next 47\n",
      "2023-11-25 20:19:58.569718: I external/local_tsl/tsl/framework/bfc_allocator.cc:1095] InUse at 7f0bb71dad00 of size 256 next 48\n",
      "2023-11-25 20:19:58.569721: I external/local_tsl/tsl/framework/bfc_allocator.cc:1095] InUse at 7f0bb71dae00 of size 256 next 49\n",
      "2023-11-25 20:19:58.569723: I external/local_tsl/tsl/framework/bfc_allocator.cc:1095] InUse at 7f0bb71daf00 of size 256 next 50\n",
      "2023-11-25 20:19:58.569726: I external/local_tsl/tsl/framework/bfc_allocator.cc:1095] InUse at 7f0bb71db000 of size 256 next 51\n",
      "2023-11-25 20:19:58.569729: I external/local_tsl/tsl/framework/bfc_allocator.cc:1095] InUse at 7f0bb71db100 of size 1024 next 53\n",
      "2023-11-25 20:19:58.569732: I external/local_tsl/tsl/framework/bfc_allocator.cc:1095] InUse at 7f0bb71db500 of size 1024 next 54\n",
      "2023-11-25 20:19:58.569735: I external/local_tsl/tsl/framework/bfc_allocator.cc:1095] InUse at 7f0bb71db900 of size 512 next 56\n",
      "2023-11-25 20:19:58.569738: I external/local_tsl/tsl/framework/bfc_allocator.cc:1095] InUse at 7f0bb71dbb00 of size 512 next 57\n",
      "2023-11-25 20:19:58.569741: I external/local_tsl/tsl/framework/bfc_allocator.cc:1095] InUse at 7f0bb71dbd00 of size 256 next 58\n",
      "2023-11-25 20:19:58.569743: I external/local_tsl/tsl/framework/bfc_allocator.cc:1095] InUse at 7f0bb71dbe00 of size 256 next 59\n",
      "2023-11-25 20:19:58.569746: I external/local_tsl/tsl/framework/bfc_allocator.cc:1095] InUse at 7f0bb71dbf00 of size 256 next 60\n",
      "2023-11-25 20:19:58.569749: I external/local_tsl/tsl/framework/bfc_allocator.cc:1095] InUse at 7f0bb71dc000 of size 256 next 61\n",
      "2023-11-25 20:19:58.569752: I external/local_tsl/tsl/framework/bfc_allocator.cc:1095] InUse at 7f0bb71dc100 of size 256 next 62\n",
      "2023-11-25 20:19:58.569755: I external/local_tsl/tsl/framework/bfc_allocator.cc:1095] InUse at 7f0bb71dc200 of size 256 next 63\n",
      "2023-11-25 20:19:58.569758: I external/local_tsl/tsl/framework/bfc_allocator.cc:1095] InUse at 7f0bb71dc300 of size 256 next 64\n",
      "2023-11-25 20:19:58.569761: I external/local_tsl/tsl/framework/bfc_allocator.cc:1095] InUse at 7f0bb71dc400 of size 256 next 65\n",
      "2023-11-25 20:19:58.569764: I external/local_tsl/tsl/framework/bfc_allocator.cc:1095] InUse at 7f0bb71dc500 of size 256 next 66\n",
      "2023-11-25 20:19:58.569767: I external/local_tsl/tsl/framework/bfc_allocator.cc:1095] InUse at 7f0bb71dc600 of size 256 next 67\n",
      "2023-11-25 20:19:58.569770: I external/local_tsl/tsl/framework/bfc_allocator.cc:1095] InUse at 7f0bb71dc700 of size 256 next 68\n",
      "2023-11-25 20:19:58.569773: I external/local_tsl/tsl/framework/bfc_allocator.cc:1095] InUse at 7f0bb71dc800 of size 256 next 69\n",
      "2023-11-25 20:19:58.569776: I external/local_tsl/tsl/framework/bfc_allocator.cc:1095] InUse at 7f0bb71dc900 of size 256 next 70\n",
      "2023-11-25 20:19:58.569778: I external/local_tsl/tsl/framework/bfc_allocator.cc:1095] InUse at 7f0bb71dca00 of size 256 next 71\n",
      "2023-11-25 20:19:58.569781: I external/local_tsl/tsl/framework/bfc_allocator.cc:1095] InUse at 7f0bb71dcb00 of size 256 next 77\n",
      "2023-11-25 20:19:58.569784: I external/local_tsl/tsl/framework/bfc_allocator.cc:1095] InUse at 7f0bb71dcc00 of size 1024 next 767\n",
      "2023-11-25 20:19:58.569787: I external/local_tsl/tsl/framework/bfc_allocator.cc:1095] InUse at 7f0bb71dd000 of size 512 next 81\n",
      "2023-11-25 20:19:58.569790: I external/local_tsl/tsl/framework/bfc_allocator.cc:1095] InUse at 7f0bb71dd200 of size 256 next 107\n",
      "2023-11-25 20:19:58.569793: I external/local_tsl/tsl/framework/bfc_allocator.cc:1095] InUse at 7f0bb71dd300 of size 256 next 105\n",
      "2023-11-25 20:19:58.569796: I external/local_tsl/tsl/framework/bfc_allocator.cc:1095] Free  at 7f0bb71dd400 of size 20992 next 41\n",
      "2023-11-25 20:19:58.569799: I external/local_tsl/tsl/framework/bfc_allocator.cc:1095] InUse at 7f0bb71e2600 of size 32768 next 42\n",
      "2023-11-25 20:19:58.569802: I external/local_tsl/tsl/framework/bfc_allocator.cc:1095] InUse at 7f0bb71ea600 of size 65280 next 38\n",
      "2023-11-25 20:19:58.569805: I external/local_tsl/tsl/framework/bfc_allocator.cc:1095] InUse at 7f0bb71fa500 of size 131072 next 37\n",
      "2023-11-25 20:19:58.569808: I external/local_tsl/tsl/framework/bfc_allocator.cc:1095] InUse at 7f0bb721a500 of size 589824 next 36\n",
      "2023-11-25 20:19:58.569811: I external/local_tsl/tsl/framework/bfc_allocator.cc:1095] InUse at 7f0bb72aa500 of size 425984 next 35\n",
      "2023-11-25 20:19:58.569814: I external/local_tsl/tsl/framework/bfc_allocator.cc:1095] InUse at 7f0bb7312500 of size 425984 next 21\n",
      "2023-11-25 20:19:58.569817: I external/local_tsl/tsl/framework/bfc_allocator.cc:1095] InUse at 7f0bb737a500 of size 425984 next 52\n",
      "2023-11-25 20:19:58.569820: I external/local_tsl/tsl/framework/bfc_allocator.cc:1095] InUse at 7f0bb73e2500 of size 131072 next 55\n",
      "2023-11-25 20:19:58.569823: I external/local_tsl/tsl/framework/bfc_allocator.cc:1095] Free  at 7f0bb7402500 of size 82944 next 109\n",
      "2023-11-25 20:19:58.569826: I external/local_tsl/tsl/framework/bfc_allocator.cc:1095] InUse at 7f0bb7416900 of size 256 next 93\n",
      "2023-11-25 20:19:58.569829: I external/local_tsl/tsl/framework/bfc_allocator.cc:1095] InUse at 7f0bb7416a00 of size 256 next 75\n",
      "2023-11-25 20:19:58.569832: I external/local_tsl/tsl/framework/bfc_allocator.cc:1095] InUse at 7f0bb7416b00 of size 256 next 76\n",
      "2023-11-25 20:19:58.569835: I external/local_tsl/tsl/framework/bfc_allocator.cc:1095] InUse at 7f0bb7416c00 of size 256 next 94\n",
      "2023-11-25 20:19:58.569837: I external/local_tsl/tsl/framework/bfc_allocator.cc:1095] InUse at 7f0bb7416d00 of size 256 next 102\n",
      "2023-11-25 20:19:58.569840: I external/local_tsl/tsl/framework/bfc_allocator.cc:1095] InUse at 7f0bb7416e00 of size 256 next 707\n",
      "2023-11-25 20:19:58.569843: I external/local_tsl/tsl/framework/bfc_allocator.cc:1095] InUse at 7f0bb7416f00 of size 256 next 766\n",
      "2023-11-25 20:19:58.569846: I external/local_tsl/tsl/framework/bfc_allocator.cc:1095] InUse at 7f0bb7417000 of size 256 next 82\n",
      "2023-11-25 20:19:58.569849: I external/local_tsl/tsl/framework/bfc_allocator.cc:1095] InUse at 7f0bb7417100 of size 256 next 99\n",
      "2023-11-25 20:19:58.569853: I external/local_tsl/tsl/framework/bfc_allocator.cc:1095] InUse at 7f0bb7417200 of size 256 next 95\n",
      "2023-11-25 20:19:58.569855: I external/local_tsl/tsl/framework/bfc_allocator.cc:1095] InUse at 7f0bb7417300 of size 256 next 91\n",
      "2023-11-25 20:19:58.569858: I external/local_tsl/tsl/framework/bfc_allocator.cc:1095] InUse at 7f0bb7417400 of size 256 next 85\n",
      "2023-11-25 20:19:58.569861: I external/local_tsl/tsl/framework/bfc_allocator.cc:1095] InUse at 7f0bb7417500 of size 256 next 98\n",
      "2023-11-25 20:19:58.569864: I external/local_tsl/tsl/framework/bfc_allocator.cc:1095] InUse at 7f0bb7417600 of size 256 next 88\n",
      "2023-11-25 20:19:58.569867: I external/local_tsl/tsl/framework/bfc_allocator.cc:1095] InUse at 7f0bb7417700 of size 256 next 104\n",
      "2023-11-25 20:19:58.569870: I external/local_tsl/tsl/framework/bfc_allocator.cc:1095] InUse at 7f0bb7417800 of size 256 next 83\n",
      "2023-11-25 20:19:58.569873: I external/local_tsl/tsl/framework/bfc_allocator.cc:1095] InUse at 7f0bb7417900 of size 256 next 80\n",
      "2023-11-25 20:19:58.569876: I external/local_tsl/tsl/framework/bfc_allocator.cc:1095] InUse at 7f0bb7417a00 of size 256 next 79\n",
      "2023-11-25 20:19:58.569879: I external/local_tsl/tsl/framework/bfc_allocator.cc:1095] InUse at 7f0bb7417b00 of size 256 next 90\n",
      "2023-11-25 20:19:58.569882: I external/local_tsl/tsl/framework/bfc_allocator.cc:1095] InUse at 7f0bb7417c00 of size 256 next 89\n",
      "2023-11-25 20:19:58.569885: I external/local_tsl/tsl/framework/bfc_allocator.cc:1095] InUse at 7f0bb7417d00 of size 256 next 101\n",
      "2023-11-25 20:19:58.569887: I external/local_tsl/tsl/framework/bfc_allocator.cc:1095] InUse at 7f0bb7417e00 of size 256 next 86\n",
      "2023-11-25 20:19:58.569890: I external/local_tsl/tsl/framework/bfc_allocator.cc:1095] InUse at 7f0bb7417f00 of size 256 next 84\n",
      "2023-11-25 20:19:58.569893: I external/local_tsl/tsl/framework/bfc_allocator.cc:1095] InUse at 7f0bb7418000 of size 256 next 108\n",
      "2023-11-25 20:19:58.569896: I external/local_tsl/tsl/framework/bfc_allocator.cc:1095] InUse at 7f0bb7418100 of size 256 next 110\n",
      "2023-11-25 20:19:58.569899: I external/local_tsl/tsl/framework/bfc_allocator.cc:1095] InUse at 7f0bb7418200 of size 256 next 111\n",
      "2023-11-25 20:19:58.569902: I external/local_tsl/tsl/framework/bfc_allocator.cc:1095] Free  at 7f0bb7418300 of size 16640 next 100\n",
      "2023-11-25 20:19:58.569905: I external/local_tsl/tsl/framework/bfc_allocator.cc:1095] InUse at 7f0bb741c400 of size 20224 next 73\n",
      "2023-11-25 20:19:58.569908: I external/local_tsl/tsl/framework/bfc_allocator.cc:1095] Free  at 7f0bb7421300 of size 35584 next 96\n",
      "2023-11-25 20:19:58.569911: I external/local_tsl/tsl/framework/bfc_allocator.cc:1095] InUse at 7f0bb7429e00 of size 256 next 97\n",
      "2023-11-25 20:19:58.569914: I external/local_tsl/tsl/framework/bfc_allocator.cc:1095] InUse at 7f0bb7429f00 of size 36253696 next 74\n",
      "2023-11-25 20:19:58.569917: I external/local_tsl/tsl/framework/bfc_allocator.cc:1095] InUse at 7f0bb96bcf00 of size 174336 next 72\n",
      "2023-11-25 20:19:58.569920: I external/local_tsl/tsl/framework/bfc_allocator.cc:1095] Free  at 7f0bb96e7800 of size 36333824 next 78\n",
      "2023-11-25 20:19:58.569923: I external/local_tsl/tsl/framework/bfc_allocator.cc:1095] InUse at 7f0bbb98e100 of size 80128 next 103\n",
      "2023-11-25 20:19:58.569927: I external/local_tsl/tsl/framework/bfc_allocator.cc:1095] Free  at 7f0bbb9a1a00 of size 505344 next 92\n",
      "2023-11-25 20:19:58.569930: I external/local_tsl/tsl/framework/bfc_allocator.cc:1095] InUse at 7f0bbba1d000 of size 332800 next 87\n",
      "2023-11-25 20:19:58.569933: I external/local_tsl/tsl/framework/bfc_allocator.cc:1095] Free  at 7f0bbba6e400 of size 50050560 next 18446744073709551615\n",
      "2023-11-25 20:19:58.569937: I external/local_tsl/tsl/framework/bfc_allocator.cc:1100]      Summary of in-use Chunks by size: \n",
      "2023-11-25 20:19:58.569942: I external/local_tsl/tsl/framework/bfc_allocator.cc:1103] 77 Chunks of size 256 totalling 19.2KiB\n",
      "2023-11-25 20:19:58.569945: I external/local_tsl/tsl/framework/bfc_allocator.cc:1103] 5 Chunks of size 512 totalling 2.5KiB\n",
      "2023-11-25 20:19:58.569949: I external/local_tsl/tsl/framework/bfc_allocator.cc:1103] 5 Chunks of size 1024 totalling 5.0KiB\n",
      "2023-11-25 20:19:58.569953: I external/local_tsl/tsl/framework/bfc_allocator.cc:1103] 1 Chunks of size 1280 totalling 1.2KiB\n",
      "2023-11-25 20:19:58.569956: I external/local_tsl/tsl/framework/bfc_allocator.cc:1103] 1 Chunks of size 20224 totalling 19.8KiB\n",
      "2023-11-25 20:19:58.569960: I external/local_tsl/tsl/framework/bfc_allocator.cc:1103] 3 Chunks of size 32768 totalling 96.0KiB\n",
      "2023-11-25 20:19:58.569963: I external/local_tsl/tsl/framework/bfc_allocator.cc:1103] 1 Chunks of size 65280 totalling 63.8KiB\n",
      "2023-11-25 20:19:58.569966: I external/local_tsl/tsl/framework/bfc_allocator.cc:1103] 1 Chunks of size 80128 totalling 78.2KiB\n",
      "2023-11-25 20:19:58.569970: I external/local_tsl/tsl/framework/bfc_allocator.cc:1103] 2 Chunks of size 131072 totalling 256.0KiB\n",
      "2023-11-25 20:19:58.569973: I external/local_tsl/tsl/framework/bfc_allocator.cc:1103] 1 Chunks of size 163840 totalling 160.0KiB\n",
      "2023-11-25 20:19:58.569977: I external/local_tsl/tsl/framework/bfc_allocator.cc:1103] 1 Chunks of size 174336 totalling 170.2KiB\n",
      "2023-11-25 20:19:58.569980: I external/local_tsl/tsl/framework/bfc_allocator.cc:1103] 1 Chunks of size 196608 totalling 192.0KiB\n",
      "2023-11-25 20:19:58.569983: I external/local_tsl/tsl/framework/bfc_allocator.cc:1103] 1 Chunks of size 332800 totalling 325.0KiB\n",
      "2023-11-25 20:19:58.569987: I external/local_tsl/tsl/framework/bfc_allocator.cc:1103] 4 Chunks of size 425984 totalling 1.62MiB\n",
      "2023-11-25 20:19:58.569990: I external/local_tsl/tsl/framework/bfc_allocator.cc:1103] 1 Chunks of size 589824 totalling 576.0KiB\n",
      "2023-11-25 20:19:58.569994: I external/local_tsl/tsl/framework/bfc_allocator.cc:1103] 1 Chunks of size 36253696 totalling 34.57MiB\n",
      "2023-11-25 20:19:58.569997: I external/local_tsl/tsl/framework/bfc_allocator.cc:1103] 1 Chunks of size 84967168 totalling 81.03MiB\n",
      "2023-11-25 20:19:58.570001: I external/local_tsl/tsl/framework/bfc_allocator.cc:1107] Sum Total of in-use chunks: 119.15MiB\n",
      "2023-11-25 20:19:58.570004: I external/local_tsl/tsl/framework/bfc_allocator.cc:1109] Total bytes in pool: 211982848 memory_limit_: 235536384 available bytes: 23553536 curr_region_allocation_bytes_: 471072768\n",
      "2023-11-25 20:19:58.570009: I external/local_tsl/tsl/framework/bfc_allocator.cc:1114] Stats: \n",
      "Limit:                       235536384\n",
      "InUse:                       124936960\n",
      "MaxInUse:                    211663360\n",
      "NumAllocs:                     1244814\n",
      "MaxAllocSize:                124876032\n",
      "Reserved:                            0\n",
      "PeakReserved:                        0\n",
      "LargestFreeBlock:                    0\n",
      "\n",
      "2023-11-25 20:19:58.570018: W external/local_tsl/tsl/framework/bfc_allocator.cc:497] ***********************************************************________________**_______________________\n"
     ]
    },
    {
     "ename": "InternalError",
     "evalue": "Failed copying input tensor from /job:localhost/replica:0/task:0/device:CPU:0 to /job:localhost/replica:0/task:0/device:GPU:0 in order to run _EagerConst: Dst tensor is not initialized.",
     "output_type": "error",
     "traceback": [
      "\u001b[0;31m---------------------------------------------------------------------------\u001b[0m",
      "\u001b[0;31mInternalError\u001b[0m                             Traceback (most recent call last)",
      "\u001b[1;32m/users/eleves-a/2021/abasse.dabere/Documents/Notebooks/inf554-extractive-summarization-2023/model3.ipynb Cellule 34\u001b[0m line \u001b[0;36m2\n\u001b[1;32m      <a href='vscode-notebook-cell://ssh-remote%2Bporsche.polytechnique.fr/users/eleves-a/2021/abasse.dabere/Documents/Notebooks/inf554-extractive-summarization-2023/model3.ipynb#Y101sdnNjb2RlLXJlbW90ZQ%3D%3D?line=0'>1</a>\u001b[0m model\u001b[39m.\u001b[39mcompile(optimizer\u001b[39m=\u001b[39m\u001b[39m'\u001b[39m\u001b[39madam\u001b[39m\u001b[39m'\u001b[39m, loss\u001b[39m=\u001b[39m\u001b[39m'\u001b[39m\u001b[39mbinary_crossentropy\u001b[39m\u001b[39m'\u001b[39m, metrics\u001b[39m=\u001b[39m[\u001b[39m'\u001b[39m\u001b[39maccuracy\u001b[39m\u001b[39m'\u001b[39m])\n\u001b[0;32m----> <a href='vscode-notebook-cell://ssh-remote%2Bporsche.polytechnique.fr/users/eleves-a/2021/abasse.dabere/Documents/Notebooks/inf554-extractive-summarization-2023/model3.ipynb#Y101sdnNjb2RlLXJlbW90ZQ%3D%3D?line=1'>2</a>\u001b[0m model_history \u001b[39m=\u001b[39m model\u001b[39m.\u001b[39;49mfit(Z_train, y_train, epochs\u001b[39m=\u001b[39;49m\u001b[39m10\u001b[39;49m, batch_size\u001b[39m=\u001b[39;49m\u001b[39m32\u001b[39;49m, validation_data\u001b[39m=\u001b[39;49m(Z_valid, y_valid))\n",
      "File \u001b[0;32m~/.local/lib/python3.9/site-packages/keras/src/utils/traceback_utils.py:70\u001b[0m, in \u001b[0;36mfilter_traceback.<locals>.error_handler\u001b[0;34m(*args, **kwargs)\u001b[0m\n\u001b[1;32m     67\u001b[0m     filtered_tb \u001b[39m=\u001b[39m _process_traceback_frames(e\u001b[39m.\u001b[39m__traceback__)\n\u001b[1;32m     68\u001b[0m     \u001b[39m# To get the full stack trace, call:\u001b[39;00m\n\u001b[1;32m     69\u001b[0m     \u001b[39m# `tf.debugging.disable_traceback_filtering()`\u001b[39;00m\n\u001b[0;32m---> 70\u001b[0m     \u001b[39mraise\u001b[39;00m e\u001b[39m.\u001b[39mwith_traceback(filtered_tb) \u001b[39mfrom\u001b[39;00m \u001b[39mNone\u001b[39;00m\n\u001b[1;32m     71\u001b[0m \u001b[39mfinally\u001b[39;00m:\n\u001b[1;32m     72\u001b[0m     \u001b[39mdel\u001b[39;00m filtered_tb\n",
      "File \u001b[0;32m~/.local/lib/python3.9/site-packages/tensorflow/python/framework/constant_op.py:103\u001b[0m, in \u001b[0;36mconvert_to_eager_tensor\u001b[0;34m(value, ctx, dtype)\u001b[0m\n\u001b[1;32m    101\u001b[0m     dtype \u001b[39m=\u001b[39m dtypes\u001b[39m.\u001b[39mas_dtype(dtype)\u001b[39m.\u001b[39mas_datatype_enum\n\u001b[1;32m    102\u001b[0m ctx\u001b[39m.\u001b[39mensure_initialized()\n\u001b[0;32m--> 103\u001b[0m \u001b[39mreturn\u001b[39;00m ops\u001b[39m.\u001b[39;49mEagerTensor(value, ctx\u001b[39m.\u001b[39;49mdevice_name, dtype)\n",
      "\u001b[0;31mInternalError\u001b[0m: Failed copying input tensor from /job:localhost/replica:0/task:0/device:CPU:0 to /job:localhost/replica:0/task:0/device:GPU:0 in order to run _EagerConst: Dst tensor is not initialized."
     ]
    }
   ],
   "source": [
    "model.compile(optimizer='adam', loss='binary_crossentropy', metrics=['accuracy'])\n",
    "model_history = model.fit(Z_train, y_train, epochs=10, batch_size=32, validation_data=(Z_valid, y_valid))"
   ]
  },
  {
   "cell_type": "code",
   "execution_count": null,
   "metadata": {},
   "outputs": [
    {
     "name": "stdout",
     "output_type": "stream",
     "text": [
      "681/681 [==============================] - 2s 2ms/step\n",
      "0.4777496651287394\n"
     ]
    }
   ],
   "source": [
    "y_pred = model.predict(Z_valid)\n",
    "y_pred = np.where(y_pred>=0.5, 1, 0)\n",
    "\n",
    "print(f1_score(y_valid, y_pred))"
   ]
  },
  {
   "cell_type": "markdown",
   "metadata": {},
   "source": [
    "## Modele avec DNN avec class_weight"
   ]
  },
  {
   "cell_type": "code",
   "execution_count": null,
   "metadata": {},
   "outputs": [],
   "source": [
    "model = Sequential([\n",
    "    Dense(256, input_dim=402, activation='relu'),\n",
    "    Dropout(0.5),\n",
    "    Dense(128, activation='relu'),\n",
    "    Dropout(0.5),\n",
    "    Dense(64, activation='relu'),\n",
    "    Dropout(0.5),\n",
    "    Dense(1, activation='sigmoid'),\n",
    "])\n",
    "\n",
    "count_class_0 = len(y_train) - np.sum(y_train)\n",
    "count_class_1 = np.sum(y_train)\n",
    "total = len(y_train)\n",
    "frequency_class_0 = count_class_0 / total\n",
    "frequency_class_1 = count_class_1 / total\n",
    "inverse_weight_class_0 = 1 / frequency_class_0\n",
    "inverse_weight_class_1 = 1 / frequency_class_1\n",
    "class_weights = {0: inverse_weight_class_0, 1: inverse_weight_class_1}"
   ]
  },
  {
   "cell_type": "code",
   "execution_count": null,
   "metadata": {},
   "outputs": [],
   "source": [
    "model.compile(optimizer='adam', loss='binary_crossentropy', metrics=['accuracy'])\n",
    "model_history = model.fit(Z_train, y_train, epochs=10, batch_size=32, validation_data=(Z_valid, y_valid), class_weight= class_weights)"
   ]
  },
  {
   "cell_type": "code",
   "execution_count": null,
   "metadata": {},
   "outputs": [],
   "source": [
    "y_pred = model.predict(Z_valid)\n",
    "y_pred = np.where(y_pred>=0.5, 1, 0)\n",
    "\n",
    "print(f1_score(y_valid, y_pred))"
   ]
  }
 ],
 "metadata": {
  "kernelspec": {
   "display_name": "Python 3",
   "language": "python",
   "name": "python3"
  },
  "language_info": {
   "codemirror_mode": {
    "name": "ipython",
    "version": 3
   },
   "file_extension": ".py",
   "mimetype": "text/x-python",
   "name": "python",
   "nbconvert_exporter": "python",
   "pygments_lexer": "ipython3",
   "version": "3.9.18"
  }
 },
 "nbformat": 4,
 "nbformat_minor": 2
}
