{
  "cells": [
    {
      "cell_type": "markdown",
      "id": "94bf14f1",
      "metadata": {
        "papermill": {
          "duration": 0.008625,
          "end_time": "2023-10-11T08:48:44.617107",
          "exception": false,
          "start_time": "2023-10-11T08:48:44.608482",
          "status": "completed"
        },
        "tags": [],
        "id": "94bf14f1"
      },
      "source": [
        "# Intro\n",
        "\n",
        "**PyTorch Geometric (PyG)** is a principal tool for building graph neural network models and experimenting with various graph convolutions. Concurrently, **PyTorch Lightning (PL)** is a prevalent library for automating the learning process of Torch models, monitoring it, and tuning parameters.  \n",
        "   \n",
        "While both tools are well-known and frequently utilized, there is a dearth of tutorials demonstrating how to seamlessly integrate them. Although the process is not particularly complicated or different from the separate use of these two libraries, there are minor tweaks and details that users need to be mindful of.  \n",
        "   \n",
        "In this tutorial, I will provide an example of how to:  \n",
        "   \n",
        "1. Load graph data that will be used in our operations. Our task is link prediction, which answers two questions: which two nodes should be linked with each other?  \n",
        "2. Prepare the data for modelling by performing a transductive split.  \n",
        "3. Prepare dedicated graph data loaders for batching.  \n",
        "4. Build a model and a PyTorch Lightning wrapper around it.  \n",
        "5. Train the model using the PL Trainer class.  \n",
        "6. Check the model's performance.  "
      ]
    },
    {
      "cell_type": "code",
      "source": [
        "from google.colab import drive\n",
        "drive.mount('/content/drive')"
      ],
      "metadata": {
        "id": "WGVs-9J2vZj2",
        "colab": {
          "base_uri": "https://localhost:8080/"
        },
        "outputId": "290f6042-fd74-4f52-b7ae-563ab6a59eeb"
      },
      "id": "WGVs-9J2vZj2",
      "execution_count": 166,
      "outputs": [
        {
          "output_type": "stream",
          "name": "stdout",
          "text": [
            "Drive already mounted at /content/drive; to attempt to forcibly remount, call drive.mount(\"/content/drive\", force_remount=True).\n"
          ]
        }
      ]
    },
    {
      "cell_type": "markdown",
      "id": "c65bfaba",
      "metadata": {
        "_cell_guid": "b1076dfc-b9ad-4769-8c92-a6c4dae69d19",
        "_uuid": "8f2839f25d086af736a60e9eeb907d3b93b6e0e5",
        "papermill": {
          "duration": 0.008033,
          "end_time": "2023-10-11T08:48:44.633247",
          "exception": false,
          "start_time": "2023-10-11T08:48:44.625214",
          "status": "completed"
        },
        "tags": [],
        "id": "c65bfaba"
      },
      "source": [
        "# Lib install"
      ]
    },
    {
      "cell_type": "markdown",
      "id": "7604b564",
      "metadata": {
        "papermill": {
          "duration": 0.007752,
          "end_time": "2023-10-11T08:48:44.648874",
          "exception": false,
          "start_time": "2023-10-11T08:48:44.641122",
          "status": "completed"
        },
        "tags": [],
        "id": "7604b564"
      },
      "source": [
        "We will commence with the installation of the necessary libraries. This step is mandatory if you are executing the notebook in a Kaggle or Google Colab environment. Otherwise, you might already have these libraries installed on your system.  "
      ]
    },
    {
      "cell_type": "code",
      "execution_count": 167,
      "id": "2a7b964c",
      "metadata": {
        "execution": {
          "iopub.execute_input": "2023-10-11T08:48:44.667346Z",
          "iopub.status.busy": "2023-10-11T08:48:44.666063Z",
          "iopub.status.idle": "2023-10-11T08:49:12.596636Z",
          "shell.execute_reply": "2023-10-11T08:49:12.595274Z"
        },
        "papermill": {
          "duration": 27.942879,
          "end_time": "2023-10-11T08:49:12.599566",
          "exception": false,
          "start_time": "2023-10-11T08:48:44.656687",
          "status": "completed"
        },
        "tags": [],
        "id": "2a7b964c"
      },
      "outputs": [],
      "source": [
        "%pip install torch_geometric -q"
      ]
    },
    {
      "cell_type": "markdown",
      "id": "92ac1bde",
      "metadata": {
        "papermill": {
          "duration": 0.009462,
          "end_time": "2023-10-11T08:49:12.619165",
          "exception": false,
          "start_time": "2023-10-11T08:49:12.609703",
          "status": "completed"
        },
        "tags": [],
        "id": "92ac1bde"
      },
      "source": [
        "<div class=\"alert alert-warning\">\n",
        "For an unknown reason, currently in Kaggle.com notebooks building wheels for torch_scatter and torch sparse takes very long time. This is expected (for now), so be patient.\n",
        "</div>"
      ]
    },
    {
      "cell_type": "code",
      "execution_count": 168,
      "id": "e3a6ad46",
      "metadata": {
        "execution": {
          "iopub.execute_input": "2023-10-11T08:49:12.640589Z",
          "iopub.status.busy": "2023-10-11T08:49:12.640114Z",
          "iopub.status.idle": "2023-10-11T09:15:38.440862Z",
          "shell.execute_reply": "2023-10-11T09:15:38.438822Z"
        },
        "papermill": {
          "duration": 1585.814916,
          "end_time": "2023-10-11T09:15:38.443703",
          "exception": false,
          "start_time": "2023-10-11T08:49:12.628787",
          "status": "completed"
        },
        "tags": [],
        "colab": {
          "base_uri": "https://localhost:8080/"
        },
        "id": "e3a6ad46",
        "outputId": "0a963fd2-5345-4366-c64b-eeb226407505"
      },
      "outputs": [
        {
          "output_type": "stream",
          "name": "stdout",
          "text": [
            "Looking in links: https://data.pyg.org/whl/torch-2.1.0+cu118.html\n",
            "Requirement already satisfied: torch_spline_conv in /usr/local/lib/python3.10/dist-packages (1.2.2+pt21cu118)\n"
          ]
        }
      ],
      "source": [
        "%pip install torch_spline_conv -f https://data.pyg.org/whl/torch-2.1.0+cu118.html"
      ]
    },
    {
      "cell_type": "code",
      "source": [
        "%pip -q install pytorch_lightning"
      ],
      "metadata": {
        "id": "NEGzPXSx6pGi"
      },
      "id": "NEGzPXSx6pGi",
      "execution_count": 169,
      "outputs": []
    },
    {
      "cell_type": "markdown",
      "id": "074ca06d",
      "metadata": {
        "papermill": {
          "duration": 0.012377,
          "end_time": "2023-10-11T09:15:38.469627",
          "exception": false,
          "start_time": "2023-10-11T09:15:38.457250",
          "status": "completed"
        },
        "tags": [],
        "id": "074ca06d"
      },
      "source": [
        "# Lib imports\n",
        "\n",
        "Let's import the libraries that we need for this exercise:  \n",
        "   \n",
        "1. **Torch** - This general library will assist us in building subclasses and using various utilities.  \n",
        "2. **Torch Geometric** - This is the primary library for graph neural networks.  \n",
        "3. **PyTorch Lightning** - This library is used for training, tuning, and validating models.  \n",
        "4. **Sklearn Metrics and Torchmetrics** - These will be used to check the performance of the model.  \n",
        "   "
      ]
    },
    {
      "cell_type": "code",
      "execution_count": 170,
      "id": "439058bf",
      "metadata": {
        "execution": {
          "iopub.execute_input": "2023-10-11T09:15:38.500363Z",
          "iopub.status.busy": "2023-10-11T09:15:38.499420Z",
          "iopub.status.idle": "2023-10-11T09:16:01.560680Z",
          "shell.execute_reply": "2023-10-11T09:16:01.558718Z"
        },
        "papermill": {
          "duration": 23.080357,
          "end_time": "2023-10-11T09:16:01.563858",
          "exception": false,
          "start_time": "2023-10-11T09:15:38.483501",
          "status": "completed"
        },
        "tags": [],
        "id": "439058bf"
      },
      "outputs": [],
      "source": [
        "import torch_geometric as tg\n",
        "import torch_geometric.nn as tgnn\n",
        "import torch as th\n",
        "import torch.nn as nn\n",
        "import pytorch_lightning as pl\n",
        "import torchmetrics as tm\n",
        "import networkx as nx\n",
        "from pathlib import Path\n",
        "import json\n",
        "from sklearn.metrics import classification_report\n",
        "from typing import Tuple\n",
        "from tqdm import tqdm, trange\n",
        "import numpy as np"
      ]
    },
    {
      "cell_type": "markdown",
      "id": "802aed37",
      "metadata": {
        "papermill": {
          "duration": 0.01276,
          "end_time": "2023-10-11T09:16:01.592121",
          "exception": false,
          "start_time": "2023-10-11T09:16:01.579361",
          "status": "completed"
        },
        "tags": [],
        "id": "802aed37"
      },
      "source": [
        "# Load data\n",
        "\n",
        "Load Data from inf554 file."
      ]
    },
    {
      "cell_type": "code",
      "execution_count": 5,
      "id": "d5614a49",
      "metadata": {
        "execution": {
          "iopub.execute_input": "2023-10-11T09:16:01.620896Z",
          "iopub.status.busy": "2023-10-11T09:16:01.619245Z",
          "iopub.status.idle": "2023-10-11T09:16:03.328569Z",
          "shell.execute_reply": "2023-10-11T09:16:03.327594Z"
        },
        "papermill": {
          "duration": 1.726458,
          "end_time": "2023-10-11T09:16:03.331320",
          "exception": false,
          "start_time": "2023-10-11T09:16:01.604862",
          "status": "completed"
        },
        "tags": [],
        "id": "d5614a49",
        "colab": {
          "base_uri": "https://localhost:8080/"
        },
        "outputId": "8c801246-a7f5-4623-cda2-afd3b75d072c"
      },
      "outputs": [
        {
          "output_type": "stream",
          "name": "stderr",
          "text": [
            "100%|██████████| 97/97 [00:40<00:00,  2.37it/s]\n"
          ]
        }
      ],
      "source": [
        "def flatten(list_of_list):\n",
        "    return [item for sublist in list_of_list for item in sublist]\n",
        "def load_data_comprehensive():\n",
        "\n",
        "    root = \"./drive/MyDrive/inf554/\"\n",
        "    path_to_training = Path(root + \"training\")\n",
        "    path_to_test = Path(root + \"test\")\n",
        "\n",
        "    #####\n",
        "    # training and test sets of transcription ids\n",
        "    #####\n",
        "    training_set = ['ES2002', 'ES2005', 'ES2006', 'ES2007', 'ES2008', 'ES2009', 'ES2010', 'ES2012', 'ES2013', 'ES2015', 'ES2016', 'IS1000', 'IS1001', 'IS1002', 'IS1003', 'IS1004', 'IS1005', 'IS1006', 'IS1007', 'TS3005', 'TS3008', 'TS3009', 'TS3010', 'TS3011', 'TS3012']\n",
        "    training_set = flatten([[m_id+s_id for s_id in 'abcd'] for m_id in training_set])\n",
        "    training_set.remove('IS1002a')\n",
        "    training_set.remove('IS1005d')\n",
        "    training_set.remove('TS3012c')\n",
        "\n",
        "    test_set = ['ES2003', 'ES2004', 'ES2011', 'ES2014', 'IS1008', 'IS1009', 'TS3003', 'TS3004', 'TS3006', 'TS3007']\n",
        "    test_set = flatten([[m_id+s_id for s_id in 'abcd'] for m_id in test_set])\n",
        "\n",
        "\n",
        "    #####\n",
        "    # text_baseline: utterances are embedded with SentenceTransformer, then train a classifier.\n",
        "    #####\n",
        "    startings = []\n",
        "    y_training = []\n",
        "    graph = []\n",
        "    last_graph_size = 0\n",
        "    with open(root + \"training_labels.json\", \"r\") as file:\n",
        "        training_labels = json.load(file)\n",
        "\n",
        "    X_training_original = []\n",
        "    for transcription_id in tqdm(training_set):\n",
        "        with open(path_to_training / f\"{transcription_id}.json\", \"r\") as file:\n",
        "            transcription = json.load(file)\n",
        "\n",
        "        with open(path_to_training / f\"{transcription_id}.txt\", 'r') as file:\n",
        "            relations = file.readlines()\n",
        "\n",
        "        graph.extend([(lambda x: (int(x[0]) + last_graph_size, int(x[2]) + last_graph_size, x[1])) (rel.split(' ')) for rel in relations])\n",
        "\n",
        "        last_graph_size += len(transcription)\n",
        "\n",
        "        startings.append(len(X_training_original))\n",
        "\n",
        "        for utterance in transcription:\n",
        "            X_training_original.append(utterance[\"speaker\"] + \": \" + utterance[\"text\"])\n",
        "\n",
        "        y_training += training_labels[transcription_id]\n",
        "    return X_training_original, y_training, graph, startings\n",
        "\n",
        "X, y, graph, startings = load_data_comprehensive()"
      ]
    },
    {
      "cell_type": "markdown",
      "id": "4509be54",
      "metadata": {
        "papermill": {
          "duration": 0.012265,
          "end_time": "2023-10-11T09:16:03.356430",
          "exception": false,
          "start_time": "2023-10-11T09:16:03.344165",
          "status": "completed"
        },
        "tags": [],
        "id": "4509be54"
      },
      "source": [
        "By default, Torch Geometric datasets can return multiple graphs. However, in our case, we only have one graph to work with.  "
      ]
    },
    {
      "cell_type": "code",
      "execution_count": 12,
      "id": "9ba54534",
      "metadata": {
        "execution": {
          "iopub.execute_input": "2023-10-11T09:16:03.384948Z",
          "iopub.status.busy": "2023-10-11T09:16:03.384128Z",
          "iopub.status.idle": "2023-10-11T09:16:03.393111Z",
          "shell.execute_reply": "2023-10-11T09:16:03.392054Z"
        },
        "papermill": {
          "duration": 0.025957,
          "end_time": "2023-10-11T09:16:03.395561",
          "exception": false,
          "start_time": "2023-10-11T09:16:03.369604",
          "status": "completed"
        },
        "tags": [],
        "id": "9ba54534",
        "outputId": "4f5b111b-4d21-42db-c9e6-d54713d5f415",
        "colab": {
          "base_uri": "https://localhost:8080/"
        }
      },
      "outputs": [
        {
          "output_type": "stream",
          "name": "stderr",
          "text": [
            "100%|██████████| 2270/2270 [02:57<00:00, 12.79it/s]\n"
          ]
        }
      ],
      "source": [
        "\n",
        "def encode_sentences(X):  # Bert\n",
        "    from transformers import BertTokenizer, BertModel\n",
        "    # Assuming sentences, relations, and labels are lists and have been defined\n",
        "    sentences = X  # list of sentences\n",
        "\n",
        "    # Load pre-trained model tokenizer (vocabulary)\n",
        "    tokenizer = BertTokenizer.from_pretrained('bert-base-uncased')\n",
        "\n",
        "    # Load pre-trained model (weights)\n",
        "    model = BertModel.from_pretrained('bert-base-uncased')\n",
        "\n",
        "    device = th.device('cuda' if th.cuda.is_available() else 'cpu')\n",
        "\n",
        "    model = model.to(device)\n",
        "\n",
        "    # Put the model in \"evaluation\" mode\n",
        "    model.eval()\n",
        "\n",
        "    # Batch size\n",
        "    batch_size = 32\n",
        "\n",
        "    features = []\n",
        "\n",
        "    for i in trange(0, len(sentences), batch_size):\n",
        "        # Tokenize input\n",
        "        inputs = tokenizer(sentences[i:i+batch_size], return_tensors='pt', padding=True, truncation=True, max_length=512)\n",
        "\n",
        "        # If a GPU is available, move the inputs to GPU\n",
        "        inputs = {name: tensor.to(device) for name, tensor in inputs.items()}\n",
        "\n",
        "        # Predict hidden states features for each layer\n",
        "        with th.no_grad():\n",
        "            outputs = model(**inputs)\n",
        "\n",
        "        # Get the embeddings of the last layer\n",
        "        last_hidden_states = outputs.last_hidden_state\n",
        "\n",
        "        # Use the mean of the embeddings as the sentence representation\n",
        "        sentence_embeddings = th.mean(last_hidden_states, dim=1).squeeze().cpu().numpy()\n",
        "\n",
        "        # Add features\n",
        "        features.extend(sentence_embeddings)\n",
        "\n",
        "    return np.array(features)\n",
        "\n",
        "X_encoded = encode_sentences(X)\n",
        "\n"
      ]
    },
    {
      "cell_type": "code",
      "source": [
        "from sklearn.preprocessing import OneHotEncoder\n",
        "\n",
        "categories = {e:i for i, e in enumerate(set(e[2] for e in graph))}\n",
        "relations_types = [e[2] for e in graph]\n",
        "\n",
        "encoder = OneHotEncoder(sparse=False)\n",
        "edge_features = encoder.fit_transform(np.array(relations_types).reshape(-1,1))\n",
        "edge_features = th.tensor(edge_features, dtype=th.float)\n",
        "\n",
        "edge_index = th.tensor([(e[0], e[1]) for e in graph])\n",
        "\n",
        "features = th.stack([th.tensor(x) for x in X_encoded])\n",
        "\n",
        "data = tg.data.Data(x=features, edge_index=edge_index, edge_attr=edge_features, y=th.tensor(y))\n",
        "\n",
        ""
      ],
      "metadata": {
        "id": "5BQKU3hf9-JJ"
      },
      "id": "5BQKU3hf9-JJ",
      "execution_count": 31,
      "outputs": []
    },
    {
      "cell_type": "markdown",
      "id": "c068d969",
      "metadata": {
        "papermill": {
          "duration": 0.012596,
          "end_time": "2023-10-11T09:16:03.421159",
          "exception": false,
          "start_time": "2023-10-11T09:16:03.408563",
          "status": "completed"
        },
        "tags": [],
        "id": "c068d969"
      },
      "source": [
        "## Links splitting\n",
        "\n",
        "We will begin by splitting links in our dataset. We will use 20% of graph connections as a validation set and 10% as a test set. We will not add negative samples to the training dataset, as such negative links will be created on-the-fly by the data loader.  \n",
        "   \n",
        "The concept of negative sampling is well-known and widely used, especially in natural language processing. To learn more about it, you can read [this excellent post by Chris McCormick](http://mccormickml.com/2017/01/11/word2vec-tutorial-part-2-negative-sampling/).  \n",
        "   \n",
        "In general, negative sampling creates \"fake\" samples (in our case, connections between nodes), so the model learns how to distinguish real connections. Negative sampling has some nice statistical properties, grounded in the theory and mathematics of sampling.  "
      ]
    },
    {
      "cell_type": "markdown",
      "source": [
        "Ici in va faire notre split de sorte à conserver des dialogues entiers."
      ],
      "metadata": {
        "id": "f5zhxxYNF_q3"
      },
      "id": "f5zhxxYNF_q3"
    },
    {
      "cell_type": "code",
      "source": [
        "limits = np.cumsum(len(startings) * np.array([.6, .15, .25]))\n",
        "data.train_mask = np.array([i < startings[int(limits[0])] for i in range(data.num_nodes)])\n",
        "data.test_mask = np.array([startings[int(limits[1])] <= i for i in range(data.num_nodes)])\n",
        "data.val_mask = np.array([startings[int(limits[0])] <= i < startings[int(limits[1])] for i in range(data.num_nodes)])"
      ],
      "metadata": {
        "id": "uc4l6Zy9GXC2"
      },
      "id": "uc4l6Zy9GXC2",
      "execution_count": 52,
      "outputs": []
    },
    {
      "cell_type": "code",
      "source": [
        "data.y = th.tensor(data.y)"
      ],
      "metadata": {
        "colab": {
          "base_uri": "https://localhost:8080/"
        },
        "id": "Ti-E7YT1IzDD",
        "outputId": "fc8fc33e-b082-4e3f-b7d6-41a18666dcb8"
      },
      "id": "Ti-E7YT1IzDD",
      "execution_count": 63,
      "outputs": [
        {
          "output_type": "stream",
          "name": "stderr",
          "text": [
            "<ipython-input-63-3c3fb45df9bb>:1: UserWarning: To copy construct from a tensor, it is recommended to use sourceTensor.clone().detach() or sourceTensor.clone().detach().requires_grad_(True), rather than torch.tensor(sourceTensor).\n",
            "  data.y = th.tensor(data.y)\n"
          ]
        }
      ]
    },
    {
      "cell_type": "code",
      "execution_count": 36,
      "id": "e4ce3c4a",
      "metadata": {
        "execution": {
          "iopub.execute_input": "2023-10-11T09:16:03.450185Z",
          "iopub.status.busy": "2023-10-11T09:16:03.449692Z",
          "iopub.status.idle": "2023-10-11T09:16:03.464779Z",
          "shell.execute_reply": "2023-10-11T09:16:03.462799Z"
        },
        "papermill": {
          "duration": 0.034226,
          "end_time": "2023-10-11T09:16:03.468167",
          "exception": false,
          "start_time": "2023-10-11T09:16:03.433941",
          "status": "completed"
        },
        "tags": [],
        "id": "e4ce3c4a"
      },
      "outputs": [],
      "source": [
        "tg.seed_everything(123)"
      ]
    },
    {
      "cell_type": "code",
      "execution_count": null,
      "id": "861b2bf4",
      "metadata": {
        "execution": {
          "iopub.execute_input": "2023-10-11T09:16:03.498285Z",
          "iopub.status.busy": "2023-10-11T09:16:03.497800Z",
          "iopub.status.idle": "2023-10-11T09:16:03.503277Z",
          "shell.execute_reply": "2023-10-11T09:16:03.501996Z"
        },
        "papermill": {
          "duration": 0.024899,
          "end_time": "2023-10-11T09:16:03.506311",
          "exception": false,
          "start_time": "2023-10-11T09:16:03.481412",
          "status": "completed"
        },
        "tags": [],
        "id": "861b2bf4"
      },
      "outputs": [],
      "source": [
        "link_splitter = tg.transforms.RandomLinkSplit(\n",
        "    num_val=0.2,\n",
        "    num_test=0.1,\n",
        "    add_negative_train_samples=False,\n",
        "    disjoint_train_ratio=0.8)"
      ]
    },
    {
      "cell_type": "markdown",
      "id": "3a6a806e",
      "metadata": {
        "papermill": {
          "duration": 0.012583,
          "end_time": "2023-10-11T09:16:03.533225",
          "exception": false,
          "start_time": "2023-10-11T09:16:03.520642",
          "status": "completed"
        },
        "tags": [],
        "id": "3a6a806e"
      },
      "source": [
        "Data splitting is done as follows:"
      ]
    },
    {
      "cell_type": "code",
      "source": [
        "def sub_graph(graph, mask):\n",
        "    x = graph.x[mask]\n",
        "    y = graph.y[mask]\n",
        "    idx = th.tensor(np.arange(graph.num_nodes)[mask])\n",
        "    edge_features = []\n",
        "    edge_index = []\n",
        "    for feature, index in zip(graph.edge_attr, graph.edge_index):\n",
        "        if index[0] in idx:\n",
        "            edge_features.append(feature)\n",
        "            edge_index.append(index)\n",
        "    return tg.data.Data(\n",
        "        x=x,\n",
        "        edge_attr=th.t(th.stack(edge_features)),\n",
        "        edge_index=th.t(th.stack(edge_index)),\n",
        "        y=y\n",
        "    )\n",
        "# t = sub_graph(data, data.train_mask)\n",
        "\n",
        "# len((data.y)[data.val_mask]) / len(data.x)"
      ],
      "metadata": {
        "id": "Yjh-ZhU4J05g"
      },
      "id": "Yjh-ZhU4J05g",
      "execution_count": 92,
      "outputs": []
    },
    {
      "cell_type": "code",
      "source": [
        "# len(t.x), len(t.y)\n",
        "root = \"./drive/MyDrive/inf554/\"\n",
        "def save():\n",
        "    with open(root + 'features.npy', 'wb') as f:\n",
        "        np.save(f, data.x.cpu().numpy())\n",
        "        np.save(f, data.y.cpu().numpy())\n",
        "        np.save(f, data.edge_attr.cpu().numpy())\n",
        "        np.save(f, data.edge_index.cpu().numpy())\n",
        "\n",
        "        np.save(f, train_g.x.cpu().numpy())\n",
        "        np.save(f, train_g.y.cpu().numpy())\n",
        "        np.save(f, train_g.edge_attr.cpu().numpy())\n",
        "        np.save(f, train_g.edge_index.cpu().numpy())\n",
        "\n",
        "        np.save(f, test_g.x.cpu().numpy())\n",
        "        np.save(f, test_g.y.cpu().numpy())\n",
        "        np.save(f, test_g.edge_attr.cpu().numpy())\n",
        "        np.save(f, test_g.edge_index.cpu().numpy())\n",
        "\n",
        "        np.save(f, val_g.x.cpu().numpy())\n",
        "        np.save(f, val_g.y.cpu().numpy())\n",
        "        np.save(f, val_g.edge_attr.cpu().numpy())\n",
        "        np.save(f, val_g.edge_index.cpu().numpy())\n",
        "\n",
        "def load():\n",
        "    data = tg.data.Data()\n",
        "    train_g = tg.data.Data()\n",
        "    test_g = tg.data.Data()\n",
        "    val_g = tg.data.Data()\n",
        "    with open(root + 'features.npy', 'rb') as f:\n",
        "        data.x = th.tensor(np.load(f))\n",
        "        data.y = th.tensor(np.load(f))\n",
        "        data.edge_attr = th.tensor(np.load(f))\n",
        "        data.edge_index = th.tensor(np.load(f))\n",
        "\n",
        "        train_g.x = th.tensor(np.load(f))\n",
        "        train_g.y = th.tensor(np.load(f))\n",
        "        train_g.edge_attr = th.tensor(np.load(f))\n",
        "        train_g.edge_index = th.tensor(np.load(f))\n",
        "\n",
        "        test_g.x = th.tensor(np.load(f))\n",
        "        test_g.y = th.tensor(np.load(f))\n",
        "        test_g.edge_attr = th.tensor(np.load(f))\n",
        "        test_g.edge_index = th.tensor(np.load(f))\n",
        "\n",
        "        val_g.x = th.tensor(np.load(f))\n",
        "        val_g.y = th.tensor(np.load(f))\n",
        "        val_g.edge_attr = th.tensor(np.load(f))\n",
        "        val_g.edge_index = th.tensor(np.load(f))\n",
        "\n",
        "    return data, train_g, test_g, val_g"
      ],
      "metadata": {
        "id": "3Cv3Yi_2P59s"
      },
      "id": "3Cv3Yi_2P59s",
      "execution_count": 171,
      "outputs": []
    },
    {
      "cell_type": "code",
      "source": [
        "data, train_g, test_g, val_g = load()"
      ],
      "metadata": {
        "id": "f7m_6qlQpXC3"
      },
      "id": "f7m_6qlQpXC3",
      "execution_count": 207,
      "outputs": []
    },
    {
      "cell_type": "code",
      "source": [
        "test_g.edge_index.size()"
      ],
      "metadata": {
        "colab": {
          "base_uri": "https://localhost:8080/"
        },
        "id": "kDe3-p7ltQ5o",
        "outputId": "b7bbb4df-2c4f-469d-88db-15f022ecd345"
      },
      "id": "kDe3-p7ltQ5o",
      "execution_count": 185,
      "outputs": [
        {
          "output_type": "execute_result",
          "data": {
            "text/plain": [
              "torch.Size([2, 23196])"
            ]
          },
          "metadata": {},
          "execution_count": 185
        }
      ]
    },
    {
      "cell_type": "code",
      "source": [],
      "metadata": {
        "id": "lBhKVXnMtQ2J"
      },
      "id": "lBhKVXnMtQ2J",
      "execution_count": null,
      "outputs": []
    },
    {
      "cell_type": "code",
      "source": [
        "## Update edge indexes\n",
        "test_g.edge_index = test_g.edge_index - th.min(test_g.edge_index)\n",
        "val_g.edge_index = val_g.edge_index - th.min(val_g.edge_index)"
      ],
      "metadata": {
        "id": "omQFev_as0Md"
      },
      "id": "omQFev_as0Md",
      "execution_count": 208,
      "outputs": []
    },
    {
      "cell_type": "code",
      "execution_count": 131,
      "id": "445a4a7b",
      "metadata": {
        "execution": {
          "iopub.execute_input": "2023-10-11T09:16:03.561870Z",
          "iopub.status.busy": "2023-10-11T09:16:03.560606Z",
          "iopub.status.idle": "2023-10-11T09:16:03.589068Z",
          "shell.execute_reply": "2023-10-11T09:16:03.587820Z"
        },
        "papermill": {
          "duration": 0.045943,
          "end_time": "2023-10-11T09:16:03.591999",
          "exception": false,
          "start_time": "2023-10-11T09:16:03.546056",
          "status": "completed"
        },
        "tags": [],
        "id": "445a4a7b",
        "colab": {
          "base_uri": "https://localhost:8080/",
          "height": 211
        },
        "outputId": "e8fd908e-e06b-4d63-fe46-56039f4034d8"
      },
      "outputs": [
        {
          "output_type": "error",
          "ename": "NameError",
          "evalue": "ignored",
          "traceback": [
            "\u001b[0;31m---------------------------------------------------------------------------\u001b[0m",
            "\u001b[0;31mNameError\u001b[0m                                 Traceback (most recent call last)",
            "\u001b[0;32m<ipython-input-131-d5f28aa4e73b>\u001b[0m in \u001b[0;36m<cell line: 1>\u001b[0;34m()\u001b[0m\n\u001b[0;32m----> 1\u001b[0;31m \u001b[0mtrain_g\u001b[0m \u001b[0;34m=\u001b[0m \u001b[0msub_graph\u001b[0m\u001b[0;34m(\u001b[0m\u001b[0mdata\u001b[0m\u001b[0;34m,\u001b[0m \u001b[0mdata\u001b[0m\u001b[0;34m.\u001b[0m\u001b[0mtrain_mask\u001b[0m\u001b[0;34m)\u001b[0m\u001b[0;34m\u001b[0m\u001b[0;34m\u001b[0m\u001b[0m\n\u001b[0m\u001b[1;32m      2\u001b[0m \u001b[0mtest_g\u001b[0m  \u001b[0;34m=\u001b[0m \u001b[0msub_graph\u001b[0m\u001b[0;34m(\u001b[0m\u001b[0mdata\u001b[0m\u001b[0;34m,\u001b[0m \u001b[0mdata\u001b[0m\u001b[0;34m.\u001b[0m\u001b[0mtest_mask\u001b[0m\u001b[0;34m)\u001b[0m\u001b[0;34m\u001b[0m\u001b[0;34m\u001b[0m\u001b[0m\n\u001b[1;32m      3\u001b[0m \u001b[0mval_g\u001b[0m   \u001b[0;34m=\u001b[0m \u001b[0msub_graph\u001b[0m\u001b[0;34m(\u001b[0m\u001b[0mdata\u001b[0m\u001b[0;34m,\u001b[0m \u001b[0mdata\u001b[0m\u001b[0;34m.\u001b[0m\u001b[0mval_mask\u001b[0m\u001b[0;34m)\u001b[0m\u001b[0;34m\u001b[0m\u001b[0;34m\u001b[0m\u001b[0m\n",
            "\u001b[0;31mNameError\u001b[0m: name 'sub_graph' is not defined"
          ]
        }
      ],
      "source": [
        "train_g = sub_graph(data, data.train_mask)\n",
        "test_g  = sub_graph(data, data.test_mask)\n",
        "val_g   = sub_graph(data, data.val_mask)"
      ]
    },
    {
      "cell_type": "code",
      "execution_count": 209,
      "id": "c0519fa6",
      "metadata": {
        "execution": {
          "iopub.execute_input": "2023-10-11T09:16:03.622385Z",
          "iopub.status.busy": "2023-10-11T09:16:03.621821Z",
          "iopub.status.idle": "2023-10-11T09:16:03.628892Z",
          "shell.execute_reply": "2023-10-11T09:16:03.627974Z"
        },
        "papermill": {
          "duration": 0.02393,
          "end_time": "2023-10-11T09:16:03.631416",
          "exception": false,
          "start_time": "2023-10-11T09:16:03.607486",
          "status": "completed"
        },
        "tags": [],
        "id": "c0519fa6"
      },
      "outputs": [],
      "source": [
        "val_g.edge_attr = th.t(val_g.edge_attr)\n",
        "train_g.edge_attr = th.t(train_g.edge_attr)\n",
        "test_g.edge_attr = th.t(test_g.edge_attr)"
      ]
    },
    {
      "cell_type": "markdown",
      "id": "91ef92c0",
      "metadata": {
        "papermill": {
          "duration": 0.012409,
          "end_time": "2023-10-11T09:16:03.656734",
          "exception": false,
          "start_time": "2023-10-11T09:16:03.644325",
          "status": "completed"
        },
        "tags": [],
        "id": "91ef92c0"
      },
      "source": [
        "We have some new attributes:  \n",
        "   \n",
        "1. Edge label - that describes if the edge is true/fake. **This is what we want to predict**.  \n",
        "2. Edge label index - 2 x NUM EDGES matrix, that stores node connections.  \n",
        "   \n",
        "Let's investigate the distribution of positive and negative samples."
      ]
    },
    {
      "cell_type": "code",
      "source": [
        "train_g.y"
      ],
      "metadata": {
        "colab": {
          "base_uri": "https://localhost:8080/"
        },
        "id": "OKKuOCRSp4bP",
        "outputId": "cc8d1c64-2b6d-4cf1-93ee-424cc85263b3"
      },
      "id": "OKKuOCRSp4bP",
      "execution_count": 210,
      "outputs": [
        {
          "output_type": "execute_result",
          "data": {
            "text/plain": [
              "tensor([0, 0, 1,  ..., 0, 0, 1])"
            ]
          },
          "metadata": {},
          "execution_count": 210
        }
      ]
    },
    {
      "cell_type": "code",
      "execution_count": 10,
      "id": "7369b194",
      "metadata": {
        "execution": {
          "iopub.execute_input": "2023-10-11T09:16:03.684312Z",
          "iopub.status.busy": "2023-10-11T09:16:03.683783Z",
          "iopub.status.idle": "2023-10-11T09:16:03.715023Z",
          "shell.execute_reply": "2023-10-11T09:16:03.714165Z"
        },
        "papermill": {
          "duration": 0.047922,
          "end_time": "2023-10-11T09:16:03.717443",
          "exception": false,
          "start_time": "2023-10-11T09:16:03.669521",
          "status": "completed"
        },
        "tags": [],
        "id": "7369b194",
        "outputId": "f73ab5ab-4e84-4191-d3d6-6443a32c17ba",
        "colab": {
          "base_uri": "https://localhost:8080/"
        }
      },
      "outputs": [
        {
          "output_type": "execute_result",
          "data": {
            "text/plain": [
              "(tensor([0, 1]), tensor([32265,  8043]))"
            ]
          },
          "metadata": {},
          "execution_count": 10
        }
      ],
      "source": [
        "th.unique(train_g.y, return_counts=True)"
      ]
    },
    {
      "cell_type": "code",
      "execution_count": 19,
      "id": "ddd0c2e2",
      "metadata": {
        "execution": {
          "iopub.execute_input": "2023-10-11T09:16:03.748268Z",
          "iopub.status.busy": "2023-10-11T09:16:03.747493Z",
          "iopub.status.idle": "2023-10-11T09:16:03.757220Z",
          "shell.execute_reply": "2023-10-11T09:16:03.755986Z"
        },
        "papermill": {
          "duration": 0.026851,
          "end_time": "2023-10-11T09:16:03.759358",
          "exception": false,
          "start_time": "2023-10-11T09:16:03.732507",
          "status": "completed"
        },
        "tags": [],
        "id": "ddd0c2e2",
        "outputId": "a3697a19-3689-458f-b516-9e59bec235bf",
        "colab": {
          "base_uri": "https://localhost:8080/"
        }
      },
      "outputs": [
        {
          "output_type": "execute_result",
          "data": {
            "text/plain": [
              "(tensor([0, 1]), tensor([7586, 1508]))"
            ]
          },
          "metadata": {},
          "execution_count": 19
        }
      ],
      "source": [
        "th.unique(val_g.y, return_counts=True)"
      ]
    },
    {
      "cell_type": "code",
      "execution_count": 21,
      "id": "1f0c4614",
      "metadata": {
        "execution": {
          "iopub.execute_input": "2023-10-11T09:16:03.788198Z",
          "iopub.status.busy": "2023-10-11T09:16:03.787740Z",
          "iopub.status.idle": "2023-10-11T09:16:03.797163Z",
          "shell.execute_reply": "2023-10-11T09:16:03.796029Z"
        },
        "papermill": {
          "duration": 0.0263,
          "end_time": "2023-10-11T09:16:03.799343",
          "exception": false,
          "start_time": "2023-10-11T09:16:03.773043",
          "status": "completed"
        },
        "tags": [],
        "id": "1f0c4614",
        "outputId": "f970b6cf-2323-4f11-ffed-40873301a1b4",
        "colab": {
          "base_uri": "https://localhost:8080/"
        }
      },
      "outputs": [
        {
          "output_type": "execute_result",
          "data": {
            "text/plain": [
              "(tensor([0, 1]), tensor([7586, 1508]))"
            ]
          },
          "metadata": {},
          "execution_count": 21
        }
      ],
      "source": [
        "th.unique(val_g.y, return_counts=True)"
      ]
    },
    {
      "cell_type": "markdown",
      "id": "9460a073",
      "metadata": {
        "papermill": {
          "duration": 0.012842,
          "end_time": "2023-10-11T09:16:03.825610",
          "exception": false,
          "start_time": "2023-10-11T09:16:03.812768",
          "status": "completed"
        },
        "tags": [],
        "id": "9460a073"
      },
      "source": [
        "# Model"
      ]
    },
    {
      "cell_type": "markdown",
      "id": "510b0878",
      "metadata": {
        "papermill": {
          "duration": 0.012686,
          "end_time": "2023-10-11T09:16:03.851382",
          "exception": false,
          "start_time": "2023-10-11T09:16:03.838696",
          "status": "completed"
        },
        "tags": [],
        "id": "510b0878"
      },
      "source": [
        "## GNN module\n",
        "\n",
        "Now it is time to build a GNN part of our model - the one that will be responsible for generating graph embeddings.  \n",
        "   \n",
        "This is a typical `torch.nn.Module` with graph convolutions from PyG.  "
      ]
    },
    {
      "cell_type": "code",
      "execution_count": 189,
      "id": "2169027e",
      "metadata": {
        "execution": {
          "iopub.execute_input": "2023-10-11T09:16:03.881606Z",
          "iopub.status.busy": "2023-10-11T09:16:03.880101Z",
          "iopub.status.idle": "2023-10-11T09:16:03.889862Z",
          "shell.execute_reply": "2023-10-11T09:16:03.888996Z"
        },
        "papermill": {
          "duration": 0.028005,
          "end_time": "2023-10-11T09:16:03.892481",
          "exception": false,
          "start_time": "2023-10-11T09:16:03.864476",
          "status": "completed"
        },
        "tags": [],
        "id": "2169027e"
      },
      "outputs": [],
      "source": [
        "class GNN(nn.Module):\n",
        "\n",
        "    def __init__(\n",
        "        self,\n",
        "        dim_in: int,\n",
        "        conv_sizes: Tuple[int, ...],\n",
        "        act_f: nn.Module = th.relu,\n",
        "        dropout: float = 0.1,\n",
        "        *args,\n",
        "        **kwargs):\n",
        "        super().__init__()\n",
        "        self.dim_in = dim_in\n",
        "        self.dim_out = conv_sizes[-1]\n",
        "        self.dropout = dropout\n",
        "        self.act_f = act_f\n",
        "        last_in = dim_in\n",
        "        layers = []\n",
        "\n",
        "        # Here we build subsequent graph convolutions.\n",
        "        for conv_sz in conv_sizes:\n",
        "            conv = tgnn.GATConv(in_channels=last_in, out_channels=conv_sz, edge_dim = 16, *args, **kwargs)\n",
        "            last_in = conv_sz\n",
        "            layers.append(conv)\n",
        "        self.layers = nn.ModuleList(layers)\n",
        "\n",
        "    def forward(self, x: th.Tensor, edge_index: th.Tensor, edge_attr: th.Tensor) -> th.Tensor:\n",
        "        h = x\n",
        "        for conv in self.layers:\n",
        "            h = conv(h, edge_index, edge_attr)\n",
        "            h = self.act_f(h)\n",
        "            if self.dropout:\n",
        "                h = nn.functional.dropout(h, p=self.dropout, training=self.training)\n",
        "        return h"
      ]
    },
    {
      "cell_type": "code",
      "source": [
        "data.edge_attr.size()"
      ],
      "metadata": {
        "id": "-oiQQElZ3_Ap",
        "outputId": "a69dcc05-8fd6-49ec-f9af-4741f61f677e",
        "colab": {
          "base_uri": "https://localhost:8080/"
        }
      },
      "id": "-oiQQElZ3_Ap",
      "execution_count": 199,
      "outputs": [
        {
          "output_type": "execute_result",
          "data": {
            "text/plain": [
              "torch.Size([72526, 16])"
            ]
          },
          "metadata": {},
          "execution_count": 199
        }
      ]
    },
    {
      "cell_type": "markdown",
      "id": "ddf0ed8d",
      "metadata": {
        "papermill": {
          "duration": 0.012644,
          "end_time": "2023-10-11T09:16:03.918148",
          "exception": false,
          "start_time": "2023-10-11T09:16:03.905504",
          "status": "completed"
        },
        "tags": [],
        "id": "ddf0ed8d"
      },
      "source": [
        "Notable part of this model is set of graph convolutions - in our case `SAGEConv`. Formally SAGE convolution is defined as:  \n",
        "   \n",
        "$$  \n",
        "\\begin{align*}  \n",
        "h_{\\mathcal{N}(v)}^k &\\leftarrow AGG\\big(\\{ h_u^{l-1}, \\forall u \\in N(v)\\}\\big) \\\\[1em]  \n",
        "h_v^l &\\leftarrow \\sigma\\bigg(W^l \\cdot CONCAT\\big(h_v^{l-1}, AGG\\big(\\{ h_u^{l-1}, \\forall u \\in N(v)\\}\\big) \\big)\\bigg)  \n",
        "\\end{align*}  \n",
        "$$  \n",
        "   \n",
        "With $v$ being a current node, and $\\mathcal{N}(v)$ - neighbors of node v.  \n",
        "   \n",
        "To know more about this convolution type, check the original paper of GraphSAGE:  \n",
        "   \n",
        "> Hamilton, W., Ying, Z., & Leskovec, J. (2017). Inductive representation learning on large graphs. Advances in neural information processing systems, 30.  \n",
        "   \n",
        "Available through Arxiv: https://arxiv.org/abs/1706.02216  \n",
        "   \n",
        "Let's check if our model can make predictions using the data, that we have prepared. Notice, one fact: **PyG models accept matrix of node features X and edge_index - defining connections**.  \n",
        "   "
      ]
    },
    {
      "cell_type": "code",
      "source": [
        "train_g.x.size()[1],"
      ],
      "metadata": {
        "colab": {
          "base_uri": "https://localhost:8080/"
        },
        "id": "RADGO8mfSvI9",
        "outputId": "e81cc942-f975-491a-c754-a2aa32b3739c"
      },
      "id": "RADGO8mfSvI9",
      "execution_count": 198,
      "outputs": [
        {
          "output_type": "execute_result",
          "data": {
            "text/plain": [
              "(768,)"
            ]
          },
          "metadata": {},
          "execution_count": 198
        }
      ]
    },
    {
      "cell_type": "code",
      "execution_count": 211,
      "id": "d2586b0e",
      "metadata": {
        "execution": {
          "iopub.execute_input": "2023-10-11T09:16:03.948875Z",
          "iopub.status.busy": "2023-10-11T09:16:03.947361Z",
          "iopub.status.idle": "2023-10-11T09:16:04.335242Z",
          "shell.execute_reply": "2023-10-11T09:16:04.334230Z"
        },
        "papermill": {
          "duration": 0.405444,
          "end_time": "2023-10-11T09:16:04.337556",
          "exception": false,
          "start_time": "2023-10-11T09:16:03.932112",
          "status": "completed"
        },
        "tags": [],
        "id": "d2586b0e",
        "outputId": "728eb57a-568f-4058-d3f4-522bc992fe71",
        "colab": {
          "base_uri": "https://localhost:8080/"
        }
      },
      "outputs": [
        {
          "output_type": "execute_result",
          "data": {
            "text/plain": [
              "torch.Size([9094, 3])"
            ]
          },
          "metadata": {},
          "execution_count": 211
        }
      ],
      "source": [
        "gnn = GNN(val_g.x.size()[1], conv_sizes=[3, 6, 3])\n",
        "with th.no_grad():\n",
        "    out = gnn(val_g.x,val_g.edge_index, val_g.edge_attr)\n",
        "\n",
        "out.size()"
      ]
    },
    {
      "cell_type": "markdown",
      "id": "b736ef56",
      "metadata": {
        "papermill": {
          "duration": 0.012541,
          "end_time": "2023-10-11T09:16:04.365557",
          "exception": false,
          "start_time": "2023-10-11T09:16:04.353016",
          "status": "completed"
        },
        "tags": [],
        "id": "b736ef56"
      },
      "source": [
        "The output from our model is a **matrix of node embeddings** of dimension: `N nodes x Embed size`.  "
      ]
    },
    {
      "cell_type": "markdown",
      "id": "3cd93882",
      "metadata": {
        "papermill": {
          "duration": 0.012735,
          "end_time": "2023-10-11T09:16:04.391142",
          "exception": false,
          "start_time": "2023-10-11T09:16:04.378407",
          "status": "completed"
        },
        "tags": [],
        "id": "3cd93882"
      },
      "source": [
        "## PyTorch Lightning Wrapper  \n",
        "   \n",
        "Now it is time to define our PL wrapper around the graph convolution. This model will contain the following elements:  \n",
        "   \n",
        "1. **\"Inner graph convolution\"** - the part that we have defined so far. The Graph convolution part returns node embeddings.  \n",
        "2. **Link prediction layer** - this layer will take the source node embeddings (message senders) and target node embeddings (message receivers) and compute a product between them and then add some non-linearity. This will assist the model in deciding whether there should be a link or not.  "
      ]
    },
    {
      "cell_type": "code",
      "source": [
        "class GDPModel(torch.nn.Module):\n",
        "    def __init__(self, num_features=3, hidden_size=32, target_size=1):\n",
        "        super().__init__()\n",
        "        self.hidden_size = hidden_size\n",
        "        self.num_features = num_features\n",
        "        self.target_size = target_size\n",
        "        self.convs = [GATConv(self.num_features, self.hidden_size, edge_dim = NUM_EDGE_FEATURES),\n",
        "                      GATConv(self.hidden_size, self.hidden_size, edge_dim = NUM_EDGE_FEATURES)]\n",
        "        self.linear = nn.Linear(self.hidden_size, self.target_size)\n",
        "\n",
        "    def forward(self, data):\n",
        "        x, edge_index, edge_attr = data.x, data.edge_index, data.edge_attr\n",
        "        for conv in self.convs[:-1]:\n",
        "            x = conv(x, edge_index, edge_attr=edge_attr) # adding edge features here!\n",
        "            x = F.relu(x)\n",
        "            x = F.dropout(x, training=self.training)\n",
        "        x = self.convs[-1](x, edge_index, edge_attr=edge_attr) # edge features here as well\n",
        "        x = self.linear(x)\n",
        "\n",
        "        return F.relu(x)"
      ],
      "metadata": {
        "id": "HFNLroJlyp-Q",
        "outputId": "987547fa-6814-40d9-95b1-9f3d8a174669",
        "colab": {
          "base_uri": "https://localhost:8080/",
          "height": 245
        }
      },
      "id": "HFNLroJlyp-Q",
      "execution_count": 128,
      "outputs": [
        {
          "output_type": "error",
          "ename": "NameError",
          "evalue": "ignored",
          "traceback": [
            "\u001b[0;31m---------------------------------------------------------------------------\u001b[0m",
            "\u001b[0;31mNameError\u001b[0m                                 Traceback (most recent call last)",
            "\u001b[0;32m<ipython-input-128-8a8c9c3a3bd3>\u001b[0m in \u001b[0;36m<cell line: 1>\u001b[0;34m()\u001b[0m\n\u001b[0;32m----> 1\u001b[0;31m \u001b[0;32mclass\u001b[0m \u001b[0mGDPModel\u001b[0m\u001b[0;34m(\u001b[0m\u001b[0mtorch\u001b[0m\u001b[0;34m.\u001b[0m\u001b[0mnn\u001b[0m\u001b[0;34m.\u001b[0m\u001b[0mModule\u001b[0m\u001b[0;34m)\u001b[0m\u001b[0;34m:\u001b[0m\u001b[0;34m\u001b[0m\u001b[0;34m\u001b[0m\u001b[0m\n\u001b[0m\u001b[1;32m      2\u001b[0m     \u001b[0;32mdef\u001b[0m \u001b[0m__init__\u001b[0m\u001b[0;34m(\u001b[0m\u001b[0mself\u001b[0m\u001b[0;34m,\u001b[0m \u001b[0mnum_features\u001b[0m\u001b[0;34m=\u001b[0m\u001b[0;36m3\u001b[0m\u001b[0;34m,\u001b[0m \u001b[0mhidden_size\u001b[0m\u001b[0;34m=\u001b[0m\u001b[0;36m32\u001b[0m\u001b[0;34m,\u001b[0m \u001b[0mtarget_size\u001b[0m\u001b[0;34m=\u001b[0m\u001b[0;36m1\u001b[0m\u001b[0;34m)\u001b[0m\u001b[0;34m:\u001b[0m\u001b[0;34m\u001b[0m\u001b[0;34m\u001b[0m\u001b[0m\n\u001b[1;32m      3\u001b[0m         \u001b[0msuper\u001b[0m\u001b[0;34m(\u001b[0m\u001b[0;34m)\u001b[0m\u001b[0;34m.\u001b[0m\u001b[0m__init__\u001b[0m\u001b[0;34m(\u001b[0m\u001b[0;34m)\u001b[0m\u001b[0;34m\u001b[0m\u001b[0;34m\u001b[0m\u001b[0m\n\u001b[1;32m      4\u001b[0m         \u001b[0mself\u001b[0m\u001b[0;34m.\u001b[0m\u001b[0mhidden_size\u001b[0m \u001b[0;34m=\u001b[0m \u001b[0mhidden_size\u001b[0m\u001b[0;34m\u001b[0m\u001b[0;34m\u001b[0m\u001b[0m\n\u001b[1;32m      5\u001b[0m         \u001b[0mself\u001b[0m\u001b[0;34m.\u001b[0m\u001b[0mnum_features\u001b[0m \u001b[0;34m=\u001b[0m \u001b[0mnum_features\u001b[0m\u001b[0;34m\u001b[0m\u001b[0;34m\u001b[0m\u001b[0m\n",
            "\u001b[0;31mNameError\u001b[0m: name 'torch' is not defined"
          ]
        }
      ]
    },
    {
      "cell_type": "code",
      "source": [
        "\n",
        "def train(model, name_prefix, hyperparams):\n",
        "    '''\n",
        "    Train model with given hyperparams dict.\n",
        "    Saves the following CSVs over the course of training:\n",
        "    1. the loss trajectory: the val and train loss every save_loss_interval epochs at\n",
        "       filename 'results/{name_prefix}_{learning_rate}_train.csv' e.g. 'results/baseline_0.05_train.csv'\n",
        "    2. every save_model_interval save both the model at e.g. 'models/baseline_0.05_0_out_of_1000.pt`\n",
        "       and the predicted values vs actual values in `results/baseline_0.05_0_out_of_1000_prediction.csv' on the test data.\n",
        "    '''\n",
        "    learning_rate = hyperparams['learning_rate']\n",
        "    batch_size = hyperparams['batch_size']\n",
        "    n_epochs = hyperparams['n_epochs']\n",
        "    save_loss_interval = hyperparams['save_loss_interval']\n",
        "    print_interval = hyperparams['print_interval']\n",
        "    save_model_interval = hyperparams['save_model_interval']\n",
        "\n",
        "    optimizer = torch.optim.AdamW(model.parameters(), lr=learning_rate)\n",
        "    loader = DataLoader(data_train, batch_size=batch_size, shuffle=True)\n",
        "    losses = []\n",
        "    test_data = data_test[0]\n",
        "    for epoch in range(n_epochs):\n",
        "        epoch_loss = 0\n",
        "        model.train()\n",
        "        for data in loader:\n",
        "            optimizer.zero_grad()\n",
        "            out = model(data)\n",
        "            loss = F.mse_loss(out, data.y)\n",
        "            epoch_loss += loss.item()\n",
        "            loss.backward()\n",
        "            optimizer.step()\n",
        "        if epoch % save_loss_interval == 0:\n",
        "            val_loss = evaluate_model(model, data_val) / NUM_VAL\n",
        "            train_loss = epoch_loss / NUM_TRAIN * batch_size\n",
        "            if epoch % print_interval == 0:\n",
        "                print(\"Epoch: {} Train loss: {:.2e} Validation loss: {:.2e}\".format(epoch, train_loss, val_loss))\n",
        "            losses.append((epoch, train_loss, val_loss))\n",
        "        if epoch % save_model_interval == 0:\n",
        "            # save predictions for plotting\n",
        "            model.eval()\n",
        "\n",
        "    return losses"
      ],
      "metadata": {
        "id": "9L2qIBcyyxtt"
      },
      "id": "9L2qIBcyyxtt",
      "execution_count": null,
      "outputs": []
    },
    {
      "cell_type": "code",
      "execution_count": 237,
      "id": "08f28862",
      "metadata": {
        "execution": {
          "iopub.execute_input": "2023-10-11T09:16:04.420853Z",
          "iopub.status.busy": "2023-10-11T09:16:04.419880Z",
          "iopub.status.idle": "2023-10-11T09:16:04.433472Z",
          "shell.execute_reply": "2023-10-11T09:16:04.432108Z"
        },
        "papermill": {
          "duration": 0.031783,
          "end_time": "2023-10-11T09:16:04.436121",
          "exception": false,
          "start_time": "2023-10-11T09:16:04.404338",
          "status": "completed"
        },
        "tags": [],
        "id": "08f28862"
      },
      "outputs": [],
      "source": [
        "class LinkPredModel(pl.LightningModule):\n",
        "\n",
        "    def __init__(\n",
        "        self,\n",
        "        dim_in: int,\n",
        "        conv_sizes: Tuple[int, ...],\n",
        "        act_f: nn.Module = th.relu,\n",
        "        dropout: float = 0.1,\n",
        "        lr: float = 0.01,\n",
        "        *args, **kwargs):\n",
        "        super().__init__()\n",
        "\n",
        "        # Our inner GNN model\n",
        "        self.gnn = GNN(dim_in, conv_sizes=conv_sizes, act_f=act_f, dropout=dropout)\n",
        "\n",
        "        # Final prediction model on links.\n",
        "        self.lin_pred = nn.Linear(self.gnn.dim_out, 1)\n",
        "        self.lr = lr\n",
        "\n",
        "    def forward(self, x: th.Tensor, edge_index: th.Tensor, edge_attr: th.Tensor) -> th.Tensor:\n",
        "        # Step 1: make node embeddings using GNN.\n",
        "        h = self.gnn(x, edge_index, edge_attr)\n",
        "        # Take source nodes embeddings- senders\n",
        "        h_src = h[edge_index[0, :]]\n",
        "        # Take target node embeddings - receivers\n",
        "        h_dst = h[edge_index[1, :]]\n",
        "\n",
        "        # Calculate the product between them\n",
        "        # src_dst_mult = h_src * h_dst\n",
        "        # Apply non-linearity\n",
        "        out = self.lin_pred(h)\n",
        "\n",
        "        # print(out.size(), x.size())\n",
        "\n",
        "        return out #th.sigmoid(out)\n",
        "\n",
        "    def _step(self, batch: th.Tensor, phase: str='train') -> th.Tensor:\n",
        "        yhat_edge = self(batch.x, batch.edge_index, batch.edge_attr).squeeze()\n",
        "        y = batch.y.to(th.float32)\n",
        "        loss = nn.functional.binary_cross_entropy_with_logits(input=yhat_edge, target=y, pos_weight = th.tensor([7.0]))\n",
        "        f1 = tm.functional.f1_score(preds=yhat_edge, target=y, task='binary')\n",
        "        prec = tm.functional.precision(preds=yhat_edge, target=y, task='binary')\n",
        "        recall = tm.functional.recall(preds=yhat_edge, target=y, task='binary')\n",
        "\n",
        "        # Watch for logging here - we need to provide batch_size, as (at the time of this implementation)\n",
        "        # PL cannot understand the batch size.\n",
        "        self.log(f\"{phase}_f1\", f1, batch_size=5)\n",
        "        self.log(f\"{phase}_loss\", loss, batch_size=5)\n",
        "        self.log(f\"{phase}_precision\", prec, batch_size=5)\n",
        "        self.log(f\"{phase}_recall\", recall, batch_size=5)\n",
        "\n",
        "        return loss\n",
        "\n",
        "    def training_step(self, batch, batch_idx):\n",
        "        return self._step(batch)\n",
        "\n",
        "    def validation_step(self, batch, batch_idx):\n",
        "        return self._step(batch, \"val\")\n",
        "\n",
        "    def test_step(self, batch, batch_idx):\n",
        "        return self._step(batch, \"test\")\n",
        "\n",
        "    def predict_step(self, batch):\n",
        "        x, edge_index, edge_attr = batch\n",
        "        return self(x, edge_index, edge_attr)\n",
        "\n",
        "    def configure_optimizers(self):\n",
        "        return th.optim.Adam(self.parameters(), lr=self.lr)"
      ]
    },
    {
      "cell_type": "markdown",
      "id": "747411cd",
      "metadata": {
        "papermill": {
          "duration": 0.013992,
          "end_time": "2023-10-11T09:16:04.463840",
          "exception": false,
          "start_time": "2023-10-11T09:16:04.449848",
          "status": "completed"
        },
        "tags": [],
        "id": "747411cd"
      },
      "source": [
        "The code above is a typical \"boilerplate\" from Pytorch Lightning with two exceptions:  \n",
        "1. **Forward loop** - contains two steps: node embeddings using GNN and link prediction.  \n",
        "2. **Logging with batch size** - currently PL cannot understand the batch size from graph data, so we need to instruct it, providing the dimensionality of **edge_label_index** - the number of labeled connections in our batch.  \n",
        "   \n",
        "Again, we can check if the model works at all.  "
      ]
    },
    {
      "cell_type": "code",
      "execution_count": 231,
      "id": "bc011b30",
      "metadata": {
        "execution": {
          "iopub.execute_input": "2023-10-11T09:16:04.493709Z",
          "iopub.status.busy": "2023-10-11T09:16:04.492793Z",
          "iopub.status.idle": "2023-10-11T09:16:04.848417Z",
          "shell.execute_reply": "2023-10-11T09:16:04.847293Z"
        },
        "papermill": {
          "duration": 0.374193,
          "end_time": "2023-10-11T09:16:04.851572",
          "exception": false,
          "start_time": "2023-10-11T09:16:04.477379",
          "status": "completed"
        },
        "tags": [],
        "id": "bc011b30",
        "colab": {
          "base_uri": "https://localhost:8080/"
        },
        "outputId": "f75f6c36-c1b5-4b94-801a-bfb122e598a1"
      },
      "outputs": [
        {
          "output_type": "execute_result",
          "data": {
            "text/plain": [
              "(torch.Size([9094, 1]),\n",
              " tensor([[0.4330],\n",
              "         [0.4292],\n",
              "         [0.4204],\n",
              "         ...,\n",
              "         [0.3195],\n",
              "         [0.3488],\n",
              "         [0.3266]]))"
            ]
          },
          "metadata": {},
          "execution_count": 231
        }
      ],
      "source": [
        "model = LinkPredModel(val_g.x.size()[1], conv_sizes=[3, 6, 3])\n",
        "with th.no_grad():\n",
        "    out = model.predict_step((val_g.x, val_g.edge_index, val_g.edge_attr))\n",
        "out.size(), out"
      ]
    },
    {
      "cell_type": "markdown",
      "id": "96dd5e2d",
      "metadata": {
        "papermill": {
          "duration": 0.012655,
          "end_time": "2023-10-11T09:16:04.878161",
          "exception": false,
          "start_time": "2023-10-11T09:16:04.865506",
          "status": "completed"
        },
        "tags": [],
        "id": "96dd5e2d"
      },
      "source": [
        "# Training the Model  \n",
        "   \n",
        "Now it is time for a training loop. Again, no surprises here, with one exception: **special data loaders**.  \n",
        "   \n",
        "Graph data requires special treatment - especially for link prediction. PyG has some specialized data loader classes, that are responsible for properly generating batches.  \n",
        "In our case, we will use: `tg.loader.LinkNeighborLoader` that takes the following inputs:  \n",
        "   \n",
        "1. The data (graph) to be loaded in batches.  \n",
        "2. `num_neighbors` - maximum number of neighbors of each node to be loaded during one \"hop\". A list specifying the number of neighbors one-two-three-...-K hops away. Especially useful for very large graphs.  \n",
        "3. `edge_label_index` - which attribute (is any) already indicates true/fake connections.  \n",
        "4. `neg_sampling_ratio` - proportion of negative samples to real ones.  \n",
        "   "
      ]
    },
    {
      "cell_type": "code",
      "source": [
        "data.batch ="
      ],
      "metadata": {
        "id": "4DMlV3vxbCwu"
      },
      "id": "4DMlV3vxbCwu",
      "execution_count": null,
      "outputs": []
    },
    {
      "cell_type": "code",
      "source": [
        "\n",
        "# Define a custom collate function to batch the sampled data\n",
        "def collate(samples):\n",
        "    return samples[0]  # In this example, we just return the first sampled batch\n",
        "\n",
        "# Create a PyTorch DataLoader using the sampler and collate function\n",
        "train_loader = tg.loader.DataLoader([train_g], batch_size=64, shuffle=True, collate_fn=collate, num_workers=2)\n",
        "test_loader = tg.loader.DataLoader([test_g], batch_size=64, collate_fn=collate, num_workers=2)\n",
        "val_loader = tg.loader.DataLoader([val_g], batch_size=64, collate_fn=collate, num_workers=2)\n",
        "\n",
        "# # Now you can iterate through train_loader for node-wise training\n",
        "# for data_flow in train_loader:\n",
        "#     # Perform your training with the sampled node data (data_flow)\n",
        "#     # Your training code goes here\n",
        "#     pass  # Remove this line when you add your training code"
      ],
      "metadata": {
        "id": "Oi9D9SUOaUV1"
      },
      "id": "Oi9D9SUOaUV1",
      "execution_count": 228,
      "outputs": []
    },
    {
      "cell_type": "markdown",
      "id": "67fcef5e",
      "metadata": {
        "papermill": {
          "duration": 0.013129,
          "end_time": "2023-10-11T09:16:04.954671",
          "exception": false,
          "start_time": "2023-10-11T09:16:04.941542",
          "status": "completed"
        },
        "tags": [],
        "id": "67fcef5e"
      },
      "source": [
        "Now it is time for a typical, boilerplate trianing loops with PL."
      ]
    },
    {
      "cell_type": "code",
      "execution_count": 238,
      "id": "da489f0b",
      "metadata": {
        "execution": {
          "iopub.execute_input": "2023-10-11T09:16:04.984125Z",
          "iopub.status.busy": "2023-10-11T09:16:04.983290Z",
          "iopub.status.idle": "2023-10-11T09:23:18.626408Z",
          "shell.execute_reply": "2023-10-11T09:23:18.625253Z"
        },
        "papermill": {
          "duration": 433.660981,
          "end_time": "2023-10-11T09:23:18.629076",
          "exception": false,
          "start_time": "2023-10-11T09:16:04.968095",
          "status": "completed"
        },
        "tags": [],
        "colab": {
          "referenced_widgets": [
            "ff7586ef8e08491c82c3ab6f2a9e0d7c",
            "e5be3cc9d6c34164a5b3fbe0e8d786cd",
            "1d326272792d4407bb6fa24d910ba20b",
            "5c6c8c15daea493a9f1211f199ce45d3",
            "19f776af827842e7a98afca8c62a3614",
            "c5d5a4661a4b4334afeb6a5121bfe30c",
            "9b9d271589c842c2b4240e884f2e6a8b",
            "34c542f28da343559557b04f4f5fef0e",
            "321c37d32eb14ce1aa0faaab9e7d4607",
            "137471299b8945c2ba254b63d1cd238d",
            "33d3b4acda004c1db4c6ebffcac89965",
            "dafaeb1887b143849c13e298c3e6d67f",
            "51ce98abddf64a14ba035821fe735f90",
            "f18563281bf34a6798bbf8779274995c",
            "44cd29b43a384613af13bdf46b97aa6e",
            "307278345b504345a810872054faa4ac",
            "91eefd73903e4c9483f08559bb177cd5",
            "5a7e8ea8b3b447d3acd3dca1dc22ed38",
            "3eb1cd4c276f400ea4a67129fa431cf0",
            "46b4d9479ddb447f8e6b92c7b29f2b8a",
            "52bb10ed6446443bb0e807ddba4ab491",
            "e0955889b4044ad890ccf73e4b436419",
            "6548200342554babbc1daa2bb61a8597",
            "8a62c9ece2484ee09431117fd8fa129a",
            "d1c8e2b1c1cc493aa3e1ff83cc3360b9",
            "dfbfda89717144a2a55845f231375feb",
            "dcbca3a051624c6fb349dea661582e3d",
            "922be95464784f5b8dafd272f95a43ba",
            "5786f06e614e46d380884bdd968a89ec",
            "0062803701da4c7b85adcc09732f403e",
            "ba334e5d8f384722b9557ac17d71f87a",
            "89d9066dc88c4d91857d5f3dc0f0d3db",
            "acd2dd36129d41ae91ffd2e85ef8f1b1",
            "549888214756476f87d20fcc824eb123",
            "e415655362a04760ad76f41ca4b41659",
            "3acbceb41f814f30ae654d8d0805dcf5",
            "94cbedbcd47447b2af3794c090247007",
            "60fb5d00f4f04b0ebf28a2e85a08f6aa",
            "b2c024664f35464ab4fbad41146d810c",
            "dc4738ec60064743a62994ed184e1341",
            "3a3eccd87474424f8cc1f2f8b9ee326c",
            "d519c8be9def4bd291fd9ada70b35a34",
            "23f8be4e78c84fb4a14e20b188f5b9f1",
            "310794f512d7483c8fdc53998b3dbe64",
            "a4ec5cb32de8416487af67d5cc1456f3",
            "636751726d0644b78c3cab2323675793",
            "5781b2b771ab493c95304340939caa71",
            "ad049f183c3f401099277b9d392e85e3",
            "401774d57c3e4cb4899533eab4d1c51f",
            "0a1413fdbfc84d9681d94c5019f90234",
            "d31b5ca819d84f819749659969e940af",
            "b209b31405a64fe097de8ae2843feadb",
            "0ac1e3fb1b8946d2801c0478f2d91068",
            "1d177c4572134d9bbe59d1b854eeed32",
            "6be465c529524ee1b60c08a008762902",
            "763f000b80d84532ac2656d9fbe0de43",
            "5fa8a314d360447b882e4e1cfc2664cd",
            "530e64ec14fe47ce9aa8c1e13a470510",
            "25bfd6f83e494af7bde11dcb7431481e",
            "69e00dba75d349af896c43e3fa2f6f6d",
            "7d674c1da676461fb03c06ba31311a5d",
            "1ac3d3995e4046059d1744421dd5ff80",
            "425b4485ac51406cb00ee5798aea7723",
            "3b6d700d33ca448f9cb8a1b65d8aa106",
            "19ecd94e94ec4009850650b65d5f8c97",
            "c0465cda71924cdd8e71524407461cd2",
            "cf1689a8a3b9478cbc72650111ca50fa",
            "3e20622a0a5d4cc8b488284621cd5baa",
            "1e999f1c06fa4036ae8093bb96d00eae",
            "12a27272d0b344d7a4c79fdef4855a71",
            "8c0eb9d4ba924b3bbc1cd0dad424e8ac",
            "67e96256d89e48afbff2ce895aa99698",
            "6321bf685ece4a65aaf3020a10212be9",
            "a784155b2e5649dcae9a251d3d91c3d3",
            "b4806e8c73b7470ba35bdc82839bca9a",
            "f24db3543ef1424081afee98b1f5a7e6",
            "0e43291d70934204bb6dd1617df399a4",
            "3c5b52c5ddf14891839d32bac7e9cce2",
            "d9526ba3dd52449d927ef65a10964c80",
            "ab789670fc254e7e9c764710d5f3e8a2",
            "35a4a9ea95f94c1081e989bcade19ed8",
            "22fb47c3de84488184e9978ed70db8cd",
            "62487eac63474159a91eb730dae8116c",
            "7c3945f0e36d4c6fab8feecf9f18b7ce",
            "d8414b5891894a13897310a1298a0406",
            "611b166f0e7f4fdeb807a885b683bd9a",
            "d3c8d459b6224e179d61bf645c53a399",
            "96c9e245efdd42219e8c50733c7c8030",
            "41422e5e21444c9ea84b442b1d34ff63",
            "e0f04614b9c6437d8ea2d50534bf884e",
            "49f15e616b4c41d2b6c0ef154ad0e91a",
            "bcb66e5d01f2415da49f949077a1cc74",
            "d89d6fdde03945daa6b92df939d83419",
            "acdd1fe8eb0e4467bdc61c224bc42a28",
            "a3fd1a6e8d2949ac99eecc7c0c5beebc",
            "e9c48d5e1a2c4aec9e497829d27b52b3",
            "661a4c1a3a284f4695dc1d914c40a549",
            "a1371cb3cfaa4ca19d1dde698de50691",
            "b04f5042b33b498d8f74c8cb346f0254",
            "33b4ffb794544d138a62aa38a93cf125",
            "1fcb495793c24569b4f8239f4d8c47bf",
            "5ba78fbfbf384e4dadb31765666fcc17",
            "e97d7346fd024d09a4281c70704076c9",
            "501fe9557ae14a98bd2fc5593a6789f6",
            "7367e970637148da86a75f98401754e3",
            "4cb5a4c18a5b433f99efaf1c7cd3da0b",
            "cb9a478ea1934428b750e7e1705e3015",
            "c90944599a83460db2aa38f342a13b9e",
            "076ea13c4f974d68ab5a5dfab225f6ce",
            "1a5c43220e2f478da12060d6611a3d00",
            "6287539f40534ce2a2046ec6467b3ae6",
            "dcd1059ccbf74965a9fcb3073e5f8127",
            "aa3aebe9070143aaa1b8ba1437946892",
            "bf3ff1a99bf24ba8b84e83b28a30c096",
            "8a7521915c4b4e4caa20cd7673eb6b13",
            "7431e46d48d246ffae2c48657c1da319",
            "cfa039369f094573a81953d90fbf0983",
            "ce3bd749fb4748e09f7c033bf1c0b374",
            "8f0bb06502c8456a917bf8ed5a6c7735",
            "a7da71a60ef04400a73dcdd20e310f03",
            "f0c9e6110f9246d7920e4297912a7b4a",
            "a97bcef192f64853ad0b45214a9c4eb5",
            "aa9afba5515144f7955b4e883aad20d9",
            "f94a5046673d435e8f4c0f22ce646fd3",
            "037b713f36144ecebf1a3c7c880b7d12",
            "e6748a0348ce48cbbaa029900f44ec12",
            "4cb2a3ec82d645eeab39d587a64e68ef",
            "66f502aaa7e046b789cdd02238296000",
            "40ba0135f68e440ea61264d6657e21b3",
            "d0831b8689ee425d848f1d981393c626",
            "f549bd15c7c74f938c9568a6bbb34de0",
            "b10e398baf0c4c67a669b0014e71c00a",
            "70bee7885818412ab3222f4d52a078b8",
            "c5e42d1b34e94a70af02059233b39223",
            "2dc9cbbb021d4fabbb530c1cecc460fd",
            "a346314b168647bcb777c4a378da5a32",
            "0a034e4e89c847939391b91963252a02",
            "b55cb6925b8a4c658e798b947cc04626",
            "139969144f5f40f3bb9ee6c537fb22dd",
            "ed4fae98f9de40828a5d9c93439f0578",
            "646ee246181c49038fc425e30e7500e4",
            "8ca4baf6eda445beaa17df5fa6c19f8b",
            "3399e83963bc4681b6afbacdeef47683"
          ],
          "base_uri": "https://localhost:8080/",
          "height": 816
        },
        "id": "da489f0b",
        "outputId": "5ced68e6-426b-428a-ab3e-f68b7734c03b"
      },
      "outputs": [
        {
          "output_type": "stream",
          "name": "stderr",
          "text": [
            "INFO:pytorch_lightning.utilities.rank_zero:GPU available: False, used: False\n",
            "INFO:pytorch_lightning.utilities.rank_zero:TPU available: False, using: 0 TPU cores\n",
            "INFO:pytorch_lightning.utilities.rank_zero:IPU available: False, using: 0 IPUs\n",
            "INFO:pytorch_lightning.utilities.rank_zero:HPU available: False, using: 0 HPUs\n"
          ]
        },
        {
          "output_type": "display_data",
          "data": {
            "text/plain": [
              "Validation: |          | 0/? [00:00<?, ?it/s]"
            ],
            "application/vnd.jupyter.widget-view+json": {
              "version_major": 2,
              "version_minor": 0,
              "model_id": "ff7586ef8e08491c82c3ab6f2a9e0d7c"
            }
          },
          "metadata": {}
        },
        {
          "output_type": "display_data",
          "data": {
            "text/plain": [
              "┏━━━━━━━━━━━━━━━━━━━━━━━━━━━┳━━━━━━━━━━━━━━━━━━━━━━━━━━━┓\n",
              "┃\u001b[1m \u001b[0m\u001b[1m     Validate metric     \u001b[0m\u001b[1m \u001b[0m┃\u001b[1m \u001b[0m\u001b[1m      DataLoader 0       \u001b[0m\u001b[1m \u001b[0m┃\n",
              "┡━━━━━━━━━━━━━━━━━━━━━━━━━━━╇━━━━━━━━━━━━━━━━━━━━━━━━━━━┩\n",
              "│\u001b[36m \u001b[0m\u001b[36m         val_f1          \u001b[0m\u001b[36m \u001b[0m│\u001b[35m \u001b[0m\u001b[35m           0.0           \u001b[0m\u001b[35m \u001b[0m│\n",
              "│\u001b[36m \u001b[0m\u001b[36m        val_loss         \u001b[0m\u001b[36m \u001b[0m│\u001b[35m \u001b[0m\u001b[35m    1.424164891242981    \u001b[0m\u001b[35m \u001b[0m│\n",
              "│\u001b[36m \u001b[0m\u001b[36m      val_precision      \u001b[0m\u001b[36m \u001b[0m│\u001b[35m \u001b[0m\u001b[35m           0.0           \u001b[0m\u001b[35m \u001b[0m│\n",
              "│\u001b[36m \u001b[0m\u001b[36m       val_recall        \u001b[0m\u001b[36m \u001b[0m│\u001b[35m \u001b[0m\u001b[35m           0.0           \u001b[0m\u001b[35m \u001b[0m│\n",
              "└───────────────────────────┴───────────────────────────┘\n"
            ],
            "text/html": [
              "<pre style=\"white-space:pre;overflow-x:auto;line-height:normal;font-family:Menlo,'DejaVu Sans Mono',consolas,'Courier New',monospace\">┏━━━━━━━━━━━━━━━━━━━━━━━━━━━┳━━━━━━━━━━━━━━━━━━━━━━━━━━━┓\n",
              "┃<span style=\"font-weight: bold\">      Validate metric      </span>┃<span style=\"font-weight: bold\">       DataLoader 0        </span>┃\n",
              "┡━━━━━━━━━━━━━━━━━━━━━━━━━━━╇━━━━━━━━━━━━━━━━━━━━━━━━━━━┩\n",
              "│<span style=\"color: #008080; text-decoration-color: #008080\">          val_f1           </span>│<span style=\"color: #800080; text-decoration-color: #800080\">            0.0            </span>│\n",
              "│<span style=\"color: #008080; text-decoration-color: #008080\">         val_loss          </span>│<span style=\"color: #800080; text-decoration-color: #800080\">     1.424164891242981     </span>│\n",
              "│<span style=\"color: #008080; text-decoration-color: #008080\">       val_precision       </span>│<span style=\"color: #800080; text-decoration-color: #800080\">            0.0            </span>│\n",
              "│<span style=\"color: #008080; text-decoration-color: #008080\">        val_recall         </span>│<span style=\"color: #800080; text-decoration-color: #800080\">            0.0            </span>│\n",
              "└───────────────────────────┴───────────────────────────┘\n",
              "</pre>\n"
            ]
          },
          "metadata": {}
        },
        {
          "output_type": "stream",
          "name": "stderr",
          "text": [
            "INFO:pytorch_lightning.callbacks.model_summary:\n",
            "  | Name     | Type   | Params\n",
            "------------------------------------\n",
            "0 | gnn      | GNN    | 12.9 K\n",
            "1 | lin_pred | Linear | 9     \n",
            "------------------------------------\n",
            "12.9 K    Trainable params\n",
            "0         Non-trainable params\n",
            "12.9 K    Total params\n",
            "0.052     Total estimated model params size (MB)\n"
          ]
        },
        {
          "output_type": "display_data",
          "data": {
            "text/plain": [
              "Sanity Checking: |          | 0/? [00:00<?, ?it/s]"
            ],
            "application/vnd.jupyter.widget-view+json": {
              "version_major": 2,
              "version_minor": 0,
              "model_id": "dafaeb1887b143849c13e298c3e6d67f"
            }
          },
          "metadata": {}
        },
        {
          "output_type": "display_data",
          "data": {
            "text/plain": [
              "Training: |          | 0/? [00:00<?, ?it/s]"
            ],
            "application/vnd.jupyter.widget-view+json": {
              "version_major": 2,
              "version_minor": 0,
              "model_id": "6548200342554babbc1daa2bb61a8597"
            }
          },
          "metadata": {}
        },
        {
          "output_type": "display_data",
          "data": {
            "text/plain": [
              "Validation: |          | 0/? [00:00<?, ?it/s]"
            ],
            "application/vnd.jupyter.widget-view+json": {
              "version_major": 2,
              "version_minor": 0,
              "model_id": "549888214756476f87d20fcc824eb123"
            }
          },
          "metadata": {}
        },
        {
          "output_type": "display_data",
          "data": {
            "text/plain": [
              "Validation: |          | 0/? [00:00<?, ?it/s]"
            ],
            "application/vnd.jupyter.widget-view+json": {
              "version_major": 2,
              "version_minor": 0,
              "model_id": "a4ec5cb32de8416487af67d5cc1456f3"
            }
          },
          "metadata": {}
        },
        {
          "output_type": "display_data",
          "data": {
            "text/plain": [
              "Validation: |          | 0/? [00:00<?, ?it/s]"
            ],
            "application/vnd.jupyter.widget-view+json": {
              "version_major": 2,
              "version_minor": 0,
              "model_id": "763f000b80d84532ac2656d9fbe0de43"
            }
          },
          "metadata": {}
        },
        {
          "output_type": "display_data",
          "data": {
            "text/plain": [
              "Validation: |          | 0/? [00:00<?, ?it/s]"
            ],
            "application/vnd.jupyter.widget-view+json": {
              "version_major": 2,
              "version_minor": 0,
              "model_id": "cf1689a8a3b9478cbc72650111ca50fa"
            }
          },
          "metadata": {}
        },
        {
          "output_type": "display_data",
          "data": {
            "text/plain": [
              "Validation: |          | 0/? [00:00<?, ?it/s]"
            ],
            "application/vnd.jupyter.widget-view+json": {
              "version_major": 2,
              "version_minor": 0,
              "model_id": "3c5b52c5ddf14891839d32bac7e9cce2"
            }
          },
          "metadata": {}
        },
        {
          "output_type": "display_data",
          "data": {
            "text/plain": [
              "Validation: |          | 0/? [00:00<?, ?it/s]"
            ],
            "application/vnd.jupyter.widget-view+json": {
              "version_major": 2,
              "version_minor": 0,
              "model_id": "41422e5e21444c9ea84b442b1d34ff63"
            }
          },
          "metadata": {}
        },
        {
          "output_type": "display_data",
          "data": {
            "text/plain": [
              "Validation: |          | 0/? [00:00<?, ?it/s]"
            ],
            "application/vnd.jupyter.widget-view+json": {
              "version_major": 2,
              "version_minor": 0,
              "model_id": "33b4ffb794544d138a62aa38a93cf125"
            }
          },
          "metadata": {}
        },
        {
          "output_type": "display_data",
          "data": {
            "text/plain": [
              "Validation: |          | 0/? [00:00<?, ?it/s]"
            ],
            "application/vnd.jupyter.widget-view+json": {
              "version_major": 2,
              "version_minor": 0,
              "model_id": "6287539f40534ce2a2046ec6467b3ae6"
            }
          },
          "metadata": {}
        },
        {
          "output_type": "display_data",
          "data": {
            "text/plain": [
              "Validation: |          | 0/? [00:00<?, ?it/s]"
            ],
            "application/vnd.jupyter.widget-view+json": {
              "version_major": 2,
              "version_minor": 0,
              "model_id": "a97bcef192f64853ad0b45214a9c4eb5"
            }
          },
          "metadata": {}
        },
        {
          "output_type": "display_data",
          "data": {
            "text/plain": [
              "Validation: |          | 0/? [00:00<?, ?it/s]"
            ],
            "application/vnd.jupyter.widget-view+json": {
              "version_major": 2,
              "version_minor": 0,
              "model_id": "70bee7885818412ab3222f4d52a078b8"
            }
          },
          "metadata": {}
        },
        {
          "output_type": "stream",
          "name": "stderr",
          "text": [
            "Exception in thread QueueFeederThread:\n",
            "Traceback (most recent call last):\n",
            "  File \"/usr/lib/python3.10/multiprocessing/queues.py\", line 239, in _feed\n",
            "    reader_close()\n",
            "  File \"/usr/lib/python3.10/multiprocessing/connection.py\", line 177, in close\n",
            "    self._close()\n",
            "  File \"/usr/lib/python3.10/multiprocessing/connection.py\", line 361, in _close\n",
            "    _close(self._handle)\n",
            "OSError: [Errno 9] Bad file descriptor\n",
            "\n",
            "During handling of the above exception, another exception occurred:\n",
            "\n",
            "Traceback (most recent call last):\n",
            "  File \"/usr/lib/python3.10/threading.py\", line 1016, in _bootstrap_inner\n",
            "    self.run()\n",
            "  File \"/usr/lib/python3.10/threading.py\", line 953, in run\n",
            "    self._target(*self._args, **self._kwargs)\n",
            "  File \"/usr/lib/python3.10/multiprocessing/queues.py\", line 271, in _feed\n",
            "    queue_sem.release()\n",
            "ValueError: semaphore or lock released too many times\n",
            "INFO:pytorch_lightning.utilities.rank_zero:`Trainer.fit` stopped: `max_epochs=10` reached.\n"
          ]
        }
      ],
      "source": [
        "model = LinkPredModel(val_g.x.size()[1], conv_sizes=[16, 8])\n",
        "trainer = pl.Trainer(max_epochs=10, log_every_n_steps=1)\n",
        "\n",
        "# Validate before training - we will see results of untrained model.\n",
        "trainer.validate(model, val_loader)\n",
        "\n",
        "# Train the model\n",
        "trainer.fit(model=model, train_dataloaders=train_loader, val_dataloaders=val_loader)\n"
      ]
    },
    {
      "cell_type": "code",
      "execution_count": 233,
      "id": "c10117c2",
      "metadata": {
        "execution": {
          "iopub.execute_input": "2023-10-11T09:23:18.665005Z",
          "iopub.status.busy": "2023-10-11T09:23:18.664555Z",
          "iopub.status.idle": "2023-10-11T09:23:27.213418Z",
          "shell.execute_reply": "2023-10-11T09:23:27.211889Z"
        },
        "papermill": {
          "duration": 8.569831,
          "end_time": "2023-10-11T09:23:27.216322",
          "exception": false,
          "start_time": "2023-10-11T09:23:18.646491",
          "status": "completed"
        },
        "tags": [],
        "colab": {
          "referenced_widgets": [
            "c5f37141b07343e88ec95f421572945d",
            "8abf2047de734b378a1fdc451135b0d7",
            "37bfebca740f4f4dbfa23004ec344fce",
            "3f5d427a459949f18977ab81c9a155e2",
            "d1caa7e0b0ab44e1822be1582c5c3f2f",
            "c9f846a04a594905b4571dbe41a6af0b",
            "da046882f2de4d4cb6293ad89d41776e",
            "8f8845e9191d4b96815ab4e346f072b2",
            "53de6c4fd2764a41922ac67aae9427c3",
            "221fcbb3d0c14908811967c37f1331c6",
            "494243142d894b0895e8a049dce1729f"
          ],
          "base_uri": "https://localhost:8080/",
          "height": 246
        },
        "id": "c10117c2",
        "outputId": "8cbf6cc7-9c7b-45ee-a00f-dd2ab738862a"
      },
      "outputs": [
        {
          "output_type": "display_data",
          "data": {
            "text/plain": [
              "Validation: |          | 0/? [00:00<?, ?it/s]"
            ],
            "application/vnd.jupyter.widget-view+json": {
              "version_major": 2,
              "version_minor": 0,
              "model_id": "c5f37141b07343e88ec95f421572945d"
            }
          },
          "metadata": {}
        },
        {
          "output_type": "display_data",
          "data": {
            "text/plain": [
              "┏━━━━━━━━━━━━━━━━━━━━━━━━━━━┳━━━━━━━━━━━━━━━━━━━━━━━━━━━┓\n",
              "┃\u001b[1m \u001b[0m\u001b[1m     Validate metric     \u001b[0m\u001b[1m \u001b[0m┃\u001b[1m \u001b[0m\u001b[1m      DataLoader 0       \u001b[0m\u001b[1m \u001b[0m┃\n",
              "┡━━━━━━━━━━━━━━━━━━━━━━━━━━━╇━━━━━━━━━━━━━━━━━━━━━━━━━━━┩\n",
              "│\u001b[36m \u001b[0m\u001b[36m         val_f1          \u001b[0m\u001b[36m \u001b[0m│\u001b[35m \u001b[0m\u001b[35m   0.3879350423812866    \u001b[0m\u001b[35m \u001b[0m│\n",
              "│\u001b[36m \u001b[0m\u001b[36m        val_loss         \u001b[0m\u001b[36m \u001b[0m│\u001b[35m \u001b[0m\u001b[35m   0.8021143078804016    \u001b[0m\u001b[35m \u001b[0m│\n",
              "│\u001b[36m \u001b[0m\u001b[36m      val_precision      \u001b[0m\u001b[36m \u001b[0m│\u001b[35m \u001b[0m\u001b[35m   0.29835832118988037   \u001b[0m\u001b[35m \u001b[0m│\n",
              "│\u001b[36m \u001b[0m\u001b[36m       val_recall        \u001b[0m\u001b[36m \u001b[0m│\u001b[35m \u001b[0m\u001b[35m   0.5543766617774963    \u001b[0m\u001b[35m \u001b[0m│\n",
              "└───────────────────────────┴───────────────────────────┘\n"
            ],
            "text/html": [
              "<pre style=\"white-space:pre;overflow-x:auto;line-height:normal;font-family:Menlo,'DejaVu Sans Mono',consolas,'Courier New',monospace\">┏━━━━━━━━━━━━━━━━━━━━━━━━━━━┳━━━━━━━━━━━━━━━━━━━━━━━━━━━┓\n",
              "┃<span style=\"font-weight: bold\">      Validate metric      </span>┃<span style=\"font-weight: bold\">       DataLoader 0        </span>┃\n",
              "┡━━━━━━━━━━━━━━━━━━━━━━━━━━━╇━━━━━━━━━━━━━━━━━━━━━━━━━━━┩\n",
              "│<span style=\"color: #008080; text-decoration-color: #008080\">          val_f1           </span>│<span style=\"color: #800080; text-decoration-color: #800080\">    0.3879350423812866     </span>│\n",
              "│<span style=\"color: #008080; text-decoration-color: #008080\">         val_loss          </span>│<span style=\"color: #800080; text-decoration-color: #800080\">    0.8021143078804016     </span>│\n",
              "│<span style=\"color: #008080; text-decoration-color: #008080\">       val_precision       </span>│<span style=\"color: #800080; text-decoration-color: #800080\">    0.29835832118988037    </span>│\n",
              "│<span style=\"color: #008080; text-decoration-color: #008080\">        val_recall         </span>│<span style=\"color: #800080; text-decoration-color: #800080\">    0.5543766617774963     </span>│\n",
              "└───────────────────────────┴───────────────────────────┘\n",
              "</pre>\n"
            ]
          },
          "metadata": {}
        },
        {
          "output_type": "execute_result",
          "data": {
            "text/plain": [
              "[{'val_f1': 0.3879350423812866,\n",
              "  'val_loss': 0.8021143078804016,\n",
              "  'val_precision': 0.29835832118988037,\n",
              "  'val_recall': 0.5543766617774963}]"
            ]
          },
          "metadata": {},
          "execution_count": 233
        }
      ],
      "source": [
        "# Check the model after training\n",
        "trainer.validate(model, val_loader)"
      ]
    },
    {
      "cell_type": "code",
      "source": [
        "%pip install pyg-lib torch-sparse"
      ],
      "metadata": {
        "id": "i2ZLG8JB11B7"
      },
      "id": "i2ZLG8JB11B7",
      "execution_count": null,
      "outputs": []
    },
    {
      "cell_type": "code",
      "source": [
        "%pip install pyg-lib -f https://data.pyg.org/whl/torch-2.1.0+cu118.html"
      ],
      "metadata": {
        "id": "WWC8Ccxpu4EO"
      },
      "id": "WWC8Ccxpu4EO",
      "execution_count": null,
      "outputs": []
    },
    {
      "cell_type": "code",
      "source": [
        "%pip install torch-scatter torch-sparse -f https://data.pyg.org/whl/torch-2.1.0+cu118.html"
      ],
      "metadata": {
        "id": "irXtPsP7zaoM"
      },
      "id": "irXtPsP7zaoM",
      "execution_count": null,
      "outputs": []
    },
    {
      "cell_type": "markdown",
      "id": "3f598d0e",
      "metadata": {
        "papermill": {
          "duration": 0.018024,
          "end_time": "2023-10-11T09:23:27.252833",
          "exception": false,
          "start_time": "2023-10-11T09:23:27.234809",
          "status": "completed"
        },
        "tags": [],
        "id": "3f598d0e"
      },
      "source": [
        "Check the model performance on test set."
      ]
    },
    {
      "cell_type": "code",
      "execution_count": 234,
      "id": "4fb59ad0",
      "metadata": {
        "execution": {
          "iopub.execute_input": "2023-10-11T09:23:27.290786Z",
          "iopub.status.busy": "2023-10-11T09:23:27.290068Z",
          "iopub.status.idle": "2023-10-11T09:23:32.706348Z",
          "shell.execute_reply": "2023-10-11T09:23:32.705263Z"
        },
        "papermill": {
          "duration": 5.439316,
          "end_time": "2023-10-11T09:23:32.709339",
          "exception": false,
          "start_time": "2023-10-11T09:23:27.270023",
          "status": "completed"
        },
        "tags": [],
        "colab": {
          "referenced_widgets": [
            "b1567391d76441cca79c6e4120228556",
            "8ac500e35ef849f7bb8bef72751c926b",
            "7d0d40626c424fbf99ce203870ddc4db",
            "74991539eb9e4e819f7b8c3b36d78f20",
            "72dd9e7fda1e431d9f4cfb3484807257",
            "cb94083a9c31401a920eeeec5642ba17",
            "5159566acc0b4d8baf372223c262c3f2",
            "10ac1fd3bd6d4f17920995e725cbae42",
            "0f097cca0a714579b4680aad35ad8c4b",
            "7f464cbd5a924d6d9767aae08e78e53a",
            "475824ea74044ed5a3d21a23867cc27c"
          ],
          "base_uri": "https://localhost:8080/",
          "height": 246
        },
        "id": "4fb59ad0",
        "outputId": "bb643a36-8991-410f-e19b-214364de7f28"
      },
      "outputs": [
        {
          "output_type": "display_data",
          "data": {
            "text/plain": [
              "Testing: |          | 0/? [00:00<?, ?it/s]"
            ],
            "application/vnd.jupyter.widget-view+json": {
              "version_major": 2,
              "version_minor": 0,
              "model_id": "b1567391d76441cca79c6e4120228556"
            }
          },
          "metadata": {}
        },
        {
          "output_type": "display_data",
          "data": {
            "text/plain": [
              "┏━━━━━━━━━━━━━━━━━━━━━━━━━━━┳━━━━━━━━━━━━━━━━━━━━━━━━━━━┓\n",
              "┃\u001b[1m \u001b[0m\u001b[1m       Test metric       \u001b[0m\u001b[1m \u001b[0m┃\u001b[1m \u001b[0m\u001b[1m      DataLoader 0       \u001b[0m\u001b[1m \u001b[0m┃\n",
              "┡━━━━━━━━━━━━━━━━━━━━━━━━━━━╇━━━━━━━━━━━━━━━━━━━━━━━━━━━┩\n",
              "│\u001b[36m \u001b[0m\u001b[36m         test_f1         \u001b[0m\u001b[36m \u001b[0m│\u001b[35m \u001b[0m\u001b[35m   0.37121137976646423   \u001b[0m\u001b[35m \u001b[0m│\n",
              "│\u001b[36m \u001b[0m\u001b[36m        test_loss        \u001b[0m\u001b[36m \u001b[0m│\u001b[35m \u001b[0m\u001b[35m   0.7977136373519897    \u001b[0m\u001b[35m \u001b[0m│\n",
              "│\u001b[36m \u001b[0m\u001b[36m     test_precision      \u001b[0m\u001b[36m \u001b[0m│\u001b[35m \u001b[0m\u001b[35m   0.2943018078804016    \u001b[0m\u001b[35m \u001b[0m│\n",
              "│\u001b[36m \u001b[0m\u001b[36m       test_recall       \u001b[0m\u001b[36m \u001b[0m│\u001b[35m \u001b[0m\u001b[35m   0.5025394558906555    \u001b[0m\u001b[35m \u001b[0m│\n",
              "└───────────────────────────┴───────────────────────────┘\n"
            ],
            "text/html": [
              "<pre style=\"white-space:pre;overflow-x:auto;line-height:normal;font-family:Menlo,'DejaVu Sans Mono',consolas,'Courier New',monospace\">┏━━━━━━━━━━━━━━━━━━━━━━━━━━━┳━━━━━━━━━━━━━━━━━━━━━━━━━━━┓\n",
              "┃<span style=\"font-weight: bold\">        Test metric        </span>┃<span style=\"font-weight: bold\">       DataLoader 0        </span>┃\n",
              "┡━━━━━━━━━━━━━━━━━━━━━━━━━━━╇━━━━━━━━━━━━━━━━━━━━━━━━━━━┩\n",
              "│<span style=\"color: #008080; text-decoration-color: #008080\">          test_f1          </span>│<span style=\"color: #800080; text-decoration-color: #800080\">    0.37121137976646423    </span>│\n",
              "│<span style=\"color: #008080; text-decoration-color: #008080\">         test_loss         </span>│<span style=\"color: #800080; text-decoration-color: #800080\">    0.7977136373519897     </span>│\n",
              "│<span style=\"color: #008080; text-decoration-color: #008080\">      test_precision       </span>│<span style=\"color: #800080; text-decoration-color: #800080\">    0.2943018078804016     </span>│\n",
              "│<span style=\"color: #008080; text-decoration-color: #008080\">        test_recall        </span>│<span style=\"color: #800080; text-decoration-color: #800080\">    0.5025394558906555     </span>│\n",
              "└───────────────────────────┴───────────────────────────┘\n",
              "</pre>\n"
            ]
          },
          "metadata": {}
        },
        {
          "output_type": "execute_result",
          "data": {
            "text/plain": [
              "[{'test_f1': 0.37121137976646423,\n",
              "  'test_loss': 0.7977136373519897,\n",
              "  'test_precision': 0.2943018078804016,\n",
              "  'test_recall': 0.5025394558906555}]"
            ]
          },
          "metadata": {},
          "execution_count": 234
        }
      ],
      "source": [
        "trainer.test(model, test_loader)"
      ]
    },
    {
      "cell_type": "markdown",
      "id": "c280d45e",
      "metadata": {
        "papermill": {
          "duration": 0.01691,
          "end_time": "2023-10-11T09:23:32.744315",
          "exception": false,
          "start_time": "2023-10-11T09:23:32.727405",
          "status": "completed"
        },
        "tags": [],
        "id": "c280d45e"
      },
      "source": [
        "# Test data check\n",
        "\n",
        "We can now run a final check on the test data - to see the classification report and ROC AUC curve.  \n"
      ]
    },
    {
      "cell_type": "code",
      "execution_count": 236,
      "id": "17c3ef1b",
      "metadata": {
        "execution": {
          "iopub.execute_input": "2023-10-11T09:23:32.781307Z",
          "iopub.status.busy": "2023-10-11T09:23:32.780806Z",
          "iopub.status.idle": "2023-10-11T09:23:33.065835Z",
          "shell.execute_reply": "2023-10-11T09:23:33.064692Z"
        },
        "papermill": {
          "duration": 0.306373,
          "end_time": "2023-10-11T09:23:33.068384",
          "exception": false,
          "start_time": "2023-10-11T09:23:32.762011",
          "status": "completed"
        },
        "tags": [],
        "id": "17c3ef1b",
        "outputId": "7e3bfe71-874f-45c7-a8b3-4ff4792e0e27",
        "colab": {
          "base_uri": "https://localhost:8080/"
        }
      },
      "outputs": [
        {
          "output_type": "stream",
          "name": "stdout",
          "text": [
            "              precision    recall  f1-score   support\n",
            "\n",
            "           0       0.89      0.75      0.81     19480\n",
            "           1       0.28      0.51      0.36      3741\n",
            "\n",
            "    accuracy                           0.71     23221\n",
            "   macro avg       0.59      0.63      0.59     23221\n",
            "weighted avg       0.79      0.71      0.74     23221\n",
            "\n"
          ]
        }
      ],
      "source": [
        "with th.no_grad():\n",
        "    yhat_test_proba = th.sigmoid(model(test_g.x, test_g.edge_index, test_g.edge_attr)).squeeze()\n",
        "    yhat_test_cls = yhat_test_proba >= 0.5\n",
        "\n",
        "print(classification_report(y_true=test_g.y, y_pred=yhat_test_cls))"
      ]
    },
    {
      "cell_type": "code",
      "execution_count": 225,
      "id": "a859d3ec",
      "metadata": {
        "execution": {
          "iopub.execute_input": "2023-10-11T09:23:33.107003Z",
          "iopub.status.busy": "2023-10-11T09:23:33.106331Z",
          "iopub.status.idle": "2023-10-11T09:23:33.479833Z",
          "shell.execute_reply": "2023-10-11T09:23:33.478445Z"
        },
        "papermill": {
          "duration": 0.396004,
          "end_time": "2023-10-11T09:23:33.482726",
          "exception": false,
          "start_time": "2023-10-11T09:23:33.086722",
          "status": "completed"
        },
        "tags": [],
        "id": "a859d3ec",
        "outputId": "af013f9c-c213-40db-808f-931b2b745c0b",
        "colab": {
          "base_uri": "https://localhost:8080/",
          "height": 472
        }
      },
      "outputs": [
        {
          "output_type": "display_data",
          "data": {
            "text/plain": [
              "<Figure size 640x480 with 1 Axes>"
            ],
            "image/png": "[encoded data removed]"
          },
          "metadata": {}
        }
      ],
      "source": [
        "binary_roc = tm.classification.BinaryROC(thresholds=20)\n",
        "binary_roc(yhat_test_proba, test_g.y.to(th.long))\n",
        "fig_, ax_ = binary_roc.plot(score=True)"
      ]
    },
    {
      "cell_type": "markdown",
      "id": "77b06e3c",
      "metadata": {
        "papermill": {
          "duration": 0.018081,
          "end_time": "2023-10-11T09:23:33.521678",
          "exception": false,
          "start_time": "2023-10-11T09:23:33.503597",
          "status": "completed"
        },
        "tags": [],
        "id": "77b06e3c"
      },
      "source": [
        "\n",
        "The model we trained here was not particularly complex or carefully tuned, but it gets the job done. Now you can play with it if you want to improve its performance."
      ]
    },
    {
      "cell_type": "markdown",
      "id": "1b804a32",
      "metadata": {
        "papermill": {
          "duration": 0.018058,
          "end_time": "2023-10-11T09:23:33.557933",
          "exception": false,
          "start_time": "2023-10-11T09:23:33.539875",
          "status": "completed"
        },
        "tags": [],
        "id": "1b804a32"
      },
      "source": [
        "# Conclusion"
      ]
    },
    {
      "cell_type": "markdown",
      "id": "4ec595a3",
      "metadata": {
        "papermill": {
          "duration": 0.017628,
          "end_time": "2023-10-11T09:23:33.593596",
          "exception": false,
          "start_time": "2023-10-11T09:23:33.575968",
          "status": "completed"
        },
        "tags": [],
        "id": "4ec595a3"
      },
      "source": [
        "\n",
        "In this tutorial, we have walked through the steps of integrating PyTorch Geometric and PyTorch Lightning to train a graph neural network. We have also delved into some of the nuances that come with using these two powerful libraries together.   \n",
        "  \n",
        "In summary, we covered:  \n",
        "   \n",
        "1. Loading and processing graph data.  \n",
        "2. Building a GNN model and integrating it with PyTorch Lightning.  \n",
        "3. Training the model using custom data loaders that are designed for graph data.  \n",
        "4. Evaluating the model's performance on a test set.  \n",
        "   \n",
        "Despite its apparent complexity, the combination of PyTorch Geometric and PyTorch Lightning provides a good solution for quick prototyping and training graph neural networks. By following the steps laid out in this tutorial, you should be able to utilize these tools effectively in your own projects."
      ]
    },
    {
      "cell_type": "code",
      "execution_count": null,
      "id": "fc7f589c",
      "metadata": {
        "papermill": {
          "duration": 0.017963,
          "end_time": "2023-10-11T09:23:33.630490",
          "exception": false,
          "start_time": "2023-10-11T09:23:33.612527",
          "status": "completed"
        },
        "tags": [],
        "id": "fc7f589c"
      },
      "outputs": [],
      "source": []
    }
  ],
  "metadata": {
    "kernelspec": {
      "display_name": "Python 3",
      "name": "python3"
    },
    "language_info": {
      "codemirror_mode": {
        "name": "ipython",
        "version": 3
      },
      "file_extension": ".py",
      "mimetype": "text/x-python",
      "name": "python",
      "nbconvert_exporter": "python",
      "pygments_lexer": "ipython3",
      "version": "3.10.12"
    },
    "papermill": {
      "default_parameters": {},
      "duration": 2095.85239,
      "end_time": "2023-10-11T09:23:36.812994",
      "environment_variables": {},
      "exception": null,
      "input_path": "__notebook__.ipynb",
      "output_path": "__notebook__.ipynb",
      "parameters": {},
      "start_time": "2023-10-11T08:48:40.960604",
      "version": "2.4.0"
    },
    "widgets": {
      "application/vnd.jupyter.widget-state+json": {
        "ff7586ef8e08491c82c3ab6f2a9e0d7c": {
          "model_module": "@jupyter-widgets/controls",
          "model_name": "HBoxModel",
          "model_module_version": "1.5.0",
          "state": {
            "_dom_classes": [],
            "_model_module": "@jupyter-widgets/controls",
            "_model_module_version": "1.5.0",
            "_model_name": "HBoxModel",
            "_view_count": null,
            "_view_module": "@jupyter-widgets/controls",
            "_view_module_version": "1.5.0",
            "_view_name": "HBoxView",
            "box_style": "",
            "children": [
              "IPY_MODEL_e5be3cc9d6c34164a5b3fbe0e8d786cd",
              "IPY_MODEL_1d326272792d4407bb6fa24d910ba20b",
              "IPY_MODEL_5c6c8c15daea493a9f1211f199ce45d3"
            ],
            "layout": "IPY_MODEL_19f776af827842e7a98afca8c62a3614"
          }
        },
        "e5be3cc9d6c34164a5b3fbe0e8d786cd": {
          "model_module": "@jupyter-widgets/controls",
          "model_name": "HTMLModel",
          "model_module_version": "1.5.0",
          "state": {
            "_dom_classes": [],
            "_model_module": "@jupyter-widgets/controls",
            "_model_module_version": "1.5.0",
            "_model_name": "HTMLModel",
            "_view_count": null,
            "_view_module": "@jupyter-widgets/controls",
            "_view_module_version": "1.5.0",
            "_view_name": "HTMLView",
            "description": "",
            "description_tooltip": null,
            "layout": "IPY_MODEL_c5d5a4661a4b4334afeb6a5121bfe30c",
            "placeholder": "​",
            "style": "IPY_MODEL_9b9d271589c842c2b4240e884f2e6a8b",
            "value": "Validation DataLoader 0: 100%"
          }
        },
        "1d326272792d4407bb6fa24d910ba20b": {
          "model_module": "@jupyter-widgets/controls",
          "model_name": "FloatProgressModel",
          "model_module_version": "1.5.0",
          "state": {
            "_dom_classes": [],
            "_model_module": "@jupyter-widgets/controls",
            "_model_module_version": "1.5.0",
            "_model_name": "FloatProgressModel",
            "_view_count": null,
            "_view_module": "@jupyter-widgets/controls",
            "_view_module_version": "1.5.0",
            "_view_name": "ProgressView",
            "bar_style": "success",
            "description": "",
            "description_tooltip": null,
            "layout": "IPY_MODEL_34c542f28da343559557b04f4f5fef0e",
            "max": 1,
            "min": 0,
            "orientation": "horizontal",
            "style": "IPY_MODEL_321c37d32eb14ce1aa0faaab9e7d4607",
            "value": 1
          }
        },
        "5c6c8c15daea493a9f1211f199ce45d3": {
          "model_module": "@jupyter-widgets/controls",
          "model_name": "HTMLModel",
          "model_module_version": "1.5.0",
          "state": {
            "_dom_classes": [],
            "_model_module": "@jupyter-widgets/controls",
            "_model_module_version": "1.5.0",
            "_model_name": "HTMLModel",
            "_view_count": null,
            "_view_module": "@jupyter-widgets/controls",
            "_view_module_version": "1.5.0",
            "_view_name": "HTMLView",
            "description": "",
            "description_tooltip": null,
            "layout": "IPY_MODEL_137471299b8945c2ba254b63d1cd238d",
            "placeholder": "​",
            "style": "IPY_MODEL_33d3b4acda004c1db4c6ebffcac89965",
            "value": " 1/1 [00:00&lt;00:00,  8.94it/s]"
          }
        },
        "19f776af827842e7a98afca8c62a3614": {
          "model_module": "@jupyter-widgets/base",
          "model_name": "LayoutModel",
          "model_module_version": "1.2.0",
          "state": {
            "_model_module": "@jupyter-widgets/base",
            "_model_module_version": "1.2.0",
            "_model_name": "LayoutModel",
            "_view_count": null,
            "_view_module": "@jupyter-widgets/base",
            "_view_module_version": "1.2.0",
            "_view_name": "LayoutView",
            "align_content": null,
            "align_items": null,
            "align_self": null,
            "border": null,
            "bottom": null,
            "display": "inline-flex",
            "flex": null,
            "flex_flow": "row wrap",
            "grid_area": null,
            "grid_auto_columns": null,
            "grid_auto_flow": null,
            "grid_auto_rows": null,
            "grid_column": null,
            "grid_gap": null,
            "grid_row": null,
            "grid_template_areas": null,
            "grid_template_columns": null,
            "grid_template_rows": null,
            "height": null,
            "justify_content": null,
            "justify_items": null,
            "left": null,
            "margin": null,
            "max_height": null,
            "max_width": null,
            "min_height": null,
            "min_width": null,
            "object_fit": null,
            "object_position": null,
            "order": null,
            "overflow": null,
            "overflow_x": null,
            "overflow_y": null,
            "padding": null,
            "right": null,
            "top": null,
            "visibility": null,
            "width": "100%"
          }
        },
        "c5d5a4661a4b4334afeb6a5121bfe30c": {
          "model_module": "@jupyter-widgets/base",
          "model_name": "LayoutModel",
          "model_module_version": "1.2.0",
          "state": {
            "_model_module": "@jupyter-widgets/base",
            "_model_module_version": "1.2.0",
            "_model_name": "LayoutModel",
            "_view_count": null,
            "_view_module": "@jupyter-widgets/base",
            "_view_module_version": "1.2.0",
            "_view_name": "LayoutView",
            "align_content": null,
            "align_items": null,
            "align_self": null,
            "border": null,
            "bottom": null,
            "display": null,
            "flex": null,
            "flex_flow": null,
            "grid_area": null,
            "grid_auto_columns": null,
            "grid_auto_flow": null,
            "grid_auto_rows": null,
            "grid_column": null,
            "grid_gap": null,
            "grid_row": null,
            "grid_template_areas": null,
            "grid_template_columns": null,
            "grid_template_rows": null,
            "height": null,
            "justify_content": null,
            "justify_items": null,
            "left": null,
            "margin": null,
            "max_height": null,
            "max_width": null,
            "min_height": null,
            "min_width": null,
            "object_fit": null,
            "object_position": null,
            "order": null,
            "overflow": null,
            "overflow_x": null,
            "overflow_y": null,
            "padding": null,
            "right": null,
            "top": null,
            "visibility": null,
            "width": null
          }
        },
        "9b9d271589c842c2b4240e884f2e6a8b": {
          "model_module": "@jupyter-widgets/controls",
          "model_name": "DescriptionStyleModel",
          "model_module_version": "1.5.0",
          "state": {
            "_model_module": "@jupyter-widgets/controls",
            "_model_module_version": "1.5.0",
            "_model_name": "DescriptionStyleModel",
            "_view_count": null,
            "_view_module": "@jupyter-widgets/base",
            "_view_module_version": "1.2.0",
            "_view_name": "StyleView",
            "description_width": ""
          }
        },
        "34c542f28da343559557b04f4f5fef0e": {
          "model_module": "@jupyter-widgets/base",
          "model_name": "LayoutModel",
          "model_module_version": "1.2.0",
          "state": {
            "_model_module": "@jupyter-widgets/base",
            "_model_module_version": "1.2.0",
            "_model_name": "LayoutModel",
            "_view_count": null,
            "_view_module": "@jupyter-widgets/base",
            "_view_module_version": "1.2.0",
            "_view_name": "LayoutView",
            "align_content": null,
            "align_items": null,
            "align_self": null,
            "border": null,
            "bottom": null,
            "display": null,
            "flex": "2",
            "flex_flow": null,
            "grid_area": null,
            "grid_auto_columns": null,
            "grid_auto_flow": null,
            "grid_auto_rows": null,
            "grid_column": null,
            "grid_gap": null,
            "grid_row": null,
            "grid_template_areas": null,
            "grid_template_columns": null,
            "grid_template_rows": null,
            "height": null,
            "justify_content": null,
            "justify_items": null,
            "left": null,
            "margin": null,
            "max_height": null,
            "max_width": null,
            "min_height": null,
            "min_width": null,
            "object_fit": null,
            "object_position": null,
            "order": null,
            "overflow": null,
            "overflow_x": null,
            "overflow_y": null,
            "padding": null,
            "right": null,
            "top": null,
            "visibility": null,
            "width": null
          }
        },
        "321c37d32eb14ce1aa0faaab9e7d4607": {
          "model_module": "@jupyter-widgets/controls",
          "model_name": "ProgressStyleModel",
          "model_module_version": "1.5.0",
          "state": {
            "_model_module": "@jupyter-widgets/controls",
            "_model_module_version": "1.5.0",
            "_model_name": "ProgressStyleModel",
            "_view_count": null,
            "_view_module": "@jupyter-widgets/base",
            "_view_module_version": "1.2.0",
            "_view_name": "StyleView",
            "bar_color": null,
            "description_width": ""
          }
        },
        "137471299b8945c2ba254b63d1cd238d": {
          "model_module": "@jupyter-widgets/base",
          "model_name": "LayoutModel",
          "model_module_version": "1.2.0",
          "state": {
            "_model_module": "@jupyter-widgets/base",
            "_model_module_version": "1.2.0",
            "_model_name": "LayoutModel",
            "_view_count": null,
            "_view_module": "@jupyter-widgets/base",
            "_view_module_version": "1.2.0",
            "_view_name": "LayoutView",
            "align_content": null,
            "align_items": null,
            "align_self": null,
            "border": null,
            "bottom": null,
            "display": null,
            "flex": null,
            "flex_flow": null,
            "grid_area": null,
            "grid_auto_columns": null,
            "grid_auto_flow": null,
            "grid_auto_rows": null,
            "grid_column": null,
            "grid_gap": null,
            "grid_row": null,
            "grid_template_areas": null,
            "grid_template_columns": null,
            "grid_template_rows": null,
            "height": null,
            "justify_content": null,
            "justify_items": null,
            "left": null,
            "margin": null,
            "max_height": null,
            "max_width": null,
            "min_height": null,
            "min_width": null,
            "object_fit": null,
            "object_position": null,
            "order": null,
            "overflow": null,
            "overflow_x": null,
            "overflow_y": null,
            "padding": null,
            "right": null,
            "top": null,
            "visibility": null,
            "width": null
          }
        },
        "33d3b4acda004c1db4c6ebffcac89965": {
          "model_module": "@jupyter-widgets/controls",
          "model_name": "DescriptionStyleModel",
          "model_module_version": "1.5.0",
          "state": {
            "_model_module": "@jupyter-widgets/controls",
            "_model_module_version": "1.5.0",
            "_model_name": "DescriptionStyleModel",
            "_view_count": null,
            "_view_module": "@jupyter-widgets/base",
            "_view_module_version": "1.2.0",
            "_view_name": "StyleView",
            "description_width": ""
          }
        },
        "dafaeb1887b143849c13e298c3e6d67f": {
          "model_module": "@jupyter-widgets/controls",
          "model_name": "HBoxModel",
          "model_module_version": "1.5.0",
          "state": {
            "_dom_classes": [],
            "_model_module": "@jupyter-widgets/controls",
            "_model_module_version": "1.5.0",
            "_model_name": "HBoxModel",
            "_view_count": null,
            "_view_module": "@jupyter-widgets/controls",
            "_view_module_version": "1.5.0",
            "_view_name": "HBoxView",
            "box_style": "",
            "children": [
              "IPY_MODEL_51ce98abddf64a14ba035821fe735f90",
              "IPY_MODEL_f18563281bf34a6798bbf8779274995c",
              "IPY_MODEL_44cd29b43a384613af13bdf46b97aa6e"
            ],
            "layout": "IPY_MODEL_307278345b504345a810872054faa4ac"
          }
        },
        "51ce98abddf64a14ba035821fe735f90": {
          "model_module": "@jupyter-widgets/controls",
          "model_name": "HTMLModel",
          "model_module_version": "1.5.0",
          "state": {
            "_dom_classes": [],
            "_model_module": "@jupyter-widgets/controls",
            "_model_module_version": "1.5.0",
            "_model_name": "HTMLModel",
            "_view_count": null,
            "_view_module": "@jupyter-widgets/controls",
            "_view_module_version": "1.5.0",
            "_view_name": "HTMLView",
            "description": "",
            "description_tooltip": null,
            "layout": "IPY_MODEL_91eefd73903e4c9483f08559bb177cd5",
            "placeholder": "​",
            "style": "IPY_MODEL_5a7e8ea8b3b447d3acd3dca1dc22ed38",
            "value": "Sanity Checking DataLoader 0: 100%"
          }
        },
        "f18563281bf34a6798bbf8779274995c": {
          "model_module": "@jupyter-widgets/controls",
          "model_name": "FloatProgressModel",
          "model_module_version": "1.5.0",
          "state": {
            "_dom_classes": [],
            "_model_module": "@jupyter-widgets/controls",
            "_model_module_version": "1.5.0",
            "_model_name": "FloatProgressModel",
            "_view_count": null,
            "_view_module": "@jupyter-widgets/controls",
            "_view_module_version": "1.5.0",
            "_view_name": "ProgressView",
            "bar_style": "",
            "description": "",
            "description_tooltip": null,
            "layout": "IPY_MODEL_3eb1cd4c276f400ea4a67129fa431cf0",
            "max": 1,
            "min": 0,
            "orientation": "horizontal",
            "style": "IPY_MODEL_46b4d9479ddb447f8e6b92c7b29f2b8a",
            "value": 1
          }
        },
        "44cd29b43a384613af13bdf46b97aa6e": {
          "model_module": "@jupyter-widgets/controls",
          "model_name": "HTMLModel",
          "model_module_version": "1.5.0",
          "state": {
            "_dom_classes": [],
            "_model_module": "@jupyter-widgets/controls",
            "_model_module_version": "1.5.0",
            "_model_name": "HTMLModel",
            "_view_count": null,
            "_view_module": "@jupyter-widgets/controls",
            "_view_module_version": "1.5.0",
            "_view_name": "HTMLView",
            "description": "",
            "description_tooltip": null,
            "layout": "IPY_MODEL_52bb10ed6446443bb0e807ddba4ab491",
            "placeholder": "​",
            "style": "IPY_MODEL_e0955889b4044ad890ccf73e4b436419",
            "value": " 1/1 [00:00&lt;00:00,  7.36it/s]"
          }
        },
        "307278345b504345a810872054faa4ac": {
          "model_module": "@jupyter-widgets/base",
          "model_name": "LayoutModel",
          "model_module_version": "1.2.0",
          "state": {
            "_model_module": "@jupyter-widgets/base",
            "_model_module_version": "1.2.0",
            "_model_name": "LayoutModel",
            "_view_count": null,
            "_view_module": "@jupyter-widgets/base",
            "_view_module_version": "1.2.0",
            "_view_name": "LayoutView",
            "align_content": null,
            "align_items": null,
            "align_self": null,
            "border": null,
            "bottom": null,
            "display": "inline-flex",
            "flex": null,
            "flex_flow": "row wrap",
            "grid_area": null,
            "grid_auto_columns": null,
            "grid_auto_flow": null,
            "grid_auto_rows": null,
            "grid_column": null,
            "grid_gap": null,
            "grid_row": null,
            "grid_template_areas": null,
            "grid_template_columns": null,
            "grid_template_rows": null,
            "height": null,
            "justify_content": null,
            "justify_items": null,
            "left": null,
            "margin": null,
            "max_height": null,
            "max_width": null,
            "min_height": null,
            "min_width": null,
            "object_fit": null,
            "object_position": null,
            "order": null,
            "overflow": null,
            "overflow_x": null,
            "overflow_y": null,
            "padding": null,
            "right": null,
            "top": null,
            "visibility": "hidden",
            "width": "100%"
          }
        },
        "91eefd73903e4c9483f08559bb177cd5": {
          "model_module": "@jupyter-widgets/base",
          "model_name": "LayoutModel",
          "model_module_version": "1.2.0",
          "state": {
            "_model_module": "@jupyter-widgets/base",
            "_model_module_version": "1.2.0",
            "_model_name": "LayoutModel",
            "_view_count": null,
            "_view_module": "@jupyter-widgets/base",
            "_view_module_version": "1.2.0",
            "_view_name": "LayoutView",
            "align_content": null,
            "align_items": null,
            "align_self": null,
            "border": null,
            "bottom": null,
            "display": null,
            "flex": null,
            "flex_flow": null,
            "grid_area": null,
            "grid_auto_columns": null,
            "grid_auto_flow": null,
            "grid_auto_rows": null,
            "grid_column": null,
            "grid_gap": null,
            "grid_row": null,
            "grid_template_areas": null,
            "grid_template_columns": null,
            "grid_template_rows": null,
            "height": null,
            "justify_content": null,
            "justify_items": null,
            "left": null,
            "margin": null,
            "max_height": null,
            "max_width": null,
            "min_height": null,
            "min_width": null,
            "object_fit": null,
            "object_position": null,
            "order": null,
            "overflow": null,
            "overflow_x": null,
            "overflow_y": null,
            "padding": null,
            "right": null,
            "top": null,
            "visibility": null,
            "width": null
          }
        },
        "5a7e8ea8b3b447d3acd3dca1dc22ed38": {
          "model_module": "@jupyter-widgets/controls",
          "model_name": "DescriptionStyleModel",
          "model_module_version": "1.5.0",
          "state": {
            "_model_module": "@jupyter-widgets/controls",
            "_model_module_version": "1.5.0",
            "_model_name": "DescriptionStyleModel",
            "_view_count": null,
            "_view_module": "@jupyter-widgets/base",
            "_view_module_version": "1.2.0",
            "_view_name": "StyleView",
            "description_width": ""
          }
        },
        "3eb1cd4c276f400ea4a67129fa431cf0": {
          "model_module": "@jupyter-widgets/base",
          "model_name": "LayoutModel",
          "model_module_version": "1.2.0",
          "state": {
            "_model_module": "@jupyter-widgets/base",
            "_model_module_version": "1.2.0",
            "_model_name": "LayoutModel",
            "_view_count": null,
            "_view_module": "@jupyter-widgets/base",
            "_view_module_version": "1.2.0",
            "_view_name": "LayoutView",
            "align_content": null,
            "align_items": null,
            "align_self": null,
            "border": null,
            "bottom": null,
            "display": null,
            "flex": "2",
            "flex_flow": null,
            "grid_area": null,
            "grid_auto_columns": null,
            "grid_auto_flow": null,
            "grid_auto_rows": null,
            "grid_column": null,
            "grid_gap": null,
            "grid_row": null,
            "grid_template_areas": null,
            "grid_template_columns": null,
            "grid_template_rows": null,
            "height": null,
            "justify_content": null,
            "justify_items": null,
            "left": null,
            "margin": null,
            "max_height": null,
            "max_width": null,
            "min_height": null,
            "min_width": null,
            "object_fit": null,
            "object_position": null,
            "order": null,
            "overflow": null,
            "overflow_x": null,
            "overflow_y": null,
            "padding": null,
            "right": null,
            "top": null,
            "visibility": null,
            "width": null
          }
        },
        "46b4d9479ddb447f8e6b92c7b29f2b8a": {
          "model_module": "@jupyter-widgets/controls",
          "model_name": "ProgressStyleModel",
          "model_module_version": "1.5.0",
          "state": {
            "_model_module": "@jupyter-widgets/controls",
            "_model_module_version": "1.5.0",
            "_model_name": "ProgressStyleModel",
            "_view_count": null,
            "_view_module": "@jupyter-widgets/base",
            "_view_module_version": "1.2.0",
            "_view_name": "StyleView",
            "bar_color": null,
            "description_width": ""
          }
        },
        "52bb10ed6446443bb0e807ddba4ab491": {
          "model_module": "@jupyter-widgets/base",
          "model_name": "LayoutModel",
          "model_module_version": "1.2.0",
          "state": {
            "_model_module": "@jupyter-widgets/base",
            "_model_module_version": "1.2.0",
            "_model_name": "LayoutModel",
            "_view_count": null,
            "_view_module": "@jupyter-widgets/base",
            "_view_module_version": "1.2.0",
            "_view_name": "LayoutView",
            "align_content": null,
            "align_items": null,
            "align_self": null,
            "border": null,
            "bottom": null,
            "display": null,
            "flex": null,
            "flex_flow": null,
            "grid_area": null,
            "grid_auto_columns": null,
            "grid_auto_flow": null,
            "grid_auto_rows": null,
            "grid_column": null,
            "grid_gap": null,
            "grid_row": null,
            "grid_template_areas": null,
            "grid_template_columns": null,
            "grid_template_rows": null,
            "height": null,
            "justify_content": null,
            "justify_items": null,
            "left": null,
            "margin": null,
            "max_height": null,
            "max_width": null,
            "min_height": null,
            "min_width": null,
            "object_fit": null,
            "object_position": null,
            "order": null,
            "overflow": null,
            "overflow_x": null,
            "overflow_y": null,
            "padding": null,
            "right": null,
            "top": null,
            "visibility": null,
            "width": null
          }
        },
        "e0955889b4044ad890ccf73e4b436419": {
          "model_module": "@jupyter-widgets/controls",
          "model_name": "DescriptionStyleModel",
          "model_module_version": "1.5.0",
          "state": {
            "_model_module": "@jupyter-widgets/controls",
            "_model_module_version": "1.5.0",
            "_model_name": "DescriptionStyleModel",
            "_view_count": null,
            "_view_module": "@jupyter-widgets/base",
            "_view_module_version": "1.2.0",
            "_view_name": "StyleView",
            "description_width": ""
          }
        },
        "6548200342554babbc1daa2bb61a8597": {
          "model_module": "@jupyter-widgets/controls",
          "model_name": "HBoxModel",
          "model_module_version": "1.5.0",
          "state": {
            "_dom_classes": [],
            "_model_module": "@jupyter-widgets/controls",
            "_model_module_version": "1.5.0",
            "_model_name": "HBoxModel",
            "_view_count": null,
            "_view_module": "@jupyter-widgets/controls",
            "_view_module_version": "1.5.0",
            "_view_name": "HBoxView",
            "box_style": "",
            "children": [
              "IPY_MODEL_8a62c9ece2484ee09431117fd8fa129a",
              "IPY_MODEL_d1c8e2b1c1cc493aa3e1ff83cc3360b9",
              "IPY_MODEL_dfbfda89717144a2a55845f231375feb"
            ],
            "layout": "IPY_MODEL_dcbca3a051624c6fb349dea661582e3d"
          }
        },
        "8a62c9ece2484ee09431117fd8fa129a": {
          "model_module": "@jupyter-widgets/controls",
          "model_name": "HTMLModel",
          "model_module_version": "1.5.0",
          "state": {
            "_dom_classes": [],
            "_model_module": "@jupyter-widgets/controls",
            "_model_module_version": "1.5.0",
            "_model_name": "HTMLModel",
            "_view_count": null,
            "_view_module": "@jupyter-widgets/controls",
            "_view_module_version": "1.5.0",
            "_view_name": "HTMLView",
            "description": "",
            "description_tooltip": null,
            "layout": "IPY_MODEL_922be95464784f5b8dafd272f95a43ba",
            "placeholder": "​",
            "style": "IPY_MODEL_5786f06e614e46d380884bdd968a89ec",
            "value": "Epoch 9: 100%"
          }
        },
        "d1c8e2b1c1cc493aa3e1ff83cc3360b9": {
          "model_module": "@jupyter-widgets/controls",
          "model_name": "FloatProgressModel",
          "model_module_version": "1.5.0",
          "state": {
            "_dom_classes": [],
            "_model_module": "@jupyter-widgets/controls",
            "_model_module_version": "1.5.0",
            "_model_name": "FloatProgressModel",
            "_view_count": null,
            "_view_module": "@jupyter-widgets/controls",
            "_view_module_version": "1.5.0",
            "_view_name": "ProgressView",
            "bar_style": "success",
            "description": "",
            "description_tooltip": null,
            "layout": "IPY_MODEL_0062803701da4c7b85adcc09732f403e",
            "max": 1,
            "min": 0,
            "orientation": "horizontal",
            "style": "IPY_MODEL_ba334e5d8f384722b9557ac17d71f87a",
            "value": 1
          }
        },
        "dfbfda89717144a2a55845f231375feb": {
          "model_module": "@jupyter-widgets/controls",
          "model_name": "HTMLModel",
          "model_module_version": "1.5.0",
          "state": {
            "_dom_classes": [],
            "_model_module": "@jupyter-widgets/controls",
            "_model_module_version": "1.5.0",
            "_model_name": "HTMLModel",
            "_view_count": null,
            "_view_module": "@jupyter-widgets/controls",
            "_view_module_version": "1.5.0",
            "_view_name": "HTMLView",
            "description": "",
            "description_tooltip": null,
            "layout": "IPY_MODEL_89d9066dc88c4d91857d5f3dc0f0d3db",
            "placeholder": "​",
            "style": "IPY_MODEL_acd2dd36129d41ae91ffd2e85ef8f1b1",
            "value": " 1/1 [00:16&lt;00:00,  0.06it/s, v_num=42]"
          }
        },
        "dcbca3a051624c6fb349dea661582e3d": {
          "model_module": "@jupyter-widgets/base",
          "model_name": "LayoutModel",
          "model_module_version": "1.2.0",
          "state": {
            "_model_module": "@jupyter-widgets/base",
            "_model_module_version": "1.2.0",
            "_model_name": "LayoutModel",
            "_view_count": null,
            "_view_module": "@jupyter-widgets/base",
            "_view_module_version": "1.2.0",
            "_view_name": "LayoutView",
            "align_content": null,
            "align_items": null,
            "align_self": null,
            "border": null,
            "bottom": null,
            "display": "inline-flex",
            "flex": null,
            "flex_flow": "row wrap",
            "grid_area": null,
            "grid_auto_columns": null,
            "grid_auto_flow": null,
            "grid_auto_rows": null,
            "grid_column": null,
            "grid_gap": null,
            "grid_row": null,
            "grid_template_areas": null,
            "grid_template_columns": null,
            "grid_template_rows": null,
            "height": null,
            "justify_content": null,
            "justify_items": null,
            "left": null,
            "margin": null,
            "max_height": null,
            "max_width": null,
            "min_height": null,
            "min_width": null,
            "object_fit": null,
            "object_position": null,
            "order": null,
            "overflow": null,
            "overflow_x": null,
            "overflow_y": null,
            "padding": null,
            "right": null,
            "top": null,
            "visibility": null,
            "width": "100%"
          }
        },
        "922be95464784f5b8dafd272f95a43ba": {
          "model_module": "@jupyter-widgets/base",
          "model_name": "LayoutModel",
          "model_module_version": "1.2.0",
          "state": {
            "_model_module": "@jupyter-widgets/base",
            "_model_module_version": "1.2.0",
            "_model_name": "LayoutModel",
            "_view_count": null,
            "_view_module": "@jupyter-widgets/base",
            "_view_module_version": "1.2.0",
            "_view_name": "LayoutView",
            "align_content": null,
            "align_items": null,
            "align_self": null,
            "border": null,
            "bottom": null,
            "display": null,
            "flex": null,
            "flex_flow": null,
            "grid_area": null,
            "grid_auto_columns": null,
            "grid_auto_flow": null,
            "grid_auto_rows": null,
            "grid_column": null,
            "grid_gap": null,
            "grid_row": null,
            "grid_template_areas": null,
            "grid_template_columns": null,
            "grid_template_rows": null,
            "height": null,
            "justify_content": null,
            "justify_items": null,
            "left": null,
            "margin": null,
            "max_height": null,
            "max_width": null,
            "min_height": null,
            "min_width": null,
            "object_fit": null,
            "object_position": null,
            "order": null,
            "overflow": null,
            "overflow_x": null,
            "overflow_y": null,
            "padding": null,
            "right": null,
            "top": null,
            "visibility": null,
            "width": null
          }
        },
        "5786f06e614e46d380884bdd968a89ec": {
          "model_module": "@jupyter-widgets/controls",
          "model_name": "DescriptionStyleModel",
          "model_module_version": "1.5.0",
          "state": {
            "_model_module": "@jupyter-widgets/controls",
            "_model_module_version": "1.5.0",
            "_model_name": "DescriptionStyleModel",
            "_view_count": null,
            "_view_module": "@jupyter-widgets/base",
            "_view_module_version": "1.2.0",
            "_view_name": "StyleView",
            "description_width": ""
          }
        },
        "0062803701da4c7b85adcc09732f403e": {
          "model_module": "@jupyter-widgets/base",
          "model_name": "LayoutModel",
          "model_module_version": "1.2.0",
          "state": {
            "_model_module": "@jupyter-widgets/base",
            "_model_module_version": "1.2.0",
            "_model_name": "LayoutModel",
            "_view_count": null,
            "_view_module": "@jupyter-widgets/base",
            "_view_module_version": "1.2.0",
            "_view_name": "LayoutView",
            "align_content": null,
            "align_items": null,
            "align_self": null,
            "border": null,
            "bottom": null,
            "display": null,
            "flex": "2",
            "flex_flow": null,
            "grid_area": null,
            "grid_auto_columns": null,
            "grid_auto_flow": null,
            "grid_auto_rows": null,
            "grid_column": null,
            "grid_gap": null,
            "grid_row": null,
            "grid_template_areas": null,
            "grid_template_columns": null,
            "grid_template_rows": null,
            "height": null,
            "justify_content": null,
            "justify_items": null,
            "left": null,
            "margin": null,
            "max_height": null,
            "max_width": null,
            "min_height": null,
            "min_width": null,
            "object_fit": null,
            "object_position": null,
            "order": null,
            "overflow": null,
            "overflow_x": null,
            "overflow_y": null,
            "padding": null,
            "right": null,
            "top": null,
            "visibility": null,
            "width": null
          }
        },
        "ba334e5d8f384722b9557ac17d71f87a": {
          "model_module": "@jupyter-widgets/controls",
          "model_name": "ProgressStyleModel",
          "model_module_version": "1.5.0",
          "state": {
            "_model_module": "@jupyter-widgets/controls",
            "_model_module_version": "1.5.0",
            "_model_name": "ProgressStyleModel",
            "_view_count": null,
            "_view_module": "@jupyter-widgets/base",
            "_view_module_version": "1.2.0",
            "_view_name": "StyleView",
            "bar_color": null,
            "description_width": ""
          }
        },
        "89d9066dc88c4d91857d5f3dc0f0d3db": {
          "model_module": "@jupyter-widgets/base",
          "model_name": "LayoutModel",
          "model_module_version": "1.2.0",
          "state": {
            "_model_module": "@jupyter-widgets/base",
            "_model_module_version": "1.2.0",
            "_model_name": "LayoutModel",
            "_view_count": null,
            "_view_module": "@jupyter-widgets/base",
            "_view_module_version": "1.2.0",
            "_view_name": "LayoutView",
            "align_content": null,
            "align_items": null,
            "align_self": null,
            "border": null,
            "bottom": null,
            "display": null,
            "flex": null,
            "flex_flow": null,
            "grid_area": null,
            "grid_auto_columns": null,
            "grid_auto_flow": null,
            "grid_auto_rows": null,
            "grid_column": null,
            "grid_gap": null,
            "grid_row": null,
            "grid_template_areas": null,
            "grid_template_columns": null,
            "grid_template_rows": null,
            "height": null,
            "justify_content": null,
            "justify_items": null,
            "left": null,
            "margin": null,
            "max_height": null,
            "max_width": null,
            "min_height": null,
            "min_width": null,
            "object_fit": null,
            "object_position": null,
            "order": null,
            "overflow": null,
            "overflow_x": null,
            "overflow_y": null,
            "padding": null,
            "right": null,
            "top": null,
            "visibility": null,
            "width": null
          }
        },
        "acd2dd36129d41ae91ffd2e85ef8f1b1": {
          "model_module": "@jupyter-widgets/controls",
          "model_name": "DescriptionStyleModel",
          "model_module_version": "1.5.0",
          "state": {
            "_model_module": "@jupyter-widgets/controls",
            "_model_module_version": "1.5.0",
            "_model_name": "DescriptionStyleModel",
            "_view_count": null,
            "_view_module": "@jupyter-widgets/base",
            "_view_module_version": "1.2.0",
            "_view_name": "StyleView",
            "description_width": ""
          }
        },
        "549888214756476f87d20fcc824eb123": {
          "model_module": "@jupyter-widgets/controls",
          "model_name": "HBoxModel",
          "model_module_version": "1.5.0",
          "state": {
            "_dom_classes": [],
            "_model_module": "@jupyter-widgets/controls",
            "_model_module_version": "1.5.0",
            "_model_name": "HBoxModel",
            "_view_count": null,
            "_view_module": "@jupyter-widgets/controls",
            "_view_module_version": "1.5.0",
            "_view_name": "HBoxView",
            "box_style": "",
            "children": [
              "IPY_MODEL_e415655362a04760ad76f41ca4b41659",
              "IPY_MODEL_3acbceb41f814f30ae654d8d0805dcf5",
              "IPY_MODEL_94cbedbcd47447b2af3794c090247007"
            ],
            "layout": "IPY_MODEL_60fb5d00f4f04b0ebf28a2e85a08f6aa"
          }
        },
        "e415655362a04760ad76f41ca4b41659": {
          "model_module": "@jupyter-widgets/controls",
          "model_name": "HTMLModel",
          "model_module_version": "1.5.0",
          "state": {
            "_dom_classes": [],
            "_model_module": "@jupyter-widgets/controls",
            "_model_module_version": "1.5.0",
            "_model_name": "HTMLModel",
            "_view_count": null,
            "_view_module": "@jupyter-widgets/controls",
            "_view_module_version": "1.5.0",
            "_view_name": "HTMLView",
            "description": "",
            "description_tooltip": null,
            "layout": "IPY_MODEL_b2c024664f35464ab4fbad41146d810c",
            "placeholder": "​",
            "style": "IPY_MODEL_dc4738ec60064743a62994ed184e1341",
            "value": "Validation DataLoader 0: 100%"
          }
        },
        "3acbceb41f814f30ae654d8d0805dcf5": {
          "model_module": "@jupyter-widgets/controls",
          "model_name": "FloatProgressModel",
          "model_module_version": "1.5.0",
          "state": {
            "_dom_classes": [],
            "_model_module": "@jupyter-widgets/controls",
            "_model_module_version": "1.5.0",
            "_model_name": "FloatProgressModel",
            "_view_count": null,
            "_view_module": "@jupyter-widgets/controls",
            "_view_module_version": "1.5.0",
            "_view_name": "ProgressView",
            "bar_style": "",
            "description": "",
            "description_tooltip": null,
            "layout": "IPY_MODEL_3a3eccd87474424f8cc1f2f8b9ee326c",
            "max": 1,
            "min": 0,
            "orientation": "horizontal",
            "style": "IPY_MODEL_d519c8be9def4bd291fd9ada70b35a34",
            "value": 1
          }
        },
        "94cbedbcd47447b2af3794c090247007": {
          "model_module": "@jupyter-widgets/controls",
          "model_name": "HTMLModel",
          "model_module_version": "1.5.0",
          "state": {
            "_dom_classes": [],
            "_model_module": "@jupyter-widgets/controls",
            "_model_module_version": "1.5.0",
            "_model_name": "HTMLModel",
            "_view_count": null,
            "_view_module": "@jupyter-widgets/controls",
            "_view_module_version": "1.5.0",
            "_view_name": "HTMLView",
            "description": "",
            "description_tooltip": null,
            "layout": "IPY_MODEL_23f8be4e78c84fb4a14e20b188f5b9f1",
            "placeholder": "​",
            "style": "IPY_MODEL_310794f512d7483c8fdc53998b3dbe64",
            "value": " 1/1 [00:00&lt;00:00, 17.00it/s]"
          }
        },
        "60fb5d00f4f04b0ebf28a2e85a08f6aa": {
          "model_module": "@jupyter-widgets/base",
          "model_name": "LayoutModel",
          "model_module_version": "1.2.0",
          "state": {
            "_model_module": "@jupyter-widgets/base",
            "_model_module_version": "1.2.0",
            "_model_name": "LayoutModel",
            "_view_count": null,
            "_view_module": "@jupyter-widgets/base",
            "_view_module_version": "1.2.0",
            "_view_name": "LayoutView",
            "align_content": null,
            "align_items": null,
            "align_self": null,
            "border": null,
            "bottom": null,
            "display": "inline-flex",
            "flex": null,
            "flex_flow": "row wrap",
            "grid_area": null,
            "grid_auto_columns": null,
            "grid_auto_flow": null,
            "grid_auto_rows": null,
            "grid_column": null,
            "grid_gap": null,
            "grid_row": null,
            "grid_template_areas": null,
            "grid_template_columns": null,
            "grid_template_rows": null,
            "height": null,
            "justify_content": null,
            "justify_items": null,
            "left": null,
            "margin": null,
            "max_height": null,
            "max_width": null,
            "min_height": null,
            "min_width": null,
            "object_fit": null,
            "object_position": null,
            "order": null,
            "overflow": null,
            "overflow_x": null,
            "overflow_y": null,
            "padding": null,
            "right": null,
            "top": null,
            "visibility": "hidden",
            "width": "100%"
          }
        },
        "b2c024664f35464ab4fbad41146d810c": {
          "model_module": "@jupyter-widgets/base",
          "model_name": "LayoutModel",
          "model_module_version": "1.2.0",
          "state": {
            "_model_module": "@jupyter-widgets/base",
            "_model_module_version": "1.2.0",
            "_model_name": "LayoutModel",
            "_view_count": null,
            "_view_module": "@jupyter-widgets/base",
            "_view_module_version": "1.2.0",
            "_view_name": "LayoutView",
            "align_content": null,
            "align_items": null,
            "align_self": null,
            "border": null,
            "bottom": null,
            "display": null,
            "flex": null,
            "flex_flow": null,
            "grid_area": null,
            "grid_auto_columns": null,
            "grid_auto_flow": null,
            "grid_auto_rows": null,
            "grid_column": null,
            "grid_gap": null,
            "grid_row": null,
            "grid_template_areas": null,
            "grid_template_columns": null,
            "grid_template_rows": null,
            "height": null,
            "justify_content": null,
            "justify_items": null,
            "left": null,
            "margin": null,
            "max_height": null,
            "max_width": null,
            "min_height": null,
            "min_width": null,
            "object_fit": null,
            "object_position": null,
            "order": null,
            "overflow": null,
            "overflow_x": null,
            "overflow_y": null,
            "padding": null,
            "right": null,
            "top": null,
            "visibility": null,
            "width": null
          }
        },
        "dc4738ec60064743a62994ed184e1341": {
          "model_module": "@jupyter-widgets/controls",
          "model_name": "DescriptionStyleModel",
          "model_module_version": "1.5.0",
          "state": {
            "_model_module": "@jupyter-widgets/controls",
            "_model_module_version": "1.5.0",
            "_model_name": "DescriptionStyleModel",
            "_view_count": null,
            "_view_module": "@jupyter-widgets/base",
            "_view_module_version": "1.2.0",
            "_view_name": "StyleView",
            "description_width": ""
          }
        },
        "3a3eccd87474424f8cc1f2f8b9ee326c": {
          "model_module": "@jupyter-widgets/base",
          "model_name": "LayoutModel",
          "model_module_version": "1.2.0",
          "state": {
            "_model_module": "@jupyter-widgets/base",
            "_model_module_version": "1.2.0",
            "_model_name": "LayoutModel",
            "_view_count": null,
            "_view_module": "@jupyter-widgets/base",
            "_view_module_version": "1.2.0",
            "_view_name": "LayoutView",
            "align_content": null,
            "align_items": null,
            "align_self": null,
            "border": null,
            "bottom": null,
            "display": null,
            "flex": "2",
            "flex_flow": null,
            "grid_area": null,
            "grid_auto_columns": null,
            "grid_auto_flow": null,
            "grid_auto_rows": null,
            "grid_column": null,
            "grid_gap": null,
            "grid_row": null,
            "grid_template_areas": null,
            "grid_template_columns": null,
            "grid_template_rows": null,
            "height": null,
            "justify_content": null,
            "justify_items": null,
            "left": null,
            "margin": null,
            "max_height": null,
            "max_width": null,
            "min_height": null,
            "min_width": null,
            "object_fit": null,
            "object_position": null,
            "order": null,
            "overflow": null,
            "overflow_x": null,
            "overflow_y": null,
            "padding": null,
            "right": null,
            "top": null,
            "visibility": null,
            "width": null
          }
        },
        "d519c8be9def4bd291fd9ada70b35a34": {
          "model_module": "@jupyter-widgets/controls",
          "model_name": "ProgressStyleModel",
          "model_module_version": "1.5.0",
          "state": {
            "_model_module": "@jupyter-widgets/controls",
            "_model_module_version": "1.5.0",
            "_model_name": "ProgressStyleModel",
            "_view_count": null,
            "_view_module": "@jupyter-widgets/base",
            "_view_module_version": "1.2.0",
            "_view_name": "StyleView",
            "bar_color": null,
            "description_width": ""
          }
        },
        "23f8be4e78c84fb4a14e20b188f5b9f1": {
          "model_module": "@jupyter-widgets/base",
          "model_name": "LayoutModel",
          "model_module_version": "1.2.0",
          "state": {
            "_model_module": "@jupyter-widgets/base",
            "_model_module_version": "1.2.0",
            "_model_name": "LayoutModel",
            "_view_count": null,
            "_view_module": "@jupyter-widgets/base",
            "_view_module_version": "1.2.0",
            "_view_name": "LayoutView",
            "align_content": null,
            "align_items": null,
            "align_self": null,
            "border": null,
            "bottom": null,
            "display": null,
            "flex": null,
            "flex_flow": null,
            "grid_area": null,
            "grid_auto_columns": null,
            "grid_auto_flow": null,
            "grid_auto_rows": null,
            "grid_column": null,
            "grid_gap": null,
            "grid_row": null,
            "grid_template_areas": null,
            "grid_template_columns": null,
            "grid_template_rows": null,
            "height": null,
            "justify_content": null,
            "justify_items": null,
            "left": null,
            "margin": null,
            "max_height": null,
            "max_width": null,
            "min_height": null,
            "min_width": null,
            "object_fit": null,
            "object_position": null,
            "order": null,
            "overflow": null,
            "overflow_x": null,
            "overflow_y": null,
            "padding": null,
            "right": null,
            "top": null,
            "visibility": null,
            "width": null
          }
        },
        "310794f512d7483c8fdc53998b3dbe64": {
          "model_module": "@jupyter-widgets/controls",
          "model_name": "DescriptionStyleModel",
          "model_module_version": "1.5.0",
          "state": {
            "_model_module": "@jupyter-widgets/controls",
            "_model_module_version": "1.5.0",
            "_model_name": "DescriptionStyleModel",
            "_view_count": null,
            "_view_module": "@jupyter-widgets/base",
            "_view_module_version": "1.2.0",
            "_view_name": "StyleView",
            "description_width": ""
          }
        },
        "a4ec5cb32de8416487af67d5cc1456f3": {
          "model_module": "@jupyter-widgets/controls",
          "model_name": "HBoxModel",
          "model_module_version": "1.5.0",
          "state": {
            "_dom_classes": [],
            "_model_module": "@jupyter-widgets/controls",
            "_model_module_version": "1.5.0",
            "_model_name": "HBoxModel",
            "_view_count": null,
            "_view_module": "@jupyter-widgets/controls",
            "_view_module_version": "1.5.0",
            "_view_name": "HBoxView",
            "box_style": "",
            "children": [
              "IPY_MODEL_636751726d0644b78c3cab2323675793",
              "IPY_MODEL_5781b2b771ab493c95304340939caa71",
              "IPY_MODEL_ad049f183c3f401099277b9d392e85e3"
            ],
            "layout": "IPY_MODEL_401774d57c3e4cb4899533eab4d1c51f"
          }
        },
        "636751726d0644b78c3cab2323675793": {
          "model_module": "@jupyter-widgets/controls",
          "model_name": "HTMLModel",
          "model_module_version": "1.5.0",
          "state": {
            "_dom_classes": [],
            "_model_module": "@jupyter-widgets/controls",
            "_model_module_version": "1.5.0",
            "_model_name": "HTMLModel",
            "_view_count": null,
            "_view_module": "@jupyter-widgets/controls",
            "_view_module_version": "1.5.0",
            "_view_name": "HTMLView",
            "description": "",
            "description_tooltip": null,
            "layout": "IPY_MODEL_0a1413fdbfc84d9681d94c5019f90234",
            "placeholder": "​",
            "style": "IPY_MODEL_d31b5ca819d84f819749659969e940af",
            "value": "Validation DataLoader 0: 100%"
          }
        },
        "5781b2b771ab493c95304340939caa71": {
          "model_module": "@jupyter-widgets/controls",
          "model_name": "FloatProgressModel",
          "model_module_version": "1.5.0",
          "state": {
            "_dom_classes": [],
            "_model_module": "@jupyter-widgets/controls",
            "_model_module_version": "1.5.0",
            "_model_name": "FloatProgressModel",
            "_view_count": null,
            "_view_module": "@jupyter-widgets/controls",
            "_view_module_version": "1.5.0",
            "_view_name": "ProgressView",
            "bar_style": "",
            "description": "",
            "description_tooltip": null,
            "layout": "IPY_MODEL_b209b31405a64fe097de8ae2843feadb",
            "max": 1,
            "min": 0,
            "orientation": "horizontal",
            "style": "IPY_MODEL_0ac1e3fb1b8946d2801c0478f2d91068",
            "value": 1
          }
        },
        "ad049f183c3f401099277b9d392e85e3": {
          "model_module": "@jupyter-widgets/controls",
          "model_name": "HTMLModel",
          "model_module_version": "1.5.0",
          "state": {
            "_dom_classes": [],
            "_model_module": "@jupyter-widgets/controls",
            "_model_module_version": "1.5.0",
            "_model_name": "HTMLModel",
            "_view_count": null,
            "_view_module": "@jupyter-widgets/controls",
            "_view_module_version": "1.5.0",
            "_view_name": "HTMLView",
            "description": "",
            "description_tooltip": null,
            "layout": "IPY_MODEL_1d177c4572134d9bbe59d1b854eeed32",
            "placeholder": "​",
            "style": "IPY_MODEL_6be465c529524ee1b60c08a008762902",
            "value": " 1/1 [00:00&lt;00:00, 18.45it/s]"
          }
        },
        "401774d57c3e4cb4899533eab4d1c51f": {
          "model_module": "@jupyter-widgets/base",
          "model_name": "LayoutModel",
          "model_module_version": "1.2.0",
          "state": {
            "_model_module": "@jupyter-widgets/base",
            "_model_module_version": "1.2.0",
            "_model_name": "LayoutModel",
            "_view_count": null,
            "_view_module": "@jupyter-widgets/base",
            "_view_module_version": "1.2.0",
            "_view_name": "LayoutView",
            "align_content": null,
            "align_items": null,
            "align_self": null,
            "border": null,
            "bottom": null,
            "display": "inline-flex",
            "flex": null,
            "flex_flow": "row wrap",
            "grid_area": null,
            "grid_auto_columns": null,
            "grid_auto_flow": null,
            "grid_auto_rows": null,
            "grid_column": null,
            "grid_gap": null,
            "grid_row": null,
            "grid_template_areas": null,
            "grid_template_columns": null,
            "grid_template_rows": null,
            "height": null,
            "justify_content": null,
            "justify_items": null,
            "left": null,
            "margin": null,
            "max_height": null,
            "max_width": null,
            "min_height": null,
            "min_width": null,
            "object_fit": null,
            "object_position": null,
            "order": null,
            "overflow": null,
            "overflow_x": null,
            "overflow_y": null,
            "padding": null,
            "right": null,
            "top": null,
            "visibility": "hidden",
            "width": "100%"
          }
        },
        "0a1413fdbfc84d9681d94c5019f90234": {
          "model_module": "@jupyter-widgets/base",
          "model_name": "LayoutModel",
          "model_module_version": "1.2.0",
          "state": {
            "_model_module": "@jupyter-widgets/base",
            "_model_module_version": "1.2.0",
            "_model_name": "LayoutModel",
            "_view_count": null,
            "_view_module": "@jupyter-widgets/base",
            "_view_module_version": "1.2.0",
            "_view_name": "LayoutView",
            "align_content": null,
            "align_items": null,
            "align_self": null,
            "border": null,
            "bottom": null,
            "display": null,
            "flex": null,
            "flex_flow": null,
            "grid_area": null,
            "grid_auto_columns": null,
            "grid_auto_flow": null,
            "grid_auto_rows": null,
            "grid_column": null,
            "grid_gap": null,
            "grid_row": null,
            "grid_template_areas": null,
            "grid_template_columns": null,
            "grid_template_rows": null,
            "height": null,
            "justify_content": null,
            "justify_items": null,
            "left": null,
            "margin": null,
            "max_height": null,
            "max_width": null,
            "min_height": null,
            "min_width": null,
            "object_fit": null,
            "object_position": null,
            "order": null,
            "overflow": null,
            "overflow_x": null,
            "overflow_y": null,
            "padding": null,
            "right": null,
            "top": null,
            "visibility": null,
            "width": null
          }
        },
        "d31b5ca819d84f819749659969e940af": {
          "model_module": "@jupyter-widgets/controls",
          "model_name": "DescriptionStyleModel",
          "model_module_version": "1.5.0",
          "state": {
            "_model_module": "@jupyter-widgets/controls",
            "_model_module_version": "1.5.0",
            "_model_name": "DescriptionStyleModel",
            "_view_count": null,
            "_view_module": "@jupyter-widgets/base",
            "_view_module_version": "1.2.0",
            "_view_name": "StyleView",
            "description_width": ""
          }
        },
        "b209b31405a64fe097de8ae2843feadb": {
          "model_module": "@jupyter-widgets/base",
          "model_name": "LayoutModel",
          "model_module_version": "1.2.0",
          "state": {
            "_model_module": "@jupyter-widgets/base",
            "_model_module_version": "1.2.0",
            "_model_name": "LayoutModel",
            "_view_count": null,
            "_view_module": "@jupyter-widgets/base",
            "_view_module_version": "1.2.0",
            "_view_name": "LayoutView",
            "align_content": null,
            "align_items": null,
            "align_self": null,
            "border": null,
            "bottom": null,
            "display": null,
            "flex": "2",
            "flex_flow": null,
            "grid_area": null,
            "grid_auto_columns": null,
            "grid_auto_flow": null,
            "grid_auto_rows": null,
            "grid_column": null,
            "grid_gap": null,
            "grid_row": null,
            "grid_template_areas": null,
            "grid_template_columns": null,
            "grid_template_rows": null,
            "height": null,
            "justify_content": null,
            "justify_items": null,
            "left": null,
            "margin": null,
            "max_height": null,
            "max_width": null,
            "min_height": null,
            "min_width": null,
            "object_fit": null,
            "object_position": null,
            "order": null,
            "overflow": null,
            "overflow_x": null,
            "overflow_y": null,
            "padding": null,
            "right": null,
            "top": null,
            "visibility": null,
            "width": null
          }
        },
        "0ac1e3fb1b8946d2801c0478f2d91068": {
          "model_module": "@jupyter-widgets/controls",
          "model_name": "ProgressStyleModel",
          "model_module_version": "1.5.0",
          "state": {
            "_model_module": "@jupyter-widgets/controls",
            "_model_module_version": "1.5.0",
            "_model_name": "ProgressStyleModel",
            "_view_count": null,
            "_view_module": "@jupyter-widgets/base",
            "_view_module_version": "1.2.0",
            "_view_name": "StyleView",
            "bar_color": null,
            "description_width": ""
          }
        },
        "1d177c4572134d9bbe59d1b854eeed32": {
          "model_module": "@jupyter-widgets/base",
          "model_name": "LayoutModel",
          "model_module_version": "1.2.0",
          "state": {
            "_model_module": "@jupyter-widgets/base",
            "_model_module_version": "1.2.0",
            "_model_name": "LayoutModel",
            "_view_count": null,
            "_view_module": "@jupyter-widgets/base",
            "_view_module_version": "1.2.0",
            "_view_name": "LayoutView",
            "align_content": null,
            "align_items": null,
            "align_self": null,
            "border": null,
            "bottom": null,
            "display": null,
            "flex": null,
            "flex_flow": null,
            "grid_area": null,
            "grid_auto_columns": null,
            "grid_auto_flow": null,
            "grid_auto_rows": null,
            "grid_column": null,
            "grid_gap": null,
            "grid_row": null,
            "grid_template_areas": null,
            "grid_template_columns": null,
            "grid_template_rows": null,
            "height": null,
            "justify_content": null,
            "justify_items": null,
            "left": null,
            "margin": null,
            "max_height": null,
            "max_width": null,
            "min_height": null,
            "min_width": null,
            "object_fit": null,
            "object_position": null,
            "order": null,
            "overflow": null,
            "overflow_x": null,
            "overflow_y": null,
            "padding": null,
            "right": null,
            "top": null,
            "visibility": null,
            "width": null
          }
        },
        "6be465c529524ee1b60c08a008762902": {
          "model_module": "@jupyter-widgets/controls",
          "model_name": "DescriptionStyleModel",
          "model_module_version": "1.5.0",
          "state": {
            "_model_module": "@jupyter-widgets/controls",
            "_model_module_version": "1.5.0",
            "_model_name": "DescriptionStyleModel",
            "_view_count": null,
            "_view_module": "@jupyter-widgets/base",
            "_view_module_version": "1.2.0",
            "_view_name": "StyleView",
            "description_width": ""
          }
        },
        "763f000b80d84532ac2656d9fbe0de43": {
          "model_module": "@jupyter-widgets/controls",
          "model_name": "HBoxModel",
          "model_module_version": "1.5.0",
          "state": {
            "_dom_classes": [],
            "_model_module": "@jupyter-widgets/controls",
            "_model_module_version": "1.5.0",
            "_model_name": "HBoxModel",
            "_view_count": null,
            "_view_module": "@jupyter-widgets/controls",
            "_view_module_version": "1.5.0",
            "_view_name": "HBoxView",
            "box_style": "",
            "children": [
              "IPY_MODEL_5fa8a314d360447b882e4e1cfc2664cd",
              "IPY_MODEL_530e64ec14fe47ce9aa8c1e13a470510",
              "IPY_MODEL_25bfd6f83e494af7bde11dcb7431481e"
            ],
            "layout": "IPY_MODEL_69e00dba75d349af896c43e3fa2f6f6d"
          }
        },
        "5fa8a314d360447b882e4e1cfc2664cd": {
          "model_module": "@jupyter-widgets/controls",
          "model_name": "HTMLModel",
          "model_module_version": "1.5.0",
          "state": {
            "_dom_classes": [],
            "_model_module": "@jupyter-widgets/controls",
            "_model_module_version": "1.5.0",
            "_model_name": "HTMLModel",
            "_view_count": null,
            "_view_module": "@jupyter-widgets/controls",
            "_view_module_version": "1.5.0",
            "_view_name": "HTMLView",
            "description": "",
            "description_tooltip": null,
            "layout": "IPY_MODEL_7d674c1da676461fb03c06ba31311a5d",
            "placeholder": "​",
            "style": "IPY_MODEL_1ac3d3995e4046059d1744421dd5ff80",
            "value": "Validation DataLoader 0: 100%"
          }
        },
        "530e64ec14fe47ce9aa8c1e13a470510": {
          "model_module": "@jupyter-widgets/controls",
          "model_name": "FloatProgressModel",
          "model_module_version": "1.5.0",
          "state": {
            "_dom_classes": [],
            "_model_module": "@jupyter-widgets/controls",
            "_model_module_version": "1.5.0",
            "_model_name": "FloatProgressModel",
            "_view_count": null,
            "_view_module": "@jupyter-widgets/controls",
            "_view_module_version": "1.5.0",
            "_view_name": "ProgressView",
            "bar_style": "",
            "description": "",
            "description_tooltip": null,
            "layout": "IPY_MODEL_425b4485ac51406cb00ee5798aea7723",
            "max": 1,
            "min": 0,
            "orientation": "horizontal",
            "style": "IPY_MODEL_3b6d700d33ca448f9cb8a1b65d8aa106",
            "value": 1
          }
        },
        "25bfd6f83e494af7bde11dcb7431481e": {
          "model_module": "@jupyter-widgets/controls",
          "model_name": "HTMLModel",
          "model_module_version": "1.5.0",
          "state": {
            "_dom_classes": [],
            "_model_module": "@jupyter-widgets/controls",
            "_model_module_version": "1.5.0",
            "_model_name": "HTMLModel",
            "_view_count": null,
            "_view_module": "@jupyter-widgets/controls",
            "_view_module_version": "1.5.0",
            "_view_name": "HTMLView",
            "description": "",
            "description_tooltip": null,
            "layout": "IPY_MODEL_19ecd94e94ec4009850650b65d5f8c97",
            "placeholder": "​",
            "style": "IPY_MODEL_c0465cda71924cdd8e71524407461cd2",
            "value": " 1/1 [00:00&lt;00:00, 12.95it/s]"
          }
        },
        "69e00dba75d349af896c43e3fa2f6f6d": {
          "model_module": "@jupyter-widgets/base",
          "model_name": "LayoutModel",
          "model_module_version": "1.2.0",
          "state": {
            "_model_module": "@jupyter-widgets/base",
            "_model_module_version": "1.2.0",
            "_model_name": "LayoutModel",
            "_view_count": null,
            "_view_module": "@jupyter-widgets/base",
            "_view_module_version": "1.2.0",
            "_view_name": "LayoutView",
            "align_content": null,
            "align_items": null,
            "align_self": null,
            "border": null,
            "bottom": null,
            "display": "inline-flex",
            "flex": null,
            "flex_flow": "row wrap",
            "grid_area": null,
            "grid_auto_columns": null,
            "grid_auto_flow": null,
            "grid_auto_rows": null,
            "grid_column": null,
            "grid_gap": null,
            "grid_row": null,
            "grid_template_areas": null,
            "grid_template_columns": null,
            "grid_template_rows": null,
            "height": null,
            "justify_content": null,
            "justify_items": null,
            "left": null,
            "margin": null,
            "max_height": null,
            "max_width": null,
            "min_height": null,
            "min_width": null,
            "object_fit": null,
            "object_position": null,
            "order": null,
            "overflow": null,
            "overflow_x": null,
            "overflow_y": null,
            "padding": null,
            "right": null,
            "top": null,
            "visibility": "hidden",
            "width": "100%"
          }
        },
        "7d674c1da676461fb03c06ba31311a5d": {
          "model_module": "@jupyter-widgets/base",
          "model_name": "LayoutModel",
          "model_module_version": "1.2.0",
          "state": {
            "_model_module": "@jupyter-widgets/base",
            "_model_module_version": "1.2.0",
            "_model_name": "LayoutModel",
            "_view_count": null,
            "_view_module": "@jupyter-widgets/base",
            "_view_module_version": "1.2.0",
            "_view_name": "LayoutView",
            "align_content": null,
            "align_items": null,
            "align_self": null,
            "border": null,
            "bottom": null,
            "display": null,
            "flex": null,
            "flex_flow": null,
            "grid_area": null,
            "grid_auto_columns": null,
            "grid_auto_flow": null,
            "grid_auto_rows": null,
            "grid_column": null,
            "grid_gap": null,
            "grid_row": null,
            "grid_template_areas": null,
            "grid_template_columns": null,
            "grid_template_rows": null,
            "height": null,
            "justify_content": null,
            "justify_items": null,
            "left": null,
            "margin": null,
            "max_height": null,
            "max_width": null,
            "min_height": null,
            "min_width": null,
            "object_fit": null,
            "object_position": null,
            "order": null,
            "overflow": null,
            "overflow_x": null,
            "overflow_y": null,
            "padding": null,
            "right": null,
            "top": null,
            "visibility": null,
            "width": null
          }
        },
        "1ac3d3995e4046059d1744421dd5ff80": {
          "model_module": "@jupyter-widgets/controls",
          "model_name": "DescriptionStyleModel",
          "model_module_version": "1.5.0",
          "state": {
            "_model_module": "@jupyter-widgets/controls",
            "_model_module_version": "1.5.0",
            "_model_name": "DescriptionStyleModel",
            "_view_count": null,
            "_view_module": "@jupyter-widgets/base",
            "_view_module_version": "1.2.0",
            "_view_name": "StyleView",
            "description_width": ""
          }
        },
        "425b4485ac51406cb00ee5798aea7723": {
          "model_module": "@jupyter-widgets/base",
          "model_name": "LayoutModel",
          "model_module_version": "1.2.0",
          "state": {
            "_model_module": "@jupyter-widgets/base",
            "_model_module_version": "1.2.0",
            "_model_name": "LayoutModel",
            "_view_count": null,
            "_view_module": "@jupyter-widgets/base",
            "_view_module_version": "1.2.0",
            "_view_name": "LayoutView",
            "align_content": null,
            "align_items": null,
            "align_self": null,
            "border": null,
            "bottom": null,
            "display": null,
            "flex": "2",
            "flex_flow": null,
            "grid_area": null,
            "grid_auto_columns": null,
            "grid_auto_flow": null,
            "grid_auto_rows": null,
            "grid_column": null,
            "grid_gap": null,
            "grid_row": null,
            "grid_template_areas": null,
            "grid_template_columns": null,
            "grid_template_rows": null,
            "height": null,
            "justify_content": null,
            "justify_items": null,
            "left": null,
            "margin": null,
            "max_height": null,
            "max_width": null,
            "min_height": null,
            "min_width": null,
            "object_fit": null,
            "object_position": null,
            "order": null,
            "overflow": null,
            "overflow_x": null,
            "overflow_y": null,
            "padding": null,
            "right": null,
            "top": null,
            "visibility": null,
            "width": null
          }
        },
        "3b6d700d33ca448f9cb8a1b65d8aa106": {
          "model_module": "@jupyter-widgets/controls",
          "model_name": "ProgressStyleModel",
          "model_module_version": "1.5.0",
          "state": {
            "_model_module": "@jupyter-widgets/controls",
            "_model_module_version": "1.5.0",
            "_model_name": "ProgressStyleModel",
            "_view_count": null,
            "_view_module": "@jupyter-widgets/base",
            "_view_module_version": "1.2.0",
            "_view_name": "StyleView",
            "bar_color": null,
            "description_width": ""
          }
        },
        "19ecd94e94ec4009850650b65d5f8c97": {
          "model_module": "@jupyter-widgets/base",
          "model_name": "LayoutModel",
          "model_module_version": "1.2.0",
          "state": {
            "_model_module": "@jupyter-widgets/base",
            "_model_module_version": "1.2.0",
            "_model_name": "LayoutModel",
            "_view_count": null,
            "_view_module": "@jupyter-widgets/base",
            "_view_module_version": "1.2.0",
            "_view_name": "LayoutView",
            "align_content": null,
            "align_items": null,
            "align_self": null,
            "border": null,
            "bottom": null,
            "display": null,
            "flex": null,
            "flex_flow": null,
            "grid_area": null,
            "grid_auto_columns": null,
            "grid_auto_flow": null,
            "grid_auto_rows": null,
            "grid_column": null,
            "grid_gap": null,
            "grid_row": null,
            "grid_template_areas": null,
            "grid_template_columns": null,
            "grid_template_rows": null,
            "height": null,
            "justify_content": null,
            "justify_items": null,
            "left": null,
            "margin": null,
            "max_height": null,
            "max_width": null,
            "min_height": null,
            "min_width": null,
            "object_fit": null,
            "object_position": null,
            "order": null,
            "overflow": null,
            "overflow_x": null,
            "overflow_y": null,
            "padding": null,
            "right": null,
            "top": null,
            "visibility": null,
            "width": null
          }
        },
        "c0465cda71924cdd8e71524407461cd2": {
          "model_module": "@jupyter-widgets/controls",
          "model_name": "DescriptionStyleModel",
          "model_module_version": "1.5.0",
          "state": {
            "_model_module": "@jupyter-widgets/controls",
            "_model_module_version": "1.5.0",
            "_model_name": "DescriptionStyleModel",
            "_view_count": null,
            "_view_module": "@jupyter-widgets/base",
            "_view_module_version": "1.2.0",
            "_view_name": "StyleView",
            "description_width": ""
          }
        },
        "cf1689a8a3b9478cbc72650111ca50fa": {
          "model_module": "@jupyter-widgets/controls",
          "model_name": "HBoxModel",
          "model_module_version": "1.5.0",
          "state": {
            "_dom_classes": [],
            "_model_module": "@jupyter-widgets/controls",
            "_model_module_version": "1.5.0",
            "_model_name": "HBoxModel",
            "_view_count": null,
            "_view_module": "@jupyter-widgets/controls",
            "_view_module_version": "1.5.0",
            "_view_name": "HBoxView",
            "box_style": "",
            "children": [
              "IPY_MODEL_3e20622a0a5d4cc8b488284621cd5baa",
              "IPY_MODEL_1e999f1c06fa4036ae8093bb96d00eae",
              "IPY_MODEL_12a27272d0b344d7a4c79fdef4855a71"
            ],
            "layout": "IPY_MODEL_8c0eb9d4ba924b3bbc1cd0dad424e8ac"
          }
        },
        "3e20622a0a5d4cc8b488284621cd5baa": {
          "model_module": "@jupyter-widgets/controls",
          "model_name": "HTMLModel",
          "model_module_version": "1.5.0",
          "state": {
            "_dom_classes": [],
            "_model_module": "@jupyter-widgets/controls",
            "_model_module_version": "1.5.0",
            "_model_name": "HTMLModel",
            "_view_count": null,
            "_view_module": "@jupyter-widgets/controls",
            "_view_module_version": "1.5.0",
            "_view_name": "HTMLView",
            "description": "",
            "description_tooltip": null,
            "layout": "IPY_MODEL_67e96256d89e48afbff2ce895aa99698",
            "placeholder": "​",
            "style": "IPY_MODEL_6321bf685ece4a65aaf3020a10212be9",
            "value": "Validation DataLoader 0: 100%"
          }
        },
        "1e999f1c06fa4036ae8093bb96d00eae": {
          "model_module": "@jupyter-widgets/controls",
          "model_name": "FloatProgressModel",
          "model_module_version": "1.5.0",
          "state": {
            "_dom_classes": [],
            "_model_module": "@jupyter-widgets/controls",
            "_model_module_version": "1.5.0",
            "_model_name": "FloatProgressModel",
            "_view_count": null,
            "_view_module": "@jupyter-widgets/controls",
            "_view_module_version": "1.5.0",
            "_view_name": "ProgressView",
            "bar_style": "",
            "description": "",
            "description_tooltip": null,
            "layout": "IPY_MODEL_a784155b2e5649dcae9a251d3d91c3d3",
            "max": 1,
            "min": 0,
            "orientation": "horizontal",
            "style": "IPY_MODEL_b4806e8c73b7470ba35bdc82839bca9a",
            "value": 1
          }
        },
        "12a27272d0b344d7a4c79fdef4855a71": {
          "model_module": "@jupyter-widgets/controls",
          "model_name": "HTMLModel",
          "model_module_version": "1.5.0",
          "state": {
            "_dom_classes": [],
            "_model_module": "@jupyter-widgets/controls",
            "_model_module_version": "1.5.0",
            "_model_name": "HTMLModel",
            "_view_count": null,
            "_view_module": "@jupyter-widgets/controls",
            "_view_module_version": "1.5.0",
            "_view_name": "HTMLView",
            "description": "",
            "description_tooltip": null,
            "layout": "IPY_MODEL_f24db3543ef1424081afee98b1f5a7e6",
            "placeholder": "​",
            "style": "IPY_MODEL_0e43291d70934204bb6dd1617df399a4",
            "value": " 1/1 [00:00&lt;00:00, 17.92it/s]"
          }
        },
        "8c0eb9d4ba924b3bbc1cd0dad424e8ac": {
          "model_module": "@jupyter-widgets/base",
          "model_name": "LayoutModel",
          "model_module_version": "1.2.0",
          "state": {
            "_model_module": "@jupyter-widgets/base",
            "_model_module_version": "1.2.0",
            "_model_name": "LayoutModel",
            "_view_count": null,
            "_view_module": "@jupyter-widgets/base",
            "_view_module_version": "1.2.0",
            "_view_name": "LayoutView",
            "align_content": null,
            "align_items": null,
            "align_self": null,
            "border": null,
            "bottom": null,
            "display": "inline-flex",
            "flex": null,
            "flex_flow": "row wrap",
            "grid_area": null,
            "grid_auto_columns": null,
            "grid_auto_flow": null,
            "grid_auto_rows": null,
            "grid_column": null,
            "grid_gap": null,
            "grid_row": null,
            "grid_template_areas": null,
            "grid_template_columns": null,
            "grid_template_rows": null,
            "height": null,
            "justify_content": null,
            "justify_items": null,
            "left": null,
            "margin": null,
            "max_height": null,
            "max_width": null,
            "min_height": null,
            "min_width": null,
            "object_fit": null,
            "object_position": null,
            "order": null,
            "overflow": null,
            "overflow_x": null,
            "overflow_y": null,
            "padding": null,
            "right": null,
            "top": null,
            "visibility": "hidden",
            "width": "100%"
          }
        },
        "67e96256d89e48afbff2ce895aa99698": {
          "model_module": "@jupyter-widgets/base",
          "model_name": "LayoutModel",
          "model_module_version": "1.2.0",
          "state": {
            "_model_module": "@jupyter-widgets/base",
            "_model_module_version": "1.2.0",
            "_model_name": "LayoutModel",
            "_view_count": null,
            "_view_module": "@jupyter-widgets/base",
            "_view_module_version": "1.2.0",
            "_view_name": "LayoutView",
            "align_content": null,
            "align_items": null,
            "align_self": null,
            "border": null,
            "bottom": null,
            "display": null,
            "flex": null,
            "flex_flow": null,
            "grid_area": null,
            "grid_auto_columns": null,
            "grid_auto_flow": null,
            "grid_auto_rows": null,
            "grid_column": null,
            "grid_gap": null,
            "grid_row": null,
            "grid_template_areas": null,
            "grid_template_columns": null,
            "grid_template_rows": null,
            "height": null,
            "justify_content": null,
            "justify_items": null,
            "left": null,
            "margin": null,
            "max_height": null,
            "max_width": null,
            "min_height": null,
            "min_width": null,
            "object_fit": null,
            "object_position": null,
            "order": null,
            "overflow": null,
            "overflow_x": null,
            "overflow_y": null,
            "padding": null,
            "right": null,
            "top": null,
            "visibility": null,
            "width": null
          }
        },
        "6321bf685ece4a65aaf3020a10212be9": {
          "model_module": "@jupyter-widgets/controls",
          "model_name": "DescriptionStyleModel",
          "model_module_version": "1.5.0",
          "state": {
            "_model_module": "@jupyter-widgets/controls",
            "_model_module_version": "1.5.0",
            "_model_name": "DescriptionStyleModel",
            "_view_count": null,
            "_view_module": "@jupyter-widgets/base",
            "_view_module_version": "1.2.0",
            "_view_name": "StyleView",
            "description_width": ""
          }
        },
        "a784155b2e5649dcae9a251d3d91c3d3": {
          "model_module": "@jupyter-widgets/base",
          "model_name": "LayoutModel",
          "model_module_version": "1.2.0",
          "state": {
            "_model_module": "@jupyter-widgets/base",
            "_model_module_version": "1.2.0",
            "_model_name": "LayoutModel",
            "_view_count": null,
            "_view_module": "@jupyter-widgets/base",
            "_view_module_version": "1.2.0",
            "_view_name": "LayoutView",
            "align_content": null,
            "align_items": null,
            "align_self": null,
            "border": null,
            "bottom": null,
            "display": null,
            "flex": "2",
            "flex_flow": null,
            "grid_area": null,
            "grid_auto_columns": null,
            "grid_auto_flow": null,
            "grid_auto_rows": null,
            "grid_column": null,
            "grid_gap": null,
            "grid_row": null,
            "grid_template_areas": null,
            "grid_template_columns": null,
            "grid_template_rows": null,
            "height": null,
            "justify_content": null,
            "justify_items": null,
            "left": null,
            "margin": null,
            "max_height": null,
            "max_width": null,
            "min_height": null,
            "min_width": null,
            "object_fit": null,
            "object_position": null,
            "order": null,
            "overflow": null,
            "overflow_x": null,
            "overflow_y": null,
            "padding": null,
            "right": null,
            "top": null,
            "visibility": null,
            "width": null
          }
        },
        "b4806e8c73b7470ba35bdc82839bca9a": {
          "model_module": "@jupyter-widgets/controls",
          "model_name": "ProgressStyleModel",
          "model_module_version": "1.5.0",
          "state": {
            "_model_module": "@jupyter-widgets/controls",
            "_model_module_version": "1.5.0",
            "_model_name": "ProgressStyleModel",
            "_view_count": null,
            "_view_module": "@jupyter-widgets/base",
            "_view_module_version": "1.2.0",
            "_view_name": "StyleView",
            "bar_color": null,
            "description_width": ""
          }
        },
        "f24db3543ef1424081afee98b1f5a7e6": {
          "model_module": "@jupyter-widgets/base",
          "model_name": "LayoutModel",
          "model_module_version": "1.2.0",
          "state": {
            "_model_module": "@jupyter-widgets/base",
            "_model_module_version": "1.2.0",
            "_model_name": "LayoutModel",
            "_view_count": null,
            "_view_module": "@jupyter-widgets/base",
            "_view_module_version": "1.2.0",
            "_view_name": "LayoutView",
            "align_content": null,
            "align_items": null,
            "align_self": null,
            "border": null,
            "bottom": null,
            "display": null,
            "flex": null,
            "flex_flow": null,
            "grid_area": null,
            "grid_auto_columns": null,
            "grid_auto_flow": null,
            "grid_auto_rows": null,
            "grid_column": null,
            "grid_gap": null,
            "grid_row": null,
            "grid_template_areas": null,
            "grid_template_columns": null,
            "grid_template_rows": null,
            "height": null,
            "justify_content": null,
            "justify_items": null,
            "left": null,
            "margin": null,
            "max_height": null,
            "max_width": null,
            "min_height": null,
            "min_width": null,
            "object_fit": null,
            "object_position": null,
            "order": null,
            "overflow": null,
            "overflow_x": null,
            "overflow_y": null,
            "padding": null,
            "right": null,
            "top": null,
            "visibility": null,
            "width": null
          }
        },
        "0e43291d70934204bb6dd1617df399a4": {
          "model_module": "@jupyter-widgets/controls",
          "model_name": "DescriptionStyleModel",
          "model_module_version": "1.5.0",
          "state": {
            "_model_module": "@jupyter-widgets/controls",
            "_model_module_version": "1.5.0",
            "_model_name": "DescriptionStyleModel",
            "_view_count": null,
            "_view_module": "@jupyter-widgets/base",
            "_view_module_version": "1.2.0",
            "_view_name": "StyleView",
            "description_width": ""
          }
        },
        "3c5b52c5ddf14891839d32bac7e9cce2": {
          "model_module": "@jupyter-widgets/controls",
          "model_name": "HBoxModel",
          "model_module_version": "1.5.0",
          "state": {
            "_dom_classes": [],
            "_model_module": "@jupyter-widgets/controls",
            "_model_module_version": "1.5.0",
            "_model_name": "HBoxModel",
            "_view_count": null,
            "_view_module": "@jupyter-widgets/controls",
            "_view_module_version": "1.5.0",
            "_view_name": "HBoxView",
            "box_style": "",
            "children": [
              "IPY_MODEL_d9526ba3dd52449d927ef65a10964c80",
              "IPY_MODEL_ab789670fc254e7e9c764710d5f3e8a2",
              "IPY_MODEL_35a4a9ea95f94c1081e989bcade19ed8"
            ],
            "layout": "IPY_MODEL_22fb47c3de84488184e9978ed70db8cd"
          }
        },
        "d9526ba3dd52449d927ef65a10964c80": {
          "model_module": "@jupyter-widgets/controls",
          "model_name": "HTMLModel",
          "model_module_version": "1.5.0",
          "state": {
            "_dom_classes": [],
            "_model_module": "@jupyter-widgets/controls",
            "_model_module_version": "1.5.0",
            "_model_name": "HTMLModel",
            "_view_count": null,
            "_view_module": "@jupyter-widgets/controls",
            "_view_module_version": "1.5.0",
            "_view_name": "HTMLView",
            "description": "",
            "description_tooltip": null,
            "layout": "IPY_MODEL_62487eac63474159a91eb730dae8116c",
            "placeholder": "​",
            "style": "IPY_MODEL_7c3945f0e36d4c6fab8feecf9f18b7ce",
            "value": "Validation DataLoader 0: 100%"
          }
        },
        "ab789670fc254e7e9c764710d5f3e8a2": {
          "model_module": "@jupyter-widgets/controls",
          "model_name": "FloatProgressModel",
          "model_module_version": "1.5.0",
          "state": {
            "_dom_classes": [],
            "_model_module": "@jupyter-widgets/controls",
            "_model_module_version": "1.5.0",
            "_model_name": "FloatProgressModel",
            "_view_count": null,
            "_view_module": "@jupyter-widgets/controls",
            "_view_module_version": "1.5.0",
            "_view_name": "ProgressView",
            "bar_style": "",
            "description": "",
            "description_tooltip": null,
            "layout": "IPY_MODEL_d8414b5891894a13897310a1298a0406",
            "max": 1,
            "min": 0,
            "orientation": "horizontal",
            "style": "IPY_MODEL_611b166f0e7f4fdeb807a885b683bd9a",
            "value": 1
          }
        },
        "35a4a9ea95f94c1081e989bcade19ed8": {
          "model_module": "@jupyter-widgets/controls",
          "model_name": "HTMLModel",
          "model_module_version": "1.5.0",
          "state": {
            "_dom_classes": [],
            "_model_module": "@jupyter-widgets/controls",
            "_model_module_version": "1.5.0",
            "_model_name": "HTMLModel",
            "_view_count": null,
            "_view_module": "@jupyter-widgets/controls",
            "_view_module_version": "1.5.0",
            "_view_name": "HTMLView",
            "description": "",
            "description_tooltip": null,
            "layout": "IPY_MODEL_d3c8d459b6224e179d61bf645c53a399",
            "placeholder": "​",
            "style": "IPY_MODEL_96c9e245efdd42219e8c50733c7c8030",
            "value": " 1/1 [00:00&lt;00:00,  3.12it/s]"
          }
        },
        "22fb47c3de84488184e9978ed70db8cd": {
          "model_module": "@jupyter-widgets/base",
          "model_name": "LayoutModel",
          "model_module_version": "1.2.0",
          "state": {
            "_model_module": "@jupyter-widgets/base",
            "_model_module_version": "1.2.0",
            "_model_name": "LayoutModel",
            "_view_count": null,
            "_view_module": "@jupyter-widgets/base",
            "_view_module_version": "1.2.0",
            "_view_name": "LayoutView",
            "align_content": null,
            "align_items": null,
            "align_self": null,
            "border": null,
            "bottom": null,
            "display": "inline-flex",
            "flex": null,
            "flex_flow": "row wrap",
            "grid_area": null,
            "grid_auto_columns": null,
            "grid_auto_flow": null,
            "grid_auto_rows": null,
            "grid_column": null,
            "grid_gap": null,
            "grid_row": null,
            "grid_template_areas": null,
            "grid_template_columns": null,
            "grid_template_rows": null,
            "height": null,
            "justify_content": null,
            "justify_items": null,
            "left": null,
            "margin": null,
            "max_height": null,
            "max_width": null,
            "min_height": null,
            "min_width": null,
            "object_fit": null,
            "object_position": null,
            "order": null,
            "overflow": null,
            "overflow_x": null,
            "overflow_y": null,
            "padding": null,
            "right": null,
            "top": null,
            "visibility": "hidden",
            "width": "100%"
          }
        },
        "62487eac63474159a91eb730dae8116c": {
          "model_module": "@jupyter-widgets/base",
          "model_name": "LayoutModel",
          "model_module_version": "1.2.0",
          "state": {
            "_model_module": "@jupyter-widgets/base",
            "_model_module_version": "1.2.0",
            "_model_name": "LayoutModel",
            "_view_count": null,
            "_view_module": "@jupyter-widgets/base",
            "_view_module_version": "1.2.0",
            "_view_name": "LayoutView",
            "align_content": null,
            "align_items": null,
            "align_self": null,
            "border": null,
            "bottom": null,
            "display": null,
            "flex": null,
            "flex_flow": null,
            "grid_area": null,
            "grid_auto_columns": null,
            "grid_auto_flow": null,
            "grid_auto_rows": null,
            "grid_column": null,
            "grid_gap": null,
            "grid_row": null,
            "grid_template_areas": null,
            "grid_template_columns": null,
            "grid_template_rows": null,
            "height": null,
            "justify_content": null,
            "justify_items": null,
            "left": null,
            "margin": null,
            "max_height": null,
            "max_width": null,
            "min_height": null,
            "min_width": null,
            "object_fit": null,
            "object_position": null,
            "order": null,
            "overflow": null,
            "overflow_x": null,
            "overflow_y": null,
            "padding": null,
            "right": null,
            "top": null,
            "visibility": null,
            "width": null
          }
        },
        "7c3945f0e36d4c6fab8feecf9f18b7ce": {
          "model_module": "@jupyter-widgets/controls",
          "model_name": "DescriptionStyleModel",
          "model_module_version": "1.5.0",
          "state": {
            "_model_module": "@jupyter-widgets/controls",
            "_model_module_version": "1.5.0",
            "_model_name": "DescriptionStyleModel",
            "_view_count": null,
            "_view_module": "@jupyter-widgets/base",
            "_view_module_version": "1.2.0",
            "_view_name": "StyleView",
            "description_width": ""
          }
        },
        "d8414b5891894a13897310a1298a0406": {
          "model_module": "@jupyter-widgets/base",
          "model_name": "LayoutModel",
          "model_module_version": "1.2.0",
          "state": {
            "_model_module": "@jupyter-widgets/base",
            "_model_module_version": "1.2.0",
            "_model_name": "LayoutModel",
            "_view_count": null,
            "_view_module": "@jupyter-widgets/base",
            "_view_module_version": "1.2.0",
            "_view_name": "LayoutView",
            "align_content": null,
            "align_items": null,
            "align_self": null,
            "border": null,
            "bottom": null,
            "display": null,
            "flex": "2",
            "flex_flow": null,
            "grid_area": null,
            "grid_auto_columns": null,
            "grid_auto_flow": null,
            "grid_auto_rows": null,
            "grid_column": null,
            "grid_gap": null,
            "grid_row": null,
            "grid_template_areas": null,
            "grid_template_columns": null,
            "grid_template_rows": null,
            "height": null,
            "justify_content": null,
            "justify_items": null,
            "left": null,
            "margin": null,
            "max_height": null,
            "max_width": null,
            "min_height": null,
            "min_width": null,
            "object_fit": null,
            "object_position": null,
            "order": null,
            "overflow": null,
            "overflow_x": null,
            "overflow_y": null,
            "padding": null,
            "right": null,
            "top": null,
            "visibility": null,
            "width": null
          }
        },
        "611b166f0e7f4fdeb807a885b683bd9a": {
          "model_module": "@jupyter-widgets/controls",
          "model_name": "ProgressStyleModel",
          "model_module_version": "1.5.0",
          "state": {
            "_model_module": "@jupyter-widgets/controls",
            "_model_module_version": "1.5.0",
            "_model_name": "ProgressStyleModel",
            "_view_count": null,
            "_view_module": "@jupyter-widgets/base",
            "_view_module_version": "1.2.0",
            "_view_name": "StyleView",
            "bar_color": null,
            "description_width": ""
          }
        },
        "d3c8d459b6224e179d61bf645c53a399": {
          "model_module": "@jupyter-widgets/base",
          "model_name": "LayoutModel",
          "model_module_version": "1.2.0",
          "state": {
            "_model_module": "@jupyter-widgets/base",
            "_model_module_version": "1.2.0",
            "_model_name": "LayoutModel",
            "_view_count": null,
            "_view_module": "@jupyter-widgets/base",
            "_view_module_version": "1.2.0",
            "_view_name": "LayoutView",
            "align_content": null,
            "align_items": null,
            "align_self": null,
            "border": null,
            "bottom": null,
            "display": null,
            "flex": null,
            "flex_flow": null,
            "grid_area": null,
            "grid_auto_columns": null,
            "grid_auto_flow": null,
            "grid_auto_rows": null,
            "grid_column": null,
            "grid_gap": null,
            "grid_row": null,
            "grid_template_areas": null,
            "grid_template_columns": null,
            "grid_template_rows": null,
            "height": null,
            "justify_content": null,
            "justify_items": null,
            "left": null,
            "margin": null,
            "max_height": null,
            "max_width": null,
            "min_height": null,
            "min_width": null,
            "object_fit": null,
            "object_position": null,
            "order": null,
            "overflow": null,
            "overflow_x": null,
            "overflow_y": null,
            "padding": null,
            "right": null,
            "top": null,
            "visibility": null,
            "width": null
          }
        },
        "96c9e245efdd42219e8c50733c7c8030": {
          "model_module": "@jupyter-widgets/controls",
          "model_name": "DescriptionStyleModel",
          "model_module_version": "1.5.0",
          "state": {
            "_model_module": "@jupyter-widgets/controls",
            "_model_module_version": "1.5.0",
            "_model_name": "DescriptionStyleModel",
            "_view_count": null,
            "_view_module": "@jupyter-widgets/base",
            "_view_module_version": "1.2.0",
            "_view_name": "StyleView",
            "description_width": ""
          }
        },
        "41422e5e21444c9ea84b442b1d34ff63": {
          "model_module": "@jupyter-widgets/controls",
          "model_name": "HBoxModel",
          "model_module_version": "1.5.0",
          "state": {
            "_dom_classes": [],
            "_model_module": "@jupyter-widgets/controls",
            "_model_module_version": "1.5.0",
            "_model_name": "HBoxModel",
            "_view_count": null,
            "_view_module": "@jupyter-widgets/controls",
            "_view_module_version": "1.5.0",
            "_view_name": "HBoxView",
            "box_style": "",
            "children": [
              "IPY_MODEL_e0f04614b9c6437d8ea2d50534bf884e",
              "IPY_MODEL_49f15e616b4c41d2b6c0ef154ad0e91a",
              "IPY_MODEL_bcb66e5d01f2415da49f949077a1cc74"
            ],
            "layout": "IPY_MODEL_d89d6fdde03945daa6b92df939d83419"
          }
        },
        "e0f04614b9c6437d8ea2d50534bf884e": {
          "model_module": "@jupyter-widgets/controls",
          "model_name": "HTMLModel",
          "model_module_version": "1.5.0",
          "state": {
            "_dom_classes": [],
            "_model_module": "@jupyter-widgets/controls",
            "_model_module_version": "1.5.0",
            "_model_name": "HTMLModel",
            "_view_count": null,
            "_view_module": "@jupyter-widgets/controls",
            "_view_module_version": "1.5.0",
            "_view_name": "HTMLView",
            "description": "",
            "description_tooltip": null,
            "layout": "IPY_MODEL_acdd1fe8eb0e4467bdc61c224bc42a28",
            "placeholder": "​",
            "style": "IPY_MODEL_a3fd1a6e8d2949ac99eecc7c0c5beebc",
            "value": "Validation DataLoader 0: 100%"
          }
        },
        "49f15e616b4c41d2b6c0ef154ad0e91a": {
          "model_module": "@jupyter-widgets/controls",
          "model_name": "FloatProgressModel",
          "model_module_version": "1.5.0",
          "state": {
            "_dom_classes": [],
            "_model_module": "@jupyter-widgets/controls",
            "_model_module_version": "1.5.0",
            "_model_name": "FloatProgressModel",
            "_view_count": null,
            "_view_module": "@jupyter-widgets/controls",
            "_view_module_version": "1.5.0",
            "_view_name": "ProgressView",
            "bar_style": "",
            "description": "",
            "description_tooltip": null,
            "layout": "IPY_MODEL_e9c48d5e1a2c4aec9e497829d27b52b3",
            "max": 1,
            "min": 0,
            "orientation": "horizontal",
            "style": "IPY_MODEL_661a4c1a3a284f4695dc1d914c40a549",
            "value": 1
          }
        },
        "bcb66e5d01f2415da49f949077a1cc74": {
          "model_module": "@jupyter-widgets/controls",
          "model_name": "HTMLModel",
          "model_module_version": "1.5.0",
          "state": {
            "_dom_classes": [],
            "_model_module": "@jupyter-widgets/controls",
            "_model_module_version": "1.5.0",
            "_model_name": "HTMLModel",
            "_view_count": null,
            "_view_module": "@jupyter-widgets/controls",
            "_view_module_version": "1.5.0",
            "_view_name": "HTMLView",
            "description": "",
            "description_tooltip": null,
            "layout": "IPY_MODEL_a1371cb3cfaa4ca19d1dde698de50691",
            "placeholder": "​",
            "style": "IPY_MODEL_b04f5042b33b498d8f74c8cb346f0254",
            "value": " 1/1 [00:00&lt;00:00, 12.25it/s]"
          }
        },
        "d89d6fdde03945daa6b92df939d83419": {
          "model_module": "@jupyter-widgets/base",
          "model_name": "LayoutModel",
          "model_module_version": "1.2.0",
          "state": {
            "_model_module": "@jupyter-widgets/base",
            "_model_module_version": "1.2.0",
            "_model_name": "LayoutModel",
            "_view_count": null,
            "_view_module": "@jupyter-widgets/base",
            "_view_module_version": "1.2.0",
            "_view_name": "LayoutView",
            "align_content": null,
            "align_items": null,
            "align_self": null,
            "border": null,
            "bottom": null,
            "display": "inline-flex",
            "flex": null,
            "flex_flow": "row wrap",
            "grid_area": null,
            "grid_auto_columns": null,
            "grid_auto_flow": null,
            "grid_auto_rows": null,
            "grid_column": null,
            "grid_gap": null,
            "grid_row": null,
            "grid_template_areas": null,
            "grid_template_columns": null,
            "grid_template_rows": null,
            "height": null,
            "justify_content": null,
            "justify_items": null,
            "left": null,
            "margin": null,
            "max_height": null,
            "max_width": null,
            "min_height": null,
            "min_width": null,
            "object_fit": null,
            "object_position": null,
            "order": null,
            "overflow": null,
            "overflow_x": null,
            "overflow_y": null,
            "padding": null,
            "right": null,
            "top": null,
            "visibility": "hidden",
            "width": "100%"
          }
        },
        "acdd1fe8eb0e4467bdc61c224bc42a28": {
          "model_module": "@jupyter-widgets/base",
          "model_name": "LayoutModel",
          "model_module_version": "1.2.0",
          "state": {
            "_model_module": "@jupyter-widgets/base",
            "_model_module_version": "1.2.0",
            "_model_name": "LayoutModel",
            "_view_count": null,
            "_view_module": "@jupyter-widgets/base",
            "_view_module_version": "1.2.0",
            "_view_name": "LayoutView",
            "align_content": null,
            "align_items": null,
            "align_self": null,
            "border": null,
            "bottom": null,
            "display": null,
            "flex": null,
            "flex_flow": null,
            "grid_area": null,
            "grid_auto_columns": null,
            "grid_auto_flow": null,
            "grid_auto_rows": null,
            "grid_column": null,
            "grid_gap": null,
            "grid_row": null,
            "grid_template_areas": null,
            "grid_template_columns": null,
            "grid_template_rows": null,
            "height": null,
            "justify_content": null,
            "justify_items": null,
            "left": null,
            "margin": null,
            "max_height": null,
            "max_width": null,
            "min_height": null,
            "min_width": null,
            "object_fit": null,
            "object_position": null,
            "order": null,
            "overflow": null,
            "overflow_x": null,
            "overflow_y": null,
            "padding": null,
            "right": null,
            "top": null,
            "visibility": null,
            "width": null
          }
        },
        "a3fd1a6e8d2949ac99eecc7c0c5beebc": {
          "model_module": "@jupyter-widgets/controls",
          "model_name": "DescriptionStyleModel",
          "model_module_version": "1.5.0",
          "state": {
            "_model_module": "@jupyter-widgets/controls",
            "_model_module_version": "1.5.0",
            "_model_name": "DescriptionStyleModel",
            "_view_count": null,
            "_view_module": "@jupyter-widgets/base",
            "_view_module_version": "1.2.0",
            "_view_name": "StyleView",
            "description_width": ""
          }
        },
        "e9c48d5e1a2c4aec9e497829d27b52b3": {
          "model_module": "@jupyter-widgets/base",
          "model_name": "LayoutModel",
          "model_module_version": "1.2.0",
          "state": {
            "_model_module": "@jupyter-widgets/base",
            "_model_module_version": "1.2.0",
            "_model_name": "LayoutModel",
            "_view_count": null,
            "_view_module": "@jupyter-widgets/base",
            "_view_module_version": "1.2.0",
            "_view_name": "LayoutView",
            "align_content": null,
            "align_items": null,
            "align_self": null,
            "border": null,
            "bottom": null,
            "display": null,
            "flex": "2",
            "flex_flow": null,
            "grid_area": null,
            "grid_auto_columns": null,
            "grid_auto_flow": null,
            "grid_auto_rows": null,
            "grid_column": null,
            "grid_gap": null,
            "grid_row": null,
            "grid_template_areas": null,
            "grid_template_columns": null,
            "grid_template_rows": null,
            "height": null,
            "justify_content": null,
            "justify_items": null,
            "left": null,
            "margin": null,
            "max_height": null,
            "max_width": null,
            "min_height": null,
            "min_width": null,
            "object_fit": null,
            "object_position": null,
            "order": null,
            "overflow": null,
            "overflow_x": null,
            "overflow_y": null,
            "padding": null,
            "right": null,
            "top": null,
            "visibility": null,
            "width": null
          }
        },
        "661a4c1a3a284f4695dc1d914c40a549": {
          "model_module": "@jupyter-widgets/controls",
          "model_name": "ProgressStyleModel",
          "model_module_version": "1.5.0",
          "state": {
            "_model_module": "@jupyter-widgets/controls",
            "_model_module_version": "1.5.0",
            "_model_name": "ProgressStyleModel",
            "_view_count": null,
            "_view_module": "@jupyter-widgets/base",
            "_view_module_version": "1.2.0",
            "_view_name": "StyleView",
            "bar_color": null,
            "description_width": ""
          }
        },
        "a1371cb3cfaa4ca19d1dde698de50691": {
          "model_module": "@jupyter-widgets/base",
          "model_name": "LayoutModel",
          "model_module_version": "1.2.0",
          "state": {
            "_model_module": "@jupyter-widgets/base",
            "_model_module_version": "1.2.0",
            "_model_name": "LayoutModel",
            "_view_count": null,
            "_view_module": "@jupyter-widgets/base",
            "_view_module_version": "1.2.0",
            "_view_name": "LayoutView",
            "align_content": null,
            "align_items": null,
            "align_self": null,
            "border": null,
            "bottom": null,
            "display": null,
            "flex": null,
            "flex_flow": null,
            "grid_area": null,
            "grid_auto_columns": null,
            "grid_auto_flow": null,
            "grid_auto_rows": null,
            "grid_column": null,
            "grid_gap": null,
            "grid_row": null,
            "grid_template_areas": null,
            "grid_template_columns": null,
            "grid_template_rows": null,
            "height": null,
            "justify_content": null,
            "justify_items": null,
            "left": null,
            "margin": null,
            "max_height": null,
            "max_width": null,
            "min_height": null,
            "min_width": null,
            "object_fit": null,
            "object_position": null,
            "order": null,
            "overflow": null,
            "overflow_x": null,
            "overflow_y": null,
            "padding": null,
            "right": null,
            "top": null,
            "visibility": null,
            "width": null
          }
        },
        "b04f5042b33b498d8f74c8cb346f0254": {
          "model_module": "@jupyter-widgets/controls",
          "model_name": "DescriptionStyleModel",
          "model_module_version": "1.5.0",
          "state": {
            "_model_module": "@jupyter-widgets/controls",
            "_model_module_version": "1.5.0",
            "_model_name": "DescriptionStyleModel",
            "_view_count": null,
            "_view_module": "@jupyter-widgets/base",
            "_view_module_version": "1.2.0",
            "_view_name": "StyleView",
            "description_width": ""
          }
        },
        "33b4ffb794544d138a62aa38a93cf125": {
          "model_module": "@jupyter-widgets/controls",
          "model_name": "HBoxModel",
          "model_module_version": "1.5.0",
          "state": {
            "_dom_classes": [],
            "_model_module": "@jupyter-widgets/controls",
            "_model_module_version": "1.5.0",
            "_model_name": "HBoxModel",
            "_view_count": null,
            "_view_module": "@jupyter-widgets/controls",
            "_view_module_version": "1.5.0",
            "_view_name": "HBoxView",
            "box_style": "",
            "children": [
              "IPY_MODEL_1fcb495793c24569b4f8239f4d8c47bf",
              "IPY_MODEL_5ba78fbfbf384e4dadb31765666fcc17",
              "IPY_MODEL_e97d7346fd024d09a4281c70704076c9"
            ],
            "layout": "IPY_MODEL_501fe9557ae14a98bd2fc5593a6789f6"
          }
        },
        "1fcb495793c24569b4f8239f4d8c47bf": {
          "model_module": "@jupyter-widgets/controls",
          "model_name": "HTMLModel",
          "model_module_version": "1.5.0",
          "state": {
            "_dom_classes": [],
            "_model_module": "@jupyter-widgets/controls",
            "_model_module_version": "1.5.0",
            "_model_name": "HTMLModel",
            "_view_count": null,
            "_view_module": "@jupyter-widgets/controls",
            "_view_module_version": "1.5.0",
            "_view_name": "HTMLView",
            "description": "",
            "description_tooltip": null,
            "layout": "IPY_MODEL_7367e970637148da86a75f98401754e3",
            "placeholder": "​",
            "style": "IPY_MODEL_4cb5a4c18a5b433f99efaf1c7cd3da0b",
            "value": "Validation DataLoader 0: 100%"
          }
        },
        "5ba78fbfbf384e4dadb31765666fcc17": {
          "model_module": "@jupyter-widgets/controls",
          "model_name": "FloatProgressModel",
          "model_module_version": "1.5.0",
          "state": {
            "_dom_classes": [],
            "_model_module": "@jupyter-widgets/controls",
            "_model_module_version": "1.5.0",
            "_model_name": "FloatProgressModel",
            "_view_count": null,
            "_view_module": "@jupyter-widgets/controls",
            "_view_module_version": "1.5.0",
            "_view_name": "ProgressView",
            "bar_style": "",
            "description": "",
            "description_tooltip": null,
            "layout": "IPY_MODEL_cb9a478ea1934428b750e7e1705e3015",
            "max": 1,
            "min": 0,
            "orientation": "horizontal",
            "style": "IPY_MODEL_c90944599a83460db2aa38f342a13b9e",
            "value": 1
          }
        },
        "e97d7346fd024d09a4281c70704076c9": {
          "model_module": "@jupyter-widgets/controls",
          "model_name": "HTMLModel",
          "model_module_version": "1.5.0",
          "state": {
            "_dom_classes": [],
            "_model_module": "@jupyter-widgets/controls",
            "_model_module_version": "1.5.0",
            "_model_name": "HTMLModel",
            "_view_count": null,
            "_view_module": "@jupyter-widgets/controls",
            "_view_module_version": "1.5.0",
            "_view_name": "HTMLView",
            "description": "",
            "description_tooltip": null,
            "layout": "IPY_MODEL_076ea13c4f974d68ab5a5dfab225f6ce",
            "placeholder": "​",
            "style": "IPY_MODEL_1a5c43220e2f478da12060d6611a3d00",
            "value": " 1/1 [00:00&lt;00:00, 15.13it/s]"
          }
        },
        "501fe9557ae14a98bd2fc5593a6789f6": {
          "model_module": "@jupyter-widgets/base",
          "model_name": "LayoutModel",
          "model_module_version": "1.2.0",
          "state": {
            "_model_module": "@jupyter-widgets/base",
            "_model_module_version": "1.2.0",
            "_model_name": "LayoutModel",
            "_view_count": null,
            "_view_module": "@jupyter-widgets/base",
            "_view_module_version": "1.2.0",
            "_view_name": "LayoutView",
            "align_content": null,
            "align_items": null,
            "align_self": null,
            "border": null,
            "bottom": null,
            "display": "inline-flex",
            "flex": null,
            "flex_flow": "row wrap",
            "grid_area": null,
            "grid_auto_columns": null,
            "grid_auto_flow": null,
            "grid_auto_rows": null,
            "grid_column": null,
            "grid_gap": null,
            "grid_row": null,
            "grid_template_areas": null,
            "grid_template_columns": null,
            "grid_template_rows": null,
            "height": null,
            "justify_content": null,
            "justify_items": null,
            "left": null,
            "margin": null,
            "max_height": null,
            "max_width": null,
            "min_height": null,
            "min_width": null,
            "object_fit": null,
            "object_position": null,
            "order": null,
            "overflow": null,
            "overflow_x": null,
            "overflow_y": null,
            "padding": null,
            "right": null,
            "top": null,
            "visibility": "hidden",
            "width": "100%"
          }
        },
        "7367e970637148da86a75f98401754e3": {
          "model_module": "@jupyter-widgets/base",
          "model_name": "LayoutModel",
          "model_module_version": "1.2.0",
          "state": {
            "_model_module": "@jupyter-widgets/base",
            "_model_module_version": "1.2.0",
            "_model_name": "LayoutModel",
            "_view_count": null,
            "_view_module": "@jupyter-widgets/base",
            "_view_module_version": "1.2.0",
            "_view_name": "LayoutView",
            "align_content": null,
            "align_items": null,
            "align_self": null,
            "border": null,
            "bottom": null,
            "display": null,
            "flex": null,
            "flex_flow": null,
            "grid_area": null,
            "grid_auto_columns": null,
            "grid_auto_flow": null,
            "grid_auto_rows": null,
            "grid_column": null,
            "grid_gap": null,
            "grid_row": null,
            "grid_template_areas": null,
            "grid_template_columns": null,
            "grid_template_rows": null,
            "height": null,
            "justify_content": null,
            "justify_items": null,
            "left": null,
            "margin": null,
            "max_height": null,
            "max_width": null,
            "min_height": null,
            "min_width": null,
            "object_fit": null,
            "object_position": null,
            "order": null,
            "overflow": null,
            "overflow_x": null,
            "overflow_y": null,
            "padding": null,
            "right": null,
            "top": null,
            "visibility": null,
            "width": null
          }
        },
        "4cb5a4c18a5b433f99efaf1c7cd3da0b": {
          "model_module": "@jupyter-widgets/controls",
          "model_name": "DescriptionStyleModel",
          "model_module_version": "1.5.0",
          "state": {
            "_model_module": "@jupyter-widgets/controls",
            "_model_module_version": "1.5.0",
            "_model_name": "DescriptionStyleModel",
            "_view_count": null,
            "_view_module": "@jupyter-widgets/base",
            "_view_module_version": "1.2.0",
            "_view_name": "StyleView",
            "description_width": ""
          }
        },
        "cb9a478ea1934428b750e7e1705e3015": {
          "model_module": "@jupyter-widgets/base",
          "model_name": "LayoutModel",
          "model_module_version": "1.2.0",
          "state": {
            "_model_module": "@jupyter-widgets/base",
            "_model_module_version": "1.2.0",
            "_model_name": "LayoutModel",
            "_view_count": null,
            "_view_module": "@jupyter-widgets/base",
            "_view_module_version": "1.2.0",
            "_view_name": "LayoutView",
            "align_content": null,
            "align_items": null,
            "align_self": null,
            "border": null,
            "bottom": null,
            "display": null,
            "flex": "2",
            "flex_flow": null,
            "grid_area": null,
            "grid_auto_columns": null,
            "grid_auto_flow": null,
            "grid_auto_rows": null,
            "grid_column": null,
            "grid_gap": null,
            "grid_row": null,
            "grid_template_areas": null,
            "grid_template_columns": null,
            "grid_template_rows": null,
            "height": null,
            "justify_content": null,
            "justify_items": null,
            "left": null,
            "margin": null,
            "max_height": null,
            "max_width": null,
            "min_height": null,
            "min_width": null,
            "object_fit": null,
            "object_position": null,
            "order": null,
            "overflow": null,
            "overflow_x": null,
            "overflow_y": null,
            "padding": null,
            "right": null,
            "top": null,
            "visibility": null,
            "width": null
          }
        },
        "c90944599a83460db2aa38f342a13b9e": {
          "model_module": "@jupyter-widgets/controls",
          "model_name": "ProgressStyleModel",
          "model_module_version": "1.5.0",
          "state": {
            "_model_module": "@jupyter-widgets/controls",
            "_model_module_version": "1.5.0",
            "_model_name": "ProgressStyleModel",
            "_view_count": null,
            "_view_module": "@jupyter-widgets/base",
            "_view_module_version": "1.2.0",
            "_view_name": "StyleView",
            "bar_color": null,
            "description_width": ""
          }
        },
        "076ea13c4f974d68ab5a5dfab225f6ce": {
          "model_module": "@jupyter-widgets/base",
          "model_name": "LayoutModel",
          "model_module_version": "1.2.0",
          "state": {
            "_model_module": "@jupyter-widgets/base",
            "_model_module_version": "1.2.0",
            "_model_name": "LayoutModel",
            "_view_count": null,
            "_view_module": "@jupyter-widgets/base",
            "_view_module_version": "1.2.0",
            "_view_name": "LayoutView",
            "align_content": null,
            "align_items": null,
            "align_self": null,
            "border": null,
            "bottom": null,
            "display": null,
            "flex": null,
            "flex_flow": null,
            "grid_area": null,
            "grid_auto_columns": null,
            "grid_auto_flow": null,
            "grid_auto_rows": null,
            "grid_column": null,
            "grid_gap": null,
            "grid_row": null,
            "grid_template_areas": null,
            "grid_template_columns": null,
            "grid_template_rows": null,
            "height": null,
            "justify_content": null,
            "justify_items": null,
            "left": null,
            "margin": null,
            "max_height": null,
            "max_width": null,
            "min_height": null,
            "min_width": null,
            "object_fit": null,
            "object_position": null,
            "order": null,
            "overflow": null,
            "overflow_x": null,
            "overflow_y": null,
            "padding": null,
            "right": null,
            "top": null,
            "visibility": null,
            "width": null
          }
        },
        "1a5c43220e2f478da12060d6611a3d00": {
          "model_module": "@jupyter-widgets/controls",
          "model_name": "DescriptionStyleModel",
          "model_module_version": "1.5.0",
          "state": {
            "_model_module": "@jupyter-widgets/controls",
            "_model_module_version": "1.5.0",
            "_model_name": "DescriptionStyleModel",
            "_view_count": null,
            "_view_module": "@jupyter-widgets/base",
            "_view_module_version": "1.2.0",
            "_view_name": "StyleView",
            "description_width": ""
          }
        },
        "6287539f40534ce2a2046ec6467b3ae6": {
          "model_module": "@jupyter-widgets/controls",
          "model_name": "HBoxModel",
          "model_module_version": "1.5.0",
          "state": {
            "_dom_classes": [],
            "_model_module": "@jupyter-widgets/controls",
            "_model_module_version": "1.5.0",
            "_model_name": "HBoxModel",
            "_view_count": null,
            "_view_module": "@jupyter-widgets/controls",
            "_view_module_version": "1.5.0",
            "_view_name": "HBoxView",
            "box_style": "",
            "children": [
              "IPY_MODEL_dcd1059ccbf74965a9fcb3073e5f8127",
              "IPY_MODEL_aa3aebe9070143aaa1b8ba1437946892",
              "IPY_MODEL_bf3ff1a99bf24ba8b84e83b28a30c096"
            ],
            "layout": "IPY_MODEL_8a7521915c4b4e4caa20cd7673eb6b13"
          }
        },
        "dcd1059ccbf74965a9fcb3073e5f8127": {
          "model_module": "@jupyter-widgets/controls",
          "model_name": "HTMLModel",
          "model_module_version": "1.5.0",
          "state": {
            "_dom_classes": [],
            "_model_module": "@jupyter-widgets/controls",
            "_model_module_version": "1.5.0",
            "_model_name": "HTMLModel",
            "_view_count": null,
            "_view_module": "@jupyter-widgets/controls",
            "_view_module_version": "1.5.0",
            "_view_name": "HTMLView",
            "description": "",
            "description_tooltip": null,
            "layout": "IPY_MODEL_7431e46d48d246ffae2c48657c1da319",
            "placeholder": "​",
            "style": "IPY_MODEL_cfa039369f094573a81953d90fbf0983",
            "value": "Validation DataLoader 0: 100%"
          }
        },
        "aa3aebe9070143aaa1b8ba1437946892": {
          "model_module": "@jupyter-widgets/controls",
          "model_name": "FloatProgressModel",
          "model_module_version": "1.5.0",
          "state": {
            "_dom_classes": [],
            "_model_module": "@jupyter-widgets/controls",
            "_model_module_version": "1.5.0",
            "_model_name": "FloatProgressModel",
            "_view_count": null,
            "_view_module": "@jupyter-widgets/controls",
            "_view_module_version": "1.5.0",
            "_view_name": "ProgressView",
            "bar_style": "",
            "description": "",
            "description_tooltip": null,
            "layout": "IPY_MODEL_ce3bd749fb4748e09f7c033bf1c0b374",
            "max": 1,
            "min": 0,
            "orientation": "horizontal",
            "style": "IPY_MODEL_8f0bb06502c8456a917bf8ed5a6c7735",
            "value": 1
          }
        },
        "bf3ff1a99bf24ba8b84e83b28a30c096": {
          "model_module": "@jupyter-widgets/controls",
          "model_name": "HTMLModel",
          "model_module_version": "1.5.0",
          "state": {
            "_dom_classes": [],
            "_model_module": "@jupyter-widgets/controls",
            "_model_module_version": "1.5.0",
            "_model_name": "HTMLModel",
            "_view_count": null,
            "_view_module": "@jupyter-widgets/controls",
            "_view_module_version": "1.5.0",
            "_view_name": "HTMLView",
            "description": "",
            "description_tooltip": null,
            "layout": "IPY_MODEL_a7da71a60ef04400a73dcdd20e310f03",
            "placeholder": "​",
            "style": "IPY_MODEL_f0c9e6110f9246d7920e4297912a7b4a",
            "value": " 1/1 [00:00&lt;00:00, 16.80it/s]"
          }
        },
        "8a7521915c4b4e4caa20cd7673eb6b13": {
          "model_module": "@jupyter-widgets/base",
          "model_name": "LayoutModel",
          "model_module_version": "1.2.0",
          "state": {
            "_model_module": "@jupyter-widgets/base",
            "_model_module_version": "1.2.0",
            "_model_name": "LayoutModel",
            "_view_count": null,
            "_view_module": "@jupyter-widgets/base",
            "_view_module_version": "1.2.0",
            "_view_name": "LayoutView",
            "align_content": null,
            "align_items": null,
            "align_self": null,
            "border": null,
            "bottom": null,
            "display": "inline-flex",
            "flex": null,
            "flex_flow": "row wrap",
            "grid_area": null,
            "grid_auto_columns": null,
            "grid_auto_flow": null,
            "grid_auto_rows": null,
            "grid_column": null,
            "grid_gap": null,
            "grid_row": null,
            "grid_template_areas": null,
            "grid_template_columns": null,
            "grid_template_rows": null,
            "height": null,
            "justify_content": null,
            "justify_items": null,
            "left": null,
            "margin": null,
            "max_height": null,
            "max_width": null,
            "min_height": null,
            "min_width": null,
            "object_fit": null,
            "object_position": null,
            "order": null,
            "overflow": null,
            "overflow_x": null,
            "overflow_y": null,
            "padding": null,
            "right": null,
            "top": null,
            "visibility": "hidden",
            "width": "100%"
          }
        },
        "7431e46d48d246ffae2c48657c1da319": {
          "model_module": "@jupyter-widgets/base",
          "model_name": "LayoutModel",
          "model_module_version": "1.2.0",
          "state": {
            "_model_module": "@jupyter-widgets/base",
            "_model_module_version": "1.2.0",
            "_model_name": "LayoutModel",
            "_view_count": null,
            "_view_module": "@jupyter-widgets/base",
            "_view_module_version": "1.2.0",
            "_view_name": "LayoutView",
            "align_content": null,
            "align_items": null,
            "align_self": null,
            "border": null,
            "bottom": null,
            "display": null,
            "flex": null,
            "flex_flow": null,
            "grid_area": null,
            "grid_auto_columns": null,
            "grid_auto_flow": null,
            "grid_auto_rows": null,
            "grid_column": null,
            "grid_gap": null,
            "grid_row": null,
            "grid_template_areas": null,
            "grid_template_columns": null,
            "grid_template_rows": null,
            "height": null,
            "justify_content": null,
            "justify_items": null,
            "left": null,
            "margin": null,
            "max_height": null,
            "max_width": null,
            "min_height": null,
            "min_width": null,
            "object_fit": null,
            "object_position": null,
            "order": null,
            "overflow": null,
            "overflow_x": null,
            "overflow_y": null,
            "padding": null,
            "right": null,
            "top": null,
            "visibility": null,
            "width": null
          }
        },
        "cfa039369f094573a81953d90fbf0983": {
          "model_module": "@jupyter-widgets/controls",
          "model_name": "DescriptionStyleModel",
          "model_module_version": "1.5.0",
          "state": {
            "_model_module": "@jupyter-widgets/controls",
            "_model_module_version": "1.5.0",
            "_model_name": "DescriptionStyleModel",
            "_view_count": null,
            "_view_module": "@jupyter-widgets/base",
            "_view_module_version": "1.2.0",
            "_view_name": "StyleView",
            "description_width": ""
          }
        },
        "ce3bd749fb4748e09f7c033bf1c0b374": {
          "model_module": "@jupyter-widgets/base",
          "model_name": "LayoutModel",
          "model_module_version": "1.2.0",
          "state": {
            "_model_module": "@jupyter-widgets/base",
            "_model_module_version": "1.2.0",
            "_model_name": "LayoutModel",
            "_view_count": null,
            "_view_module": "@jupyter-widgets/base",
            "_view_module_version": "1.2.0",
            "_view_name": "LayoutView",
            "align_content": null,
            "align_items": null,
            "align_self": null,
            "border": null,
            "bottom": null,
            "display": null,
            "flex": "2",
            "flex_flow": null,
            "grid_area": null,
            "grid_auto_columns": null,
            "grid_auto_flow": null,
            "grid_auto_rows": null,
            "grid_column": null,
            "grid_gap": null,
            "grid_row": null,
            "grid_template_areas": null,
            "grid_template_columns": null,
            "grid_template_rows": null,
            "height": null,
            "justify_content": null,
            "justify_items": null,
            "left": null,
            "margin": null,
            "max_height": null,
            "max_width": null,
            "min_height": null,
            "min_width": null,
            "object_fit": null,
            "object_position": null,
            "order": null,
            "overflow": null,
            "overflow_x": null,
            "overflow_y": null,
            "padding": null,
            "right": null,
            "top": null,
            "visibility": null,
            "width": null
          }
        },
        "8f0bb06502c8456a917bf8ed5a6c7735": {
          "model_module": "@jupyter-widgets/controls",
          "model_name": "ProgressStyleModel",
          "model_module_version": "1.5.0",
          "state": {
            "_model_module": "@jupyter-widgets/controls",
            "_model_module_version": "1.5.0",
            "_model_name": "ProgressStyleModel",
            "_view_count": null,
            "_view_module": "@jupyter-widgets/base",
            "_view_module_version": "1.2.0",
            "_view_name": "StyleView",
            "bar_color": null,
            "description_width": ""
          }
        },
        "a7da71a60ef04400a73dcdd20e310f03": {
          "model_module": "@jupyter-widgets/base",
          "model_name": "LayoutModel",
          "model_module_version": "1.2.0",
          "state": {
            "_model_module": "@jupyter-widgets/base",
            "_model_module_version": "1.2.0",
            "_model_name": "LayoutModel",
            "_view_count": null,
            "_view_module": "@jupyter-widgets/base",
            "_view_module_version": "1.2.0",
            "_view_name": "LayoutView",
            "align_content": null,
            "align_items": null,
            "align_self": null,
            "border": null,
            "bottom": null,
            "display": null,
            "flex": null,
            "flex_flow": null,
            "grid_area": null,
            "grid_auto_columns": null,
            "grid_auto_flow": null,
            "grid_auto_rows": null,
            "grid_column": null,
            "grid_gap": null,
            "grid_row": null,
            "grid_template_areas": null,
            "grid_template_columns": null,
            "grid_template_rows": null,
            "height": null,
            "justify_content": null,
            "justify_items": null,
            "left": null,
            "margin": null,
            "max_height": null,
            "max_width": null,
            "min_height": null,
            "min_width": null,
            "object_fit": null,
            "object_position": null,
            "order": null,
            "overflow": null,
            "overflow_x": null,
            "overflow_y": null,
            "padding": null,
            "right": null,
            "top": null,
            "visibility": null,
            "width": null
          }
        },
        "f0c9e6110f9246d7920e4297912a7b4a": {
          "model_module": "@jupyter-widgets/controls",
          "model_name": "DescriptionStyleModel",
          "model_module_version": "1.5.0",
          "state": {
            "_model_module": "@jupyter-widgets/controls",
            "_model_module_version": "1.5.0",
            "_model_name": "DescriptionStyleModel",
            "_view_count": null,
            "_view_module": "@jupyter-widgets/base",
            "_view_module_version": "1.2.0",
            "_view_name": "StyleView",
            "description_width": ""
          }
        },
        "a97bcef192f64853ad0b45214a9c4eb5": {
          "model_module": "@jupyter-widgets/controls",
          "model_name": "HBoxModel",
          "model_module_version": "1.5.0",
          "state": {
            "_dom_classes": [],
            "_model_module": "@jupyter-widgets/controls",
            "_model_module_version": "1.5.0",
            "_model_name": "HBoxModel",
            "_view_count": null,
            "_view_module": "@jupyter-widgets/controls",
            "_view_module_version": "1.5.0",
            "_view_name": "HBoxView",
            "box_style": "",
            "children": [
              "IPY_MODEL_aa9afba5515144f7955b4e883aad20d9",
              "IPY_MODEL_f94a5046673d435e8f4c0f22ce646fd3",
              "IPY_MODEL_037b713f36144ecebf1a3c7c880b7d12"
            ],
            "layout": "IPY_MODEL_e6748a0348ce48cbbaa029900f44ec12"
          }
        },
        "aa9afba5515144f7955b4e883aad20d9": {
          "model_module": "@jupyter-widgets/controls",
          "model_name": "HTMLModel",
          "model_module_version": "1.5.0",
          "state": {
            "_dom_classes": [],
            "_model_module": "@jupyter-widgets/controls",
            "_model_module_version": "1.5.0",
            "_model_name": "HTMLModel",
            "_view_count": null,
            "_view_module": "@jupyter-widgets/controls",
            "_view_module_version": "1.5.0",
            "_view_name": "HTMLView",
            "description": "",
            "description_tooltip": null,
            "layout": "IPY_MODEL_4cb2a3ec82d645eeab39d587a64e68ef",
            "placeholder": "​",
            "style": "IPY_MODEL_66f502aaa7e046b789cdd02238296000",
            "value": "Validation DataLoader 0: 100%"
          }
        },
        "f94a5046673d435e8f4c0f22ce646fd3": {
          "model_module": "@jupyter-widgets/controls",
          "model_name": "FloatProgressModel",
          "model_module_version": "1.5.0",
          "state": {
            "_dom_classes": [],
            "_model_module": "@jupyter-widgets/controls",
            "_model_module_version": "1.5.0",
            "_model_name": "FloatProgressModel",
            "_view_count": null,
            "_view_module": "@jupyter-widgets/controls",
            "_view_module_version": "1.5.0",
            "_view_name": "ProgressView",
            "bar_style": "",
            "description": "",
            "description_tooltip": null,
            "layout": "IPY_MODEL_40ba0135f68e440ea61264d6657e21b3",
            "max": 1,
            "min": 0,
            "orientation": "horizontal",
            "style": "IPY_MODEL_d0831b8689ee425d848f1d981393c626",
            "value": 1
          }
        },
        "037b713f36144ecebf1a3c7c880b7d12": {
          "model_module": "@jupyter-widgets/controls",
          "model_name": "HTMLModel",
          "model_module_version": "1.5.0",
          "state": {
            "_dom_classes": [],
            "_model_module": "@jupyter-widgets/controls",
            "_model_module_version": "1.5.0",
            "_model_name": "HTMLModel",
            "_view_count": null,
            "_view_module": "@jupyter-widgets/controls",
            "_view_module_version": "1.5.0",
            "_view_name": "HTMLView",
            "description": "",
            "description_tooltip": null,
            "layout": "IPY_MODEL_f549bd15c7c74f938c9568a6bbb34de0",
            "placeholder": "​",
            "style": "IPY_MODEL_b10e398baf0c4c67a669b0014e71c00a",
            "value": " 1/1 [00:00&lt;00:00, 16.22it/s]"
          }
        },
        "e6748a0348ce48cbbaa029900f44ec12": {
          "model_module": "@jupyter-widgets/base",
          "model_name": "LayoutModel",
          "model_module_version": "1.2.0",
          "state": {
            "_model_module": "@jupyter-widgets/base",
            "_model_module_version": "1.2.0",
            "_model_name": "LayoutModel",
            "_view_count": null,
            "_view_module": "@jupyter-widgets/base",
            "_view_module_version": "1.2.0",
            "_view_name": "LayoutView",
            "align_content": null,
            "align_items": null,
            "align_self": null,
            "border": null,
            "bottom": null,
            "display": "inline-flex",
            "flex": null,
            "flex_flow": "row wrap",
            "grid_area": null,
            "grid_auto_columns": null,
            "grid_auto_flow": null,
            "grid_auto_rows": null,
            "grid_column": null,
            "grid_gap": null,
            "grid_row": null,
            "grid_template_areas": null,
            "grid_template_columns": null,
            "grid_template_rows": null,
            "height": null,
            "justify_content": null,
            "justify_items": null,
            "left": null,
            "margin": null,
            "max_height": null,
            "max_width": null,
            "min_height": null,
            "min_width": null,
            "object_fit": null,
            "object_position": null,
            "order": null,
            "overflow": null,
            "overflow_x": null,
            "overflow_y": null,
            "padding": null,
            "right": null,
            "top": null,
            "visibility": "hidden",
            "width": "100%"
          }
        },
        "4cb2a3ec82d645eeab39d587a64e68ef": {
          "model_module": "@jupyter-widgets/base",
          "model_name": "LayoutModel",
          "model_module_version": "1.2.0",
          "state": {
            "_model_module": "@jupyter-widgets/base",
            "_model_module_version": "1.2.0",
            "_model_name": "LayoutModel",
            "_view_count": null,
            "_view_module": "@jupyter-widgets/base",
            "_view_module_version": "1.2.0",
            "_view_name": "LayoutView",
            "align_content": null,
            "align_items": null,
            "align_self": null,
            "border": null,
            "bottom": null,
            "display": null,
            "flex": null,
            "flex_flow": null,
            "grid_area": null,
            "grid_auto_columns": null,
            "grid_auto_flow": null,
            "grid_auto_rows": null,
            "grid_column": null,
            "grid_gap": null,
            "grid_row": null,
            "grid_template_areas": null,
            "grid_template_columns": null,
            "grid_template_rows": null,
            "height": null,
            "justify_content": null,
            "justify_items": null,
            "left": null,
            "margin": null,
            "max_height": null,
            "max_width": null,
            "min_height": null,
            "min_width": null,
            "object_fit": null,
            "object_position": null,
            "order": null,
            "overflow": null,
            "overflow_x": null,
            "overflow_y": null,
            "padding": null,
            "right": null,
            "top": null,
            "visibility": null,
            "width": null
          }
        },
        "66f502aaa7e046b789cdd02238296000": {
          "model_module": "@jupyter-widgets/controls",
          "model_name": "DescriptionStyleModel",
          "model_module_version": "1.5.0",
          "state": {
            "_model_module": "@jupyter-widgets/controls",
            "_model_module_version": "1.5.0",
            "_model_name": "DescriptionStyleModel",
            "_view_count": null,
            "_view_module": "@jupyter-widgets/base",
            "_view_module_version": "1.2.0",
            "_view_name": "StyleView",
            "description_width": ""
          }
        },
        "40ba0135f68e440ea61264d6657e21b3": {
          "model_module": "@jupyter-widgets/base",
          "model_name": "LayoutModel",
          "model_module_version": "1.2.0",
          "state": {
            "_model_module": "@jupyter-widgets/base",
            "_model_module_version": "1.2.0",
            "_model_name": "LayoutModel",
            "_view_count": null,
            "_view_module": "@jupyter-widgets/base",
            "_view_module_version": "1.2.0",
            "_view_name": "LayoutView",
            "align_content": null,
            "align_items": null,
            "align_self": null,
            "border": null,
            "bottom": null,
            "display": null,
            "flex": "2",
            "flex_flow": null,
            "grid_area": null,
            "grid_auto_columns": null,
            "grid_auto_flow": null,
            "grid_auto_rows": null,
            "grid_column": null,
            "grid_gap": null,
            "grid_row": null,
            "grid_template_areas": null,
            "grid_template_columns": null,
            "grid_template_rows": null,
            "height": null,
            "justify_content": null,
            "justify_items": null,
            "left": null,
            "margin": null,
            "max_height": null,
            "max_width": null,
            "min_height": null,
            "min_width": null,
            "object_fit": null,
            "object_position": null,
            "order": null,
            "overflow": null,
            "overflow_x": null,
            "overflow_y": null,
            "padding": null,
            "right": null,
            "top": null,
            "visibility": null,
            "width": null
          }
        },
        "d0831b8689ee425d848f1d981393c626": {
          "model_module": "@jupyter-widgets/controls",
          "model_name": "ProgressStyleModel",
          "model_module_version": "1.5.0",
          "state": {
            "_model_module": "@jupyter-widgets/controls",
            "_model_module_version": "1.5.0",
            "_model_name": "ProgressStyleModel",
            "_view_count": null,
            "_view_module": "@jupyter-widgets/base",
            "_view_module_version": "1.2.0",
            "_view_name": "StyleView",
            "bar_color": null,
            "description_width": ""
          }
        },
        "f549bd15c7c74f938c9568a6bbb34de0": {
          "model_module": "@jupyter-widgets/base",
          "model_name": "LayoutModel",
          "model_module_version": "1.2.0",
          "state": {
            "_model_module": "@jupyter-widgets/base",
            "_model_module_version": "1.2.0",
            "_model_name": "LayoutModel",
            "_view_count": null,
            "_view_module": "@jupyter-widgets/base",
            "_view_module_version": "1.2.0",
            "_view_name": "LayoutView",
            "align_content": null,
            "align_items": null,
            "align_self": null,
            "border": null,
            "bottom": null,
            "display": null,
            "flex": null,
            "flex_flow": null,
            "grid_area": null,
            "grid_auto_columns": null,
            "grid_auto_flow": null,
            "grid_auto_rows": null,
            "grid_column": null,
            "grid_gap": null,
            "grid_row": null,
            "grid_template_areas": null,
            "grid_template_columns": null,
            "grid_template_rows": null,
            "height": null,
            "justify_content": null,
            "justify_items": null,
            "left": null,
            "margin": null,
            "max_height": null,
            "max_width": null,
            "min_height": null,
            "min_width": null,
            "object_fit": null,
            "object_position": null,
            "order": null,
            "overflow": null,
            "overflow_x": null,
            "overflow_y": null,
            "padding": null,
            "right": null,
            "top": null,
            "visibility": null,
            "width": null
          }
        },
        "b10e398baf0c4c67a669b0014e71c00a": {
          "model_module": "@jupyter-widgets/controls",
          "model_name": "DescriptionStyleModel",
          "model_module_version": "1.5.0",
          "state": {
            "_model_module": "@jupyter-widgets/controls",
            "_model_module_version": "1.5.0",
            "_model_name": "DescriptionStyleModel",
            "_view_count": null,
            "_view_module": "@jupyter-widgets/base",
            "_view_module_version": "1.2.0",
            "_view_name": "StyleView",
            "description_width": ""
          }
        },
        "70bee7885818412ab3222f4d52a078b8": {
          "model_module": "@jupyter-widgets/controls",
          "model_name": "HBoxModel",
          "model_module_version": "1.5.0",
          "state": {
            "_dom_classes": [],
            "_model_module": "@jupyter-widgets/controls",
            "_model_module_version": "1.5.0",
            "_model_name": "HBoxModel",
            "_view_count": null,
            "_view_module": "@jupyter-widgets/controls",
            "_view_module_version": "1.5.0",
            "_view_name": "HBoxView",
            "box_style": "",
            "children": [
              "IPY_MODEL_c5e42d1b34e94a70af02059233b39223",
              "IPY_MODEL_2dc9cbbb021d4fabbb530c1cecc460fd",
              "IPY_MODEL_a346314b168647bcb777c4a378da5a32"
            ],
            "layout": "IPY_MODEL_0a034e4e89c847939391b91963252a02"
          }
        },
        "c5e42d1b34e94a70af02059233b39223": {
          "model_module": "@jupyter-widgets/controls",
          "model_name": "HTMLModel",
          "model_module_version": "1.5.0",
          "state": {
            "_dom_classes": [],
            "_model_module": "@jupyter-widgets/controls",
            "_model_module_version": "1.5.0",
            "_model_name": "HTMLModel",
            "_view_count": null,
            "_view_module": "@jupyter-widgets/controls",
            "_view_module_version": "1.5.0",
            "_view_name": "HTMLView",
            "description": "",
            "description_tooltip": null,
            "layout": "IPY_MODEL_b55cb6925b8a4c658e798b947cc04626",
            "placeholder": "​",
            "style": "IPY_MODEL_139969144f5f40f3bb9ee6c537fb22dd",
            "value": "Validation DataLoader 0: 100%"
          }
        },
        "2dc9cbbb021d4fabbb530c1cecc460fd": {
          "model_module": "@jupyter-widgets/controls",
          "model_name": "FloatProgressModel",
          "model_module_version": "1.5.0",
          "state": {
            "_dom_classes": [],
            "_model_module": "@jupyter-widgets/controls",
            "_model_module_version": "1.5.0",
            "_model_name": "FloatProgressModel",
            "_view_count": null,
            "_view_module": "@jupyter-widgets/controls",
            "_view_module_version": "1.5.0",
            "_view_name": "ProgressView",
            "bar_style": "",
            "description": "",
            "description_tooltip": null,
            "layout": "IPY_MODEL_ed4fae98f9de40828a5d9c93439f0578",
            "max": 1,
            "min": 0,
            "orientation": "horizontal",
            "style": "IPY_MODEL_646ee246181c49038fc425e30e7500e4",
            "value": 1
          }
        },
        "a346314b168647bcb777c4a378da5a32": {
          "model_module": "@jupyter-widgets/controls",
          "model_name": "HTMLModel",
          "model_module_version": "1.5.0",
          "state": {
            "_dom_classes": [],
            "_model_module": "@jupyter-widgets/controls",
            "_model_module_version": "1.5.0",
            "_model_name": "HTMLModel",
            "_view_count": null,
            "_view_module": "@jupyter-widgets/controls",
            "_view_module_version": "1.5.0",
            "_view_name": "HTMLView",
            "description": "",
            "description_tooltip": null,
            "layout": "IPY_MODEL_8ca4baf6eda445beaa17df5fa6c19f8b",
            "placeholder": "​",
            "style": "IPY_MODEL_3399e83963bc4681b6afbacdeef47683",
            "value": " 1/1 [00:00&lt;00:00, 17.97it/s]"
          }
        },
        "0a034e4e89c847939391b91963252a02": {
          "model_module": "@jupyter-widgets/base",
          "model_name": "LayoutModel",
          "model_module_version": "1.2.0",
          "state": {
            "_model_module": "@jupyter-widgets/base",
            "_model_module_version": "1.2.0",
            "_model_name": "LayoutModel",
            "_view_count": null,
            "_view_module": "@jupyter-widgets/base",
            "_view_module_version": "1.2.0",
            "_view_name": "LayoutView",
            "align_content": null,
            "align_items": null,
            "align_self": null,
            "border": null,
            "bottom": null,
            "display": "inline-flex",
            "flex": null,
            "flex_flow": "row wrap",
            "grid_area": null,
            "grid_auto_columns": null,
            "grid_auto_flow": null,
            "grid_auto_rows": null,
            "grid_column": null,
            "grid_gap": null,
            "grid_row": null,
            "grid_template_areas": null,
            "grid_template_columns": null,
            "grid_template_rows": null,
            "height": null,
            "justify_content": null,
            "justify_items": null,
            "left": null,
            "margin": null,
            "max_height": null,
            "max_width": null,
            "min_height": null,
            "min_width": null,
            "object_fit": null,
            "object_position": null,
            "order": null,
            "overflow": null,
            "overflow_x": null,
            "overflow_y": null,
            "padding": null,
            "right": null,
            "top": null,
            "visibility": "hidden",
            "width": "100%"
          }
        },
        "b55cb6925b8a4c658e798b947cc04626": {
          "model_module": "@jupyter-widgets/base",
          "model_name": "LayoutModel",
          "model_module_version": "1.2.0",
          "state": {
            "_model_module": "@jupyter-widgets/base",
            "_model_module_version": "1.2.0",
            "_model_name": "LayoutModel",
            "_view_count": null,
            "_view_module": "@jupyter-widgets/base",
            "_view_module_version": "1.2.0",
            "_view_name": "LayoutView",
            "align_content": null,
            "align_items": null,
            "align_self": null,
            "border": null,
            "bottom": null,
            "display": null,
            "flex": null,
            "flex_flow": null,
            "grid_area": null,
            "grid_auto_columns": null,
            "grid_auto_flow": null,
            "grid_auto_rows": null,
            "grid_column": null,
            "grid_gap": null,
            "grid_row": null,
            "grid_template_areas": null,
            "grid_template_columns": null,
            "grid_template_rows": null,
            "height": null,
            "justify_content": null,
            "justify_items": null,
            "left": null,
            "margin": null,
            "max_height": null,
            "max_width": null,
            "min_height": null,
            "min_width": null,
            "object_fit": null,
            "object_position": null,
            "order": null,
            "overflow": null,
            "overflow_x": null,
            "overflow_y": null,
            "padding": null,
            "right": null,
            "top": null,
            "visibility": null,
            "width": null
          }
        },
        "139969144f5f40f3bb9ee6c537fb22dd": {
          "model_module": "@jupyter-widgets/controls",
          "model_name": "DescriptionStyleModel",
          "model_module_version": "1.5.0",
          "state": {
            "_model_module": "@jupyter-widgets/controls",
            "_model_module_version": "1.5.0",
            "_model_name": "DescriptionStyleModel",
            "_view_count": null,
            "_view_module": "@jupyter-widgets/base",
            "_view_module_version": "1.2.0",
            "_view_name": "StyleView",
            "description_width": ""
          }
        },
        "ed4fae98f9de40828a5d9c93439f0578": {
          "model_module": "@jupyter-widgets/base",
          "model_name": "LayoutModel",
          "model_module_version": "1.2.0",
          "state": {
            "_model_module": "@jupyter-widgets/base",
            "_model_module_version": "1.2.0",
            "_model_name": "LayoutModel",
            "_view_count": null,
            "_view_module": "@jupyter-widgets/base",
            "_view_module_version": "1.2.0",
            "_view_name": "LayoutView",
            "align_content": null,
            "align_items": null,
            "align_self": null,
            "border": null,
            "bottom": null,
            "display": null,
            "flex": "2",
            "flex_flow": null,
            "grid_area": null,
            "grid_auto_columns": null,
            "grid_auto_flow": null,
            "grid_auto_rows": null,
            "grid_column": null,
            "grid_gap": null,
            "grid_row": null,
            "grid_template_areas": null,
            "grid_template_columns": null,
            "grid_template_rows": null,
            "height": null,
            "justify_content": null,
            "justify_items": null,
            "left": null,
            "margin": null,
            "max_height": null,
            "max_width": null,
            "min_height": null,
            "min_width": null,
            "object_fit": null,
            "object_position": null,
            "order": null,
            "overflow": null,
            "overflow_x": null,
            "overflow_y": null,
            "padding": null,
            "right": null,
            "top": null,
            "visibility": null,
            "width": null
          }
        },
        "646ee246181c49038fc425e30e7500e4": {
          "model_module": "@jupyter-widgets/controls",
          "model_name": "ProgressStyleModel",
          "model_module_version": "1.5.0",
          "state": {
            "_model_module": "@jupyter-widgets/controls",
            "_model_module_version": "1.5.0",
            "_model_name": "ProgressStyleModel",
            "_view_count": null,
            "_view_module": "@jupyter-widgets/base",
            "_view_module_version": "1.2.0",
            "_view_name": "StyleView",
            "bar_color": null,
            "description_width": ""
          }
        },
        "8ca4baf6eda445beaa17df5fa6c19f8b": {
          "model_module": "@jupyter-widgets/base",
          "model_name": "LayoutModel",
          "model_module_version": "1.2.0",
          "state": {
            "_model_module": "@jupyter-widgets/base",
            "_model_module_version": "1.2.0",
            "_model_name": "LayoutModel",
            "_view_count": null,
            "_view_module": "@jupyter-widgets/base",
            "_view_module_version": "1.2.0",
            "_view_name": "LayoutView",
            "align_content": null,
            "align_items": null,
            "align_self": null,
            "border": null,
            "bottom": null,
            "display": null,
            "flex": null,
            "flex_flow": null,
            "grid_area": null,
            "grid_auto_columns": null,
            "grid_auto_flow": null,
            "grid_auto_rows": null,
            "grid_column": null,
            "grid_gap": null,
            "grid_row": null,
            "grid_template_areas": null,
            "grid_template_columns": null,
            "grid_template_rows": null,
            "height": null,
            "justify_content": null,
            "justify_items": null,
            "left": null,
            "margin": null,
            "max_height": null,
            "max_width": null,
            "min_height": null,
            "min_width": null,
            "object_fit": null,
            "object_position": null,
            "order": null,
            "overflow": null,
            "overflow_x": null,
            "overflow_y": null,
            "padding": null,
            "right": null,
            "top": null,
            "visibility": null,
            "width": null
          }
        },
        "3399e83963bc4681b6afbacdeef47683": {
          "model_module": "@jupyter-widgets/controls",
          "model_name": "DescriptionStyleModel",
          "model_module_version": "1.5.0",
          "state": {
            "_model_module": "@jupyter-widgets/controls",
            "_model_module_version": "1.5.0",
            "_model_name": "DescriptionStyleModel",
            "_view_count": null,
            "_view_module": "@jupyter-widgets/base",
            "_view_module_version": "1.2.0",
            "_view_name": "StyleView",
            "description_width": ""
          }
        },
        "c5f37141b07343e88ec95f421572945d": {
          "model_module": "@jupyter-widgets/controls",
          "model_name": "HBoxModel",
          "model_module_version": "1.5.0",
          "state": {
            "_dom_classes": [],
            "_model_module": "@jupyter-widgets/controls",
            "_model_module_version": "1.5.0",
            "_model_name": "HBoxModel",
            "_view_count": null,
            "_view_module": "@jupyter-widgets/controls",
            "_view_module_version": "1.5.0",
            "_view_name": "HBoxView",
            "box_style": "",
            "children": [
              "IPY_MODEL_8abf2047de734b378a1fdc451135b0d7",
              "IPY_MODEL_37bfebca740f4f4dbfa23004ec344fce",
              "IPY_MODEL_3f5d427a459949f18977ab81c9a155e2"
            ],
            "layout": "IPY_MODEL_d1caa7e0b0ab44e1822be1582c5c3f2f"
          }
        },
        "8abf2047de734b378a1fdc451135b0d7": {
          "model_module": "@jupyter-widgets/controls",
          "model_name": "HTMLModel",
          "model_module_version": "1.5.0",
          "state": {
            "_dom_classes": [],
            "_model_module": "@jupyter-widgets/controls",
            "_model_module_version": "1.5.0",
            "_model_name": "HTMLModel",
            "_view_count": null,
            "_view_module": "@jupyter-widgets/controls",
            "_view_module_version": "1.5.0",
            "_view_name": "HTMLView",
            "description": "",
            "description_tooltip": null,
            "layout": "IPY_MODEL_c9f846a04a594905b4571dbe41a6af0b",
            "placeholder": "​",
            "style": "IPY_MODEL_da046882f2de4d4cb6293ad89d41776e",
            "value": "Validation DataLoader 0: 100%"
          }
        },
        "37bfebca740f4f4dbfa23004ec344fce": {
          "model_module": "@jupyter-widgets/controls",
          "model_name": "FloatProgressModel",
          "model_module_version": "1.5.0",
          "state": {
            "_dom_classes": [],
            "_model_module": "@jupyter-widgets/controls",
            "_model_module_version": "1.5.0",
            "_model_name": "FloatProgressModel",
            "_view_count": null,
            "_view_module": "@jupyter-widgets/controls",
            "_view_module_version": "1.5.0",
            "_view_name": "ProgressView",
            "bar_style": "success",
            "description": "",
            "description_tooltip": null,
            "layout": "IPY_MODEL_8f8845e9191d4b96815ab4e346f072b2",
            "max": 1,
            "min": 0,
            "orientation": "horizontal",
            "style": "IPY_MODEL_53de6c4fd2764a41922ac67aae9427c3",
            "value": 1
          }
        },
        "3f5d427a459949f18977ab81c9a155e2": {
          "model_module": "@jupyter-widgets/controls",
          "model_name": "HTMLModel",
          "model_module_version": "1.5.0",
          "state": {
            "_dom_classes": [],
            "_model_module": "@jupyter-widgets/controls",
            "_model_module_version": "1.5.0",
            "_model_name": "HTMLModel",
            "_view_count": null,
            "_view_module": "@jupyter-widgets/controls",
            "_view_module_version": "1.5.0",
            "_view_name": "HTMLView",
            "description": "",
            "description_tooltip": null,
            "layout": "IPY_MODEL_221fcbb3d0c14908811967c37f1331c6",
            "placeholder": "​",
            "style": "IPY_MODEL_494243142d894b0895e8a049dce1729f",
            "value": " 1/1 [00:00&lt;00:00,  3.36it/s]"
          }
        },
        "d1caa7e0b0ab44e1822be1582c5c3f2f": {
          "model_module": "@jupyter-widgets/base",
          "model_name": "LayoutModel",
          "model_module_version": "1.2.0",
          "state": {
            "_model_module": "@jupyter-widgets/base",
            "_model_module_version": "1.2.0",
            "_model_name": "LayoutModel",
            "_view_count": null,
            "_view_module": "@jupyter-widgets/base",
            "_view_module_version": "1.2.0",
            "_view_name": "LayoutView",
            "align_content": null,
            "align_items": null,
            "align_self": null,
            "border": null,
            "bottom": null,
            "display": "inline-flex",
            "flex": null,
            "flex_flow": "row wrap",
            "grid_area": null,
            "grid_auto_columns": null,
            "grid_auto_flow": null,
            "grid_auto_rows": null,
            "grid_column": null,
            "grid_gap": null,
            "grid_row": null,
            "grid_template_areas": null,
            "grid_template_columns": null,
            "grid_template_rows": null,
            "height": null,
            "justify_content": null,
            "justify_items": null,
            "left": null,
            "margin": null,
            "max_height": null,
            "max_width": null,
            "min_height": null,
            "min_width": null,
            "object_fit": null,
            "object_position": null,
            "order": null,
            "overflow": null,
            "overflow_x": null,
            "overflow_y": null,
            "padding": null,
            "right": null,
            "top": null,
            "visibility": null,
            "width": "100%"
          }
        },
        "c9f846a04a594905b4571dbe41a6af0b": {
          "model_module": "@jupyter-widgets/base",
          "model_name": "LayoutModel",
          "model_module_version": "1.2.0",
          "state": {
            "_model_module": "@jupyter-widgets/base",
            "_model_module_version": "1.2.0",
            "_model_name": "LayoutModel",
            "_view_count": null,
            "_view_module": "@jupyter-widgets/base",
            "_view_module_version": "1.2.0",
            "_view_name": "LayoutView",
            "align_content": null,
            "align_items": null,
            "align_self": null,
            "border": null,
            "bottom": null,
            "display": null,
            "flex": null,
            "flex_flow": null,
            "grid_area": null,
            "grid_auto_columns": null,
            "grid_auto_flow": null,
            "grid_auto_rows": null,
            "grid_column": null,
            "grid_gap": null,
            "grid_row": null,
            "grid_template_areas": null,
            "grid_template_columns": null,
            "grid_template_rows": null,
            "height": null,
            "justify_content": null,
            "justify_items": null,
            "left": null,
            "margin": null,
            "max_height": null,
            "max_width": null,
            "min_height": null,
            "min_width": null,
            "object_fit": null,
            "object_position": null,
            "order": null,
            "overflow": null,
            "overflow_x": null,
            "overflow_y": null,
            "padding": null,
            "right": null,
            "top": null,
            "visibility": null,
            "width": null
          }
        },
        "da046882f2de4d4cb6293ad89d41776e": {
          "model_module": "@jupyter-widgets/controls",
          "model_name": "DescriptionStyleModel",
          "model_module_version": "1.5.0",
          "state": {
            "_model_module": "@jupyter-widgets/controls",
            "_model_module_version": "1.5.0",
            "_model_name": "DescriptionStyleModel",
            "_view_count": null,
            "_view_module": "@jupyter-widgets/base",
            "_view_module_version": "1.2.0",
            "_view_name": "StyleView",
            "description_width": ""
          }
        },
        "8f8845e9191d4b96815ab4e346f072b2": {
          "model_module": "@jupyter-widgets/base",
          "model_name": "LayoutModel",
          "model_module_version": "1.2.0",
          "state": {
            "_model_module": "@jupyter-widgets/base",
            "_model_module_version": "1.2.0",
            "_model_name": "LayoutModel",
            "_view_count": null,
            "_view_module": "@jupyter-widgets/base",
            "_view_module_version": "1.2.0",
            "_view_name": "LayoutView",
            "align_content": null,
            "align_items": null,
            "align_self": null,
            "border": null,
            "bottom": null,
            "display": null,
            "flex": "2",
            "flex_flow": null,
            "grid_area": null,
            "grid_auto_columns": null,
            "grid_auto_flow": null,
            "grid_auto_rows": null,
            "grid_column": null,
            "grid_gap": null,
            "grid_row": null,
            "grid_template_areas": null,
            "grid_template_columns": null,
            "grid_template_rows": null,
            "height": null,
            "justify_content": null,
            "justify_items": null,
            "left": null,
            "margin": null,
            "max_height": null,
            "max_width": null,
            "min_height": null,
            "min_width": null,
            "object_fit": null,
            "object_position": null,
            "order": null,
            "overflow": null,
            "overflow_x": null,
            "overflow_y": null,
            "padding": null,
            "right": null,
            "top": null,
            "visibility": null,
            "width": null
          }
        },
        "53de6c4fd2764a41922ac67aae9427c3": {
          "model_module": "@jupyter-widgets/controls",
          "model_name": "ProgressStyleModel",
          "model_module_version": "1.5.0",
          "state": {
            "_model_module": "@jupyter-widgets/controls",
            "_model_module_version": "1.5.0",
            "_model_name": "ProgressStyleModel",
            "_view_count": null,
            "_view_module": "@jupyter-widgets/base",
            "_view_module_version": "1.2.0",
            "_view_name": "StyleView",
            "bar_color": null,
            "description_width": ""
          }
        },
        "221fcbb3d0c14908811967c37f1331c6": {
          "model_module": "@jupyter-widgets/base",
          "model_name": "LayoutModel",
          "model_module_version": "1.2.0",
          "state": {
            "_model_module": "@jupyter-widgets/base",
            "_model_module_version": "1.2.0",
            "_model_name": "LayoutModel",
            "_view_count": null,
            "_view_module": "@jupyter-widgets/base",
            "_view_module_version": "1.2.0",
            "_view_name": "LayoutView",
            "align_content": null,
            "align_items": null,
            "align_self": null,
            "border": null,
            "bottom": null,
            "display": null,
            "flex": null,
            "flex_flow": null,
            "grid_area": null,
            "grid_auto_columns": null,
            "grid_auto_flow": null,
            "grid_auto_rows": null,
            "grid_column": null,
            "grid_gap": null,
            "grid_row": null,
            "grid_template_areas": null,
            "grid_template_columns": null,
            "grid_template_rows": null,
            "height": null,
            "justify_content": null,
            "justify_items": null,
            "left": null,
            "margin": null,
            "max_height": null,
            "max_width": null,
            "min_height": null,
            "min_width": null,
            "object_fit": null,
            "object_position": null,
            "order": null,
            "overflow": null,
            "overflow_x": null,
            "overflow_y": null,
            "padding": null,
            "right": null,
            "top": null,
            "visibility": null,
            "width": null
          }
        },
        "494243142d894b0895e8a049dce1729f": {
          "model_module": "@jupyter-widgets/controls",
          "model_name": "DescriptionStyleModel",
          "model_module_version": "1.5.0",
          "state": {
            "_model_module": "@jupyter-widgets/controls",
            "_model_module_version": "1.5.0",
            "_model_name": "DescriptionStyleModel",
            "_view_count": null,
            "_view_module": "@jupyter-widgets/base",
            "_view_module_version": "1.2.0",
            "_view_name": "StyleView",
            "description_width": ""
          }
        },
        "b1567391d76441cca79c6e4120228556": {
          "model_module": "@jupyter-widgets/controls",
          "model_name": "HBoxModel",
          "model_module_version": "1.5.0",
          "state": {
            "_dom_classes": [],
            "_model_module": "@jupyter-widgets/controls",
            "_model_module_version": "1.5.0",
            "_model_name": "HBoxModel",
            "_view_count": null,
            "_view_module": "@jupyter-widgets/controls",
            "_view_module_version": "1.5.0",
            "_view_name": "HBoxView",
            "box_style": "",
            "children": [
              "IPY_MODEL_8ac500e35ef849f7bb8bef72751c926b",
              "IPY_MODEL_7d0d40626c424fbf99ce203870ddc4db",
              "IPY_MODEL_74991539eb9e4e819f7b8c3b36d78f20"
            ],
            "layout": "IPY_MODEL_72dd9e7fda1e431d9f4cfb3484807257"
          }
        },
        "8ac500e35ef849f7bb8bef72751c926b": {
          "model_module": "@jupyter-widgets/controls",
          "model_name": "HTMLModel",
          "model_module_version": "1.5.0",
          "state": {
            "_dom_classes": [],
            "_model_module": "@jupyter-widgets/controls",
            "_model_module_version": "1.5.0",
            "_model_name": "HTMLModel",
            "_view_count": null,
            "_view_module": "@jupyter-widgets/controls",
            "_view_module_version": "1.5.0",
            "_view_name": "HTMLView",
            "description": "",
            "description_tooltip": null,
            "layout": "IPY_MODEL_cb94083a9c31401a920eeeec5642ba17",
            "placeholder": "​",
            "style": "IPY_MODEL_5159566acc0b4d8baf372223c262c3f2",
            "value": "Testing DataLoader 0: 100%"
          }
        },
        "7d0d40626c424fbf99ce203870ddc4db": {
          "model_module": "@jupyter-widgets/controls",
          "model_name": "FloatProgressModel",
          "model_module_version": "1.5.0",
          "state": {
            "_dom_classes": [],
            "_model_module": "@jupyter-widgets/controls",
            "_model_module_version": "1.5.0",
            "_model_name": "FloatProgressModel",
            "_view_count": null,
            "_view_module": "@jupyter-widgets/controls",
            "_view_module_version": "1.5.0",
            "_view_name": "ProgressView",
            "bar_style": "success",
            "description": "",
            "description_tooltip": null,
            "layout": "IPY_MODEL_10ac1fd3bd6d4f17920995e725cbae42",
            "max": 1,
            "min": 0,
            "orientation": "horizontal",
            "style": "IPY_MODEL_0f097cca0a714579b4680aad35ad8c4b",
            "value": 1
          }
        },
        "74991539eb9e4e819f7b8c3b36d78f20": {
          "model_module": "@jupyter-widgets/controls",
          "model_name": "HTMLModel",
          "model_module_version": "1.5.0",
          "state": {
            "_dom_classes": [],
            "_model_module": "@jupyter-widgets/controls",
            "_model_module_version": "1.5.0",
            "_model_name": "HTMLModel",
            "_view_count": null,
            "_view_module": "@jupyter-widgets/controls",
            "_view_module_version": "1.5.0",
            "_view_name": "HTMLView",
            "description": "",
            "description_tooltip": null,
            "layout": "IPY_MODEL_7f464cbd5a924d6d9767aae08e78e53a",
            "placeholder": "​",
            "style": "IPY_MODEL_475824ea74044ed5a3d21a23867cc27c",
            "value": " 1/1 [00:00&lt;00:00,  2.97it/s]"
          }
        },
        "72dd9e7fda1e431d9f4cfb3484807257": {
          "model_module": "@jupyter-widgets/base",
          "model_name": "LayoutModel",
          "model_module_version": "1.2.0",
          "state": {
            "_model_module": "@jupyter-widgets/base",
            "_model_module_version": "1.2.0",
            "_model_name": "LayoutModel",
            "_view_count": null,
            "_view_module": "@jupyter-widgets/base",
            "_view_module_version": "1.2.0",
            "_view_name": "LayoutView",
            "align_content": null,
            "align_items": null,
            "align_self": null,
            "border": null,
            "bottom": null,
            "display": "inline-flex",
            "flex": null,
            "flex_flow": "row wrap",
            "grid_area": null,
            "grid_auto_columns": null,
            "grid_auto_flow": null,
            "grid_auto_rows": null,
            "grid_column": null,
            "grid_gap": null,
            "grid_row": null,
            "grid_template_areas": null,
            "grid_template_columns": null,
            "grid_template_rows": null,
            "height": null,
            "justify_content": null,
            "justify_items": null,
            "left": null,
            "margin": null,
            "max_height": null,
            "max_width": null,
            "min_height": null,
            "min_width": null,
            "object_fit": null,
            "object_position": null,
            "order": null,
            "overflow": null,
            "overflow_x": null,
            "overflow_y": null,
            "padding": null,
            "right": null,
            "top": null,
            "visibility": null,
            "width": "100%"
          }
        },
        "cb94083a9c31401a920eeeec5642ba17": {
          "model_module": "@jupyter-widgets/base",
          "model_name": "LayoutModel",
          "model_module_version": "1.2.0",
          "state": {
            "_model_module": "@jupyter-widgets/base",
            "_model_module_version": "1.2.0",
            "_model_name": "LayoutModel",
            "_view_count": null,
            "_view_module": "@jupyter-widgets/base",
            "_view_module_version": "1.2.0",
            "_view_name": "LayoutView",
            "align_content": null,
            "align_items": null,
            "align_self": null,
            "border": null,
            "bottom": null,
            "display": null,
            "flex": null,
            "flex_flow": null,
            "grid_area": null,
            "grid_auto_columns": null,
            "grid_auto_flow": null,
            "grid_auto_rows": null,
            "grid_column": null,
            "grid_gap": null,
            "grid_row": null,
            "grid_template_areas": null,
            "grid_template_columns": null,
            "grid_template_rows": null,
            "height": null,
            "justify_content": null,
            "justify_items": null,
            "left": null,
            "margin": null,
            "max_height": null,
            "max_width": null,
            "min_height": null,
            "min_width": null,
            "object_fit": null,
            "object_position": null,
            "order": null,
            "overflow": null,
            "overflow_x": null,
            "overflow_y": null,
            "padding": null,
            "right": null,
            "top": null,
            "visibility": null,
            "width": null
          }
        },
        "5159566acc0b4d8baf372223c262c3f2": {
          "model_module": "@jupyter-widgets/controls",
          "model_name": "DescriptionStyleModel",
          "model_module_version": "1.5.0",
          "state": {
            "_model_module": "@jupyter-widgets/controls",
            "_model_module_version": "1.5.0",
            "_model_name": "DescriptionStyleModel",
            "_view_count": null,
            "_view_module": "@jupyter-widgets/base",
            "_view_module_version": "1.2.0",
            "_view_name": "StyleView",
            "description_width": ""
          }
        },
        "10ac1fd3bd6d4f17920995e725cbae42": {
          "model_module": "@jupyter-widgets/base",
          "model_name": "LayoutModel",
          "model_module_version": "1.2.0",
          "state": {
            "_model_module": "@jupyter-widgets/base",
            "_model_module_version": "1.2.0",
            "_model_name": "LayoutModel",
            "_view_count": null,
            "_view_module": "@jupyter-widgets/base",
            "_view_module_version": "1.2.0",
            "_view_name": "LayoutView",
            "align_content": null,
            "align_items": null,
            "align_self": null,
            "border": null,
            "bottom": null,
            "display": null,
            "flex": "2",
            "flex_flow": null,
            "grid_area": null,
            "grid_auto_columns": null,
            "grid_auto_flow": null,
            "grid_auto_rows": null,
            "grid_column": null,
            "grid_gap": null,
            "grid_row": null,
            "grid_template_areas": null,
            "grid_template_columns": null,
            "grid_template_rows": null,
            "height": null,
            "justify_content": null,
            "justify_items": null,
            "left": null,
            "margin": null,
            "max_height": null,
            "max_width": null,
            "min_height": null,
            "min_width": null,
            "object_fit": null,
            "object_position": null,
            "order": null,
            "overflow": null,
            "overflow_x": null,
            "overflow_y": null,
            "padding": null,
            "right": null,
            "top": null,
            "visibility": null,
            "width": null
          }
        },
        "0f097cca0a714579b4680aad35ad8c4b": {
          "model_module": "@jupyter-widgets/controls",
          "model_name": "ProgressStyleModel",
          "model_module_version": "1.5.0",
          "state": {
            "_model_module": "@jupyter-widgets/controls",
            "_model_module_version": "1.5.0",
            "_model_name": "ProgressStyleModel",
            "_view_count": null,
            "_view_module": "@jupyter-widgets/base",
            "_view_module_version": "1.2.0",
            "_view_name": "StyleView",
            "bar_color": null,
            "description_width": ""
          }
        },
        "7f464cbd5a924d6d9767aae08e78e53a": {
          "model_module": "@jupyter-widgets/base",
          "model_name": "LayoutModel",
          "model_module_version": "1.2.0",
          "state": {
            "_model_module": "@jupyter-widgets/base",
            "_model_module_version": "1.2.0",
            "_model_name": "LayoutModel",
            "_view_count": null,
            "_view_module": "@jupyter-widgets/base",
            "_view_module_version": "1.2.0",
            "_view_name": "LayoutView",
            "align_content": null,
            "align_items": null,
            "align_self": null,
            "border": null,
            "bottom": null,
            "display": null,
            "flex": null,
            "flex_flow": null,
            "grid_area": null,
            "grid_auto_columns": null,
            "grid_auto_flow": null,
            "grid_auto_rows": null,
            "grid_column": null,
            "grid_gap": null,
            "grid_row": null,
            "grid_template_areas": null,
            "grid_template_columns": null,
            "grid_template_rows": null,
            "height": null,
            "justify_content": null,
            "justify_items": null,
            "left": null,
            "margin": null,
            "max_height": null,
            "max_width": null,
            "min_height": null,
            "min_width": null,
            "object_fit": null,
            "object_position": null,
            "order": null,
            "overflow": null,
            "overflow_x": null,
            "overflow_y": null,
            "padding": null,
            "right": null,
            "top": null,
            "visibility": null,
            "width": null
          }
        },
        "475824ea74044ed5a3d21a23867cc27c": {
          "model_module": "@jupyter-widgets/controls",
          "model_name": "DescriptionStyleModel",
          "model_module_version": "1.5.0",
          "state": {
            "_model_module": "@jupyter-widgets/controls",
            "_model_module_version": "1.5.0",
            "_model_name": "DescriptionStyleModel",
            "_view_count": null,
            "_view_module": "@jupyter-widgets/base",
            "_view_module_version": "1.2.0",
            "_view_name": "StyleView",
            "description_width": ""
          }
        }
      }
    },
    "colab": {
      "provenance": [],
      "gpuType": "T4"
    },
    "accelerator": "GPU"
  },
  "nbformat": 4,
  "nbformat_minor": 5
}